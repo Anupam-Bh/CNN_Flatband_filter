{
 "cells": [
  {
   "cell_type": "code",
   "execution_count": 1,
   "id": "bf2d27e1-329d-4bc3-b95a-68e48ee6a2cb",
   "metadata": {
    "is_executing": true
   },
   "outputs": [],
   "source": [
    "MP_API_KEY=\"ZvKikSZ2FD5MYpklS0TDlmCiHPhO7Qm6\""
   ]
  },
  {
   "cell_type": "code",
   "execution_count": 2,
   "id": "e7e002fb-d63d-40c6-93e3-c728b9249f55",
   "metadata": {},
   "outputs": [
    {
     "name": "stderr",
     "output_type": "stream",
     "text": [
      "C:\\Users\\Anupam\\anaconda3\\envs\\MP_flatband_win\\lib\\site-packages\\tqdm\\auto.py:21: TqdmWarning: IProgress not found. Please update jupyter and ipywidgets. See https://ipywidgets.readthedocs.io/en/stable/user_install.html\n",
      "  from .autonotebook import tqdm as notebook_tqdm\n"
     ]
    }
   ],
   "source": [
    "from mp_api.client import MPRester\n",
    "import pickle\n",
    "import json\n",
    "import gc\n",
    "path='D:/MatProj/electronic_str/'"
   ]
  },
  {
   "cell_type": "raw",
   "id": "b1422f80-d1cd-4394-a4cc-00fa3aae4c6b",
   "metadata": {},
   "source": [
    "Download DOS in large number for ids in file"
   ]
  },
  {
   "cell_type": "code",
   "execution_count": 3,
   "id": "ce01fe1d-f09f-41da-999c-38f018a3c5c1",
   "metadata": {},
   "outputs": [
    {
     "name": "stdout",
     "output_type": "stream",
     "text": [
      "starting index in file: 68385 \n",
      " starting id: mp- 1223251\n"
     ]
    }
   ],
   "source": [
    "with open('list_of_materials_with_BS_DOS','rb') as ff:\n",
    "    matid= pickle.load(ff)\n",
    "id= 1223251  #starting id for query\n",
    "while True:\n",
    "    try:\n",
    "        startid_index = matid.index('mp-'+str(id))\n",
    "        break\n",
    "    except:\n",
    "        id=id+1   \n",
    "print('starting index in file:', startid_index, '\\n starting id: mp-', id)"
   ]
  },
  {
   "cell_type": "code",
   "execution_count": 4,
   "id": "241a21cf-6046-476b-b317-804b726c280a",
   "metadata": {},
   "outputs": [
    {
     "name": "stderr",
     "output_type": "stream",
     "text": [
      "Retrieving ElectronicStructureDoc documents: 100%|█████████████████| 1/1 [00:00<?, ?it/s]\n"
     ]
    },
    {
     "name": "stdout",
     "output_type": "stream",
     "text": [
      "mp-1223251 0 0\n"
     ]
    },
    {
     "name": "stderr",
     "output_type": "stream",
     "text": [
      "Retrieving ElectronicStructureDoc documents: 100%|████████| 1/1 [00:00<00:00, 714.29it/s]\n",
      "Retrieving ElectronicStructureDoc documents: 100%|█████████████████| 1/1 [00:00<?, ?it/s]\n",
      "Retrieving ElectronicStructureDoc documents: 100%|█████████████████| 1/1 [00:00<?, ?it/s]\n",
      "Retrieving ElectronicStructureDoc documents: 100%|████████| 1/1 [00:00<00:00, 677.70it/s]\n",
      "Retrieving ElectronicStructureDoc documents: 100%|█████████████████| 1/1 [00:00<?, ?it/s]\n",
      "Retrieving ElectronicStructureDoc documents: 100%|█████████████████| 1/1 [00:00<?, ?it/s]\n",
      "Retrieving ElectronicStructureDoc documents: 100%|████████| 1/1 [00:00<00:00, 735.20it/s]\n",
      "Retrieving ElectronicStructureDoc documents: 100%|█████████████████| 1/1 [00:00<?, ?it/s]\n",
      "Retrieving ElectronicStructureDoc documents: 100%|█████████████████| 1/1 [00:00<?, ?it/s]\n",
      "Retrieving ElectronicStructureDoc documents: 100%|█████████████████| 1/1 [00:00<?, ?it/s]\n"
     ]
    },
    {
     "name": "stdout",
     "output_type": "stream",
     "text": [
      "mp-1223273 10 0\n"
     ]
    },
    {
     "name": "stderr",
     "output_type": "stream",
     "text": [
      "Retrieving ElectronicStructureDoc documents: 100%|█████████████████| 1/1 [00:00<?, ?it/s]\n",
      "Retrieving ElectronicStructureDoc documents: 100%|█████████████████| 1/1 [00:00<?, ?it/s]\n",
      "Retrieving ElectronicStructureDoc documents: 100%|█████████████████| 1/1 [00:00<?, ?it/s]\n",
      "Retrieving ElectronicStructureDoc documents: 100%|█████████████████| 1/1 [00:00<?, ?it/s]\n",
      "Retrieving ElectronicStructureDoc documents: 100%|█████████████████| 1/1 [00:00<?, ?it/s]\n",
      "Retrieving ElectronicStructureDoc documents: 100%|█████████████████| 1/1 [00:00<?, ?it/s]\n",
      "Retrieving ElectronicStructureDoc documents: 100%|█████████████████| 1/1 [00:00<?, ?it/s]\n",
      "Retrieving ElectronicStructureDoc documents: 100%|█████████████████| 1/1 [00:00<?, ?it/s]\n",
      "Retrieving ElectronicStructureDoc documents: 100%|█████████████████| 1/1 [00:00<?, ?it/s]\n",
      "Retrieving ElectronicStructureDoc documents: 100%|█████████████████| 1/1 [00:00<?, ?it/s]\n"
     ]
    },
    {
     "name": "stdout",
     "output_type": "stream",
     "text": [
      "mp-1223322 20 0\n"
     ]
    },
    {
     "name": "stderr",
     "output_type": "stream",
     "text": [
      "Retrieving ElectronicStructureDoc documents: 100%|█████████████████| 1/1 [00:00<?, ?it/s]\n",
      "Retrieving ElectronicStructureDoc documents: 100%|█████████████████| 1/1 [00:00<?, ?it/s]\n",
      "Retrieving ElectronicStructureDoc documents: 100%|█████████████████| 1/1 [00:00<?, ?it/s]\n",
      "Retrieving ElectronicStructureDoc documents: 100%|█████████████████| 1/1 [00:00<?, ?it/s]\n",
      "Retrieving ElectronicStructureDoc documents: 100%|█████████████████| 1/1 [00:00<?, ?it/s]\n",
      "Retrieving ElectronicStructureDoc documents: 100%|█████████████████| 1/1 [00:00<?, ?it/s]\n",
      "Retrieving ElectronicStructureDoc documents: 100%|█████████████████| 1/1 [00:00<?, ?it/s]\n",
      "Retrieving ElectronicStructureDoc documents: 100%|█████████████████| 1/1 [00:00<?, ?it/s]\n",
      "Retrieving ElectronicStructureDoc documents: 100%|█████████████████| 1/1 [00:00<?, ?it/s]\n",
      "Retrieving ElectronicStructureDoc documents: 100%|█████████████████| 1/1 [00:00<?, ?it/s]\n"
     ]
    },
    {
     "name": "stdout",
     "output_type": "stream",
     "text": [
      "mp-1223427 30 0\n"
     ]
    },
    {
     "name": "stderr",
     "output_type": "stream",
     "text": [
      "Retrieving ElectronicStructureDoc documents: 100%|████████| 1/1 [00:00<00:00, 997.22it/s]\n",
      "Retrieving ElectronicStructureDoc documents: 100%|█████████████████| 1/1 [00:00<?, ?it/s]\n",
      "Retrieving ElectronicStructureDoc documents: 100%|█████████████████| 1/1 [00:00<?, ?it/s]\n",
      "Retrieving ElectronicStructureDoc documents: 100%|█████████████████| 1/1 [00:00<?, ?it/s]\n",
      "Retrieving ElectronicStructureDoc documents: 100%|█████████████████| 1/1 [00:00<?, ?it/s]\n",
      "Retrieving ElectronicStructureDoc documents: 100%|█████████████████| 1/1 [00:00<?, ?it/s]\n",
      "Retrieving ElectronicStructureDoc documents: 100%|█████████████████| 1/1 [00:00<?, ?it/s]\n",
      "Retrieving ElectronicStructureDoc documents: 100%|█████████████████| 1/1 [00:00<?, ?it/s]\n",
      "Retrieving ElectronicStructureDoc documents: 100%|████████| 1/1 [00:00<00:00, 871.45it/s]\n",
      "Retrieving ElectronicStructureDoc documents: 100%|█████████████████| 1/1 [00:00<?, ?it/s]\n"
     ]
    },
    {
     "name": "stdout",
     "output_type": "stream",
     "text": [
      "mp-1223459 40 0\n"
     ]
    },
    {
     "name": "stderr",
     "output_type": "stream",
     "text": [
      "Retrieving ElectronicStructureDoc documents: 100%|█████████████████| 1/1 [00:00<?, ?it/s]\n",
      "Retrieving ElectronicStructureDoc documents: 100%|█████████████████| 1/1 [00:00<?, ?it/s]\n",
      "Retrieving ElectronicStructureDoc documents: 100%|█████████████████| 1/1 [00:00<?, ?it/s]\n",
      "Retrieving ElectronicStructureDoc documents: 100%|█████████████████| 1/1 [00:00<?, ?it/s]\n",
      "Retrieving ElectronicStructureDoc documents: 100%|█████████████████| 1/1 [00:00<?, ?it/s]\n",
      "Retrieving ElectronicStructureDoc documents: 100%|█████████████████| 1/1 [00:00<?, ?it/s]\n",
      "Retrieving ElectronicStructureDoc documents: 100%|█████████████████| 1/1 [00:00<?, ?it/s]\n",
      "Retrieving ElectronicStructureDoc documents: 100%|█████████████████| 1/1 [00:00<?, ?it/s]\n",
      "Retrieving ElectronicStructureDoc documents: 100%|█████████████████| 1/1 [00:00<?, ?it/s]\n",
      "Retrieving ElectronicStructureDoc documents: 100%|█████████████████| 1/1 [00:00<?, ?it/s]\n"
     ]
    },
    {
     "name": "stdout",
     "output_type": "stream",
     "text": [
      "mp-1223490 50 0\n"
     ]
    },
    {
     "name": "stderr",
     "output_type": "stream",
     "text": [
      "Retrieving ElectronicStructureDoc documents: 100%|█████████████████| 1/1 [00:00<?, ?it/s]\n",
      "Retrieving ElectronicStructureDoc documents: 100%|████████| 1/1 [00:00<00:00, 664.39it/s]\n",
      "Retrieving ElectronicStructureDoc documents: 100%|█████████████████| 1/1 [00:00<?, ?it/s]\n",
      "Retrieving ElectronicStructureDoc documents: 100%|█████████████████| 1/1 [00:00<?, ?it/s]\n",
      "Retrieving ElectronicStructureDoc documents: 100%|█████████████████| 1/1 [00:00<?, ?it/s]\n",
      "Retrieving ElectronicStructureDoc documents: 100%|█████████████████| 1/1 [00:00<?, ?it/s]\n",
      "Retrieving ElectronicStructureDoc documents: 100%|████████| 1/1 [00:00<00:00, 249.60it/s]\n",
      "Retrieving ElectronicStructureDoc documents: 100%|█████████████████| 1/1 [00:00<?, ?it/s]\n",
      "Retrieving ElectronicStructureDoc documents: 100%|█████████████████| 1/1 [00:00<?, ?it/s]\n",
      "Retrieving ElectronicStructureDoc documents: 100%|█████████████████| 1/1 [00:00<?, ?it/s]\n"
     ]
    },
    {
     "name": "stdout",
     "output_type": "stream",
     "text": [
      "mp-1223646 60 0\n"
     ]
    },
    {
     "name": "stderr",
     "output_type": "stream",
     "text": [
      "Retrieving ElectronicStructureDoc documents: 100%|█████████████████| 1/1 [00:00<?, ?it/s]\n",
      "Retrieving ElectronicStructureDoc documents: 100%|█████████████████| 1/1 [00:00<?, ?it/s]\n",
      "Retrieving ElectronicStructureDoc documents: 100%|████████| 1/1 [00:00<00:00, 563.30it/s]\n",
      "Retrieving ElectronicStructureDoc documents: 100%|████████| 1/1 [00:00<00:00, 710.90it/s]\n",
      "Retrieving ElectronicStructureDoc documents: 100%|███████| 1/1 [00:00<00:00, 1470.65it/s]\n",
      "Retrieving ElectronicStructureDoc documents: 100%|█████████████████| 1/1 [00:00<?, ?it/s]\n",
      "Retrieving ElectronicStructureDoc documents: 100%|█████████████████| 1/1 [00:00<?, ?it/s]\n",
      "Retrieving ElectronicStructureDoc documents: 100%|█████████████████| 1/1 [00:00<?, ?it/s]\n",
      "Retrieving ElectronicStructureDoc documents: 100%|█████████████████| 1/1 [00:00<?, ?it/s]\n",
      "Retrieving ElectronicStructureDoc documents: 100%|█████████████████| 1/1 [00:00<?, ?it/s]\n"
     ]
    },
    {
     "name": "stdout",
     "output_type": "stream",
     "text": [
      "mp-1223662 70 0\n"
     ]
    },
    {
     "name": "stderr",
     "output_type": "stream",
     "text": [
      "Retrieving ElectronicStructureDoc documents: 100%|████████| 1/1 [00:00<00:00, 409.20it/s]\n",
      "Retrieving ElectronicStructureDoc documents: 100%|█████████████████| 1/1 [00:00<?, ?it/s]\n",
      "Retrieving ElectronicStructureDoc documents: 100%|█████████████████| 1/1 [00:00<?, ?it/s]\n",
      "Retrieving ElectronicStructureDoc documents: 100%|████████| 1/1 [00:00<00:00, 497.43it/s]\n",
      "Retrieving ElectronicStructureDoc documents: 100%|████████| 1/1 [00:00<00:00, 140.65it/s]\n",
      "Retrieving ElectronicStructureDoc documents: 100%|█████████████████| 1/1 [00:00<?, ?it/s]\n",
      "Retrieving ElectronicStructureDoc documents: 100%|█████████████████| 1/1 [00:00<?, ?it/s]\n",
      "Retrieving ElectronicStructureDoc documents: 100%|█████████████████| 1/1 [00:00<?, ?it/s]\n",
      "Retrieving ElectronicStructureDoc documents: 100%|█████████████████| 1/1 [00:00<?, ?it/s]\n",
      "Retrieving ElectronicStructureDoc documents: 100%|█████████████████| 1/1 [00:00<?, ?it/s]\n"
     ]
    },
    {
     "name": "stdout",
     "output_type": "stream",
     "text": [
      "mp-1223682 80 0\n"
     ]
    },
    {
     "name": "stderr",
     "output_type": "stream",
     "text": [
      "Retrieving ElectronicStructureDoc documents: 100%|████████| 1/1 [00:00<00:00, 557.09it/s]\n",
      "Retrieving ElectronicStructureDoc documents: 100%|█████████████████| 1/1 [00:00<?, ?it/s]\n",
      "Retrieving ElectronicStructureDoc documents: 100%|███████| 1/1 [00:00<00:00, 1023.50it/s]\n",
      "Retrieving ElectronicStructureDoc documents: 100%|█████████████████| 1/1 [00:00<?, ?it/s]\n",
      "Retrieving ElectronicStructureDoc documents: 100%|█████████████████| 1/1 [00:00<?, ?it/s]\n",
      "Retrieving ElectronicStructureDoc documents: 100%|████████| 1/1 [00:00<00:00, 604.54it/s]\n",
      "Retrieving ElectronicStructureDoc documents: 100%|█████████████████| 1/1 [00:00<?, ?it/s]\n",
      "Retrieving ElectronicStructureDoc documents: 100%|████████| 1/1 [00:00<00:00, 497.37it/s]\n",
      "Retrieving ElectronicStructureDoc documents: 100%|█████████████████| 1/1 [00:00<?, ?it/s]\n",
      "Retrieving ElectronicStructureDoc documents: 100%|████████| 1/1 [00:00<00:00, 103.17it/s]\n"
     ]
    },
    {
     "name": "stdout",
     "output_type": "stream",
     "text": [
      "mp-1223757 90 0\n"
     ]
    },
    {
     "name": "stderr",
     "output_type": "stream",
     "text": [
      "Retrieving ElectronicStructureDoc documents: 100%|█████████████████| 1/1 [00:00<?, ?it/s]\n",
      "Retrieving ElectronicStructureDoc documents: 100%|█████████████████| 1/1 [00:00<?, ?it/s]\n",
      "Retrieving ElectronicStructureDoc documents: 100%|█████████████████| 1/1 [00:00<?, ?it/s]\n",
      "Retrieving ElectronicStructureDoc documents: 100%|█████████████████| 1/1 [00:00<?, ?it/s]\n",
      "Retrieving ElectronicStructureDoc documents: 100%|████████| 1/1 [00:00<00:00, 287.56it/s]\n",
      "Retrieving ElectronicStructureDoc documents: 100%|████████| 1/1 [00:00<00:00, 978.83it/s]\n",
      "Retrieving ElectronicStructureDoc documents: 100%|█████████████████| 1/1 [00:00<?, ?it/s]\n",
      "Retrieving ElectronicStructureDoc documents: 100%|█████████████████| 1/1 [00:00<?, ?it/s]\n",
      "Retrieving ElectronicStructureDoc documents: 100%|█████████████████| 1/1 [00:00<?, ?it/s]\n",
      "Retrieving ElectronicStructureDoc documents: 100%|█████████████████| 1/1 [00:00<?, ?it/s]\n"
     ]
    },
    {
     "name": "stdout",
     "output_type": "stream",
     "text": [
      "mp-1223789 0 1\n"
     ]
    },
    {
     "name": "stderr",
     "output_type": "stream",
     "text": [
      "Retrieving ElectronicStructureDoc documents: 100%|█████████████████| 1/1 [00:00<?, ?it/s]\n",
      "Retrieving ElectronicStructureDoc documents: 100%|████████| 1/1 [00:00<00:00, 991.33it/s]\n",
      "Retrieving ElectronicStructureDoc documents: 100%|█████████████████| 1/1 [00:00<?, ?it/s]\n",
      "Retrieving ElectronicStructureDoc documents: 100%|█████████████████| 1/1 [00:00<?, ?it/s]\n",
      "Retrieving ElectronicStructureDoc documents: 100%|█████████████████| 1/1 [00:00<?, ?it/s]\n",
      "Retrieving ElectronicStructureDoc documents: 100%|█████████████████| 1/1 [00:00<?, ?it/s]\n",
      "Retrieving ElectronicStructureDoc documents: 100%|█████████████████| 1/1 [00:00<?, ?it/s]\n",
      "Retrieving ElectronicStructureDoc documents: 100%|█████████████████| 1/1 [00:00<?, ?it/s]\n",
      "Retrieving ElectronicStructureDoc documents: 100%|█████████████████| 1/1 [00:00<?, ?it/s]\n",
      "Retrieving ElectronicStructureDoc documents: 100%|█████████████████| 1/1 [00:00<?, ?it/s]\n"
     ]
    },
    {
     "name": "stdout",
     "output_type": "stream",
     "text": [
      "mp-1223800 10 1\n"
     ]
    },
    {
     "name": "stderr",
     "output_type": "stream",
     "text": [
      "Retrieving ElectronicStructureDoc documents: 100%|█████████████████| 1/1 [00:00<?, ?it/s]\n",
      "Retrieving ElectronicStructureDoc documents: 100%|█████████████████| 1/1 [00:00<?, ?it/s]\n",
      "Retrieving ElectronicStructureDoc documents: 100%|███████| 1/1 [00:00<00:00, 1114.91it/s]\n",
      "Retrieving ElectronicStructureDoc documents: 100%|███████| 1/1 [00:00<00:00, 1071.62it/s]\n",
      "Retrieving ElectronicStructureDoc documents: 100%|█████████████████| 1/1 [00:00<?, ?it/s]\n",
      "Retrieving ElectronicStructureDoc documents: 100%|█████████████████| 1/1 [00:00<?, ?it/s]\n",
      "Retrieving ElectronicStructureDoc documents: 100%|███████| 1/1 [00:00<00:00, 1130.84it/s]\n",
      "Retrieving ElectronicStructureDoc documents: 100%|█████████████████| 1/1 [00:00<?, ?it/s]\n",
      "Retrieving ElectronicStructureDoc documents: 100%|█████████████████| 1/1 [00:00<?, ?it/s]\n",
      "Retrieving ElectronicStructureDoc documents: 100%|█████████████████| 1/1 [00:00<?, ?it/s]\n"
     ]
    },
    {
     "name": "stdout",
     "output_type": "stream",
     "text": [
      "mp-1223819 20 1\n"
     ]
    },
    {
     "name": "stderr",
     "output_type": "stream",
     "text": [
      "Retrieving ElectronicStructureDoc documents: 100%|█████████████████| 1/1 [00:00<?, ?it/s]\n",
      "Retrieving ElectronicStructureDoc documents: 100%|█████████████████| 1/1 [00:00<?, ?it/s]\n",
      "Retrieving ElectronicStructureDoc documents: 100%|█████████████████| 1/1 [00:00<?, ?it/s]\n",
      "Retrieving ElectronicStructureDoc documents: 100%|█████████████████| 1/1 [00:00<?, ?it/s]\n",
      "Retrieving ElectronicStructureDoc documents: 100%|█████████████████| 1/1 [00:00<?, ?it/s]\n",
      "Retrieving ElectronicStructureDoc documents: 100%|█████████████████| 1/1 [00:00<?, ?it/s]\n",
      "Retrieving ElectronicStructureDoc documents: 100%|█████████████████| 1/1 [00:00<?, ?it/s]\n",
      "Retrieving ElectronicStructureDoc documents: 100%|█████████████████| 1/1 [00:00<?, ?it/s]\n",
      "Retrieving ElectronicStructureDoc documents: 100%|█████████████████| 1/1 [00:00<?, ?it/s]\n",
      "Retrieving ElectronicStructureDoc documents: 100%|█████████████████| 1/1 [00:00<?, ?it/s]\n"
     ]
    },
    {
     "name": "stdout",
     "output_type": "stream",
     "text": [
      "mp-1223835 30 1\n"
     ]
    },
    {
     "name": "stderr",
     "output_type": "stream",
     "text": [
      "Retrieving ElectronicStructureDoc documents: 100%|████████| 1/1 [00:00<00:00, 199.71it/s]\n",
      "Retrieving ElectronicStructureDoc documents: 100%|█████████████████| 1/1 [00:00<?, ?it/s]\n",
      "Retrieving ElectronicStructureDoc documents: 100%|█████████████████| 1/1 [00:00<?, ?it/s]\n",
      "Retrieving ElectronicStructureDoc documents: 100%|█████████████████| 1/1 [00:00<?, ?it/s]\n",
      "Retrieving ElectronicStructureDoc documents: 100%|█████████████████| 1/1 [00:00<?, ?it/s]\n",
      "Retrieving ElectronicStructureDoc documents: 100%|█████████████████| 1/1 [00:00<?, ?it/s]\n",
      "Retrieving ElectronicStructureDoc documents: 100%|█████████████████| 1/1 [00:00<?, ?it/s]\n",
      "Retrieving ElectronicStructureDoc documents: 100%|█████████████████| 1/1 [00:00<?, ?it/s]\n",
      "Retrieving ElectronicStructureDoc documents: 100%|█████████████████| 1/1 [00:00<?, ?it/s]\n",
      "Retrieving ElectronicStructureDoc documents: 100%|█████████████████| 1/1 [00:00<?, ?it/s]\n"
     ]
    },
    {
     "name": "stdout",
     "output_type": "stream",
     "text": [
      "mp-1223846 40 1\n"
     ]
    },
    {
     "name": "stderr",
     "output_type": "stream",
     "text": [
      "Retrieving ElectronicStructureDoc documents: 100%|█████████████████| 1/1 [00:00<?, ?it/s]\n",
      "Retrieving ElectronicStructureDoc documents: 100%|█████████████████| 1/1 [00:00<?, ?it/s]\n",
      "Retrieving ElectronicStructureDoc documents: 100%|█████████████████| 1/1 [00:00<?, ?it/s]\n",
      "Retrieving ElectronicStructureDoc documents: 100%|█████████████████| 1/1 [00:00<?, ?it/s]\n",
      "Retrieving ElectronicStructureDoc documents: 100%|█████████████████| 1/1 [00:00<?, ?it/s]\n",
      "Retrieving ElectronicStructureDoc documents: 100%|█████████████████| 1/1 [00:00<?, ?it/s]\n",
      "Retrieving ElectronicStructureDoc documents: 100%|█████████████████| 1/1 [00:00<?, ?it/s]\n",
      "Retrieving ElectronicStructureDoc documents: 100%|█████████████████| 1/1 [00:00<?, ?it/s]\n",
      "Retrieving ElectronicStructureDoc documents: 100%|███████| 1/1 [00:00<00:00, 8456.26it/s]\n",
      "Retrieving ElectronicStructureDoc documents: 100%|█████████████████| 1/1 [00:00<?, ?it/s]\n"
     ]
    },
    {
     "name": "stdout",
     "output_type": "stream",
     "text": [
      "mp-1223863 50 1\n"
     ]
    },
    {
     "name": "stderr",
     "output_type": "stream",
     "text": [
      "Retrieving ElectronicStructureDoc documents: 100%|████████| 1/1 [00:00<00:00, 197.96it/s]\n",
      "Retrieving ElectronicStructureDoc documents: 100%|█████████████████| 1/1 [00:00<?, ?it/s]\n",
      "Retrieving ElectronicStructureDoc documents: 100%|█████████████████| 1/1 [00:00<?, ?it/s]\n",
      "Retrieving ElectronicStructureDoc documents: 100%|█████████████████| 1/1 [00:00<?, ?it/s]\n",
      "Retrieving ElectronicStructureDoc documents: 100%|████████| 1/1 [00:00<00:00, 861.78it/s]\n",
      "Retrieving ElectronicStructureDoc documents: 100%|█████████████████| 1/1 [00:00<?, ?it/s]\n",
      "Retrieving ElectronicStructureDoc documents: 100%|█████████████████| 1/1 [00:00<?, ?it/s]\n",
      "Retrieving ElectronicStructureDoc documents: 100%|█████████████████| 1/1 [00:00<?, ?it/s]\n",
      "Retrieving ElectronicStructureDoc documents: 100%|█████████████████| 1/1 [00:00<?, ?it/s]\n",
      "Retrieving ElectronicStructureDoc documents: 100%|█████████████████| 1/1 [00:00<?, ?it/s]\n"
     ]
    },
    {
     "name": "stdout",
     "output_type": "stream",
     "text": [
      "mp-1223888 60 1\n"
     ]
    },
    {
     "name": "stderr",
     "output_type": "stream",
     "text": [
      "Retrieving ElectronicStructureDoc documents: 100%|█████████████████| 1/1 [00:00<?, ?it/s]\n",
      "Retrieving ElectronicStructureDoc documents: 100%|████████| 1/1 [00:00<00:00, 904.53it/s]\n",
      "Retrieving ElectronicStructureDoc documents: 100%|█████████████████| 1/1 [00:00<?, ?it/s]\n",
      "Retrieving ElectronicStructureDoc documents: 100%|█████████████████| 1/1 [00:00<?, ?it/s]\n",
      "Retrieving ElectronicStructureDoc documents: 100%|█████████████████| 1/1 [00:00<?, ?it/s]\n",
      "Retrieving ElectronicStructureDoc documents: 100%|█████████████████| 1/1 [00:00<?, ?it/s]\n",
      "Retrieving ElectronicStructureDoc documents: 100%|█████████████████| 1/1 [00:00<?, ?it/s]\n",
      "Retrieving ElectronicStructureDoc documents: 100%|█████████████████| 1/1 [00:00<?, ?it/s]\n",
      "Retrieving ElectronicStructureDoc documents: 100%|█████████████████| 1/1 [00:00<?, ?it/s]\n",
      "Retrieving ElectronicStructureDoc documents: 100%|█████████████████| 1/1 [00:00<?, ?it/s]\n"
     ]
    },
    {
     "name": "stdout",
     "output_type": "stream",
     "text": [
      "mp-1223902 70 1\n"
     ]
    },
    {
     "name": "stderr",
     "output_type": "stream",
     "text": [
      "Retrieving ElectronicStructureDoc documents: 100%|█████████████████| 1/1 [00:00<?, ?it/s]\n",
      "Retrieving ElectronicStructureDoc documents: 100%|█████████████████| 1/1 [00:00<?, ?it/s]\n",
      "Retrieving ElectronicStructureDoc documents: 100%|█████████████████| 1/1 [00:00<?, ?it/s]\n",
      "Retrieving ElectronicStructureDoc documents: 100%|█████████████████| 1/1 [00:00<?, ?it/s]\n",
      "Retrieving ElectronicStructureDoc documents: 100%|█████████████████| 1/1 [00:00<?, ?it/s]\n",
      "Retrieving ElectronicStructureDoc documents: 100%|███████| 1/1 [00:00<00:00, 1936.43it/s]\n",
      "Retrieving ElectronicStructureDoc documents: 100%|█████████████████| 1/1 [00:00<?, ?it/s]\n",
      "Retrieving ElectronicStructureDoc documents: 100%|█████████████████| 1/1 [00:00<?, ?it/s]\n",
      "Retrieving ElectronicStructureDoc documents: 100%|█████████████████| 1/1 [00:00<?, ?it/s]\n",
      "Retrieving ElectronicStructureDoc documents: 100%|████████| 1/1 [00:00<00:00, 623.78it/s]\n"
     ]
    },
    {
     "name": "stdout",
     "output_type": "stream",
     "text": [
      "mp-1223919 80 1\n"
     ]
    },
    {
     "name": "stderr",
     "output_type": "stream",
     "text": [
      "Retrieving ElectronicStructureDoc documents: 100%|█████████████████| 1/1 [00:00<?, ?it/s]\n",
      "Retrieving ElectronicStructureDoc documents: 100%|███████| 1/1 [00:00<00:00, 1000.79it/s]\n",
      "Retrieving ElectronicStructureDoc documents: 100%|█████████████████| 1/1 [00:00<?, ?it/s]\n",
      "Retrieving ElectronicStructureDoc documents: 100%|█████████████████| 1/1 [00:00<?, ?it/s]\n",
      "Retrieving ElectronicStructureDoc documents: 100%|█████████████████| 1/1 [00:00<?, ?it/s]\n",
      "Retrieving ElectronicStructureDoc documents: 100%|█████████████████| 1/1 [00:00<?, ?it/s]\n",
      "Retrieving ElectronicStructureDoc documents: 100%|█████████████████| 1/1 [00:00<?, ?it/s]\n",
      "Retrieving ElectronicStructureDoc documents: 100%|█████████████████| 1/1 [00:00<?, ?it/s]\n",
      "Retrieving ElectronicStructureDoc documents: 100%|█████████████████| 1/1 [00:00<?, ?it/s]\n",
      "Retrieving ElectronicStructureDoc documents: 100%|█████████████████| 1/1 [00:00<?, ?it/s]\n"
     ]
    },
    {
     "name": "stdout",
     "output_type": "stream",
     "text": [
      "mp-1223942 90 1\n"
     ]
    },
    {
     "name": "stderr",
     "output_type": "stream",
     "text": [
      "Retrieving ElectronicStructureDoc documents: 100%|█████████████████| 1/1 [00:00<?, ?it/s]\n",
      "Retrieving ElectronicStructureDoc documents: 100%|█████████████████| 1/1 [00:00<?, ?it/s]\n",
      "Retrieving ElectronicStructureDoc documents: 100%|█████████████████| 1/1 [00:00<?, ?it/s]\n",
      "Retrieving ElectronicStructureDoc documents: 100%|█████████████████| 1/1 [00:00<?, ?it/s]\n",
      "Retrieving ElectronicStructureDoc documents: 100%|█████████████████| 1/1 [00:00<?, ?it/s]\n",
      "Retrieving ElectronicStructureDoc documents: 100%|█████████████████| 1/1 [00:00<?, ?it/s]\n",
      "Retrieving ElectronicStructureDoc documents: 100%|████████| 1/1 [00:00<00:00, 627.61it/s]\n",
      "Retrieving ElectronicStructureDoc documents: 100%|█████████████████| 1/1 [00:00<?, ?it/s]\n",
      "Retrieving ElectronicStructureDoc documents: 100%|█████████████████| 1/1 [00:00<?, ?it/s]\n",
      "Retrieving ElectronicStructureDoc documents: 100%|█████████████████| 1/1 [00:00<?, ?it/s]\n"
     ]
    },
    {
     "name": "stdout",
     "output_type": "stream",
     "text": [
      "mp-1223968 0 2\n"
     ]
    },
    {
     "name": "stderr",
     "output_type": "stream",
     "text": [
      "Retrieving ElectronicStructureDoc documents: 100%|█████████████████| 1/1 [00:00<?, ?it/s]\n",
      "Retrieving ElectronicStructureDoc documents: 100%|████████| 1/1 [00:00<00:00, 447.49it/s]\n",
      "Retrieving ElectronicStructureDoc documents: 100%|█████████████████| 1/1 [00:00<?, ?it/s]\n",
      "Retrieving ElectronicStructureDoc documents: 100%|█████████████████| 1/1 [00:00<?, ?it/s]\n",
      "Retrieving ElectronicStructureDoc documents: 100%|█████████████████| 1/1 [00:00<?, ?it/s]\n",
      "Retrieving ElectronicStructureDoc documents: 100%|█████████████████| 1/1 [00:00<?, ?it/s]\n",
      "Retrieving ElectronicStructureDoc documents: 100%|█████████████████| 1/1 [00:00<?, ?it/s]\n",
      "Retrieving ElectronicStructureDoc documents: 100%|█████████████████| 1/1 [00:00<?, ?it/s]\n",
      "Retrieving ElectronicStructureDoc documents: 100%|█████████████████| 1/1 [00:00<?, ?it/s]\n",
      "Retrieving ElectronicStructureDoc documents: 100%|█████████████████| 1/1 [00:00<?, ?it/s]\n"
     ]
    },
    {
     "name": "stdout",
     "output_type": "stream",
     "text": [
      "mp-1223990 10 2\n"
     ]
    },
    {
     "name": "stderr",
     "output_type": "stream",
     "text": [
      "Retrieving ElectronicStructureDoc documents: 100%|█████████████████| 1/1 [00:00<?, ?it/s]\n",
      "Retrieving ElectronicStructureDoc documents: 100%|█████████████████| 1/1 [00:00<?, ?it/s]\n",
      "Retrieving ElectronicStructureDoc documents: 100%|█████████████████| 1/1 [00:00<?, ?it/s]\n",
      "Retrieving ElectronicStructureDoc documents: 100%|█████████████████| 1/1 [00:00<?, ?it/s]\n",
      "Retrieving ElectronicStructureDoc documents: 100%|█████████████████| 1/1 [00:00<?, ?it/s]\n",
      "Retrieving ElectronicStructureDoc documents: 100%|████████| 1/1 [00:00<00:00, 661.35it/s]\n",
      "Retrieving ElectronicStructureDoc documents: 100%|█████████████████| 1/1 [00:00<?, ?it/s]\n",
      "Retrieving ElectronicStructureDoc documents: 100%|█████████████████| 1/1 [00:00<?, ?it/s]\n",
      "Retrieving ElectronicStructureDoc documents: 100%|█████████████████| 1/1 [00:00<?, ?it/s]\n",
      "Retrieving ElectronicStructureDoc documents: 100%|█████████████████| 1/1 [00:00<?, ?it/s]\n"
     ]
    },
    {
     "name": "stdout",
     "output_type": "stream",
     "text": [
      "mp-1224061 20 2\n"
     ]
    },
    {
     "name": "stderr",
     "output_type": "stream",
     "text": [
      "Retrieving ElectronicStructureDoc documents: 100%|█████████████████| 1/1 [00:00<?, ?it/s]\n",
      "Retrieving ElectronicStructureDoc documents: 100%|█████████████████| 1/1 [00:00<?, ?it/s]\n",
      "Retrieving ElectronicStructureDoc documents: 100%|█████████████████| 1/1 [00:00<?, ?it/s]\n",
      "Retrieving ElectronicStructureDoc documents: 100%|█████████████████| 1/1 [00:00<?, ?it/s]\n",
      "Retrieving ElectronicStructureDoc documents: 100%|█████████████████| 1/1 [00:00<?, ?it/s]\n",
      "Retrieving ElectronicStructureDoc documents: 100%|█████████████████| 1/1 [00:00<?, ?it/s]\n",
      "Retrieving ElectronicStructureDoc documents: 100%|█████████████████| 1/1 [00:00<?, ?it/s]\n",
      "Retrieving ElectronicStructureDoc documents: 100%|█████████████████| 1/1 [00:00<?, ?it/s]\n",
      "Retrieving ElectronicStructureDoc documents: 100%|█████████████████| 1/1 [00:00<?, ?it/s]\n",
      "Retrieving ElectronicStructureDoc documents: 100%|████████| 1/1 [00:00<00:00, 561.56it/s]\n"
     ]
    },
    {
     "name": "stdout",
     "output_type": "stream",
     "text": [
      "mp-1224121 30 2\n"
     ]
    },
    {
     "name": "stderr",
     "output_type": "stream",
     "text": [
      "Retrieving ElectronicStructureDoc documents: 100%|█████████████████| 1/1 [00:00<?, ?it/s]\n",
      "Retrieving ElectronicStructureDoc documents: 100%|█████████████████| 1/1 [00:00<?, ?it/s]\n",
      "Retrieving ElectronicStructureDoc documents: 100%|█████████████████| 1/1 [00:00<?, ?it/s]\n",
      "Retrieving ElectronicStructureDoc documents: 100%|█████████████████| 1/1 [00:00<?, ?it/s]\n",
      "Retrieving ElectronicStructureDoc documents: 100%|█████████████████| 1/1 [00:00<?, ?it/s]\n",
      "Retrieving ElectronicStructureDoc documents: 100%|█████████████████| 1/1 [00:00<?, ?it/s]\n",
      "Retrieving ElectronicStructureDoc documents: 100%|█████████████████| 1/1 [00:00<?, ?it/s]\n",
      "Retrieving ElectronicStructureDoc documents: 100%|████████| 1/1 [00:00<00:00, 646.47it/s]\n",
      "Retrieving ElectronicStructureDoc documents: 100%|█████████████████| 1/1 [00:00<?, ?it/s]\n",
      "Retrieving ElectronicStructureDoc documents: 100%|█████████████████| 1/1 [00:00<?, ?it/s]\n"
     ]
    },
    {
     "name": "stdout",
     "output_type": "stream",
     "text": [
      "mp-1224174 40 2\n"
     ]
    },
    {
     "name": "stderr",
     "output_type": "stream",
     "text": [
      "Retrieving ElectronicStructureDoc documents: 100%|█████████████████| 1/1 [00:00<?, ?it/s]\n",
      "Retrieving ElectronicStructureDoc documents: 100%|█████████████████| 1/1 [00:00<?, ?it/s]\n",
      "Retrieving ElectronicStructureDoc documents: 100%|█████████████████| 1/1 [00:00<?, ?it/s]\n",
      "Retrieving ElectronicStructureDoc documents: 100%|█████████████████| 1/1 [00:00<?, ?it/s]\n",
      "Retrieving ElectronicStructureDoc documents: 100%|█████████████████| 1/1 [00:00<?, ?it/s]\n",
      "Retrieving ElectronicStructureDoc documents: 100%|█████████████████| 1/1 [00:00<?, ?it/s]\n",
      "Retrieving ElectronicStructureDoc documents: 100%|█████████████████| 1/1 [00:00<?, ?it/s]\n",
      "Retrieving ElectronicStructureDoc documents: 100%|█████████████████| 1/1 [00:00<?, ?it/s]\n",
      "Retrieving ElectronicStructureDoc documents: 100%|█████████████████| 1/1 [00:00<?, ?it/s]\n",
      "Retrieving ElectronicStructureDoc documents: 100%|█████████████████| 1/1 [00:00<?, ?it/s]\n"
     ]
    },
    {
     "name": "stdout",
     "output_type": "stream",
     "text": [
      "mp-1224215 50 2\n"
     ]
    },
    {
     "name": "stderr",
     "output_type": "stream",
     "text": [
      "Retrieving ElectronicStructureDoc documents: 100%|█████████████████| 1/1 [00:00<?, ?it/s]\n",
      "Retrieving ElectronicStructureDoc documents: 100%|█████████████████| 1/1 [00:00<?, ?it/s]\n",
      "Retrieving ElectronicStructureDoc documents: 100%|█████████████████| 1/1 [00:00<?, ?it/s]\n",
      "Retrieving ElectronicStructureDoc documents: 100%|█████████████████| 1/1 [00:00<?, ?it/s]\n",
      "Retrieving ElectronicStructureDoc documents: 100%|█████████████████| 1/1 [00:00<?, ?it/s]\n",
      "Retrieving ElectronicStructureDoc documents: 100%|█████████████████| 1/1 [00:00<?, ?it/s]\n",
      "Retrieving ElectronicStructureDoc documents: 100%|█████████████████| 1/1 [00:00<?, ?it/s]\n",
      "Retrieving ElectronicStructureDoc documents: 100%|█████████████████| 1/1 [00:00<?, ?it/s]\n",
      "Retrieving ElectronicStructureDoc documents: 100%|█████████████████| 1/1 [00:00<?, ?it/s]\n",
      "Retrieving ElectronicStructureDoc documents: 100%|█████████████████| 1/1 [00:00<?, ?it/s]\n"
     ]
    },
    {
     "name": "stdout",
     "output_type": "stream",
     "text": [
      "mp-1224248 60 2\n"
     ]
    },
    {
     "name": "stderr",
     "output_type": "stream",
     "text": [
      "Retrieving ElectronicStructureDoc documents: 100%|█████████████████| 1/1 [00:00<?, ?it/s]\n",
      "Retrieving ElectronicStructureDoc documents: 100%|█████████████████| 1/1 [00:00<?, ?it/s]\n",
      "Retrieving ElectronicStructureDoc documents: 100%|█████████████████| 1/1 [00:00<?, ?it/s]\n",
      "Retrieving ElectronicStructureDoc documents: 100%|█████████████████| 1/1 [00:00<?, ?it/s]\n",
      "Retrieving ElectronicStructureDoc documents: 100%|█████████████████| 1/1 [00:00<?, ?it/s]\n",
      "Retrieving ElectronicStructureDoc documents: 100%|█████████████████| 1/1 [00:00<?, ?it/s]\n",
      "Retrieving ElectronicStructureDoc documents: 100%|█████████████████| 1/1 [00:00<?, ?it/s]\n",
      "Retrieving ElectronicStructureDoc documents: 100%|█████████████████| 1/1 [00:00<?, ?it/s]\n",
      "Retrieving ElectronicStructureDoc documents: 100%|█████████████████| 1/1 [00:00<?, ?it/s]\n",
      "Retrieving ElectronicStructureDoc documents: 100%|█████████████████| 1/1 [00:00<?, ?it/s]\n"
     ]
    },
    {
     "name": "stdout",
     "output_type": "stream",
     "text": [
      "mp-1224279 70 2\n"
     ]
    },
    {
     "name": "stderr",
     "output_type": "stream",
     "text": [
      "Retrieving ElectronicStructureDoc documents: 100%|█████████████████| 1/1 [00:00<?, ?it/s]\n",
      "Retrieving ElectronicStructureDoc documents: 100%|█████████████████| 1/1 [00:00<?, ?it/s]\n",
      "Retrieving ElectronicStructureDoc documents: 100%|█████████████████| 1/1 [00:00<?, ?it/s]\n",
      "Retrieving ElectronicStructureDoc documents: 100%|█████████████████| 1/1 [00:00<?, ?it/s]\n",
      "Retrieving ElectronicStructureDoc documents: 100%|█████████████████| 1/1 [00:00<?, ?it/s]\n",
      "Retrieving ElectronicStructureDoc documents: 100%|█████████████████| 1/1 [00:00<?, ?it/s]\n",
      "Retrieving ElectronicStructureDoc documents: 100%|█████████████████| 1/1 [00:00<?, ?it/s]\n",
      "Retrieving ElectronicStructureDoc documents: 100%|█████████████████| 1/1 [00:00<?, ?it/s]\n",
      "Retrieving ElectronicStructureDoc documents: 100%|█████████████████| 1/1 [00:00<?, ?it/s]\n",
      "Retrieving ElectronicStructureDoc documents: 100%|█████████████████| 1/1 [00:00<?, ?it/s]\n"
     ]
    },
    {
     "name": "stdout",
     "output_type": "stream",
     "text": [
      "mp-1224300 80 2\n"
     ]
    },
    {
     "name": "stderr",
     "output_type": "stream",
     "text": [
      "Retrieving ElectronicStructureDoc documents: 100%|█████████████████| 1/1 [00:00<?, ?it/s]\n",
      "Retrieving ElectronicStructureDoc documents: 100%|█████████████████| 1/1 [00:00<?, ?it/s]\n",
      "Retrieving ElectronicStructureDoc documents: 100%|█████████████████| 1/1 [00:00<?, ?it/s]\n",
      "Retrieving ElectronicStructureDoc documents: 100%|███████| 1/1 [00:00<00:00, 2737.80it/s]\n",
      "Retrieving ElectronicStructureDoc documents: 100%|█████████████████| 1/1 [00:00<?, ?it/s]\n",
      "Retrieving ElectronicStructureDoc documents: 100%|█████████████████| 1/1 [00:00<?, ?it/s]\n",
      "Retrieving ElectronicStructureDoc documents: 100%|█████████████████| 1/1 [00:00<?, ?it/s]\n",
      "Retrieving ElectronicStructureDoc documents: 100%|█████████████████| 1/1 [00:00<?, ?it/s]\n",
      "Retrieving ElectronicStructureDoc documents: 100%|█████████████████| 1/1 [00:00<?, ?it/s]\n",
      "Retrieving ElectronicStructureDoc documents: 100%|█████████████████| 1/1 [00:00<?, ?it/s]\n"
     ]
    },
    {
     "name": "stdout",
     "output_type": "stream",
     "text": [
      "mp-1224314 90 2\n"
     ]
    },
    {
     "name": "stderr",
     "output_type": "stream",
     "text": [
      "Retrieving ElectronicStructureDoc documents: 100%|█████████████████| 1/1 [00:00<?, ?it/s]\n",
      "Retrieving ElectronicStructureDoc documents: 100%|█████████████████| 1/1 [00:00<?, ?it/s]\n",
      "Retrieving ElectronicStructureDoc documents: 100%|█████████████████| 1/1 [00:00<?, ?it/s]\n",
      "Retrieving ElectronicStructureDoc documents: 100%|█████████████████| 1/1 [00:00<?, ?it/s]\n",
      "Retrieving ElectronicStructureDoc documents: 100%|█████████████████| 1/1 [00:00<?, ?it/s]\n",
      "Retrieving ElectronicStructureDoc documents: 100%|█████████████████| 1/1 [00:00<?, ?it/s]\n",
      "Retrieving ElectronicStructureDoc documents: 100%|█████████████████| 1/1 [00:00<?, ?it/s]\n",
      "Retrieving ElectronicStructureDoc documents: 100%|█████████████████| 1/1 [00:00<?, ?it/s]\n",
      "Retrieving ElectronicStructureDoc documents: 100%|████████| 1/1 [00:00<00:00, 279.66it/s]\n",
      "Retrieving ElectronicStructureDoc documents: 100%|█████████████████| 1/1 [00:00<?, ?it/s]\n"
     ]
    },
    {
     "name": "stdout",
     "output_type": "stream",
     "text": [
      "mp-1224328 0 3\n"
     ]
    },
    {
     "name": "stderr",
     "output_type": "stream",
     "text": [
      "Retrieving ElectronicStructureDoc documents: 100%|█████████████████| 1/1 [00:00<?, ?it/s]\n",
      "Retrieving ElectronicStructureDoc documents: 100%|█████████████████| 1/1 [00:00<?, ?it/s]\n",
      "Retrieving ElectronicStructureDoc documents: 100%|████████| 1/1 [00:00<00:00, 748.31it/s]\n",
      "Retrieving ElectronicStructureDoc documents: 100%|█████████████████| 1/1 [00:00<?, ?it/s]\n",
      "Retrieving ElectronicStructureDoc documents: 100%|████████| 1/1 [00:00<00:00, 936.44it/s]\n",
      "Retrieving ElectronicStructureDoc documents: 100%|████████| 1/1 [00:00<00:00, 839.20it/s]\n",
      "Retrieving ElectronicStructureDoc documents: 100%|█████████████████| 1/1 [00:00<?, ?it/s]\n",
      "Retrieving ElectronicStructureDoc documents: 100%|█████████████████| 1/1 [00:00<?, ?it/s]\n",
      "Retrieving ElectronicStructureDoc documents: 100%|█████████████████| 1/1 [00:00<?, ?it/s]\n",
      "Retrieving ElectronicStructureDoc documents: 100%|█████████████████| 1/1 [00:00<?, ?it/s]\n"
     ]
    },
    {
     "name": "stdout",
     "output_type": "stream",
     "text": [
      "mp-1224345 10 3\n"
     ]
    },
    {
     "name": "stderr",
     "output_type": "stream",
     "text": [
      "Retrieving ElectronicStructureDoc documents: 100%|█████████████████| 1/1 [00:00<?, ?it/s]\n",
      "Retrieving ElectronicStructureDoc documents: 100%|█████████████████| 1/1 [00:00<?, ?it/s]\n",
      "Retrieving ElectronicStructureDoc documents: 100%|███████| 1/1 [00:00<00:00, 1411.75it/s]\n",
      "Retrieving ElectronicStructureDoc documents: 100%|█████████████████| 1/1 [00:00<?, ?it/s]\n",
      "Retrieving ElectronicStructureDoc documents: 100%|█████████████████| 1/1 [00:00<?, ?it/s]\n",
      "Retrieving ElectronicStructureDoc documents: 100%|█████████████████| 1/1 [00:00<?, ?it/s]\n",
      "Retrieving ElectronicStructureDoc documents: 100%|█████████████████| 1/1 [00:00<?, ?it/s]\n",
      "Retrieving ElectronicStructureDoc documents: 100%|█████████████████| 1/1 [00:00<?, ?it/s]\n",
      "Retrieving ElectronicStructureDoc documents: 100%|████████| 1/1 [00:00<00:00, 291.25it/s]\n",
      "Retrieving ElectronicStructureDoc documents: 100%|█████████████████| 1/1 [00:00<?, ?it/s]\n"
     ]
    },
    {
     "name": "stdout",
     "output_type": "stream",
     "text": [
      "mp-1224362 20 3\n"
     ]
    },
    {
     "name": "stderr",
     "output_type": "stream",
     "text": [
      "Retrieving ElectronicStructureDoc documents: 100%|█████████████████| 1/1 [00:00<?, ?it/s]\n",
      "Retrieving ElectronicStructureDoc documents: 100%|█████████████████| 1/1 [00:00<?, ?it/s]\n",
      "Retrieving ElectronicStructureDoc documents: 100%|█████████████████| 1/1 [00:00<?, ?it/s]\n",
      "Retrieving ElectronicStructureDoc documents: 100%|█████████████████| 1/1 [00:00<?, ?it/s]\n",
      "Retrieving ElectronicStructureDoc documents: 100%|█████████████████| 1/1 [00:00<?, ?it/s]\n",
      "Retrieving ElectronicStructureDoc documents: 100%|█████████████████| 1/1 [00:00<?, ?it/s]\n",
      "Retrieving ElectronicStructureDoc documents: 100%|█████████████████| 1/1 [00:00<?, ?it/s]\n",
      "Retrieving ElectronicStructureDoc documents: 100%|█████████████████| 1/1 [00:00<?, ?it/s]\n",
      "Retrieving ElectronicStructureDoc documents: 100%|█████████████████| 1/1 [00:00<?, ?it/s]\n",
      "Retrieving ElectronicStructureDoc documents: 100%|█████████████████| 1/1 [00:00<?, ?it/s]\n"
     ]
    },
    {
     "name": "stdout",
     "output_type": "stream",
     "text": [
      "mp-1224390 30 3\n"
     ]
    },
    {
     "name": "stderr",
     "output_type": "stream",
     "text": [
      "Retrieving ElectronicStructureDoc documents: 100%|█████████████████| 1/1 [00:00<?, ?it/s]\n",
      "Retrieving ElectronicStructureDoc documents: 100%|█████████████████| 1/1 [00:00<?, ?it/s]\n",
      "Retrieving ElectronicStructureDoc documents: 100%|█████████████████| 1/1 [00:00<?, ?it/s]\n",
      "Retrieving ElectronicStructureDoc documents: 100%|█████████████████| 1/1 [00:00<?, ?it/s]\n",
      "Retrieving ElectronicStructureDoc documents: 100%|█████████████████| 1/1 [00:00<?, ?it/s]\n",
      "Retrieving ElectronicStructureDoc documents: 100%|█████████████████| 1/1 [00:00<?, ?it/s]\n",
      "Retrieving ElectronicStructureDoc documents: 100%|█████████████████| 1/1 [00:00<?, ?it/s]\n",
      "Retrieving ElectronicStructureDoc documents: 100%|█████████████████| 1/1 [00:00<?, ?it/s]\n",
      "Retrieving ElectronicStructureDoc documents: 100%|█████████████████| 1/1 [00:00<?, ?it/s]\n",
      "Retrieving ElectronicStructureDoc documents: 100%|█████████████████| 1/1 [00:00<?, ?it/s]\n"
     ]
    },
    {
     "name": "stdout",
     "output_type": "stream",
     "text": [
      "mp-1224418 40 3\n"
     ]
    },
    {
     "name": "stderr",
     "output_type": "stream",
     "text": [
      "Retrieving ElectronicStructureDoc documents: 100%|█████████████████| 1/1 [00:00<?, ?it/s]\n",
      "Retrieving ElectronicStructureDoc documents: 100%|████████| 1/1 [00:00<00:00, 263.23it/s]\n",
      "Retrieving ElectronicStructureDoc documents: 100%|█████████████████| 1/1 [00:00<?, ?it/s]\n",
      "Retrieving ElectronicStructureDoc documents: 100%|████████| 1/1 [00:00<00:00, 249.41it/s]\n",
      "Retrieving ElectronicStructureDoc documents: 100%|█████████████████| 1/1 [00:00<?, ?it/s]\n",
      "Retrieving ElectronicStructureDoc documents: 100%|█████████████████| 1/1 [00:00<?, ?it/s]\n",
      "Retrieving ElectronicStructureDoc documents: 100%|█████████████████| 1/1 [00:00<?, ?it/s]\n",
      "Retrieving ElectronicStructureDoc documents: 100%|███████| 1/1 [00:00<00:00, 1073.54it/s]\n",
      "Retrieving ElectronicStructureDoc documents: 100%|█████████████████| 1/1 [00:00<?, ?it/s]\n",
      "Retrieving ElectronicStructureDoc documents: 100%|█████████████████| 1/1 [00:00<?, ?it/s]\n"
     ]
    },
    {
     "name": "stdout",
     "output_type": "stream",
     "text": [
      "mp-1224529 50 3\n"
     ]
    },
    {
     "name": "stderr",
     "output_type": "stream",
     "text": [
      "Retrieving ElectronicStructureDoc documents: 100%|█████████████████| 1/1 [00:00<?, ?it/s]\n",
      "Retrieving ElectronicStructureDoc documents: 100%|█████████████████| 1/1 [00:00<?, ?it/s]\n",
      "Retrieving ElectronicStructureDoc documents: 100%|█████████████████| 1/1 [00:00<?, ?it/s]\n",
      "Retrieving ElectronicStructureDoc documents: 100%|█████████████████| 1/1 [00:00<?, ?it/s]\n",
      "Retrieving ElectronicStructureDoc documents: 100%|█████████████████| 1/1 [00:00<?, ?it/s]\n",
      "Retrieving ElectronicStructureDoc documents: 100%|█████████████████| 1/1 [00:00<?, ?it/s]\n",
      "Retrieving ElectronicStructureDoc documents: 100%|███████| 1/1 [00:00<00:00, 1846.08it/s]\n",
      "Retrieving ElectronicStructureDoc documents: 100%|█████████████████| 1/1 [00:00<?, ?it/s]\n",
      "Retrieving ElectronicStructureDoc documents: 100%|█████████████████| 1/1 [00:00<?, ?it/s]\n",
      "Retrieving ElectronicStructureDoc documents: 100%|█████████████████| 1/1 [00:00<?, ?it/s]\n"
     ]
    },
    {
     "name": "stdout",
     "output_type": "stream",
     "text": [
      "mp-1224639 60 3\n"
     ]
    },
    {
     "name": "stderr",
     "output_type": "stream",
     "text": [
      "Retrieving ElectronicStructureDoc documents: 100%|█████████████████| 1/1 [00:00<?, ?it/s]\n",
      "Retrieving ElectronicStructureDoc documents: 100%|█████████████████| 1/1 [00:00<?, ?it/s]\n",
      "Retrieving ElectronicStructureDoc documents: 100%|█████████████████| 1/1 [00:00<?, ?it/s]\n",
      "Retrieving ElectronicStructureDoc documents: 100%|█████████████████| 1/1 [00:00<?, ?it/s]\n",
      "Retrieving ElectronicStructureDoc documents: 100%|█████████████████| 1/1 [00:00<?, ?it/s]\n",
      "Retrieving ElectronicStructureDoc documents: 100%|█████████████████| 1/1 [00:00<?, ?it/s]\n",
      "Retrieving ElectronicStructureDoc documents: 100%|█████████████████| 1/1 [00:00<?, ?it/s]\n",
      "Retrieving ElectronicStructureDoc documents: 100%|█████████████████| 1/1 [00:00<?, ?it/s]\n",
      "Retrieving ElectronicStructureDoc documents: 100%|█████████████████| 1/1 [00:00<?, ?it/s]\n",
      "Retrieving ElectronicStructureDoc documents: 100%|█████████████████| 1/1 [00:00<?, ?it/s]\n"
     ]
    },
    {
     "name": "stdout",
     "output_type": "stream",
     "text": [
      "mp-1224689 70 3\n"
     ]
    },
    {
     "name": "stderr",
     "output_type": "stream",
     "text": [
      "Retrieving ElectronicStructureDoc documents: 100%|███████| 1/1 [00:00<00:00, 1828.38it/s]\n",
      "Retrieving ElectronicStructureDoc documents: 100%|█████████████████| 1/1 [00:00<?, ?it/s]\n",
      "Retrieving ElectronicStructureDoc documents: 100%|█████████████████| 1/1 [00:00<?, ?it/s]\n",
      "Retrieving ElectronicStructureDoc documents: 100%|███████| 1/1 [00:00<00:00, 1343.04it/s]\n",
      "Retrieving ElectronicStructureDoc documents: 100%|█████████████████| 1/1 [00:00<?, ?it/s]\n",
      "Retrieving ElectronicStructureDoc documents: 100%|█████████████████| 1/1 [00:00<?, ?it/s]\n",
      "Retrieving ElectronicStructureDoc documents: 100%|█████████████████| 1/1 [00:00<?, ?it/s]\n",
      "Retrieving ElectronicStructureDoc documents: 100%|█████████████████| 1/1 [00:00<?, ?it/s]\n",
      "Retrieving ElectronicStructureDoc documents: 100%|█████████████████| 1/1 [00:00<?, ?it/s]\n",
      "Retrieving ElectronicStructureDoc documents: 100%|█████████████████| 1/1 [00:00<?, ?it/s]\n"
     ]
    },
    {
     "name": "stdout",
     "output_type": "stream",
     "text": [
      "mp-1224715 80 3\n"
     ]
    },
    {
     "name": "stderr",
     "output_type": "stream",
     "text": [
      "Retrieving ElectronicStructureDoc documents: 100%|█████████████████| 1/1 [00:00<?, ?it/s]\n",
      "Retrieving ElectronicStructureDoc documents: 100%|█████████████████| 1/1 [00:00<?, ?it/s]\n",
      "Retrieving ElectronicStructureDoc documents: 100%|█████████████████| 1/1 [00:00<?, ?it/s]\n",
      "Retrieving ElectronicStructureDoc documents: 100%|█████████████████| 1/1 [00:00<?, ?it/s]\n",
      "Retrieving ElectronicStructureDoc documents: 100%|█████████████████| 1/1 [00:00<?, ?it/s]\n",
      "Retrieving ElectronicStructureDoc documents: 100%|█████████████████| 1/1 [00:00<?, ?it/s]\n",
      "Retrieving ElectronicStructureDoc documents: 100%|█████████████████| 1/1 [00:00<?, ?it/s]\n",
      "Retrieving ElectronicStructureDoc documents: 100%|█████████████████| 1/1 [00:00<?, ?it/s]\n",
      "Retrieving ElectronicStructureDoc documents: 100%|█████████████████| 1/1 [00:00<?, ?it/s]\n",
      "Retrieving ElectronicStructureDoc documents: 100%|█████████████████| 1/1 [00:00<?, ?it/s]\n"
     ]
    },
    {
     "name": "stdout",
     "output_type": "stream",
     "text": [
      "mp-1224769 90 3\n"
     ]
    },
    {
     "name": "stderr",
     "output_type": "stream",
     "text": [
      "Retrieving ElectronicStructureDoc documents: 100%|████████| 1/1 [00:00<00:00, 746.85it/s]\n",
      "Retrieving ElectronicStructureDoc documents: 100%|█████████████████| 1/1 [00:00<?, ?it/s]\n",
      "Retrieving ElectronicStructureDoc documents: 100%|█████████████████| 1/1 [00:00<?, ?it/s]\n",
      "Retrieving ElectronicStructureDoc documents: 100%|█████████████████| 1/1 [00:00<?, ?it/s]\n",
      "Retrieving ElectronicStructureDoc documents: 100%|████████| 1/1 [00:00<00:00, 601.68it/s]\n",
      "Retrieving ElectronicStructureDoc documents: 100%|███████| 1/1 [00:00<00:00, 1441.34it/s]\n",
      "Retrieving ElectronicStructureDoc documents: 100%|█████████████████| 1/1 [00:00<?, ?it/s]\n",
      "Retrieving ElectronicStructureDoc documents: 100%|█████████████████| 1/1 [00:00<?, ?it/s]\n",
      "Retrieving ElectronicStructureDoc documents: 100%|█████████████████| 1/1 [00:00<?, ?it/s]\n",
      "Retrieving ElectronicStructureDoc documents: 100%|█████████████████| 1/1 [00:00<?, ?it/s]\n"
     ]
    },
    {
     "name": "stdout",
     "output_type": "stream",
     "text": [
      "mp-1224787 0 4\n"
     ]
    },
    {
     "name": "stderr",
     "output_type": "stream",
     "text": [
      "Retrieving ElectronicStructureDoc documents: 100%|█████████████████| 1/1 [00:00<?, ?it/s]\n",
      "Retrieving ElectronicStructureDoc documents: 100%|█████████████████| 1/1 [00:00<?, ?it/s]\n",
      "Retrieving ElectronicStructureDoc documents: 100%|█████████████████| 1/1 [00:00<?, ?it/s]\n",
      "Retrieving ElectronicStructureDoc documents: 100%|█████████████████| 1/1 [00:00<?, ?it/s]\n",
      "Retrieving ElectronicStructureDoc documents: 100%|█████████████████| 1/1 [00:00<?, ?it/s]\n",
      "Retrieving ElectronicStructureDoc documents: 100%|█████████████████| 1/1 [00:00<?, ?it/s]\n",
      "Retrieving ElectronicStructureDoc documents: 100%|█████████████████| 1/1 [00:00<?, ?it/s]\n",
      "Retrieving ElectronicStructureDoc documents: 100%|█████████████████| 1/1 [00:00<?, ?it/s]\n",
      "Retrieving ElectronicStructureDoc documents: 100%|█████████████████| 1/1 [00:00<?, ?it/s]\n",
      "Retrieving ElectronicStructureDoc documents: 100%|█████████████████| 1/1 [00:00<?, ?it/s]\n"
     ]
    },
    {
     "name": "stdout",
     "output_type": "stream",
     "text": [
      "mp-1224798 10 4\n"
     ]
    },
    {
     "name": "stderr",
     "output_type": "stream",
     "text": [
      "Retrieving ElectronicStructureDoc documents: 100%|█████████████████| 1/1 [00:00<?, ?it/s]\n",
      "Retrieving ElectronicStructureDoc documents: 100%|█████████████████| 1/1 [00:00<?, ?it/s]\n",
      "Retrieving ElectronicStructureDoc documents: 100%|█████████████████| 1/1 [00:00<?, ?it/s]\n",
      "Retrieving ElectronicStructureDoc documents: 100%|█████████████████| 1/1 [00:00<?, ?it/s]\n",
      "Retrieving ElectronicStructureDoc documents: 100%|█████████████████| 1/1 [00:00<?, ?it/s]\n",
      "Retrieving ElectronicStructureDoc documents: 100%|█████████████████| 1/1 [00:00<?, ?it/s]\n",
      "Retrieving ElectronicStructureDoc documents: 100%|███████| 1/1 [00:00<00:00, 1248.68it/s]\n",
      "Retrieving ElectronicStructureDoc documents: 100%|█████████████████| 1/1 [00:00<?, ?it/s]\n",
      "Retrieving ElectronicStructureDoc documents: 100%|█████████████████| 1/1 [00:00<?, ?it/s]\n",
      "Retrieving ElectronicStructureDoc documents: 100%|████████| 1/1 [00:00<00:00, 806.91it/s]\n"
     ]
    },
    {
     "name": "stdout",
     "output_type": "stream",
     "text": [
      "mp-1224819 20 4\n"
     ]
    },
    {
     "name": "stderr",
     "output_type": "stream",
     "text": [
      "Retrieving ElectronicStructureDoc documents: 100%|███████| 1/1 [00:00<00:00, 1138.83it/s]\n",
      "Retrieving ElectronicStructureDoc documents: 100%|█████████████████| 1/1 [00:00<?, ?it/s]\n",
      "Retrieving ElectronicStructureDoc documents: 100%|█████████████████| 1/1 [00:00<?, ?it/s]\n",
      "Retrieving ElectronicStructureDoc documents: 100%|█████████████████| 1/1 [00:00<?, ?it/s]\n",
      "Retrieving ElectronicStructureDoc documents: 100%|█████████████████| 1/1 [00:00<?, ?it/s]\n",
      "Retrieving ElectronicStructureDoc documents: 100%|█████████████████| 1/1 [00:00<?, ?it/s]\n",
      "Retrieving ElectronicStructureDoc documents: 100%|█████████████████| 1/1 [00:00<?, ?it/s]\n",
      "Retrieving ElectronicStructureDoc documents: 100%|███████| 1/1 [00:00<00:00, 1647.41it/s]\n",
      "Retrieving ElectronicStructureDoc documents: 100%|█████████████████| 1/1 [00:00<?, ?it/s]\n",
      "Retrieving ElectronicStructureDoc documents: 100%|█████████████████| 1/1 [00:00<?, ?it/s]\n"
     ]
    },
    {
     "name": "stdout",
     "output_type": "stream",
     "text": [
      "mp-1224837 30 4\n"
     ]
    },
    {
     "name": "stderr",
     "output_type": "stream",
     "text": [
      "Retrieving ElectronicStructureDoc documents: 100%|█████████████████| 1/1 [00:00<?, ?it/s]\n",
      "Retrieving ElectronicStructureDoc documents: 100%|█████████████████| 1/1 [00:00<?, ?it/s]\n",
      "Retrieving ElectronicStructureDoc documents: 100%|█████████████████| 1/1 [00:00<?, ?it/s]\n",
      "Retrieving ElectronicStructureDoc documents: 100%|█████████████████| 1/1 [00:00<?, ?it/s]\n",
      "Retrieving ElectronicStructureDoc documents: 100%|█████████████████| 1/1 [00:00<?, ?it/s]\n",
      "Retrieving ElectronicStructureDoc documents: 100%|█████████████████| 1/1 [00:00<?, ?it/s]\n",
      "Retrieving ElectronicStructureDoc documents: 100%|█████████████████| 1/1 [00:00<?, ?it/s]\n",
      "Retrieving ElectronicStructureDoc documents: 100%|█████████████████| 1/1 [00:00<?, ?it/s]\n",
      "Retrieving ElectronicStructureDoc documents: 100%|█████████████████| 1/1 [00:00<?, ?it/s]\n",
      "Retrieving ElectronicStructureDoc documents: 100%|█████████████████| 1/1 [00:00<?, ?it/s]\n"
     ]
    },
    {
     "name": "stdout",
     "output_type": "stream",
     "text": [
      "mp-1224853 40 4\n"
     ]
    },
    {
     "name": "stderr",
     "output_type": "stream",
     "text": [
      "Retrieving ElectronicStructureDoc documents: 100%|███████| 1/1 [00:00<00:00, 1153.55it/s]\n",
      "Retrieving ElectronicStructureDoc documents: 100%|█████████████████| 1/1 [00:00<?, ?it/s]\n",
      "Retrieving ElectronicStructureDoc documents: 100%|█████████████████| 1/1 [00:00<?, ?it/s]\n",
      "Retrieving ElectronicStructureDoc documents: 100%|█████████████████| 1/1 [00:00<?, ?it/s]\n",
      "Retrieving ElectronicStructureDoc documents: 100%|█████████████████| 1/1 [00:00<?, ?it/s]\n",
      "Retrieving ElectronicStructureDoc documents: 100%|█████████████████| 1/1 [00:00<?, ?it/s]\n",
      "Retrieving ElectronicStructureDoc documents: 100%|█████████████████| 1/1 [00:00<?, ?it/s]\n",
      "Retrieving ElectronicStructureDoc documents: 100%|█████████████████| 1/1 [00:00<?, ?it/s]\n",
      "Retrieving ElectronicStructureDoc documents: 100%|█████████████████| 1/1 [00:00<?, ?it/s]\n",
      "Retrieving ElectronicStructureDoc documents: 100%|█████████████████| 1/1 [00:00<?, ?it/s]\n"
     ]
    },
    {
     "name": "stdout",
     "output_type": "stream",
     "text": [
      "mp-1224876 50 4\n"
     ]
    },
    {
     "name": "stderr",
     "output_type": "stream",
     "text": [
      "Retrieving ElectronicStructureDoc documents: 100%|█████████████████| 1/1 [00:00<?, ?it/s]\n",
      "Retrieving ElectronicStructureDoc documents: 100%|█████████████████| 1/1 [00:00<?, ?it/s]\n",
      "Retrieving ElectronicStructureDoc documents: 100%|█████████████████| 1/1 [00:00<?, ?it/s]\n",
      "Retrieving ElectronicStructureDoc documents: 100%|█████████████████| 1/1 [00:00<?, ?it/s]\n",
      "Retrieving ElectronicStructureDoc documents: 100%|████████| 1/1 [00:00<00:00, 497.25it/s]\n",
      "Retrieving ElectronicStructureDoc documents: 100%|█████████████████| 1/1 [00:00<?, ?it/s]\n",
      "Retrieving ElectronicStructureDoc documents: 100%|█████████████████| 1/1 [00:00<?, ?it/s]\n",
      "Retrieving ElectronicStructureDoc documents: 100%|█████████████████| 1/1 [00:00<?, ?it/s]\n",
      "Retrieving ElectronicStructureDoc documents: 100%|█████████████████| 1/1 [00:00<?, ?it/s]\n",
      "Retrieving ElectronicStructureDoc documents: 100%|█████████████████| 1/1 [00:00<?, ?it/s]\n"
     ]
    },
    {
     "name": "stdout",
     "output_type": "stream",
     "text": [
      "mp-1224899 60 4\n"
     ]
    },
    {
     "name": "stderr",
     "output_type": "stream",
     "text": [
      "Retrieving ElectronicStructureDoc documents: 100%|█████████████████| 1/1 [00:00<?, ?it/s]\n",
      "Retrieving ElectronicStructureDoc documents: 100%|█████████████████| 1/1 [00:00<?, ?it/s]\n",
      "Retrieving ElectronicStructureDoc documents: 100%|█████████████████| 1/1 [00:00<?, ?it/s]\n",
      "Retrieving ElectronicStructureDoc documents: 100%|█████████████████| 1/1 [00:00<?, ?it/s]\n",
      "Retrieving ElectronicStructureDoc documents: 100%|█████████████████| 1/1 [00:00<?, ?it/s]\n",
      "Retrieving ElectronicStructureDoc documents: 100%|█████████████████| 1/1 [00:00<?, ?it/s]\n",
      "Retrieving ElectronicStructureDoc documents: 100%|█████████████████| 1/1 [00:00<?, ?it/s]\n",
      "Retrieving ElectronicStructureDoc documents: 100%|█████████████████| 1/1 [00:00<?, ?it/s]\n",
      "Retrieving ElectronicStructureDoc documents: 100%|█████████████████| 1/1 [00:00<?, ?it/s]\n",
      "Retrieving ElectronicStructureDoc documents: 100%|█████████████████| 1/1 [00:00<?, ?it/s]\n"
     ]
    },
    {
     "name": "stdout",
     "output_type": "stream",
     "text": [
      "mp-1224941 70 4\n"
     ]
    },
    {
     "name": "stderr",
     "output_type": "stream",
     "text": [
      "Retrieving ElectronicStructureDoc documents: 100%|█████████████████| 1/1 [00:00<?, ?it/s]\n",
      "Retrieving ElectronicStructureDoc documents: 100%|█████████████████| 1/1 [00:00<?, ?it/s]\n",
      "Retrieving ElectronicStructureDoc documents: 100%|█████████████████| 1/1 [00:00<?, ?it/s]\n",
      "Retrieving ElectronicStructureDoc documents: 100%|█████████████████| 1/1 [00:00<?, ?it/s]\n",
      "Retrieving ElectronicStructureDoc documents: 100%|████████| 1/1 [00:00<00:00, 668.84it/s]\n",
      "Retrieving ElectronicStructureDoc documents: 100%|█████████████████| 1/1 [00:00<?, ?it/s]\n",
      "Retrieving ElectronicStructureDoc documents: 100%|█████████████████| 1/1 [00:00<?, ?it/s]\n",
      "Retrieving ElectronicStructureDoc documents: 100%|█████████████████| 1/1 [00:00<?, ?it/s]\n",
      "Retrieving ElectronicStructureDoc documents: 100%|█████████████████| 1/1 [00:00<?, ?it/s]\n",
      "Retrieving ElectronicStructureDoc documents: 100%|█████████████████| 1/1 [00:00<?, ?it/s]\n"
     ]
    },
    {
     "name": "stdout",
     "output_type": "stream",
     "text": [
      "mp-1224960 80 4\n"
     ]
    },
    {
     "name": "stderr",
     "output_type": "stream",
     "text": [
      "Retrieving ElectronicStructureDoc documents: 100%|████████| 1/1 [00:00<00:00, 870.37it/s]\n",
      "Retrieving ElectronicStructureDoc documents: 100%|█████████████████| 1/1 [00:00<?, ?it/s]\n",
      "Retrieving ElectronicStructureDoc documents: 100%|█████████████████| 1/1 [00:00<?, ?it/s]\n",
      "Retrieving ElectronicStructureDoc documents: 100%|█████████████████| 1/1 [00:00<?, ?it/s]\n",
      "Retrieving ElectronicStructureDoc documents: 100%|█████████████████| 1/1 [00:00<?, ?it/s]\n",
      "Retrieving ElectronicStructureDoc documents: 100%|█████████████████| 1/1 [00:00<?, ?it/s]\n",
      "Retrieving ElectronicStructureDoc documents: 100%|█████████████████| 1/1 [00:00<?, ?it/s]\n",
      "Retrieving ElectronicStructureDoc documents: 100%|████████| 1/1 [00:00<00:00, 745.26it/s]\n",
      "Retrieving ElectronicStructureDoc documents: 100%|█████████████████| 1/1 [00:00<?, ?it/s]\n",
      "Retrieving ElectronicStructureDoc documents: 100%|█████████████████| 1/1 [00:00<?, ?it/s]\n"
     ]
    },
    {
     "name": "stdout",
     "output_type": "stream",
     "text": [
      "mp-1224976 90 4\n"
     ]
    },
    {
     "name": "stderr",
     "output_type": "stream",
     "text": [
      "Retrieving ElectronicStructureDoc documents: 100%|█████████████████| 1/1 [00:00<?, ?it/s]\n",
      "Retrieving ElectronicStructureDoc documents: 100%|█████████████████| 1/1 [00:00<?, ?it/s]\n",
      "Retrieving ElectronicStructureDoc documents: 100%|█████████████████| 1/1 [00:00<?, ?it/s]\n",
      "Retrieving ElectronicStructureDoc documents: 100%|█████████████████| 1/1 [00:00<?, ?it/s]\n",
      "Retrieving ElectronicStructureDoc documents: 100%|████████| 1/1 [00:00<00:00, 960.67it/s]\n",
      "Retrieving ElectronicStructureDoc documents: 100%|█████████████████| 1/1 [00:00<?, ?it/s]\n",
      "Retrieving ElectronicStructureDoc documents: 100%|█████████████████| 1/1 [00:00<?, ?it/s]\n",
      "Retrieving ElectronicStructureDoc documents: 100%|█████████████████| 1/1 [00:00<?, ?it/s]\n",
      "Retrieving ElectronicStructureDoc documents: 100%|█████████████████| 1/1 [00:00<?, ?it/s]\n",
      "Retrieving ElectronicStructureDoc documents: 100%|█████████████████| 1/1 [00:00<?, ?it/s]\n"
     ]
    },
    {
     "name": "stdout",
     "output_type": "stream",
     "text": [
      "mp-1224999 0 5\n"
     ]
    },
    {
     "name": "stderr",
     "output_type": "stream",
     "text": [
      "Retrieving ElectronicStructureDoc documents: 100%|█████████████████| 1/1 [00:00<?, ?it/s]\n",
      "Retrieving ElectronicStructureDoc documents: 100%|█████████████████| 1/1 [00:00<?, ?it/s]\n",
      "Retrieving ElectronicStructureDoc documents: 100%|█████████████████| 1/1 [00:00<?, ?it/s]\n",
      "Retrieving ElectronicStructureDoc documents: 100%|█████████████████| 1/1 [00:00<?, ?it/s]\n",
      "Retrieving ElectronicStructureDoc documents: 100%|█████████████████| 1/1 [00:00<?, ?it/s]\n",
      "Retrieving ElectronicStructureDoc documents: 100%|█████████████████| 1/1 [00:00<?, ?it/s]\n",
      "Retrieving ElectronicStructureDoc documents: 100%|███████| 1/1 [00:00<00:00, 1326.89it/s]\n",
      "Retrieving ElectronicStructureDoc documents: 100%|█████████████████| 1/1 [00:00<?, ?it/s]\n",
      "Retrieving ElectronicStructureDoc documents: 100%|█████████████████| 1/1 [00:00<?, ?it/s]\n",
      "Retrieving ElectronicStructureDoc documents: 100%|█████████████████| 1/1 [00:00<?, ?it/s]\n"
     ]
    },
    {
     "name": "stdout",
     "output_type": "stream",
     "text": [
      "mp-1225043 10 5\n"
     ]
    },
    {
     "name": "stderr",
     "output_type": "stream",
     "text": [
      "Retrieving ElectronicStructureDoc documents: 100%|█████████████████| 1/1 [00:00<?, ?it/s]\n",
      "Retrieving ElectronicStructureDoc documents: 100%|█████████████████| 1/1 [00:00<?, ?it/s]\n",
      "Retrieving ElectronicStructureDoc documents: 100%|█████████████████| 1/1 [00:00<?, ?it/s]\n",
      "Retrieving ElectronicStructureDoc documents: 100%|█████████████████| 1/1 [00:00<?, ?it/s]\n",
      "Retrieving ElectronicStructureDoc documents: 100%|█████████████████| 1/1 [00:00<?, ?it/s]\n",
      "Retrieving ElectronicStructureDoc documents: 100%|█████████████████| 1/1 [00:00<?, ?it/s]\n",
      "Retrieving ElectronicStructureDoc documents: 100%|█████████████████| 1/1 [00:00<?, ?it/s]\n",
      "Retrieving ElectronicStructureDoc documents: 100%|█████████████████| 1/1 [00:00<?, ?it/s]\n",
      "Retrieving ElectronicStructureDoc documents: 100%|█████████████████| 1/1 [00:00<?, ?it/s]\n",
      "Retrieving ElectronicStructureDoc documents: 100%|█████████████████| 1/1 [00:00<?, ?it/s]\n"
     ]
    },
    {
     "name": "stdout",
     "output_type": "stream",
     "text": [
      "mp-1225059 20 5\n"
     ]
    },
    {
     "name": "stderr",
     "output_type": "stream",
     "text": [
      "Retrieving ElectronicStructureDoc documents: 100%|█████████████████| 1/1 [00:00<?, ?it/s]\n",
      "Retrieving ElectronicStructureDoc documents: 100%|█████████████████| 1/1 [00:00<?, ?it/s]\n",
      "Retrieving ElectronicStructureDoc documents: 100%|█████████████████| 1/1 [00:00<?, ?it/s]\n",
      "Retrieving ElectronicStructureDoc documents: 100%|█████████████████| 1/1 [00:00<?, ?it/s]\n",
      "Retrieving ElectronicStructureDoc documents: 100%|█████████████████| 1/1 [00:00<?, ?it/s]\n",
      "Retrieving ElectronicStructureDoc documents: 100%|███████| 1/1 [00:00<00:00, 1959.04it/s]\n",
      "Retrieving ElectronicStructureDoc documents: 100%|████████| 1/1 [00:00<00:00, 231.18it/s]\n",
      "Retrieving ElectronicStructureDoc documents: 100%|████████| 1/1 [00:00<00:00, 908.25it/s]\n",
      "Retrieving ElectronicStructureDoc documents: 100%|█████████████████| 1/1 [00:00<?, ?it/s]\n",
      "Retrieving ElectronicStructureDoc documents: 100%|████████| 1/1 [00:00<00:00, 624.43it/s]\n"
     ]
    },
    {
     "name": "stdout",
     "output_type": "stream",
     "text": [
      "mp-1225089 30 5\n"
     ]
    },
    {
     "name": "stderr",
     "output_type": "stream",
     "text": [
      "Retrieving ElectronicStructureDoc documents: 100%|████████| 1/1 [00:00<00:00, 490.10it/s]\n",
      "Retrieving ElectronicStructureDoc documents: 100%|█████████████████| 1/1 [00:00<?, ?it/s]\n",
      "Retrieving ElectronicStructureDoc documents: 100%|█████████████████| 1/1 [00:00<?, ?it/s]\n",
      "Retrieving ElectronicStructureDoc documents: 100%|█████████████████| 1/1 [00:00<?, ?it/s]\n",
      "Retrieving ElectronicStructureDoc documents: 100%|█████████████████| 1/1 [00:00<?, ?it/s]\n",
      "Retrieving ElectronicStructureDoc documents: 100%|█████████████████| 1/1 [00:00<?, ?it/s]\n",
      "Retrieving ElectronicStructureDoc documents: 100%|█████████████████| 1/1 [00:00<?, ?it/s]\n",
      "Retrieving ElectronicStructureDoc documents: 100%|█████████████████| 1/1 [00:00<?, ?it/s]\n",
      "Retrieving ElectronicStructureDoc documents: 100%|█████████████████| 1/1 [00:00<?, ?it/s]\n",
      "Retrieving ElectronicStructureDoc documents: 100%|█████████████████| 1/1 [00:00<?, ?it/s]\n"
     ]
    },
    {
     "name": "stdout",
     "output_type": "stream",
     "text": [
      "mp-1225133 40 5\n"
     ]
    },
    {
     "name": "stderr",
     "output_type": "stream",
     "text": [
      "Retrieving ElectronicStructureDoc documents: 100%|█████████████████| 1/1 [00:00<?, ?it/s]\n",
      "Retrieving ElectronicStructureDoc documents: 100%|█████████████████| 1/1 [00:00<?, ?it/s]\n",
      "Retrieving ElectronicStructureDoc documents: 100%|████████| 1/1 [00:00<00:00, 807.53it/s]\n",
      "Retrieving ElectronicStructureDoc documents: 100%|█████████████████| 1/1 [00:00<?, ?it/s]\n",
      "Retrieving ElectronicStructureDoc documents: 100%|█████████████████| 1/1 [00:00<?, ?it/s]\n",
      "Retrieving ElectronicStructureDoc documents: 100%|█████████████████| 1/1 [00:00<?, ?it/s]\n",
      "Retrieving ElectronicStructureDoc documents: 100%|█████████████████| 1/1 [00:00<?, ?it/s]\n",
      "Retrieving ElectronicStructureDoc documents: 100%|███████| 1/1 [00:00<00:00, 1538.63it/s]\n",
      "Retrieving ElectronicStructureDoc documents: 100%|█████████████████| 1/1 [00:00<?, ?it/s]\n",
      "Retrieving ElectronicStructureDoc documents: 100%|█████████████████| 1/1 [00:00<?, ?it/s]\n"
     ]
    },
    {
     "name": "stdout",
     "output_type": "stream",
     "text": [
      "mp-1225161 50 5\n"
     ]
    },
    {
     "name": "stderr",
     "output_type": "stream",
     "text": [
      "Retrieving ElectronicStructureDoc documents: 100%|█████████████████| 1/1 [00:00<?, ?it/s]\n",
      "Retrieving ElectronicStructureDoc documents: 100%|█████████████████| 1/1 [00:00<?, ?it/s]\n",
      "Retrieving ElectronicStructureDoc documents: 100%|█████████████████| 1/1 [00:00<?, ?it/s]\n",
      "Retrieving ElectronicStructureDoc documents: 100%|█████████████████| 1/1 [00:00<?, ?it/s]\n",
      "Retrieving ElectronicStructureDoc documents: 100%|█████████████████| 1/1 [00:00<?, ?it/s]\n",
      "Retrieving ElectronicStructureDoc documents: 100%|█████████████████| 1/1 [00:00<?, ?it/s]\n",
      "Retrieving ElectronicStructureDoc documents: 100%|█████████████████| 1/1 [00:00<?, ?it/s]\n",
      "Retrieving ElectronicStructureDoc documents: 100%|█████████████████| 1/1 [00:00<?, ?it/s]\n",
      "Retrieving ElectronicStructureDoc documents: 100%|█████████████████| 1/1 [00:00<?, ?it/s]\n",
      "Retrieving ElectronicStructureDoc documents: 100%|█████████████████| 1/1 [00:00<?, ?it/s]\n"
     ]
    },
    {
     "name": "stdout",
     "output_type": "stream",
     "text": [
      "mp-1225189 60 5\n"
     ]
    },
    {
     "name": "stderr",
     "output_type": "stream",
     "text": [
      "Retrieving ElectronicStructureDoc documents: 100%|█████████████████| 1/1 [00:00<?, ?it/s]\n",
      "Retrieving ElectronicStructureDoc documents: 100%|█████████████████| 1/1 [00:00<?, ?it/s]\n",
      "Retrieving ElectronicStructureDoc documents: 100%|█████████████████| 1/1 [00:00<?, ?it/s]\n",
      "Retrieving ElectronicStructureDoc documents: 100%|█████████████████| 1/1 [00:00<?, ?it/s]\n",
      "Retrieving ElectronicStructureDoc documents: 100%|█████████████████| 1/1 [00:00<?, ?it/s]\n",
      "Retrieving ElectronicStructureDoc documents: 100%|█████████████████| 1/1 [00:00<?, ?it/s]\n",
      "Retrieving ElectronicStructureDoc documents: 100%|█████████████████| 1/1 [00:00<?, ?it/s]\n",
      "Retrieving ElectronicStructureDoc documents: 100%|█████████████████| 1/1 [00:00<?, ?it/s]\n",
      "Retrieving ElectronicStructureDoc documents: 100%|█████████████████| 1/1 [00:00<?, ?it/s]\n",
      "Retrieving ElectronicStructureDoc documents: 100%|████████| 1/1 [00:00<00:00, 498.14it/s]\n"
     ]
    },
    {
     "name": "stdout",
     "output_type": "stream",
     "text": [
      "mp-1225215 70 5\n"
     ]
    },
    {
     "name": "stderr",
     "output_type": "stream",
     "text": [
      "Retrieving ElectronicStructureDoc documents: 100%|█████████████████| 1/1 [00:00<?, ?it/s]\n",
      "Retrieving ElectronicStructureDoc documents: 100%|█████████████████| 1/1 [00:00<?, ?it/s]\n",
      "Retrieving ElectronicStructureDoc documents: 100%|█████████████████| 1/1 [00:00<?, ?it/s]\n",
      "Retrieving ElectronicStructureDoc documents: 100%|█████████████████| 1/1 [00:00<?, ?it/s]\n",
      "Retrieving ElectronicStructureDoc documents: 100%|█████████████████| 1/1 [00:00<?, ?it/s]\n",
      "Retrieving ElectronicStructureDoc documents: 100%|█████████████████| 1/1 [00:00<?, ?it/s]\n",
      "Retrieving ElectronicStructureDoc documents: 100%|█████████████████| 1/1 [00:00<?, ?it/s]\n",
      "Retrieving ElectronicStructureDoc documents: 100%|█████████████████| 1/1 [00:00<?, ?it/s]\n",
      "Retrieving ElectronicStructureDoc documents: 100%|███████| 1/1 [00:00<00:00, 1025.50it/s]\n",
      "Retrieving ElectronicStructureDoc documents: 100%|█████████████████| 1/1 [00:00<?, ?it/s]\n"
     ]
    },
    {
     "name": "stdout",
     "output_type": "stream",
     "text": [
      "mp-1225251 80 5\n"
     ]
    },
    {
     "name": "stderr",
     "output_type": "stream",
     "text": [
      "Retrieving ElectronicStructureDoc documents: 100%|█████████████████| 1/1 [00:00<?, ?it/s]\n",
      "Retrieving ElectronicStructureDoc documents: 100%|█████████████████| 1/1 [00:00<?, ?it/s]\n",
      "Retrieving ElectronicStructureDoc documents: 100%|█████████████████| 1/1 [00:00<?, ?it/s]\n",
      "Retrieving ElectronicStructureDoc documents: 100%|█████████████████| 1/1 [00:00<?, ?it/s]\n",
      "Retrieving ElectronicStructureDoc documents: 100%|█████████████████| 1/1 [00:00<?, ?it/s]\n",
      "Retrieving ElectronicStructureDoc documents: 100%|█████████████████| 1/1 [00:00<?, ?it/s]\n",
      "Retrieving ElectronicStructureDoc documents: 100%|█████████████████| 1/1 [00:00<?, ?it/s]\n",
      "Retrieving ElectronicStructureDoc documents: 100%|█████████████████| 1/1 [00:00<?, ?it/s]\n",
      "Retrieving ElectronicStructureDoc documents: 100%|█████████████████| 1/1 [00:00<?, ?it/s]\n",
      "Retrieving ElectronicStructureDoc documents: 100%|█████████████████| 1/1 [00:00<?, ?it/s]\n"
     ]
    },
    {
     "name": "stdout",
     "output_type": "stream",
     "text": [
      "mp-1225271 90 5\n"
     ]
    },
    {
     "name": "stderr",
     "output_type": "stream",
     "text": [
      "Retrieving ElectronicStructureDoc documents: 100%|█████████████████| 1/1 [00:00<?, ?it/s]\n",
      "Retrieving ElectronicStructureDoc documents: 100%|█████████████████| 1/1 [00:00<?, ?it/s]\n",
      "Retrieving ElectronicStructureDoc documents: 100%|█████████████████| 1/1 [00:00<?, ?it/s]\n",
      "Retrieving ElectronicStructureDoc documents: 100%|█████████████████| 1/1 [00:00<?, ?it/s]\n",
      "Retrieving ElectronicStructureDoc documents: 100%|████████| 1/1 [00:00<00:00, 155.30it/s]\n",
      "Retrieving ElectronicStructureDoc documents: 100%|█████████████████| 1/1 [00:00<?, ?it/s]\n",
      "Retrieving ElectronicStructureDoc documents: 100%|█████████████████| 1/1 [00:00<?, ?it/s]\n",
      "Retrieving ElectronicStructureDoc documents: 100%|█████████████████| 1/1 [00:00<?, ?it/s]\n",
      "Retrieving ElectronicStructureDoc documents: 100%|█████████████████| 1/1 [00:00<?, ?it/s]\n",
      "Retrieving ElectronicStructureDoc documents: 100%|█████████████████| 1/1 [00:00<?, ?it/s]\n"
     ]
    },
    {
     "name": "stdout",
     "output_type": "stream",
     "text": [
      "mp-1225289 0 6\n"
     ]
    },
    {
     "name": "stderr",
     "output_type": "stream",
     "text": [
      "Retrieving ElectronicStructureDoc documents: 100%|█████████████████| 1/1 [00:00<?, ?it/s]\n",
      "Retrieving ElectronicStructureDoc documents: 100%|█████████████████| 1/1 [00:00<?, ?it/s]\n",
      "Retrieving ElectronicStructureDoc documents: 100%|█████████████████| 1/1 [00:00<?, ?it/s]\n",
      "Retrieving ElectronicStructureDoc documents: 100%|█████████████████| 1/1 [00:00<?, ?it/s]\n",
      "Retrieving ElectronicStructureDoc documents: 100%|█████████████████| 1/1 [00:00<?, ?it/s]\n",
      "Retrieving ElectronicStructureDoc documents: 100%|█████████████████| 1/1 [00:00<?, ?it/s]\n",
      "Retrieving ElectronicStructureDoc documents: 100%|█████████████████| 1/1 [00:00<?, ?it/s]\n",
      "Retrieving ElectronicStructureDoc documents: 100%|█████████████████| 1/1 [00:00<?, ?it/s]\n",
      "Retrieving ElectronicStructureDoc documents: 100%|█████████████████| 1/1 [00:00<?, ?it/s]\n",
      "Retrieving ElectronicStructureDoc documents: 100%|█████████████████| 1/1 [00:00<?, ?it/s]\n"
     ]
    },
    {
     "name": "stdout",
     "output_type": "stream",
     "text": [
      "mp-1225304 10 6\n"
     ]
    },
    {
     "name": "stderr",
     "output_type": "stream",
     "text": [
      "Retrieving ElectronicStructureDoc documents: 100%|█████████████████| 1/1 [00:00<?, ?it/s]\n",
      "Retrieving ElectronicStructureDoc documents: 100%|█████████████████| 1/1 [00:00<?, ?it/s]\n",
      "Retrieving ElectronicStructureDoc documents: 100%|█████████████████| 1/1 [00:00<?, ?it/s]\n",
      "Retrieving ElectronicStructureDoc documents: 100%|█████████████████| 1/1 [00:00<?, ?it/s]\n",
      "Retrieving ElectronicStructureDoc documents: 100%|████████| 1/1 [00:00<00:00, 158.20it/s]\n",
      "Retrieving ElectronicStructureDoc documents: 100%|█████████████████| 1/1 [00:00<?, ?it/s]\n",
      "Retrieving ElectronicStructureDoc documents: 100%|█████████████████| 1/1 [00:00<?, ?it/s]\n",
      "Retrieving ElectronicStructureDoc documents: 100%|█████████████████| 1/1 [00:00<?, ?it/s]\n",
      "Retrieving ElectronicStructureDoc documents: 100%|█████████████████| 1/1 [00:00<?, ?it/s]\n",
      "Retrieving ElectronicStructureDoc documents: 100%|████████| 1/1 [00:00<00:00, 182.48it/s]\n"
     ]
    },
    {
     "name": "stdout",
     "output_type": "stream",
     "text": [
      "mp-1225316 20 6\n"
     ]
    },
    {
     "name": "stderr",
     "output_type": "stream",
     "text": [
      "Retrieving ElectronicStructureDoc documents: 100%|█████████████████| 1/1 [00:00<?, ?it/s]\n",
      "Retrieving ElectronicStructureDoc documents: 100%|█████████████████| 1/1 [00:00<?, ?it/s]\n",
      "Retrieving ElectronicStructureDoc documents: 100%|█████████████████| 1/1 [00:00<?, ?it/s]\n",
      "Retrieving ElectronicStructureDoc documents: 100%|█████████████████| 1/1 [00:00<?, ?it/s]\n",
      "Retrieving ElectronicStructureDoc documents: 100%|█████████████████| 1/1 [00:00<?, ?it/s]\n",
      "Retrieving ElectronicStructureDoc documents: 100%|█████████████████| 1/1 [00:00<?, ?it/s]\n",
      "Retrieving ElectronicStructureDoc documents: 100%|█████████████████| 1/1 [00:00<?, ?it/s]\n",
      "Retrieving ElectronicStructureDoc documents: 100%|█████████████████| 1/1 [00:00<?, ?it/s]\n",
      "Retrieving ElectronicStructureDoc documents: 100%|█████████████████| 1/1 [00:00<?, ?it/s]\n",
      "Retrieving ElectronicStructureDoc documents: 100%|█████████████████| 1/1 [00:00<?, ?it/s]\n"
     ]
    },
    {
     "name": "stdout",
     "output_type": "stream",
     "text": [
      "mp-1225366 30 6\n"
     ]
    },
    {
     "name": "stderr",
     "output_type": "stream",
     "text": [
      "Retrieving ElectronicStructureDoc documents: 100%|█████████████████| 1/1 [00:00<?, ?it/s]\n",
      "Retrieving ElectronicStructureDoc documents: 100%|█████████████████| 1/1 [00:00<?, ?it/s]\n",
      "Retrieving ElectronicStructureDoc documents: 100%|█████████████████| 1/1 [00:00<?, ?it/s]\n",
      "Retrieving ElectronicStructureDoc documents: 100%|█████████████████| 1/1 [00:00<?, ?it/s]\n",
      "Retrieving ElectronicStructureDoc documents: 100%|█████████████████| 1/1 [00:00<?, ?it/s]\n",
      "Retrieving ElectronicStructureDoc documents: 100%|█████████████████| 1/1 [00:00<?, ?it/s]\n",
      "Retrieving ElectronicStructureDoc documents: 100%|███████| 1/1 [00:00<00:00, 1985.00it/s]\n",
      "Retrieving ElectronicStructureDoc documents: 100%|█████████████████| 1/1 [00:00<?, ?it/s]\n",
      "Retrieving ElectronicStructureDoc documents: 100%|████████| 1/1 [00:00<00:00, 994.62it/s]\n",
      "Retrieving ElectronicStructureDoc documents: 100%|█████████████████| 1/1 [00:00<?, ?it/s]\n"
     ]
    },
    {
     "name": "stdout",
     "output_type": "stream",
     "text": [
      "mp-1225410 40 6\n"
     ]
    },
    {
     "name": "stderr",
     "output_type": "stream",
     "text": [
      "Retrieving ElectronicStructureDoc documents: 100%|███████| 1/1 [00:00<00:00, 1140.38it/s]\n",
      "Retrieving ElectronicStructureDoc documents: 100%|█████████████████| 1/1 [00:00<?, ?it/s]\n",
      "Retrieving ElectronicStructureDoc documents: 100%|█████████████████| 1/1 [00:00<?, ?it/s]\n",
      "Retrieving ElectronicStructureDoc documents: 100%|█████████████████| 1/1 [00:00<?, ?it/s]\n",
      "Retrieving ElectronicStructureDoc documents: 100%|█████████████████| 1/1 [00:00<?, ?it/s]\n",
      "Retrieving ElectronicStructureDoc documents: 100%|█████████████████| 1/1 [00:00<?, ?it/s]\n",
      "Retrieving ElectronicStructureDoc documents: 100%|███████| 1/1 [00:00<00:00, 3015.32it/s]\n",
      "Retrieving ElectronicStructureDoc documents: 100%|████████| 1/1 [00:00<00:00, 811.12it/s]\n",
      "Retrieving ElectronicStructureDoc documents: 100%|█████████████████| 1/1 [00:00<?, ?it/s]\n",
      "Retrieving ElectronicStructureDoc documents: 100%|█████████████████| 1/1 [00:00<?, ?it/s]\n"
     ]
    },
    {
     "name": "stdout",
     "output_type": "stream",
     "text": [
      "mp-1225448 50 6\n"
     ]
    },
    {
     "name": "stderr",
     "output_type": "stream",
     "text": [
      "Retrieving ElectronicStructureDoc documents: 100%|████████| 1/1 [00:00<00:00, 724.91it/s]\n",
      "Retrieving ElectronicStructureDoc documents: 100%|█████████████████| 1/1 [00:00<?, ?it/s]\n",
      "Retrieving ElectronicStructureDoc documents: 100%|█████████████████| 1/1 [00:00<?, ?it/s]\n",
      "Retrieving ElectronicStructureDoc documents: 100%|█████████████████| 1/1 [00:00<?, ?it/s]\n",
      "Retrieving ElectronicStructureDoc documents: 100%|█████████████████| 1/1 [00:00<?, ?it/s]\n",
      "Retrieving ElectronicStructureDoc documents: 100%|█████████████████| 1/1 [00:00<?, ?it/s]\n",
      "Retrieving ElectronicStructureDoc documents: 100%|█████████████████| 1/1 [00:00<?, ?it/s]\n",
      "Retrieving ElectronicStructureDoc documents: 100%|█████████████████| 1/1 [00:00<?, ?it/s]\n",
      "Retrieving ElectronicStructureDoc documents: 100%|█████████████████| 1/1 [00:00<?, ?it/s]\n",
      "Retrieving ElectronicStructureDoc documents: 100%|███████| 1/1 [00:00<00:00, 1126.29it/s]\n"
     ]
    },
    {
     "name": "stdout",
     "output_type": "stream",
     "text": [
      "mp-1225475 60 6\n"
     ]
    },
    {
     "name": "stderr",
     "output_type": "stream",
     "text": [
      "Retrieving ElectronicStructureDoc documents: 100%|█████████████████| 1/1 [00:00<?, ?it/s]\n",
      "Retrieving ElectronicStructureDoc documents: 100%|█████████████████| 1/1 [00:00<?, ?it/s]\n",
      "Retrieving ElectronicStructureDoc documents: 100%|████████| 1/1 [00:00<00:00, 159.95it/s]\n",
      "Retrieving ElectronicStructureDoc documents: 100%|█████████████████| 1/1 [00:00<?, ?it/s]\n",
      "Retrieving ElectronicStructureDoc documents: 100%|█████████████████| 1/1 [00:00<?, ?it/s]\n",
      "Retrieving ElectronicStructureDoc documents: 100%|█████████████████| 1/1 [00:00<?, ?it/s]\n",
      "Retrieving ElectronicStructureDoc documents: 100%|█████████████████| 1/1 [00:00<?, ?it/s]\n",
      "Retrieving ElectronicStructureDoc documents: 100%|█████████████████| 1/1 [00:00<?, ?it/s]\n",
      "Retrieving ElectronicStructureDoc documents: 100%|███████| 1/1 [00:00<00:00, 1716.87it/s]\n",
      "Retrieving ElectronicStructureDoc documents: 100%|█████████████████| 1/1 [00:00<?, ?it/s]\n"
     ]
    },
    {
     "name": "stdout",
     "output_type": "stream",
     "text": [
      "mp-1225500 70 6\n"
     ]
    },
    {
     "name": "stderr",
     "output_type": "stream",
     "text": [
      "Retrieving ElectronicStructureDoc documents: 100%|█████████████████| 1/1 [00:00<?, ?it/s]\n",
      "Retrieving ElectronicStructureDoc documents: 100%|█████████████████| 1/1 [00:00<?, ?it/s]\n",
      "Retrieving ElectronicStructureDoc documents: 100%|█████████████████| 1/1 [00:00<?, ?it/s]\n",
      "Retrieving ElectronicStructureDoc documents: 100%|█████████████████| 1/1 [00:00<?, ?it/s]\n",
      "Retrieving ElectronicStructureDoc documents: 100%|█████████████████| 1/1 [00:00<?, ?it/s]\n",
      "Retrieving ElectronicStructureDoc documents: 100%|█████████████████| 1/1 [00:00<?, ?it/s]\n",
      "Retrieving ElectronicStructureDoc documents: 100%|█████████████████| 1/1 [00:00<?, ?it/s]\n",
      "Retrieving ElectronicStructureDoc documents: 100%|████████| 1/1 [00:00<00:00, 321.90it/s]\n",
      "Retrieving ElectronicStructureDoc documents: 100%|█████████████████| 1/1 [00:00<?, ?it/s]\n",
      "Retrieving ElectronicStructureDoc documents: 100%|█████████████████| 1/1 [00:00<?, ?it/s]\n"
     ]
    },
    {
     "name": "stdout",
     "output_type": "stream",
     "text": [
      "mp-1225516 80 6\n"
     ]
    },
    {
     "name": "stderr",
     "output_type": "stream",
     "text": [
      "Retrieving ElectronicStructureDoc documents: 100%|█████████████████| 1/1 [00:00<?, ?it/s]\n",
      "Retrieving ElectronicStructureDoc documents: 100%|█████████████████| 1/1 [00:00<?, ?it/s]\n",
      "Retrieving ElectronicStructureDoc documents: 100%|█████████████████| 1/1 [00:00<?, ?it/s]\n",
      "Retrieving ElectronicStructureDoc documents: 100%|█████████████████| 1/1 [00:00<?, ?it/s]\n",
      "Retrieving ElectronicStructureDoc documents: 100%|█████████████████| 1/1 [00:00<?, ?it/s]\n",
      "Retrieving ElectronicStructureDoc documents: 100%|█████████████████| 1/1 [00:00<?, ?it/s]\n",
      "Retrieving ElectronicStructureDoc documents: 100%|█████████████████| 1/1 [00:00<?, ?it/s]\n",
      "Retrieving ElectronicStructureDoc documents: 100%|█████████████████| 1/1 [00:00<?, ?it/s]\n",
      "Retrieving ElectronicStructureDoc documents: 100%|█████████████████| 1/1 [00:00<?, ?it/s]\n",
      "Retrieving ElectronicStructureDoc documents: 100%|████████| 1/1 [00:00<00:00, 113.28it/s]\n"
     ]
    },
    {
     "name": "stdout",
     "output_type": "stream",
     "text": [
      "mp-1225533 90 6\n"
     ]
    },
    {
     "name": "stderr",
     "output_type": "stream",
     "text": [
      "Retrieving ElectronicStructureDoc documents: 100%|█████████████████| 1/1 [00:00<?, ?it/s]\n",
      "Retrieving ElectronicStructureDoc documents: 100%|████████| 1/1 [00:00<00:00, 807.37it/s]\n",
      "Retrieving ElectronicStructureDoc documents: 100%|█████████████████| 1/1 [00:00<?, ?it/s]\n",
      "Retrieving ElectronicStructureDoc documents: 100%|█████████████████| 1/1 [00:00<?, ?it/s]\n",
      "Retrieving ElectronicStructureDoc documents: 100%|█████████████████| 1/1 [00:00<?, ?it/s]\n",
      "Retrieving ElectronicStructureDoc documents: 100%|█████████████████| 1/1 [00:00<?, ?it/s]\n",
      "Retrieving ElectronicStructureDoc documents: 100%|█████████████████| 1/1 [00:00<?, ?it/s]\n",
      "Retrieving ElectronicStructureDoc documents: 100%|█████████████████| 1/1 [00:00<?, ?it/s]\n",
      "Retrieving ElectronicStructureDoc documents: 100%|████████| 1/1 [00:00<00:00, 197.46it/s]\n",
      "Retrieving ElectronicStructureDoc documents: 100%|█████████████████| 1/1 [00:00<?, ?it/s]\n"
     ]
    },
    {
     "name": "stdout",
     "output_type": "stream",
     "text": [
      "mp-1225548 0 7\n"
     ]
    },
    {
     "name": "stderr",
     "output_type": "stream",
     "text": [
      "Retrieving ElectronicStructureDoc documents: 100%|█████████████████| 1/1 [00:00<?, ?it/s]\n",
      "Retrieving ElectronicStructureDoc documents: 100%|█████████████████| 1/1 [00:00<?, ?it/s]\n",
      "Retrieving ElectronicStructureDoc documents: 100%|█████████████████| 1/1 [00:00<?, ?it/s]\n",
      "Retrieving ElectronicStructureDoc documents: 100%|████████| 1/1 [00:00<00:00, 994.85it/s]\n",
      "Retrieving ElectronicStructureDoc documents: 100%|█████████████████| 1/1 [00:00<?, ?it/s]\n",
      "Retrieving ElectronicStructureDoc documents: 100%|█████████████████| 1/1 [00:00<?, ?it/s]\n",
      "Retrieving ElectronicStructureDoc documents: 100%|█████████████████| 1/1 [00:00<?, ?it/s]\n",
      "Retrieving ElectronicStructureDoc documents: 100%|█████████████████| 1/1 [00:00<?, ?it/s]\n",
      "Retrieving ElectronicStructureDoc documents: 100%|█████████████████| 1/1 [00:00<?, ?it/s]\n",
      "Retrieving ElectronicStructureDoc documents: 100%|█████████████████| 1/1 [00:00<?, ?it/s]\n"
     ]
    },
    {
     "name": "stdout",
     "output_type": "stream",
     "text": [
      "mp-1225561 10 7\n"
     ]
    },
    {
     "name": "stderr",
     "output_type": "stream",
     "text": [
      "Retrieving ElectronicStructureDoc documents: 100%|█████████████████| 1/1 [00:00<?, ?it/s]\n",
      "Retrieving ElectronicStructureDoc documents: 100%|█████████████████| 1/1 [00:00<?, ?it/s]\n",
      "Retrieving ElectronicStructureDoc documents: 100%|█████████████████| 1/1 [00:00<?, ?it/s]\n",
      "Retrieving ElectronicStructureDoc documents: 100%|█████████████████| 1/1 [00:00<?, ?it/s]\n",
      "Retrieving ElectronicStructureDoc documents: 100%|█████████████████| 1/1 [00:00<?, ?it/s]\n",
      "Retrieving ElectronicStructureDoc documents: 100%|█████████████████| 1/1 [00:00<?, ?it/s]\n",
      "Retrieving ElectronicStructureDoc documents: 100%|█████████████████| 1/1 [00:00<?, ?it/s]\n",
      "Retrieving ElectronicStructureDoc documents: 100%|█████████████████| 1/1 [00:00<?, ?it/s]\n",
      "Retrieving ElectronicStructureDoc documents: 100%|█████████████████| 1/1 [00:00<?, ?it/s]\n",
      "Retrieving ElectronicStructureDoc documents: 100%|█████████████████| 1/1 [00:00<?, ?it/s]\n"
     ]
    },
    {
     "name": "stdout",
     "output_type": "stream",
     "text": [
      "mp-1225584 20 7\n"
     ]
    },
    {
     "name": "stderr",
     "output_type": "stream",
     "text": [
      "Retrieving ElectronicStructureDoc documents: 100%|█████████████████| 1/1 [00:00<?, ?it/s]\n",
      "Retrieving ElectronicStructureDoc documents: 100%|█████████████████| 1/1 [00:00<?, ?it/s]\n",
      "Retrieving ElectronicStructureDoc documents: 100%|█████████████████| 1/1 [00:00<?, ?it/s]\n",
      "Retrieving ElectronicStructureDoc documents: 100%|█████████████████| 1/1 [00:00<?, ?it/s]\n",
      "Retrieving ElectronicStructureDoc documents: 100%|█████████████████| 1/1 [00:00<?, ?it/s]\n",
      "Retrieving ElectronicStructureDoc documents: 100%|█████████████████| 1/1 [00:00<?, ?it/s]\n",
      "Retrieving ElectronicStructureDoc documents: 100%|█████████████████| 1/1 [00:00<?, ?it/s]\n",
      "Retrieving ElectronicStructureDoc documents: 100%|█████████████████| 1/1 [00:00<?, ?it/s]\n",
      "Retrieving ElectronicStructureDoc documents: 100%|████████| 1/1 [00:00<00:00, 638.89it/s]\n",
      "Retrieving ElectronicStructureDoc documents: 100%|████████| 1/1 [00:00<00:00, 798.61it/s]\n"
     ]
    },
    {
     "name": "stdout",
     "output_type": "stream",
     "text": [
      "mp-1225612 30 7\n"
     ]
    },
    {
     "name": "stderr",
     "output_type": "stream",
     "text": [
      "Retrieving ElectronicStructureDoc documents: 100%|█████████████████| 1/1 [00:00<?, ?it/s]\n",
      "Retrieving ElectronicStructureDoc documents: 100%|█████████████████| 1/1 [00:00<?, ?it/s]\n",
      "Retrieving ElectronicStructureDoc documents: 100%|█████████████████| 1/1 [00:00<?, ?it/s]\n",
      "Retrieving ElectronicStructureDoc documents: 100%|█████████████████| 1/1 [00:00<?, ?it/s]\n",
      "Retrieving ElectronicStructureDoc documents: 100%|█████████████████| 1/1 [00:00<?, ?it/s]\n",
      "Retrieving ElectronicStructureDoc documents: 100%|█████████████████| 1/1 [00:00<?, ?it/s]\n",
      "Retrieving ElectronicStructureDoc documents: 100%|█████████████████| 1/1 [00:00<?, ?it/s]\n",
      "Retrieving ElectronicStructureDoc documents: 100%|█████████████████| 1/1 [00:00<?, ?it/s]\n",
      "Retrieving ElectronicStructureDoc documents: 100%|█████████████████| 1/1 [00:00<?, ?it/s]\n",
      "Retrieving ElectronicStructureDoc documents: 100%|█████████████████| 1/1 [00:00<?, ?it/s]\n"
     ]
    },
    {
     "name": "stdout",
     "output_type": "stream",
     "text": [
      "mp-1225656 40 7\n"
     ]
    },
    {
     "name": "stderr",
     "output_type": "stream",
     "text": [
      "Retrieving ElectronicStructureDoc documents: 100%|███████| 1/1 [00:00<00:00, 1161.21it/s]\n",
      "Retrieving ElectronicStructureDoc documents: 100%|█████████████████| 1/1 [00:00<?, ?it/s]\n",
      "Retrieving ElectronicStructureDoc documents: 100%|█████████████████| 1/1 [00:00<?, ?it/s]\n",
      "Retrieving ElectronicStructureDoc documents: 100%|█████████████████| 1/1 [00:00<?, ?it/s]\n",
      "Retrieving ElectronicStructureDoc documents: 100%|█████████████████| 1/1 [00:00<?, ?it/s]\n",
      "Retrieving ElectronicStructureDoc documents: 100%|█████████████████| 1/1 [00:00<?, ?it/s]\n",
      "Retrieving ElectronicStructureDoc documents: 100%|█████████████████| 1/1 [00:00<?, ?it/s]\n",
      "Retrieving ElectronicStructureDoc documents: 100%|█████████████████| 1/1 [00:00<?, ?it/s]\n",
      "Retrieving ElectronicStructureDoc documents: 100%|████████| 1/1 [00:00<00:00, 386.54it/s]\n",
      "Retrieving ElectronicStructureDoc documents: 100%|████████| 1/1 [00:00<00:00, 995.09it/s]\n"
     ]
    },
    {
     "name": "stdout",
     "output_type": "stream",
     "text": [
      "mp-1225678 50 7\n"
     ]
    },
    {
     "name": "stderr",
     "output_type": "stream",
     "text": [
      "Retrieving ElectronicStructureDoc documents: 100%|█████████████████| 1/1 [00:00<?, ?it/s]\n",
      "Retrieving ElectronicStructureDoc documents: 100%|█████████████████| 1/1 [00:00<?, ?it/s]\n",
      "Retrieving ElectronicStructureDoc documents: 100%|█████████████████| 1/1 [00:00<?, ?it/s]\n",
      "Retrieving ElectronicStructureDoc documents: 100%|█████████████████| 1/1 [00:00<?, ?it/s]\n",
      "Retrieving ElectronicStructureDoc documents: 100%|█████████████████| 1/1 [00:00<?, ?it/s]\n",
      "Retrieving ElectronicStructureDoc documents: 100%|█████████████████| 1/1 [00:00<?, ?it/s]\n",
      "Retrieving ElectronicStructureDoc documents: 100%|█████████████████| 1/1 [00:00<?, ?it/s]\n",
      "Retrieving ElectronicStructureDoc documents: 100%|█████████████████| 1/1 [00:00<?, ?it/s]\n",
      "Retrieving ElectronicStructureDoc documents: 100%|█████████████████| 1/1 [00:00<?, ?it/s]\n",
      "Retrieving ElectronicStructureDoc documents: 100%|█████████████████| 1/1 [00:00<?, ?it/s]\n"
     ]
    },
    {
     "name": "stdout",
     "output_type": "stream",
     "text": [
      "mp-1225698 60 7\n"
     ]
    },
    {
     "name": "stderr",
     "output_type": "stream",
     "text": [
      "Retrieving ElectronicStructureDoc documents: 100%|█████████████████| 1/1 [00:00<?, ?it/s]\n",
      "Retrieving ElectronicStructureDoc documents: 100%|█████████████████| 1/1 [00:00<?, ?it/s]\n",
      "Retrieving ElectronicStructureDoc documents: 100%|█████████████████| 1/1 [00:00<?, ?it/s]\n",
      "Retrieving ElectronicStructureDoc documents: 100%|█████████████████| 1/1 [00:00<?, ?it/s]\n",
      "Retrieving ElectronicStructureDoc documents: 100%|█████████████████| 1/1 [00:00<?, ?it/s]\n",
      "Retrieving ElectronicStructureDoc documents: 100%|█████████████████| 1/1 [00:00<?, ?it/s]\n",
      "Retrieving ElectronicStructureDoc documents: 100%|█████████████████| 1/1 [00:00<?, ?it/s]\n",
      "Retrieving ElectronicStructureDoc documents: 100%|█████████████████| 1/1 [00:00<?, ?it/s]\n",
      "Retrieving ElectronicStructureDoc documents: 100%|█████████████████| 1/1 [00:00<?, ?it/s]\n",
      "Retrieving ElectronicStructureDoc documents: 100%|█████████████████| 1/1 [00:00<?, ?it/s]\n"
     ]
    },
    {
     "name": "stdout",
     "output_type": "stream",
     "text": [
      "mp-1225733 70 7\n"
     ]
    },
    {
     "name": "stderr",
     "output_type": "stream",
     "text": [
      "Retrieving ElectronicStructureDoc documents: 100%|█████████████████| 1/1 [00:00<?, ?it/s]\n",
      "Retrieving ElectronicStructureDoc documents: 100%|█████████████████| 1/1 [00:00<?, ?it/s]\n",
      "Retrieving ElectronicStructureDoc documents: 100%|█████████████████| 1/1 [00:00<?, ?it/s]\n",
      "Retrieving ElectronicStructureDoc documents: 100%|█████████████████| 1/1 [00:00<?, ?it/s]\n",
      "Retrieving ElectronicStructureDoc documents: 100%|█████████████████| 1/1 [00:00<?, ?it/s]\n",
      "Retrieving ElectronicStructureDoc documents: 100%|█████████████████| 1/1 [00:00<?, ?it/s]\n",
      "Retrieving ElectronicStructureDoc documents: 100%|█████████████████| 1/1 [00:00<?, ?it/s]\n",
      "Retrieving ElectronicStructureDoc documents: 100%|█████████████████| 1/1 [00:00<?, ?it/s]\n",
      "Retrieving ElectronicStructureDoc documents: 100%|█████████████████| 1/1 [00:00<?, ?it/s]\n",
      "Retrieving ElectronicStructureDoc documents: 100%|█████████████████| 1/1 [00:00<?, ?it/s]\n"
     ]
    },
    {
     "name": "stdout",
     "output_type": "stream",
     "text": [
      "mp-1225764 80 7\n"
     ]
    },
    {
     "name": "stderr",
     "output_type": "stream",
     "text": [
      "Retrieving ElectronicStructureDoc documents: 100%|█████████████████| 1/1 [00:00<?, ?it/s]\n",
      "Retrieving ElectronicStructureDoc documents: 100%|█████████████████| 1/1 [00:00<?, ?it/s]\n",
      "Retrieving ElectronicStructureDoc documents: 100%|█████████████████| 1/1 [00:00<?, ?it/s]\n",
      "Retrieving ElectronicStructureDoc documents: 100%|█████████████████| 1/1 [00:00<?, ?it/s]\n",
      "Retrieving ElectronicStructureDoc documents: 100%|█████████████████| 1/1 [00:00<?, ?it/s]\n",
      "Retrieving ElectronicStructureDoc documents: 100%|█████████████████| 1/1 [00:00<?, ?it/s]\n",
      "Retrieving ElectronicStructureDoc documents: 100%|█████████████████| 1/1 [00:00<?, ?it/s]\n",
      "Retrieving ElectronicStructureDoc documents: 100%|█████████████████| 1/1 [00:00<?, ?it/s]\n",
      "Retrieving ElectronicStructureDoc documents: 100%|█████████████████| 1/1 [00:00<?, ?it/s]\n",
      "Retrieving ElectronicStructureDoc documents: 100%|█████████████████| 1/1 [00:00<?, ?it/s]\n"
     ]
    },
    {
     "name": "stdout",
     "output_type": "stream",
     "text": [
      "mp-1225800 90 7\n"
     ]
    },
    {
     "name": "stderr",
     "output_type": "stream",
     "text": [
      "Retrieving ElectronicStructureDoc documents: 100%|█████████████████| 1/1 [00:00<?, ?it/s]\n",
      "Retrieving ElectronicStructureDoc documents: 100%|█████████████████| 1/1 [00:00<?, ?it/s]\n",
      "Retrieving ElectronicStructureDoc documents: 100%|█████████████████| 1/1 [00:00<?, ?it/s]\n",
      "Retrieving ElectronicStructureDoc documents: 100%|█████████████████| 1/1 [00:00<?, ?it/s]\n",
      "Retrieving ElectronicStructureDoc documents: 100%|█████████████████| 1/1 [00:00<?, ?it/s]\n",
      "Retrieving ElectronicStructureDoc documents: 100%|█████████████████| 1/1 [00:00<?, ?it/s]\n",
      "Retrieving ElectronicStructureDoc documents: 100%|█████████████████| 1/1 [00:00<?, ?it/s]\n",
      "Retrieving ElectronicStructureDoc documents: 100%|█████████████████| 1/1 [00:00<?, ?it/s]\n",
      "Retrieving ElectronicStructureDoc documents: 100%|████████| 1/1 [00:00<00:00, 493.04it/s]\n",
      "Retrieving ElectronicStructureDoc documents: 100%|█████████████████| 1/1 [00:00<?, ?it/s]\n"
     ]
    },
    {
     "name": "stdout",
     "output_type": "stream",
     "text": [
      "mp-1225846 0 8\n"
     ]
    },
    {
     "name": "stderr",
     "output_type": "stream",
     "text": [
      "Retrieving ElectronicStructureDoc documents: 100%|████████| 1/1 [00:00<00:00, 837.35it/s]\n",
      "Retrieving ElectronicStructureDoc documents: 100%|█████████████████| 1/1 [00:00<?, ?it/s]\n",
      "Retrieving ElectronicStructureDoc documents: 100%|████████| 1/1 [00:00<00:00, 205.20it/s]\n",
      "Retrieving ElectronicStructureDoc documents: 100%|█████████████████| 1/1 [00:00<?, ?it/s]\n",
      "Retrieving ElectronicStructureDoc documents: 100%|█████████████████| 1/1 [00:00<?, ?it/s]\n",
      "Retrieving ElectronicStructureDoc documents: 100%|███████| 1/1 [00:00<00:00, 1000.31it/s]\n",
      "Retrieving ElectronicStructureDoc documents: 100%|█████████████████| 1/1 [00:00<?, ?it/s]\n",
      "Retrieving ElectronicStructureDoc documents: 100%|█████████████████| 1/1 [00:00<?, ?it/s]\n",
      "Retrieving ElectronicStructureDoc documents: 100%|█████████████████| 1/1 [00:00<?, ?it/s]\n",
      "Retrieving ElectronicStructureDoc documents: 100%|█████████████████| 1/1 [00:00<?, ?it/s]\n"
     ]
    },
    {
     "name": "stdout",
     "output_type": "stream",
     "text": [
      "mp-1225992 10 8\n"
     ]
    },
    {
     "name": "stderr",
     "output_type": "stream",
     "text": [
      "Retrieving ElectronicStructureDoc documents: 100%|█████████████████| 1/1 [00:00<?, ?it/s]\n",
      "Retrieving ElectronicStructureDoc documents: 100%|█████████████████| 1/1 [00:00<?, ?it/s]\n",
      "Retrieving ElectronicStructureDoc documents: 100%|█████████████████| 1/1 [00:00<?, ?it/s]\n",
      "Retrieving ElectronicStructureDoc documents: 100%|█████████████████| 1/1 [00:00<?, ?it/s]\n",
      "Retrieving ElectronicStructureDoc documents: 100%|█████████████████| 1/1 [00:00<?, ?it/s]\n",
      "Retrieving ElectronicStructureDoc documents: 100%|█████████████████| 1/1 [00:00<?, ?it/s]\n",
      "Retrieving ElectronicStructureDoc documents: 100%|███████| 1/1 [00:00<00:00, 1419.39it/s]\n",
      "Retrieving ElectronicStructureDoc documents: 100%|█████████████████| 1/1 [00:00<?, ?it/s]\n",
      "Retrieving ElectronicStructureDoc documents: 100%|███████| 1/1 [00:00<00:00, 1071.89it/s]\n",
      "Retrieving ElectronicStructureDoc documents: 100%|███████| 1/1 [00:00<00:00, 1878.33it/s]\n"
     ]
    },
    {
     "name": "stdout",
     "output_type": "stream",
     "text": [
      "mp-1226004 20 8\n"
     ]
    },
    {
     "name": "stderr",
     "output_type": "stream",
     "text": [
      "Retrieving ElectronicStructureDoc documents: 100%|█████████████████| 1/1 [00:00<?, ?it/s]\n",
      "Retrieving ElectronicStructureDoc documents: 100%|█████████████████| 1/1 [00:00<?, ?it/s]\n",
      "Retrieving ElectronicStructureDoc documents: 100%|█████████████████| 1/1 [00:00<?, ?it/s]\n",
      "Retrieving ElectronicStructureDoc documents: 100%|███████| 1/1 [00:00<00:00, 1276.80it/s]\n",
      "Retrieving ElectronicStructureDoc documents: 100%|█████████████████| 1/1 [00:00<?, ?it/s]\n",
      "Retrieving ElectronicStructureDoc documents: 100%|█████████████████| 1/1 [00:00<?, ?it/s]\n",
      "Retrieving ElectronicStructureDoc documents: 100%|█████████████████| 1/1 [00:00<?, ?it/s]\n",
      "Retrieving ElectronicStructureDoc documents: 100%|█████████████████| 1/1 [00:00<?, ?it/s]\n",
      "Retrieving ElectronicStructureDoc documents: 100%|█████████████████| 1/1 [00:00<?, ?it/s]\n",
      "Retrieving ElectronicStructureDoc documents: 100%|█████████████████| 1/1 [00:00<?, ?it/s]\n"
     ]
    },
    {
     "name": "stdout",
     "output_type": "stream",
     "text": [
      "mp-1226017 30 8\n"
     ]
    },
    {
     "name": "stderr",
     "output_type": "stream",
     "text": [
      "Retrieving ElectronicStructureDoc documents: 100%|█████████████████| 1/1 [00:00<?, ?it/s]\n",
      "Retrieving ElectronicStructureDoc documents: 100%|█████████████████| 1/1 [00:00<?, ?it/s]\n",
      "Retrieving ElectronicStructureDoc documents: 100%|█████████████████| 1/1 [00:00<?, ?it/s]\n",
      "Retrieving ElectronicStructureDoc documents: 100%|█████████████████| 1/1 [00:00<?, ?it/s]\n",
      "Retrieving ElectronicStructureDoc documents: 100%|█████████████████| 1/1 [00:00<?, ?it/s]\n",
      "Retrieving ElectronicStructureDoc documents: 100%|█████████████████| 1/1 [00:00<?, ?it/s]\n",
      "Retrieving ElectronicStructureDoc documents: 100%|█████████████████| 1/1 [00:00<?, ?it/s]\n",
      "Retrieving ElectronicStructureDoc documents: 100%|█████████████████| 1/1 [00:00<?, ?it/s]\n",
      "Retrieving ElectronicStructureDoc documents: 100%|█████████████████| 1/1 [00:00<?, ?it/s]\n",
      "Retrieving ElectronicStructureDoc documents: 100%|█████████████████| 1/1 [00:00<?, ?it/s]\n"
     ]
    },
    {
     "name": "stdout",
     "output_type": "stream",
     "text": [
      "mp-1226051 40 8\n"
     ]
    },
    {
     "name": "stderr",
     "output_type": "stream",
     "text": [
      "Retrieving ElectronicStructureDoc documents: 100%|█████████████████| 1/1 [00:00<?, ?it/s]\n",
      "Retrieving ElectronicStructureDoc documents: 100%|█████████████████| 1/1 [00:00<?, ?it/s]\n",
      "Retrieving ElectronicStructureDoc documents: 100%|█████████████████| 1/1 [00:00<?, ?it/s]\n",
      "Retrieving ElectronicStructureDoc documents: 100%|█████████████████| 1/1 [00:00<?, ?it/s]\n",
      "Retrieving ElectronicStructureDoc documents: 100%|█████████████████| 1/1 [00:00<?, ?it/s]\n",
      "Retrieving ElectronicStructureDoc documents: 100%|█████████████████| 1/1 [00:00<?, ?it/s]\n",
      "Retrieving ElectronicStructureDoc documents: 100%|█████████████████| 1/1 [00:00<?, ?it/s]\n",
      "Retrieving ElectronicStructureDoc documents: 100%|█████████████████| 1/1 [00:00<?, ?it/s]\n",
      "Retrieving ElectronicStructureDoc documents: 100%|█████████████████| 1/1 [00:00<?, ?it/s]\n",
      "Retrieving ElectronicStructureDoc documents: 100%|█████████████████| 1/1 [00:00<?, ?it/s]\n"
     ]
    },
    {
     "name": "stdout",
     "output_type": "stream",
     "text": [
      "mp-1226089 50 8\n"
     ]
    },
    {
     "name": "stderr",
     "output_type": "stream",
     "text": [
      "Retrieving ElectronicStructureDoc documents: 100%|████████| 1/1 [00:00<00:00, 332.62it/s]\n",
      "Retrieving ElectronicStructureDoc documents: 100%|█████████████████| 1/1 [00:00<?, ?it/s]\n",
      "Retrieving ElectronicStructureDoc documents: 100%|█████████████████| 1/1 [00:00<?, ?it/s]\n",
      "Retrieving ElectronicStructureDoc documents: 100%|█████████████████| 1/1 [00:00<?, ?it/s]\n",
      "Retrieving ElectronicStructureDoc documents: 100%|█████████████████| 1/1 [00:00<?, ?it/s]\n",
      "Retrieving ElectronicStructureDoc documents: 100%|█████████████████| 1/1 [00:00<?, ?it/s]\n",
      "Retrieving ElectronicStructureDoc documents: 100%|█████████████████| 1/1 [00:00<?, ?it/s]\n",
      "Retrieving ElectronicStructureDoc documents: 100%|█████████████████| 1/1 [00:00<?, ?it/s]\n",
      "Retrieving ElectronicStructureDoc documents: 100%|█████████████████| 1/1 [00:00<?, ?it/s]\n",
      "Retrieving ElectronicStructureDoc documents: 100%|█████████████████| 1/1 [00:00<?, ?it/s]\n"
     ]
    },
    {
     "name": "stdout",
     "output_type": "stream",
     "text": [
      "mp-1226164 60 8\n"
     ]
    },
    {
     "name": "stderr",
     "output_type": "stream",
     "text": [
      "Retrieving ElectronicStructureDoc documents: 100%|█████████████████| 1/1 [00:00<?, ?it/s]\n",
      "Retrieving ElectronicStructureDoc documents: 100%|█████████████████| 1/1 [00:00<?, ?it/s]\n",
      "Retrieving ElectronicStructureDoc documents: 100%|█████████████████| 1/1 [00:00<?, ?it/s]\n",
      "Retrieving ElectronicStructureDoc documents: 100%|████████| 1/1 [00:00<00:00, 496.84it/s]\n",
      "Retrieving ElectronicStructureDoc documents: 100%|█████████████████| 1/1 [00:00<?, ?it/s]\n",
      "Retrieving ElectronicStructureDoc documents: 100%|█████████████████| 1/1 [00:00<?, ?it/s]\n",
      "Retrieving ElectronicStructureDoc documents: 100%|█████████████████| 1/1 [00:00<?, ?it/s]\n",
      "Retrieving ElectronicStructureDoc documents: 100%|█████████████████| 1/1 [00:00<?, ?it/s]\n",
      "Retrieving ElectronicStructureDoc documents: 100%|█████████████████| 1/1 [00:00<?, ?it/s]\n",
      "Retrieving ElectronicStructureDoc documents: 100%|█████████████████| 1/1 [00:00<?, ?it/s]\n"
     ]
    },
    {
     "name": "stdout",
     "output_type": "stream",
     "text": [
      "mp-1226212 70 8\n"
     ]
    },
    {
     "name": "stderr",
     "output_type": "stream",
     "text": [
      "Retrieving ElectronicStructureDoc documents: 100%|█████████████████| 1/1 [00:00<?, ?it/s]\n",
      "Retrieving ElectronicStructureDoc documents: 100%|█████████████████| 1/1 [00:00<?, ?it/s]\n",
      "Retrieving ElectronicStructureDoc documents: 100%|█████████████████| 1/1 [00:00<?, ?it/s]\n",
      "Retrieving ElectronicStructureDoc documents: 100%|█████████████████| 1/1 [00:00<?, ?it/s]\n",
      "Retrieving ElectronicStructureDoc documents: 100%|█████████████████| 1/1 [00:00<?, ?it/s]\n",
      "Retrieving ElectronicStructureDoc documents: 100%|█████████████████| 1/1 [00:00<?, ?it/s]\n",
      "Retrieving ElectronicStructureDoc documents: 100%|█████████████████| 1/1 [00:00<?, ?it/s]\n",
      "Retrieving ElectronicStructureDoc documents: 100%|█████████████████| 1/1 [00:00<?, ?it/s]\n",
      "Retrieving ElectronicStructureDoc documents: 100%|█████████████████| 1/1 [00:00<?, ?it/s]\n",
      "Retrieving ElectronicStructureDoc documents: 100%|█████████████████| 1/1 [00:00<?, ?it/s]\n"
     ]
    },
    {
     "name": "stdout",
     "output_type": "stream",
     "text": [
      "mp-1226228 80 8\n"
     ]
    },
    {
     "name": "stderr",
     "output_type": "stream",
     "text": [
      "Retrieving ElectronicStructureDoc documents: 100%|█████████████████| 1/1 [00:00<?, ?it/s]\n",
      "Retrieving ElectronicStructureDoc documents: 100%|█████████████████| 1/1 [00:00<?, ?it/s]\n",
      "Retrieving ElectronicStructureDoc documents: 100%|█████████████████| 1/1 [00:00<?, ?it/s]\n",
      "Retrieving ElectronicStructureDoc documents: 100%|█████████████████| 1/1 [00:00<?, ?it/s]\n",
      "Retrieving ElectronicStructureDoc documents: 100%|█████████████████| 1/1 [00:00<?, ?it/s]\n",
      "Retrieving ElectronicStructureDoc documents: 100%|█████████████████| 1/1 [00:00<?, ?it/s]\n",
      "Retrieving ElectronicStructureDoc documents: 100%|█████████████████| 1/1 [00:00<?, ?it/s]\n",
      "Retrieving ElectronicStructureDoc documents: 100%|███████| 1/1 [00:00<00:00, 1503.33it/s]\n",
      "Retrieving ElectronicStructureDoc documents: 100%|█████████████████| 1/1 [00:00<?, ?it/s]\n",
      "Retrieving ElectronicStructureDoc documents: 100%|█████████████████| 1/1 [00:00<?, ?it/s]\n"
     ]
    },
    {
     "name": "stdout",
     "output_type": "stream",
     "text": [
      "mp-1226243 90 8\n"
     ]
    },
    {
     "name": "stderr",
     "output_type": "stream",
     "text": [
      "Retrieving ElectronicStructureDoc documents: 100%|█████████████████| 1/1 [00:00<?, ?it/s]\n",
      "Retrieving ElectronicStructureDoc documents: 100%|█████████████████| 1/1 [00:00<?, ?it/s]\n",
      "Retrieving ElectronicStructureDoc documents: 100%|███████| 1/1 [00:00<00:00, 1655.21it/s]\n",
      "Retrieving ElectronicStructureDoc documents: 100%|█████████████████| 1/1 [00:00<?, ?it/s]\n",
      "Retrieving ElectronicStructureDoc documents: 100%|█████████████████| 1/1 [00:00<?, ?it/s]\n",
      "Retrieving ElectronicStructureDoc documents: 100%|████████| 1/1 [00:00<00:00, 515.90it/s]\n",
      "Retrieving ElectronicStructureDoc documents: 100%|█████████████████| 1/1 [00:00<?, ?it/s]\n",
      "Retrieving ElectronicStructureDoc documents: 100%|█████████████████| 1/1 [00:00<?, ?it/s]\n",
      "Retrieving ElectronicStructureDoc documents: 100%|█████████████████| 1/1 [00:00<?, ?it/s]\n",
      "Retrieving ElectronicStructureDoc documents: 100%|█████████████████| 1/1 [00:00<?, ?it/s]\n"
     ]
    },
    {
     "name": "stdout",
     "output_type": "stream",
     "text": [
      "mp-1226271 0 9\n"
     ]
    },
    {
     "name": "stderr",
     "output_type": "stream",
     "text": [
      "Retrieving ElectronicStructureDoc documents: 100%|█████████████████| 1/1 [00:00<?, ?it/s]\n",
      "Retrieving ElectronicStructureDoc documents: 100%|█████████████████| 1/1 [00:00<?, ?it/s]\n",
      "Retrieving ElectronicStructureDoc documents: 100%|███████| 1/1 [00:00<00:00, 1022.25it/s]\n",
      "Retrieving ElectronicStructureDoc documents: 100%|█████████████████| 1/1 [00:00<?, ?it/s]\n",
      "Retrieving ElectronicStructureDoc documents: 100%|█████████████████| 1/1 [00:00<?, ?it/s]\n",
      "Retrieving ElectronicStructureDoc documents: 100%|█████████████████| 1/1 [00:00<?, ?it/s]\n",
      "Retrieving ElectronicStructureDoc documents: 100%|█████████████████| 1/1 [00:00<?, ?it/s]\n",
      "Retrieving ElectronicStructureDoc documents: 100%|█████████████████| 1/1 [00:00<?, ?it/s]\n",
      "Retrieving ElectronicStructureDoc documents: 100%|█████████████████| 1/1 [00:00<?, ?it/s]\n",
      "Retrieving ElectronicStructureDoc documents: 100%|█████████████████| 1/1 [00:00<?, ?it/s]\n"
     ]
    },
    {
     "name": "stdout",
     "output_type": "stream",
     "text": [
      "mp-1226295 10 9\n"
     ]
    },
    {
     "name": "stderr",
     "output_type": "stream",
     "text": [
      "Retrieving ElectronicStructureDoc documents: 100%|█████████████████| 1/1 [00:00<?, ?it/s]\n",
      "Retrieving ElectronicStructureDoc documents: 100%|█████████████████| 1/1 [00:00<?, ?it/s]\n",
      "Retrieving ElectronicStructureDoc documents: 100%|█████████████████| 1/1 [00:00<?, ?it/s]\n",
      "Retrieving ElectronicStructureDoc documents: 100%|█████████████████| 1/1 [00:00<?, ?it/s]\n",
      "Retrieving ElectronicStructureDoc documents: 100%|█████████████████| 1/1 [00:00<?, ?it/s]\n",
      "Retrieving ElectronicStructureDoc documents: 100%|█████████████████| 1/1 [00:00<?, ?it/s]\n",
      "Retrieving ElectronicStructureDoc documents: 100%|█████████████████| 1/1 [00:00<?, ?it/s]\n",
      "Retrieving ElectronicStructureDoc documents: 100%|████████| 1/1 [00:00<00:00, 745.92it/s]\n",
      "Retrieving ElectronicStructureDoc documents: 100%|█████████████████| 1/1 [00:00<?, ?it/s]\n",
      "Retrieving ElectronicStructureDoc documents: 100%|█████████████████| 1/1 [00:00<?, ?it/s]\n"
     ]
    },
    {
     "name": "stdout",
     "output_type": "stream",
     "text": [
      "mp-1226338 20 9\n"
     ]
    },
    {
     "name": "stderr",
     "output_type": "stream",
     "text": [
      "Retrieving ElectronicStructureDoc documents: 100%|█████████████████| 1/1 [00:00<?, ?it/s]\n",
      "Retrieving ElectronicStructureDoc documents: 100%|███████| 1/1 [00:00<00:00, 1369.79it/s]\n",
      "Retrieving ElectronicStructureDoc documents: 100%|█████████████████| 1/1 [00:00<?, ?it/s]\n",
      "Retrieving ElectronicStructureDoc documents: 100%|█████████████████| 1/1 [00:00<?, ?it/s]\n",
      "Retrieving ElectronicStructureDoc documents: 100%|█████████████████| 1/1 [00:00<?, ?it/s]\n",
      "Retrieving ElectronicStructureDoc documents: 100%|█████████████████| 1/1 [00:00<?, ?it/s]\n",
      "Retrieving ElectronicStructureDoc documents: 100%|█████████████████| 1/1 [00:00<?, ?it/s]\n",
      "Retrieving ElectronicStructureDoc documents: 100%|█████████████████| 1/1 [00:00<?, ?it/s]\n",
      "Retrieving ElectronicStructureDoc documents: 100%|█████████████████| 1/1 [00:00<?, ?it/s]\n",
      "Retrieving ElectronicStructureDoc documents: 100%|█████████████████| 1/1 [00:00<?, ?it/s]\n"
     ]
    },
    {
     "name": "stdout",
     "output_type": "stream",
     "text": [
      "mp-1226378 30 9\n"
     ]
    },
    {
     "name": "stderr",
     "output_type": "stream",
     "text": [
      "Retrieving ElectronicStructureDoc documents: 100%|█████████████████| 1/1 [00:00<?, ?it/s]\n",
      "Retrieving ElectronicStructureDoc documents: 100%|█████████████████| 1/1 [00:00<?, ?it/s]\n",
      "Retrieving ElectronicStructureDoc documents: 100%|█████████████████| 1/1 [00:00<?, ?it/s]\n",
      "Retrieving ElectronicStructureDoc documents: 100%|█████████████████| 1/1 [00:00<?, ?it/s]\n",
      "Retrieving ElectronicStructureDoc documents: 100%|█████████████████| 1/1 [00:00<?, ?it/s]\n",
      "Retrieving ElectronicStructureDoc documents: 100%|█████████████████| 1/1 [00:00<?, ?it/s]\n",
      "Retrieving ElectronicStructureDoc documents: 100%|█████████████████| 1/1 [00:00<?, ?it/s]\n",
      "Retrieving ElectronicStructureDoc documents: 100%|████████| 1/1 [00:00<00:00, 741.04it/s]\n",
      "Retrieving ElectronicStructureDoc documents: 100%|█████████████████| 1/1 [00:00<?, ?it/s]\n",
      "Retrieving ElectronicStructureDoc documents: 100%|█████████████████| 1/1 [00:00<?, ?it/s]\n"
     ]
    },
    {
     "name": "stdout",
     "output_type": "stream",
     "text": [
      "mp-1226449 40 9\n"
     ]
    },
    {
     "name": "stderr",
     "output_type": "stream",
     "text": [
      "Retrieving ElectronicStructureDoc documents: 100%|█████████████████| 1/1 [00:00<?, ?it/s]\n",
      "Retrieving ElectronicStructureDoc documents: 100%|█████████████████| 1/1 [00:00<?, ?it/s]\n",
      "Retrieving ElectronicStructureDoc documents: 100%|█████████████████| 1/1 [00:00<?, ?it/s]\n",
      "Retrieving ElectronicStructureDoc documents: 100%|█████████████████| 1/1 [00:00<?, ?it/s]\n",
      "Retrieving ElectronicStructureDoc documents: 100%|████████| 1/1 [00:00<00:00, 568.33it/s]\n",
      "Retrieving ElectronicStructureDoc documents: 100%|█████████████████| 1/1 [00:00<?, ?it/s]\n",
      "Retrieving ElectronicStructureDoc documents: 100%|█████████████████| 1/1 [00:00<?, ?it/s]\n",
      "Retrieving ElectronicStructureDoc documents: 100%|█████████████████| 1/1 [00:00<?, ?it/s]\n",
      "Retrieving ElectronicStructureDoc documents: 100%|█████████████████| 1/1 [00:00<?, ?it/s]\n",
      "Retrieving ElectronicStructureDoc documents: 100%|█████████████████| 1/1 [00:00<?, ?it/s]\n"
     ]
    },
    {
     "name": "stdout",
     "output_type": "stream",
     "text": [
      "mp-1226473 50 9\n"
     ]
    },
    {
     "name": "stderr",
     "output_type": "stream",
     "text": [
      "Retrieving ElectronicStructureDoc documents: 100%|█████████████████| 1/1 [00:00<?, ?it/s]\n",
      "Retrieving ElectronicStructureDoc documents: 100%|█████████████████| 1/1 [00:00<?, ?it/s]\n",
      "Retrieving ElectronicStructureDoc documents: 100%|█████████████████| 1/1 [00:00<?, ?it/s]\n",
      "Retrieving ElectronicStructureDoc documents: 100%|█████████████████| 1/1 [00:00<?, ?it/s]\n",
      "Retrieving ElectronicStructureDoc documents: 100%|█████████████████| 1/1 [00:00<?, ?it/s]\n",
      "Retrieving ElectronicStructureDoc documents: 100%|█████████████████| 1/1 [00:00<?, ?it/s]\n",
      "Retrieving ElectronicStructureDoc documents: 100%|█████████████████| 1/1 [00:00<?, ?it/s]\n",
      "Retrieving ElectronicStructureDoc documents: 100%|█████████████████| 1/1 [00:00<?, ?it/s]\n",
      "Retrieving ElectronicStructureDoc documents: 100%|█████████████████| 1/1 [00:00<?, ?it/s]\n",
      "Retrieving ElectronicStructureDoc documents: 100%|█████████████████| 1/1 [00:00<?, ?it/s]\n"
     ]
    },
    {
     "name": "stdout",
     "output_type": "stream",
     "text": [
      "mp-1226490 60 9\n"
     ]
    },
    {
     "name": "stderr",
     "output_type": "stream",
     "text": [
      "Retrieving ElectronicStructureDoc documents: 100%|█████████████████| 1/1 [00:00<?, ?it/s]\n",
      "Retrieving ElectronicStructureDoc documents: 100%|█████████████████| 1/1 [00:00<?, ?it/s]\n",
      "Retrieving ElectronicStructureDoc documents: 100%|█████████████████| 1/1 [00:00<?, ?it/s]\n",
      "Retrieving ElectronicStructureDoc documents: 100%|█████████████████| 1/1 [00:00<?, ?it/s]\n",
      "Retrieving ElectronicStructureDoc documents: 100%|█████████████████| 1/1 [00:00<?, ?it/s]\n",
      "Retrieving ElectronicStructureDoc documents: 100%|█████████████████| 1/1 [00:00<?, ?it/s]\n",
      "Retrieving ElectronicStructureDoc documents: 100%|█████████████████| 1/1 [00:00<?, ?it/s]\n",
      "Retrieving ElectronicStructureDoc documents: 100%|█████████████████| 1/1 [00:00<?, ?it/s]\n",
      "Retrieving ElectronicStructureDoc documents: 100%|█████████████████| 1/1 [00:00<?, ?it/s]\n",
      "Retrieving ElectronicStructureDoc documents: 100%|█████████████████| 1/1 [00:00<?, ?it/s]\n"
     ]
    },
    {
     "name": "stdout",
     "output_type": "stream",
     "text": [
      "mp-1226504 70 9\n"
     ]
    },
    {
     "name": "stderr",
     "output_type": "stream",
     "text": [
      "Retrieving ElectronicStructureDoc documents: 100%|█████████████████| 1/1 [00:00<?, ?it/s]\n",
      "Retrieving ElectronicStructureDoc documents: 100%|█████████████████| 1/1 [00:00<?, ?it/s]\n",
      "Retrieving ElectronicStructureDoc documents: 100%|█████████████████| 1/1 [00:00<?, ?it/s]\n",
      "Retrieving ElectronicStructureDoc documents: 100%|█████████████████| 1/1 [00:00<?, ?it/s]\n",
      "Retrieving ElectronicStructureDoc documents: 100%|█████████████████| 1/1 [00:00<?, ?it/s]\n",
      "Retrieving ElectronicStructureDoc documents: 100%|█████████████████| 1/1 [00:00<?, ?it/s]\n",
      "Retrieving ElectronicStructureDoc documents: 100%|█████████████████| 1/1 [00:00<?, ?it/s]\n",
      "Retrieving ElectronicStructureDoc documents: 100%|█████████████████| 1/1 [00:00<?, ?it/s]\n",
      "Retrieving ElectronicStructureDoc documents: 100%|█████████████████| 1/1 [00:00<?, ?it/s]\n",
      "Retrieving ElectronicStructureDoc documents: 100%|█████████████████| 1/1 [00:00<?, ?it/s]\n"
     ]
    },
    {
     "name": "stdout",
     "output_type": "stream",
     "text": [
      "mp-1226518 80 9\n"
     ]
    },
    {
     "name": "stderr",
     "output_type": "stream",
     "text": [
      "Retrieving ElectronicStructureDoc documents: 100%|█████████████████| 1/1 [00:00<?, ?it/s]\n",
      "Retrieving ElectronicStructureDoc documents: 100%|█████████████████| 1/1 [00:00<?, ?it/s]\n",
      "Retrieving ElectronicStructureDoc documents: 100%|███████| 1/1 [00:00<00:00, 1971.93it/s]\n",
      "Retrieving ElectronicStructureDoc documents: 100%|█████████████████| 1/1 [00:00<?, ?it/s]\n",
      "Retrieving ElectronicStructureDoc documents: 100%|█████████████████| 1/1 [00:00<?, ?it/s]\n",
      "Retrieving ElectronicStructureDoc documents: 100%|█████████████████| 1/1 [00:00<?, ?it/s]\n",
      "Retrieving ElectronicStructureDoc documents: 100%|█████████████████| 1/1 [00:00<?, ?it/s]\n",
      "Retrieving ElectronicStructureDoc documents: 100%|█████████████████| 1/1 [00:00<?, ?it/s]\n",
      "Retrieving ElectronicStructureDoc documents: 100%|█████████████████| 1/1 [00:00<?, ?it/s]\n",
      "Retrieving ElectronicStructureDoc documents: 100%|█████████████████| 1/1 [00:00<?, ?it/s]\n"
     ]
    },
    {
     "name": "stdout",
     "output_type": "stream",
     "text": [
      "mp-1226532 90 9\n"
     ]
    },
    {
     "name": "stderr",
     "output_type": "stream",
     "text": [
      "Retrieving ElectronicStructureDoc documents: 100%|█████████████████| 1/1 [00:00<?, ?it/s]\n",
      "Retrieving ElectronicStructureDoc documents: 100%|█████████████████| 1/1 [00:00<?, ?it/s]\n",
      "Retrieving ElectronicStructureDoc documents: 100%|█████████████████| 1/1 [00:00<?, ?it/s]\n",
      "Retrieving ElectronicStructureDoc documents: 100%|█████████████████| 1/1 [00:00<?, ?it/s]\n",
      "Retrieving ElectronicStructureDoc documents: 100%|█████████████████| 1/1 [00:00<?, ?it/s]\n",
      "Retrieving ElectronicStructureDoc documents: 100%|█████████████████| 1/1 [00:00<?, ?it/s]\n",
      "Retrieving ElectronicStructureDoc documents: 100%|█████████████████| 1/1 [00:00<?, ?it/s]\n",
      "Retrieving ElectronicStructureDoc documents: 100%|█████████████████| 1/1 [00:00<?, ?it/s]\n",
      "Retrieving ElectronicStructureDoc documents: 100%|█████████████████| 1/1 [00:00<?, ?it/s]\n",
      "Retrieving ElectronicStructureDoc documents: 100%|█████████████████| 1/1 [00:00<?, ?it/s]\n"
     ]
    },
    {
     "name": "stdout",
     "output_type": "stream",
     "text": [
      "mp-1226550 0 10\n"
     ]
    },
    {
     "name": "stderr",
     "output_type": "stream",
     "text": [
      "Retrieving ElectronicStructureDoc documents: 100%|█████████████████| 1/1 [00:00<?, ?it/s]\n",
      "Retrieving ElectronicStructureDoc documents: 100%|█████████████████| 1/1 [00:00<?, ?it/s]\n",
      "Retrieving ElectronicStructureDoc documents: 100%|█████████████████| 1/1 [00:00<?, ?it/s]\n",
      "Retrieving ElectronicStructureDoc documents: 100%|█████████████████| 1/1 [00:00<?, ?it/s]\n",
      "Retrieving ElectronicStructureDoc documents: 100%|█████████████████| 1/1 [00:00<?, ?it/s]\n",
      "Retrieving ElectronicStructureDoc documents: 100%|█████████████████| 1/1 [00:00<?, ?it/s]\n",
      "Retrieving ElectronicStructureDoc documents: 100%|█████████████████| 1/1 [00:00<?, ?it/s]\n",
      "Retrieving ElectronicStructureDoc documents: 100%|█████████████████| 1/1 [00:00<?, ?it/s]\n",
      "Retrieving ElectronicStructureDoc documents: 100%|█████████████████| 1/1 [00:00<?, ?it/s]\n",
      "Retrieving ElectronicStructureDoc documents: 100%|█████████████████| 1/1 [00:00<?, ?it/s]\n"
     ]
    },
    {
     "name": "stdout",
     "output_type": "stream",
     "text": [
      "mp-1226564 10 10\n"
     ]
    },
    {
     "name": "stderr",
     "output_type": "stream",
     "text": [
      "Retrieving ElectronicStructureDoc documents: 100%|████████| 1/1 [00:00<00:00, 994.62it/s]\n",
      "Retrieving ElectronicStructureDoc documents: 100%|█████████████████| 1/1 [00:00<?, ?it/s]\n",
      "Retrieving ElectronicStructureDoc documents: 100%|█████████████████| 1/1 [00:00<?, ?it/s]\n",
      "Retrieving ElectronicStructureDoc documents: 100%|███████| 1/1 [00:00<00:00, 1971.93it/s]\n",
      "Retrieving ElectronicStructureDoc documents: 100%|█████████████████| 1/1 [00:00<?, ?it/s]\n",
      "Retrieving ElectronicStructureDoc documents: 100%|█████████████████| 1/1 [00:00<?, ?it/s]\n",
      "Retrieving ElectronicStructureDoc documents: 100%|█████████████████| 1/1 [00:00<?, ?it/s]\n",
      "Retrieving ElectronicStructureDoc documents: 100%|█████████████████| 1/1 [00:00<?, ?it/s]\n",
      "Retrieving ElectronicStructureDoc documents: 100%|█████████████████| 1/1 [00:00<?, ?it/s]\n",
      "Retrieving ElectronicStructureDoc documents: 100%|█████████████████| 1/1 [00:00<?, ?it/s]\n"
     ]
    },
    {
     "name": "stdout",
     "output_type": "stream",
     "text": [
      "mp-1226602 20 10\n"
     ]
    },
    {
     "name": "stderr",
     "output_type": "stream",
     "text": [
      "Retrieving ElectronicStructureDoc documents: 100%|█████████████████| 1/1 [00:00<?, ?it/s]\n",
      "Retrieving ElectronicStructureDoc documents: 100%|████████| 1/1 [00:00<00:00, 102.73it/s]\n",
      "Retrieving ElectronicStructureDoc documents: 100%|███████| 1/1 [00:00<00:00, 1937.32it/s]\n",
      "Retrieving ElectronicStructureDoc documents: 100%|█████████████████| 1/1 [00:00<?, ?it/s]\n",
      "Retrieving ElectronicStructureDoc documents: 100%|█████████████████| 1/1 [00:00<?, ?it/s]\n",
      "Retrieving ElectronicStructureDoc documents: 100%|█████████████████| 1/1 [00:00<?, ?it/s]\n",
      "Retrieving ElectronicStructureDoc documents: 100%|█████████████████| 1/1 [00:00<?, ?it/s]\n",
      "Retrieving ElectronicStructureDoc documents: 100%|█████████████████| 1/1 [00:00<?, ?it/s]\n",
      "Retrieving ElectronicStructureDoc documents: 100%|█████████████████| 1/1 [00:00<?, ?it/s]\n",
      "Retrieving ElectronicStructureDoc documents: 100%|████████| 1/1 [00:00<00:00, 495.25it/s]\n"
     ]
    },
    {
     "name": "stdout",
     "output_type": "stream",
     "text": [
      "mp-1226622 30 10\n"
     ]
    },
    {
     "name": "stderr",
     "output_type": "stream",
     "text": [
      "Retrieving ElectronicStructureDoc documents: 100%|█████████████████| 1/1 [00:00<?, ?it/s]\n",
      "Retrieving ElectronicStructureDoc documents: 100%|█████████████████| 1/1 [00:00<?, ?it/s]\n",
      "Retrieving ElectronicStructureDoc documents: 100%|█████████████████| 1/1 [00:00<?, ?it/s]\n",
      "Retrieving ElectronicStructureDoc documents: 100%|█████████████████| 1/1 [00:00<?, ?it/s]\n",
      "Retrieving ElectronicStructureDoc documents: 100%|█████████████████| 1/1 [00:00<?, ?it/s]\n",
      "Retrieving ElectronicStructureDoc documents: 100%|█████████████████| 1/1 [00:00<?, ?it/s]\n",
      "Retrieving ElectronicStructureDoc documents: 100%|█████████████████| 1/1 [00:00<?, ?it/s]\n",
      "Retrieving ElectronicStructureDoc documents: 100%|█████████████████| 1/1 [00:00<?, ?it/s]\n",
      "Retrieving ElectronicStructureDoc documents: 100%|█████████████████| 1/1 [00:00<?, ?it/s]\n",
      "Retrieving ElectronicStructureDoc documents: 100%|█████████████████| 1/1 [00:00<?, ?it/s]\n"
     ]
    },
    {
     "name": "stdout",
     "output_type": "stream",
     "text": [
      "mp-1226639 40 10\n"
     ]
    },
    {
     "name": "stderr",
     "output_type": "stream",
     "text": [
      "Retrieving ElectronicStructureDoc documents: 100%|███████| 1/1 [00:00<00:00, 1433.95it/s]\n",
      "Retrieving ElectronicStructureDoc documents: 100%|█████████████████| 1/1 [00:00<?, ?it/s]\n",
      "Retrieving ElectronicStructureDoc documents: 100%|█████████████████| 1/1 [00:00<?, ?it/s]\n",
      "Retrieving ElectronicStructureDoc documents: 100%|█████████████████| 1/1 [00:00<?, ?it/s]\n",
      "Retrieving ElectronicStructureDoc documents: 100%|████████| 1/1 [00:00<00:00, 957.60it/s]\n",
      "Retrieving ElectronicStructureDoc documents: 100%|█████████████████| 1/1 [00:00<?, ?it/s]\n",
      "Retrieving ElectronicStructureDoc documents: 100%|█████████████████| 1/1 [00:00<?, ?it/s]\n",
      "Retrieving ElectronicStructureDoc documents: 100%|█████████████████| 1/1 [00:00<?, ?it/s]\n",
      "Retrieving ElectronicStructureDoc documents: 100%|█████████████████| 1/1 [00:00<?, ?it/s]\n",
      "Retrieving ElectronicStructureDoc documents: 100%|█████████████████| 1/1 [00:00<?, ?it/s]\n"
     ]
    },
    {
     "name": "stdout",
     "output_type": "stream",
     "text": [
      "mp-1226659 50 10\n"
     ]
    },
    {
     "name": "stderr",
     "output_type": "stream",
     "text": [
      "Retrieving ElectronicStructureDoc documents: 100%|█████████████████| 1/1 [00:00<?, ?it/s]\n",
      "Retrieving ElectronicStructureDoc documents: 100%|█████████████████| 1/1 [00:00<?, ?it/s]\n",
      "Retrieving ElectronicStructureDoc documents: 100%|█████████████████| 1/1 [00:00<?, ?it/s]\n",
      "Retrieving ElectronicStructureDoc documents: 100%|█████████████████| 1/1 [00:00<?, ?it/s]\n",
      "Retrieving ElectronicStructureDoc documents: 100%|█████████████████| 1/1 [00:00<?, ?it/s]\n",
      "Retrieving ElectronicStructureDoc documents: 100%|█████████████████| 1/1 [00:00<?, ?it/s]\n",
      "Retrieving ElectronicStructureDoc documents: 100%|█████████████████| 1/1 [00:00<?, ?it/s]\n",
      "Retrieving ElectronicStructureDoc documents: 100%|█████████████████| 1/1 [00:00<?, ?it/s]\n",
      "Retrieving ElectronicStructureDoc documents: 100%|█████████████████| 1/1 [00:00<?, ?it/s]\n",
      "Retrieving ElectronicStructureDoc documents: 100%|█████████████████| 1/1 [00:00<?, ?it/s]\n"
     ]
    },
    {
     "name": "stdout",
     "output_type": "stream",
     "text": [
      "mp-1226673 60 10\n"
     ]
    },
    {
     "name": "stderr",
     "output_type": "stream",
     "text": [
      "Retrieving ElectronicStructureDoc documents: 100%|█████████████████| 1/1 [00:00<?, ?it/s]\n",
      "Retrieving ElectronicStructureDoc documents: 100%|█████████████████| 1/1 [00:00<?, ?it/s]\n",
      "Retrieving ElectronicStructureDoc documents: 100%|████████| 1/1 [00:00<00:00, 761.91it/s]\n",
      "Retrieving ElectronicStructureDoc documents: 100%|█████████████████| 1/1 [00:00<?, ?it/s]\n",
      "Retrieving ElectronicStructureDoc documents: 100%|█████████████████| 1/1 [00:00<?, ?it/s]\n",
      "Retrieving ElectronicStructureDoc documents: 100%|█████████████████| 1/1 [00:00<?, ?it/s]\n",
      "Retrieving ElectronicStructureDoc documents: 100%|█████████████████| 1/1 [00:00<?, ?it/s]\n",
      "Retrieving ElectronicStructureDoc documents: 100%|████████| 1/1 [00:00<00:00, 899.87it/s]\n",
      "Retrieving ElectronicStructureDoc documents: 100%|████████| 1/1 [00:00<00:00, 563.45it/s]\n",
      "Retrieving ElectronicStructureDoc documents: 100%|█████████████████| 1/1 [00:00<?, ?it/s]\n"
     ]
    },
    {
     "name": "stdout",
     "output_type": "stream",
     "text": [
      "mp-1226706 70 10\n"
     ]
    },
    {
     "name": "stderr",
     "output_type": "stream",
     "text": [
      "Retrieving ElectronicStructureDoc documents: 100%|█████████████████| 1/1 [00:00<?, ?it/s]\n",
      "Retrieving ElectronicStructureDoc documents: 100%|█████████████████| 1/1 [00:00<?, ?it/s]\n",
      "Retrieving ElectronicStructureDoc documents: 100%|█████████████████| 1/1 [00:00<?, ?it/s]\n",
      "Retrieving ElectronicStructureDoc documents: 100%|█████████████████| 1/1 [00:00<?, ?it/s]\n",
      "Retrieving ElectronicStructureDoc documents: 100%|█████████████████| 1/1 [00:00<?, ?it/s]\n",
      "Retrieving ElectronicStructureDoc documents: 100%|█████████████████| 1/1 [00:00<?, ?it/s]\n",
      "Retrieving ElectronicStructureDoc documents: 100%|█████████████████| 1/1 [00:00<?, ?it/s]\n",
      "Retrieving ElectronicStructureDoc documents: 100%|█████████████████| 1/1 [00:00<?, ?it/s]\n",
      "Retrieving ElectronicStructureDoc documents: 100%|█████████████████| 1/1 [00:00<?, ?it/s]\n",
      "Retrieving ElectronicStructureDoc documents: 100%|█████████████████| 1/1 [00:00<?, ?it/s]\n"
     ]
    },
    {
     "name": "stdout",
     "output_type": "stream",
     "text": [
      "mp-1226724 80 10\n"
     ]
    },
    {
     "name": "stderr",
     "output_type": "stream",
     "text": [
      "Retrieving ElectronicStructureDoc documents: 100%|█████████████████| 1/1 [00:00<?, ?it/s]\n",
      "Retrieving ElectronicStructureDoc documents: 100%|█████████████████| 1/1 [00:00<?, ?it/s]\n",
      "Retrieving ElectronicStructureDoc documents: 100%|█████████████████| 1/1 [00:00<?, ?it/s]\n",
      "Retrieving ElectronicStructureDoc documents: 100%|█████████████████| 1/1 [00:00<?, ?it/s]\n",
      "Retrieving ElectronicStructureDoc documents: 100%|█████████████████| 1/1 [00:00<?, ?it/s]\n",
      "Retrieving ElectronicStructureDoc documents: 100%|████████| 1/1 [00:00<00:00, 265.26it/s]\n",
      "Retrieving ElectronicStructureDoc documents: 100%|█████████████████| 1/1 [00:00<?, ?it/s]\n",
      "Retrieving ElectronicStructureDoc documents: 100%|█████████████████| 1/1 [00:00<?, ?it/s]\n",
      "Retrieving ElectronicStructureDoc documents: 100%|█████████████████| 1/1 [00:00<?, ?it/s]\n",
      "Retrieving ElectronicStructureDoc documents: 100%|█████████████████| 1/1 [00:00<?, ?it/s]\n"
     ]
    },
    {
     "name": "stdout",
     "output_type": "stream",
     "text": [
      "mp-1226737 90 10\n"
     ]
    },
    {
     "name": "stderr",
     "output_type": "stream",
     "text": [
      "Retrieving ElectronicStructureDoc documents: 100%|███████| 1/1 [00:00<00:00, 1017.29it/s]\n",
      "Retrieving ElectronicStructureDoc documents: 100%|█████████████████| 1/1 [00:00<?, ?it/s]\n",
      "Retrieving ElectronicStructureDoc documents: 100%|█████████████████| 1/1 [00:00<?, ?it/s]\n",
      "Retrieving ElectronicStructureDoc documents: 100%|█████████████████| 1/1 [00:00<?, ?it/s]\n",
      "Retrieving ElectronicStructureDoc documents: 100%|█████████████████| 1/1 [00:00<?, ?it/s]\n",
      "Retrieving ElectronicStructureDoc documents: 100%|█████████████████| 1/1 [00:00<?, ?it/s]\n",
      "Retrieving ElectronicStructureDoc documents: 100%|█████████████████| 1/1 [00:00<?, ?it/s]\n",
      "Retrieving ElectronicStructureDoc documents: 100%|█████████████████| 1/1 [00:00<?, ?it/s]\n",
      "Retrieving ElectronicStructureDoc documents: 100%|█████████████████| 1/1 [00:00<?, ?it/s]\n",
      "Retrieving ElectronicStructureDoc documents: 100%|█████████████████| 1/1 [00:00<?, ?it/s]\n"
     ]
    },
    {
     "name": "stdout",
     "output_type": "stream",
     "text": [
      "mp-1226753 0 11\n"
     ]
    },
    {
     "name": "stderr",
     "output_type": "stream",
     "text": [
      "Retrieving ElectronicStructureDoc documents: 100%|█████████████████| 1/1 [00:00<?, ?it/s]\n",
      "Retrieving ElectronicStructureDoc documents: 100%|█████████████████| 1/1 [00:00<?, ?it/s]\n",
      "Retrieving ElectronicStructureDoc documents: 100%|█████████████████| 1/1 [00:00<?, ?it/s]\n",
      "Retrieving ElectronicStructureDoc documents: 100%|█████████████████| 1/1 [00:00<?, ?it/s]\n",
      "Retrieving ElectronicStructureDoc documents: 100%|█████████████████| 1/1 [00:00<?, ?it/s]\n",
      "Retrieving ElectronicStructureDoc documents: 100%|█████████████████| 1/1 [00:00<?, ?it/s]\n",
      "Retrieving ElectronicStructureDoc documents: 100%|█████████████████| 1/1 [00:00<?, ?it/s]\n",
      "Retrieving ElectronicStructureDoc documents: 100%|█████████████████| 1/1 [00:00<?, ?it/s]\n",
      "Retrieving ElectronicStructureDoc documents: 100%|█████████████████| 1/1 [00:00<?, ?it/s]\n",
      "Retrieving ElectronicStructureDoc documents: 100%|█████████████████| 1/1 [00:00<?, ?it/s]\n"
     ]
    },
    {
     "name": "stdout",
     "output_type": "stream",
     "text": [
      "mp-1226772 10 11\n"
     ]
    },
    {
     "name": "stderr",
     "output_type": "stream",
     "text": [
      "Retrieving ElectronicStructureDoc documents: 100%|█████████████████| 1/1 [00:00<?, ?it/s]\n",
      "Retrieving ElectronicStructureDoc documents: 100%|█████████████████| 1/1 [00:00<?, ?it/s]\n",
      "Retrieving ElectronicStructureDoc documents: 100%|█████████████████| 1/1 [00:00<?, ?it/s]\n",
      "Retrieving ElectronicStructureDoc documents: 100%|█████████████████| 1/1 [00:00<?, ?it/s]\n",
      "Retrieving ElectronicStructureDoc documents: 100%|█████████████████| 1/1 [00:00<?, ?it/s]\n",
      "Retrieving ElectronicStructureDoc documents: 100%|█████████████████| 1/1 [00:00<?, ?it/s]\n",
      "Retrieving ElectronicStructureDoc documents: 100%|█████████████████| 1/1 [00:00<?, ?it/s]\n",
      "Retrieving ElectronicStructureDoc documents: 100%|█████████████████| 1/1 [00:00<?, ?it/s]\n",
      "Retrieving ElectronicStructureDoc documents: 100%|█████████████████| 1/1 [00:00<?, ?it/s]\n",
      "Retrieving ElectronicStructureDoc documents: 100%|█████████████████| 1/1 [00:00<?, ?it/s]\n"
     ]
    },
    {
     "name": "stdout",
     "output_type": "stream",
     "text": [
      "mp-1226790 20 11\n"
     ]
    },
    {
     "name": "stderr",
     "output_type": "stream",
     "text": [
      "Retrieving ElectronicStructureDoc documents: 100%|█████████████████| 1/1 [00:00<?, ?it/s]\n",
      "Retrieving ElectronicStructureDoc documents: 100%|█████████████████| 1/1 [00:00<?, ?it/s]\n",
      "Retrieving ElectronicStructureDoc documents: 100%|█████████████████| 1/1 [00:00<?, ?it/s]\n",
      "Retrieving ElectronicStructureDoc documents: 100%|█████████████████| 1/1 [00:00<?, ?it/s]\n",
      "Retrieving ElectronicStructureDoc documents: 100%|█████████████████| 1/1 [00:00<?, ?it/s]\n",
      "Retrieving ElectronicStructureDoc documents: 100%|█████████████████| 1/1 [00:00<?, ?it/s]\n",
      "Retrieving ElectronicStructureDoc documents: 100%|█████████████████| 1/1 [00:00<?, ?it/s]\n",
      "Retrieving ElectronicStructureDoc documents: 100%|█████████████████| 1/1 [00:00<?, ?it/s]\n",
      "Retrieving ElectronicStructureDoc documents: 100%|█████████████████| 1/1 [00:00<?, ?it/s]\n",
      "Retrieving ElectronicStructureDoc documents: 100%|█████████████████| 1/1 [00:00<?, ?it/s]\n"
     ]
    },
    {
     "name": "stdout",
     "output_type": "stream",
     "text": [
      "mp-1226814 30 11\n"
     ]
    },
    {
     "name": "stderr",
     "output_type": "stream",
     "text": [
      "Retrieving ElectronicStructureDoc documents: 100%|█████████████████| 1/1 [00:00<?, ?it/s]\n",
      "Retrieving ElectronicStructureDoc documents: 100%|█████████████████| 1/1 [00:00<?, ?it/s]\n",
      "Retrieving ElectronicStructureDoc documents: 100%|█████████████████| 1/1 [00:00<?, ?it/s]\n",
      "Retrieving ElectronicStructureDoc documents: 100%|█████████████████| 1/1 [00:00<?, ?it/s]\n",
      "Retrieving ElectronicStructureDoc documents: 100%|██████| 1/1 [00:00<00:00, 15827.56it/s]\n",
      "Retrieving ElectronicStructureDoc documents: 100%|█████████████████| 1/1 [00:00<?, ?it/s]\n",
      "Retrieving ElectronicStructureDoc documents: 100%|█████████████████| 1/1 [00:00<?, ?it/s]\n",
      "Retrieving ElectronicStructureDoc documents: 100%|█████████████████| 1/1 [00:00<?, ?it/s]\n",
      "Retrieving ElectronicStructureDoc documents: 100%|█████████████████| 1/1 [00:00<?, ?it/s]\n",
      "Retrieving ElectronicStructureDoc documents: 100%|█████████████████| 1/1 [00:00<?, ?it/s]\n"
     ]
    },
    {
     "name": "stdout",
     "output_type": "stream",
     "text": [
      "mp-1226857 40 11\n"
     ]
    },
    {
     "name": "stderr",
     "output_type": "stream",
     "text": [
      "Retrieving ElectronicStructureDoc documents: 100%|█████████████████| 1/1 [00:00<?, ?it/s]\n",
      "Retrieving ElectronicStructureDoc documents: 100%|█████████████████| 1/1 [00:00<?, ?it/s]\n",
      "Retrieving ElectronicStructureDoc documents: 100%|█████████████████| 1/1 [00:00<?, ?it/s]\n",
      "Retrieving ElectronicStructureDoc documents: 100%|████████| 1/1 [00:00<00:00, 498.55it/s]\n",
      "Retrieving ElectronicStructureDoc documents: 100%|███████| 1/1 [00:00<00:00, 1804.00it/s]\n",
      "Retrieving ElectronicStructureDoc documents: 100%|█████████████████| 1/1 [00:00<?, ?it/s]\n",
      "Retrieving ElectronicStructureDoc documents: 100%|█████████████████| 1/1 [00:00<?, ?it/s]\n",
      "Retrieving ElectronicStructureDoc documents: 100%|█████████████████| 1/1 [00:00<?, ?it/s]\n",
      "Retrieving ElectronicStructureDoc documents: 100%|█████████████████| 1/1 [00:00<?, ?it/s]\n",
      "Retrieving ElectronicStructureDoc documents: 100%|█████████████████| 1/1 [00:00<?, ?it/s]\n"
     ]
    },
    {
     "name": "stdout",
     "output_type": "stream",
     "text": [
      "mp-1226888 50 11\n"
     ]
    },
    {
     "name": "stderr",
     "output_type": "stream",
     "text": [
      "Retrieving ElectronicStructureDoc documents: 100%|█████████████████| 1/1 [00:00<?, ?it/s]\n",
      "Retrieving ElectronicStructureDoc documents: 100%|█████████████████| 1/1 [00:00<?, ?it/s]\n",
      "Retrieving ElectronicStructureDoc documents: 100%|█████████████████| 1/1 [00:00<?, ?it/s]\n",
      "Retrieving ElectronicStructureDoc documents: 100%|█████████████████| 1/1 [00:00<?, ?it/s]\n",
      "Retrieving ElectronicStructureDoc documents: 100%|████████| 1/1 [00:00<00:00, 661.88it/s]\n",
      "Retrieving ElectronicStructureDoc documents: 100%|█████████████████| 1/1 [00:00<?, ?it/s]\n",
      "Retrieving ElectronicStructureDoc documents: 100%|█████████████████| 1/1 [00:00<?, ?it/s]\n",
      "Retrieving ElectronicStructureDoc documents: 100%|█████████████████| 1/1 [00:00<?, ?it/s]\n",
      "Retrieving ElectronicStructureDoc documents: 100%|█████████████████| 1/1 [00:00<?, ?it/s]\n",
      "Retrieving ElectronicStructureDoc documents: 100%|█████████████████| 1/1 [00:00<?, ?it/s]\n"
     ]
    },
    {
     "name": "stdout",
     "output_type": "stream",
     "text": [
      "mp-1226922 60 11\n"
     ]
    },
    {
     "name": "stderr",
     "output_type": "stream",
     "text": [
      "Retrieving ElectronicStructureDoc documents: 100%|█████████████████| 1/1 [00:00<?, ?it/s]\n",
      "Retrieving ElectronicStructureDoc documents: 100%|█████████████████| 1/1 [00:00<?, ?it/s]\n",
      "Retrieving ElectronicStructureDoc documents: 100%|█████████████████| 1/1 [00:00<?, ?it/s]\n",
      "Retrieving ElectronicStructureDoc documents: 100%|█████████████████| 1/1 [00:00<?, ?it/s]\n",
      "Retrieving ElectronicStructureDoc documents: 100%|█████████████████| 1/1 [00:00<?, ?it/s]\n",
      "Retrieving ElectronicStructureDoc documents: 100%|█████████████████| 1/1 [00:00<?, ?it/s]\n",
      "Retrieving ElectronicStructureDoc documents: 100%|█████████████████| 1/1 [00:00<?, ?it/s]\n",
      "Retrieving ElectronicStructureDoc documents: 100%|█████████████████| 1/1 [00:00<?, ?it/s]\n",
      "Retrieving ElectronicStructureDoc documents: 100%|███████| 1/1 [00:00<00:00, 1976.58it/s]\n",
      "Retrieving ElectronicStructureDoc documents: 100%|█████████████████| 1/1 [00:00<?, ?it/s]\n"
     ]
    },
    {
     "name": "stdout",
     "output_type": "stream",
     "text": [
      "mp-1226962 70 11\n"
     ]
    },
    {
     "name": "stderr",
     "output_type": "stream",
     "text": [
      "Retrieving ElectronicStructureDoc documents: 100%|███████| 1/1 [00:00<00:00, 1819.65it/s]\n",
      "Retrieving ElectronicStructureDoc documents: 100%|█████████████████| 1/1 [00:00<?, ?it/s]\n",
      "Retrieving ElectronicStructureDoc documents: 100%|█████████████████| 1/1 [00:00<?, ?it/s]\n",
      "Retrieving ElectronicStructureDoc documents: 100%|█████████████████| 1/1 [00:00<?, ?it/s]\n",
      "Retrieving ElectronicStructureDoc documents: 100%|█████████████████| 1/1 [00:00<?, ?it/s]\n",
      "Retrieving ElectronicStructureDoc documents: 100%|█████████████████| 1/1 [00:00<?, ?it/s]\n",
      "Retrieving ElectronicStructureDoc documents: 100%|█████████████████| 1/1 [00:00<?, ?it/s]\n",
      "Retrieving ElectronicStructureDoc documents: 100%|█████████████████| 1/1 [00:00<?, ?it/s]\n",
      "Retrieving ElectronicStructureDoc documents: 100%|█████████████████| 1/1 [00:00<?, ?it/s]\n",
      "Retrieving ElectronicStructureDoc documents: 100%|█████████████████| 1/1 [00:00<?, ?it/s]\n"
     ]
    },
    {
     "name": "stdout",
     "output_type": "stream",
     "text": [
      "mp-1227020 80 11\n"
     ]
    },
    {
     "name": "stderr",
     "output_type": "stream",
     "text": [
      "Retrieving ElectronicStructureDoc documents: 100%|█████████████████| 1/1 [00:00<?, ?it/s]\n",
      "Retrieving ElectronicStructureDoc documents: 100%|█████████████████| 1/1 [00:00<?, ?it/s]\n",
      "Retrieving ElectronicStructureDoc documents: 100%|█████████████████| 1/1 [00:00<?, ?it/s]\n",
      "Retrieving ElectronicStructureDoc documents: 100%|█████████████████| 1/1 [00:00<?, ?it/s]\n",
      "Retrieving ElectronicStructureDoc documents: 100%|█████████████████| 1/1 [00:00<?, ?it/s]\n",
      "Retrieving ElectronicStructureDoc documents: 100%|█████████████████| 1/1 [00:00<?, ?it/s]\n",
      "Retrieving ElectronicStructureDoc documents: 100%|█████████████████| 1/1 [00:00<?, ?it/s]\n",
      "Retrieving ElectronicStructureDoc documents: 100%|█████████████████| 1/1 [00:00<?, ?it/s]\n",
      "Retrieving ElectronicStructureDoc documents: 100%|█████████████████| 1/1 [00:00<?, ?it/s]\n",
      "Retrieving ElectronicStructureDoc documents: 100%|█████████████████| 1/1 [00:00<?, ?it/s]\n"
     ]
    },
    {
     "name": "stdout",
     "output_type": "stream",
     "text": [
      "mp-1227044 90 11\n"
     ]
    },
    {
     "name": "stderr",
     "output_type": "stream",
     "text": [
      "Retrieving ElectronicStructureDoc documents: 100%|█████████████████| 1/1 [00:00<?, ?it/s]\n",
      "Retrieving ElectronicStructureDoc documents: 100%|█████████████████| 1/1 [00:00<?, ?it/s]\n",
      "Retrieving ElectronicStructureDoc documents: 100%|█████████████████| 1/1 [00:00<?, ?it/s]\n",
      "Retrieving ElectronicStructureDoc documents: 100%|█████████████████| 1/1 [00:00<?, ?it/s]\n",
      "Retrieving ElectronicStructureDoc documents: 100%|█████████████████| 1/1 [00:00<?, ?it/s]\n",
      "Retrieving ElectronicStructureDoc documents: 100%|█████████████████| 1/1 [00:00<?, ?it/s]\n",
      "Retrieving ElectronicStructureDoc documents: 100%|█████████████████| 1/1 [00:00<?, ?it/s]\n",
      "Retrieving ElectronicStructureDoc documents: 100%|█████████████████| 1/1 [00:00<?, ?it/s]\n",
      "Retrieving ElectronicStructureDoc documents: 100%|█████████████████| 1/1 [00:00<?, ?it/s]\n",
      "Retrieving ElectronicStructureDoc documents: 100%|█████████████████| 1/1 [00:00<?, ?it/s]\n"
     ]
    },
    {
     "name": "stdout",
     "output_type": "stream",
     "text": [
      "mp-1227061 0 12\n"
     ]
    },
    {
     "name": "stderr",
     "output_type": "stream",
     "text": [
      "Retrieving ElectronicStructureDoc documents: 100%|█████████████████| 1/1 [00:00<?, ?it/s]\n",
      "Retrieving ElectronicStructureDoc documents: 100%|█████████████████| 1/1 [00:00<?, ?it/s]\n",
      "Retrieving ElectronicStructureDoc documents: 100%|█████████████████| 1/1 [00:00<?, ?it/s]\n",
      "Retrieving ElectronicStructureDoc documents: 100%|█████████████████| 1/1 [00:00<?, ?it/s]\n",
      "Retrieving ElectronicStructureDoc documents: 100%|█████████████████| 1/1 [00:00<?, ?it/s]\n",
      "Retrieving ElectronicStructureDoc documents: 100%|█████████████████| 1/1 [00:00<?, ?it/s]\n",
      "Retrieving ElectronicStructureDoc documents: 100%|█████████████████| 1/1 [00:00<?, ?it/s]\n",
      "Retrieving ElectronicStructureDoc documents: 100%|███████| 1/1 [00:00<00:00, 1405.60it/s]\n",
      "Retrieving ElectronicStructureDoc documents: 100%|█████████████████| 1/1 [00:00<?, ?it/s]\n",
      "Retrieving ElectronicStructureDoc documents: 100%|█████████████████| 1/1 [00:00<?, ?it/s]\n"
     ]
    },
    {
     "name": "stdout",
     "output_type": "stream",
     "text": [
      "mp-1227082 10 12\n"
     ]
    },
    {
     "name": "stderr",
     "output_type": "stream",
     "text": [
      "Retrieving ElectronicStructureDoc documents: 100%|█████████████████| 1/1 [00:00<?, ?it/s]\n",
      "Retrieving ElectronicStructureDoc documents: 100%|█████████████████| 1/1 [00:00<?, ?it/s]\n",
      "Retrieving ElectronicStructureDoc documents: 100%|█████████████████| 1/1 [00:00<?, ?it/s]\n",
      "Retrieving ElectronicStructureDoc documents: 100%|█████████████████| 1/1 [00:00<?, ?it/s]\n",
      "Retrieving ElectronicStructureDoc documents: 100%|█████████████████| 1/1 [00:00<?, ?it/s]\n",
      "Retrieving ElectronicStructureDoc documents: 100%|█████████████████| 1/1 [00:00<?, ?it/s]\n",
      "Retrieving ElectronicStructureDoc documents: 100%|███████| 1/1 [00:00<00:00, 1064.54it/s]\n",
      "Retrieving ElectronicStructureDoc documents: 100%|█████████████████| 1/1 [00:00<?, ?it/s]\n",
      "Retrieving ElectronicStructureDoc documents: 100%|█████████████████| 1/1 [00:00<?, ?it/s]\n",
      "Retrieving ElectronicStructureDoc documents: 100%|█████████████████| 1/1 [00:00<?, ?it/s]\n"
     ]
    },
    {
     "name": "stdout",
     "output_type": "stream",
     "text": [
      "mp-1227179 20 12\n"
     ]
    },
    {
     "name": "stderr",
     "output_type": "stream",
     "text": [
      "Retrieving ElectronicStructureDoc documents: 100%|█████████████████| 1/1 [00:00<?, ?it/s]\n",
      "Retrieving ElectronicStructureDoc documents: 100%|█████████████████| 1/1 [00:00<?, ?it/s]\n",
      "Retrieving ElectronicStructureDoc documents: 100%|█████████████████| 1/1 [00:00<?, ?it/s]\n",
      "Retrieving ElectronicStructureDoc documents: 100%|█████████████████| 1/1 [00:00<?, ?it/s]\n",
      "Retrieving ElectronicStructureDoc documents: 100%|█████████████████| 1/1 [00:00<?, ?it/s]\n",
      "Retrieving ElectronicStructureDoc documents: 100%|█████████████████| 1/1 [00:00<?, ?it/s]\n",
      "Retrieving ElectronicStructureDoc documents: 100%|█████████████████| 1/1 [00:00<?, ?it/s]\n",
      "Retrieving ElectronicStructureDoc documents: 100%|█████████████████| 1/1 [00:00<?, ?it/s]\n",
      "Retrieving ElectronicStructureDoc documents: 100%|█████████████████| 1/1 [00:00<?, ?it/s]\n",
      "Retrieving ElectronicStructureDoc documents: 100%|█████████████████| 1/1 [00:00<?, ?it/s]\n"
     ]
    },
    {
     "name": "stdout",
     "output_type": "stream",
     "text": [
      "mp-1227236 30 12\n"
     ]
    },
    {
     "name": "stderr",
     "output_type": "stream",
     "text": [
      "Retrieving ElectronicStructureDoc documents: 100%|█████████████████| 1/1 [00:00<?, ?it/s]\n",
      "Retrieving ElectronicStructureDoc documents: 100%|█████████████████| 1/1 [00:00<?, ?it/s]\n",
      "Retrieving ElectronicStructureDoc documents: 100%|█████████████████| 1/1 [00:00<?, ?it/s]\n",
      "Retrieving ElectronicStructureDoc documents: 100%|█████████████████| 1/1 [00:00<?, ?it/s]\n",
      "Retrieving ElectronicStructureDoc documents: 100%|█████████████████| 1/1 [00:00<?, ?it/s]\n",
      "Retrieving ElectronicStructureDoc documents: 100%|█████████████████| 1/1 [00:00<?, ?it/s]\n",
      "Retrieving ElectronicStructureDoc documents: 100%|█████████████████| 1/1 [00:00<?, ?it/s]\n",
      "Retrieving ElectronicStructureDoc documents: 100%|█████████████████| 1/1 [00:00<?, ?it/s]\n",
      "Retrieving ElectronicStructureDoc documents: 100%|█████████████████| 1/1 [00:00<?, ?it/s]\n",
      "Retrieving ElectronicStructureDoc documents: 100%|█████████████████| 1/1 [00:00<?, ?it/s]\n"
     ]
    },
    {
     "name": "stdout",
     "output_type": "stream",
     "text": [
      "mp-1227277 40 12\n"
     ]
    },
    {
     "name": "stderr",
     "output_type": "stream",
     "text": [
      "Retrieving ElectronicStructureDoc documents: 100%|█████████████████| 1/1 [00:00<?, ?it/s]\n",
      "Retrieving ElectronicStructureDoc documents: 100%|█████████████████| 1/1 [00:00<?, ?it/s]\n",
      "Retrieving ElectronicStructureDoc documents: 100%|█████████████████| 1/1 [00:00<?, ?it/s]\n",
      "Retrieving ElectronicStructureDoc documents: 100%|█████████████████| 1/1 [00:00<?, ?it/s]\n",
      "Retrieving ElectronicStructureDoc documents: 100%|████████| 1/1 [00:00<00:00, 154.08it/s]\n",
      "Retrieving ElectronicStructureDoc documents: 100%|█████████████████| 1/1 [00:00<?, ?it/s]\n",
      "Retrieving ElectronicStructureDoc documents: 100%|█████████████████| 1/1 [00:00<?, ?it/s]\n",
      "Retrieving ElectronicStructureDoc documents: 100%|█████████████████| 1/1 [00:00<?, ?it/s]\n",
      "Retrieving ElectronicStructureDoc documents: 100%|█████████████████| 1/1 [00:00<?, ?it/s]\n",
      "Retrieving ElectronicStructureDoc documents: 100%|█████████████████| 1/1 [00:00<?, ?it/s]\n"
     ]
    },
    {
     "name": "stdout",
     "output_type": "stream",
     "text": [
      "mp-1227295 50 12\n"
     ]
    },
    {
     "name": "stderr",
     "output_type": "stream",
     "text": [
      "Retrieving ElectronicStructureDoc documents: 100%|█████████████████| 1/1 [00:00<?, ?it/s]\n",
      "Retrieving ElectronicStructureDoc documents: 100%|█████████████████| 1/1 [00:00<?, ?it/s]\n",
      "Retrieving ElectronicStructureDoc documents: 100%|█████████████████| 1/1 [00:00<?, ?it/s]\n",
      "Retrieving ElectronicStructureDoc documents: 100%|█████████████████| 1/1 [00:00<?, ?it/s]\n",
      "Retrieving ElectronicStructureDoc documents: 100%|█████████████████| 1/1 [00:00<?, ?it/s]\n",
      "Retrieving ElectronicStructureDoc documents: 100%|█████████████████| 1/1 [00:00<?, ?it/s]\n",
      "Retrieving ElectronicStructureDoc documents: 100%|█████████████████| 1/1 [00:00<?, ?it/s]\n",
      "Retrieving ElectronicStructureDoc documents: 100%|█████████████████| 1/1 [00:00<?, ?it/s]\n",
      "Retrieving ElectronicStructureDoc documents: 100%|█████████████████| 1/1 [00:00<?, ?it/s]\n",
      "Retrieving ElectronicStructureDoc documents: 100%|█████████████████| 1/1 [00:00<?, ?it/s]\n"
     ]
    },
    {
     "name": "stdout",
     "output_type": "stream",
     "text": [
      "mp-1227309 60 12\n"
     ]
    },
    {
     "name": "stderr",
     "output_type": "stream",
     "text": [
      "Retrieving ElectronicStructureDoc documents: 100%|█████████████████| 1/1 [00:00<?, ?it/s]\n",
      "Retrieving ElectronicStructureDoc documents: 100%|█████████████████| 1/1 [00:00<?, ?it/s]\n",
      "Retrieving ElectronicStructureDoc documents: 100%|█████████████████| 1/1 [00:00<?, ?it/s]\n",
      "Retrieving ElectronicStructureDoc documents: 100%|█████████████████| 1/1 [00:00<?, ?it/s]\n",
      "Retrieving ElectronicStructureDoc documents: 100%|█████████████████| 1/1 [00:00<?, ?it/s]\n",
      "Retrieving ElectronicStructureDoc documents: 100%|█████████████████| 1/1 [00:00<?, ?it/s]\n",
      "Retrieving ElectronicStructureDoc documents: 100%|█████████████████| 1/1 [00:00<?, ?it/s]\n",
      "Retrieving ElectronicStructureDoc documents: 100%|████████| 1/1 [00:00<00:00, 906.09it/s]\n",
      "Retrieving ElectronicStructureDoc documents: 100%|█████████████████| 1/1 [00:00<?, ?it/s]\n",
      "Retrieving ElectronicStructureDoc documents: 100%|███████| 1/1 [00:00<00:00, 1337.90it/s]\n"
     ]
    },
    {
     "name": "stdout",
     "output_type": "stream",
     "text": [
      "mp-1227324 70 12\n"
     ]
    },
    {
     "name": "stderr",
     "output_type": "stream",
     "text": [
      "Retrieving ElectronicStructureDoc documents: 100%|█████████████████| 1/1 [00:00<?, ?it/s]\n",
      "Retrieving ElectronicStructureDoc documents: 100%|█████████████████| 1/1 [00:00<?, ?it/s]\n",
      "Retrieving ElectronicStructureDoc documents: 100%|█████████████████| 1/1 [00:00<?, ?it/s]\n",
      "Retrieving ElectronicStructureDoc documents: 100%|█████████████████| 1/1 [00:00<?, ?it/s]\n",
      "Retrieving ElectronicStructureDoc documents: 100%|█████████████████| 1/1 [00:00<?, ?it/s]\n",
      "Retrieving ElectronicStructureDoc documents: 100%|█████████████████| 1/1 [00:00<?, ?it/s]\n",
      "Retrieving ElectronicStructureDoc documents: 100%|█████████████████| 1/1 [00:00<?, ?it/s]\n",
      "Retrieving ElectronicStructureDoc documents: 100%|█████████████████| 1/1 [00:00<?, ?it/s]\n",
      "Retrieving ElectronicStructureDoc documents: 100%|█████████████████| 1/1 [00:00<?, ?it/s]\n",
      "Retrieving ElectronicStructureDoc documents: 100%|█████████████████| 1/1 [00:00<?, ?it/s]\n"
     ]
    },
    {
     "name": "stdout",
     "output_type": "stream",
     "text": [
      "mp-1227339 80 12\n"
     ]
    },
    {
     "name": "stderr",
     "output_type": "stream",
     "text": [
      "Retrieving ElectronicStructureDoc documents: 100%|█████████████████| 1/1 [00:00<?, ?it/s]\n",
      "Retrieving ElectronicStructureDoc documents: 100%|████████| 1/1 [00:00<00:00, 827.12it/s]\n",
      "Retrieving ElectronicStructureDoc documents: 100%|█████████████████| 1/1 [00:00<?, ?it/s]\n",
      "Retrieving ElectronicStructureDoc documents: 100%|█████████████████| 1/1 [00:00<?, ?it/s]\n",
      "Retrieving ElectronicStructureDoc documents: 100%|█████████████████| 1/1 [00:00<?, ?it/s]\n",
      "Retrieving ElectronicStructureDoc documents: 100%|█████████████████| 1/1 [00:00<?, ?it/s]\n",
      "Retrieving ElectronicStructureDoc documents: 100%|█████████████████| 1/1 [00:00<?, ?it/s]\n",
      "Retrieving ElectronicStructureDoc documents: 100%|█████████████████| 1/1 [00:00<?, ?it/s]\n",
      "Retrieving ElectronicStructureDoc documents: 100%|█████████████████| 1/1 [00:00<?, ?it/s]\n",
      "Retrieving ElectronicStructureDoc documents: 100%|█████████████████| 1/1 [00:00<?, ?it/s]\n"
     ]
    },
    {
     "name": "stdout",
     "output_type": "stream",
     "text": [
      "mp-1227358 90 12\n"
     ]
    },
    {
     "name": "stderr",
     "output_type": "stream",
     "text": [
      "Retrieving ElectronicStructureDoc documents: 100%|█████████████████| 1/1 [00:00<?, ?it/s]\n",
      "Retrieving ElectronicStructureDoc documents: 100%|█████████████████| 1/1 [00:00<?, ?it/s]\n",
      "Retrieving ElectronicStructureDoc documents: 100%|█████████████████| 1/1 [00:00<?, ?it/s]\n",
      "Retrieving ElectronicStructureDoc documents: 100%|███████| 1/1 [00:00<00:00, 1162.82it/s]\n",
      "Retrieving ElectronicStructureDoc documents: 100%|█████████████████| 1/1 [00:00<?, ?it/s]\n",
      "Retrieving ElectronicStructureDoc documents: 100%|█████████████████| 1/1 [00:00<?, ?it/s]\n",
      "Retrieving ElectronicStructureDoc documents: 100%|█████████████████| 1/1 [00:00<?, ?it/s]\n",
      "Retrieving ElectronicStructureDoc documents: 100%|█████████████████| 1/1 [00:00<?, ?it/s]\n",
      "Retrieving ElectronicStructureDoc documents: 100%|███████| 1/1 [00:00<00:00, 1102.31it/s]\n",
      "Retrieving ElectronicStructureDoc documents: 100%|█████████████████| 1/1 [00:00<?, ?it/s]\n"
     ]
    },
    {
     "name": "stdout",
     "output_type": "stream",
     "text": [
      "mp-1227388 0 13\n"
     ]
    },
    {
     "name": "stderr",
     "output_type": "stream",
     "text": [
      "Retrieving ElectronicStructureDoc documents: 100%|█████████████████| 1/1 [00:00<?, ?it/s]\n",
      "Retrieving ElectronicStructureDoc documents: 100%|█████████████████| 1/1 [00:00<?, ?it/s]\n",
      "Retrieving ElectronicStructureDoc documents: 100%|█████████████████| 1/1 [00:00<?, ?it/s]\n",
      "Retrieving ElectronicStructureDoc documents: 100%|█████████████████| 1/1 [00:00<?, ?it/s]\n",
      "Retrieving ElectronicStructureDoc documents: 100%|█████████████████| 1/1 [00:00<?, ?it/s]\n",
      "Retrieving ElectronicStructureDoc documents: 100%|█████████████████| 1/1 [00:00<?, ?it/s]\n",
      "Retrieving ElectronicStructureDoc documents: 100%|█████████████████| 1/1 [00:00<?, ?it/s]\n",
      "Retrieving ElectronicStructureDoc documents: 100%|█████████████████| 1/1 [00:00<?, ?it/s]\n",
      "Retrieving ElectronicStructureDoc documents: 100%|█████████████████| 1/1 [00:00<?, ?it/s]\n",
      "Retrieving ElectronicStructureDoc documents: 100%|█████████████████| 1/1 [00:00<?, ?it/s]\n"
     ]
    },
    {
     "name": "stdout",
     "output_type": "stream",
     "text": [
      "mp-1227412 10 13\n"
     ]
    },
    {
     "name": "stderr",
     "output_type": "stream",
     "text": [
      "Retrieving ElectronicStructureDoc documents: 100%|█████████████████| 1/1 [00:00<?, ?it/s]\n",
      "Retrieving ElectronicStructureDoc documents: 100%|████████| 1/1 [00:00<00:00, 281.44it/s]\n",
      "Retrieving ElectronicStructureDoc documents: 100%|█████████████████| 1/1 [00:00<?, ?it/s]\n",
      "Retrieving ElectronicStructureDoc documents: 100%|█████████████████| 1/1 [00:00<?, ?it/s]\n",
      "Retrieving ElectronicStructureDoc documents: 100%|█████████████████| 1/1 [00:00<?, ?it/s]\n",
      "Retrieving ElectronicStructureDoc documents: 100%|█████████████████| 1/1 [00:00<?, ?it/s]\n",
      "Retrieving ElectronicStructureDoc documents: 100%|█████████████████| 1/1 [00:00<?, ?it/s]\n",
      "Retrieving ElectronicStructureDoc documents: 100%|████████| 1/1 [00:00<00:00, 601.59it/s]\n",
      "Retrieving ElectronicStructureDoc documents: 100%|█████████████████| 1/1 [00:00<?, ?it/s]\n",
      "Retrieving ElectronicStructureDoc documents: 100%|█████████████████| 1/1 [00:00<?, ?it/s]\n"
     ]
    },
    {
     "name": "stdout",
     "output_type": "stream",
     "text": [
      "mp-1227457 20 13\n"
     ]
    },
    {
     "name": "stderr",
     "output_type": "stream",
     "text": [
      "Retrieving ElectronicStructureDoc documents: 100%|█████████████████| 1/1 [00:00<?, ?it/s]\n",
      "Retrieving ElectronicStructureDoc documents: 100%|█████████████████| 1/1 [00:00<?, ?it/s]\n",
      "Retrieving ElectronicStructureDoc documents: 100%|█████████████████| 1/1 [00:00<?, ?it/s]\n",
      "Retrieving ElectronicStructureDoc documents: 100%|████████| 1/1 [00:00<00:00, 248.52it/s]\n",
      "Retrieving ElectronicStructureDoc documents: 100%|█████████████████| 1/1 [00:00<?, ?it/s]\n",
      "Retrieving ElectronicStructureDoc documents: 100%|█████████████████| 1/1 [00:00<?, ?it/s]\n",
      "Retrieving ElectronicStructureDoc documents: 100%|█████████████████| 1/1 [00:00<?, ?it/s]\n",
      "Retrieving ElectronicStructureDoc documents: 100%|█████████████████| 1/1 [00:00<?, ?it/s]\n",
      "Retrieving ElectronicStructureDoc documents: 100%|████████| 1/1 [00:00<00:00, 759.29it/s]\n",
      "Retrieving ElectronicStructureDoc documents: 100%|█████████████████| 1/1 [00:00<?, ?it/s]\n"
     ]
    },
    {
     "name": "stdout",
     "output_type": "stream",
     "text": [
      "mp-1227642 30 13\n"
     ]
    },
    {
     "name": "stderr",
     "output_type": "stream",
     "text": [
      "Retrieving ElectronicStructureDoc documents: 100%|█████████████████| 1/1 [00:00<?, ?it/s]\n",
      "Retrieving ElectronicStructureDoc documents: 100%|█████████████████| 1/1 [00:00<?, ?it/s]\n",
      "Retrieving ElectronicStructureDoc documents: 100%|█████████████████| 1/1 [00:00<?, ?it/s]\n",
      "Retrieving ElectronicStructureDoc documents: 100%|█████████████████| 1/1 [00:00<?, ?it/s]\n",
      "Retrieving ElectronicStructureDoc documents: 100%|█████████████████| 1/1 [00:00<?, ?it/s]\n",
      "Retrieving ElectronicStructureDoc documents: 100%|█████████████████| 1/1 [00:00<?, ?it/s]\n",
      "Retrieving ElectronicStructureDoc documents: 100%|█████████████████| 1/1 [00:00<?, ?it/s]\n",
      "Retrieving ElectronicStructureDoc documents: 100%|█████████████████| 1/1 [00:00<?, ?it/s]\n",
      "Retrieving ElectronicStructureDoc documents: 100%|███████| 1/1 [00:00<00:00, 1184.83it/s]\n",
      "Retrieving ElectronicStructureDoc documents: 100%|█████████████████| 1/1 [00:00<?, ?it/s]\n"
     ]
    },
    {
     "name": "stdout",
     "output_type": "stream",
     "text": [
      "mp-1227698 40 13\n"
     ]
    },
    {
     "name": "stderr",
     "output_type": "stream",
     "text": [
      "Retrieving ElectronicStructureDoc documents: 100%|█████████████████| 1/1 [00:00<?, ?it/s]\n",
      "Retrieving ElectronicStructureDoc documents: 100%|█████████████████| 1/1 [00:00<?, ?it/s]\n",
      "Retrieving ElectronicStructureDoc documents: 100%|█████████████████| 1/1 [00:00<?, ?it/s]\n",
      "Retrieving ElectronicStructureDoc documents: 100%|█████████████████| 1/1 [00:00<?, ?it/s]\n",
      "Retrieving ElectronicStructureDoc documents: 100%|█████████████████| 1/1 [00:00<?, ?it/s]\n",
      "Retrieving ElectronicStructureDoc documents: 100%|█████████████████| 1/1 [00:00<?, ?it/s]\n",
      "Retrieving ElectronicStructureDoc documents: 100%|█████████████████| 1/1 [00:00<?, ?it/s]\n",
      "Retrieving ElectronicStructureDoc documents: 100%|█████████████████| 1/1 [00:00<?, ?it/s]\n",
      "Retrieving ElectronicStructureDoc documents: 100%|█████████████████| 1/1 [00:00<?, ?it/s]\n",
      "Retrieving ElectronicStructureDoc documents: 100%|█████████████████| 1/1 [00:00<?, ?it/s]\n"
     ]
    },
    {
     "name": "stdout",
     "output_type": "stream",
     "text": [
      "mp-1227810 50 13\n"
     ]
    },
    {
     "name": "stderr",
     "output_type": "stream",
     "text": [
      "Retrieving ElectronicStructureDoc documents: 100%|████████| 1/1 [00:00<00:00, 995.80it/s]\n",
      "Retrieving ElectronicStructureDoc documents: 100%|█████████████████| 1/1 [00:00<?, ?it/s]\n",
      "Retrieving ElectronicStructureDoc documents: 100%|█████████████████| 1/1 [00:00<?, ?it/s]\n",
      "Retrieving ElectronicStructureDoc documents: 100%|█████████████████| 1/1 [00:00<?, ?it/s]\n",
      "Retrieving ElectronicStructureDoc documents: 100%|█████████████████| 1/1 [00:00<?, ?it/s]\n",
      "Retrieving ElectronicStructureDoc documents: 100%|█████████████████| 1/1 [00:00<?, ?it/s]\n",
      "Retrieving ElectronicStructureDoc documents: 100%|█████████████████| 1/1 [00:00<?, ?it/s]\n",
      "Retrieving ElectronicStructureDoc documents: 100%|█████████████████| 1/1 [00:00<?, ?it/s]\n",
      "Retrieving ElectronicStructureDoc documents: 100%|█████████████████| 1/1 [00:00<?, ?it/s]\n",
      "Retrieving ElectronicStructureDoc documents: 100%|█████████████████| 1/1 [00:00<?, ?it/s]\n"
     ]
    },
    {
     "name": "stdout",
     "output_type": "stream",
     "text": [
      "mp-1227851 60 13\n"
     ]
    },
    {
     "name": "stderr",
     "output_type": "stream",
     "text": [
      "Retrieving ElectronicStructureDoc documents: 100%|█████████████████| 1/1 [00:00<?, ?it/s]\n",
      "Retrieving ElectronicStructureDoc documents: 100%|█████████████████| 1/1 [00:00<?, ?it/s]\n",
      "Retrieving ElectronicStructureDoc documents: 100%|█████████████████| 1/1 [00:00<?, ?it/s]\n",
      "Retrieving ElectronicStructureDoc documents: 100%|█████████████████| 1/1 [00:00<?, ?it/s]\n",
      "Retrieving ElectronicStructureDoc documents: 100%|█████████████████| 1/1 [00:00<?, ?it/s]\n",
      "Retrieving ElectronicStructureDoc documents: 100%|█████████████████| 1/1 [00:00<?, ?it/s]\n",
      "Retrieving ElectronicStructureDoc documents: 100%|█████████████████| 1/1 [00:00<?, ?it/s]\n",
      "Retrieving ElectronicStructureDoc documents: 100%|█████████████████| 1/1 [00:00<?, ?it/s]\n",
      "Retrieving ElectronicStructureDoc documents: 100%|████████| 1/1 [00:00<00:00, 960.67it/s]\n",
      "Retrieving ElectronicStructureDoc documents: 100%|█████████████████| 1/1 [00:00<?, ?it/s]\n"
     ]
    },
    {
     "name": "stdout",
     "output_type": "stream",
     "text": [
      "mp-1227938 70 13\n"
     ]
    },
    {
     "name": "stderr",
     "output_type": "stream",
     "text": [
      "Retrieving ElectronicStructureDoc documents: 100%|█████████████████| 1/1 [00:00<?, ?it/s]\n",
      "Retrieving ElectronicStructureDoc documents: 100%|█████████████████| 1/1 [00:00<?, ?it/s]\n",
      "Retrieving ElectronicStructureDoc documents: 100%|█████████████████| 1/1 [00:00<?, ?it/s]\n",
      "Retrieving ElectronicStructureDoc documents: 100%|█████████████████| 1/1 [00:00<?, ?it/s]\n",
      "Retrieving ElectronicStructureDoc documents: 100%|█████████████████| 1/1 [00:00<?, ?it/s]\n",
      "Retrieving ElectronicStructureDoc documents: 100%|█████████████████| 1/1 [00:00<?, ?it/s]\n",
      "Retrieving ElectronicStructureDoc documents: 100%|█████████████████| 1/1 [00:00<?, ?it/s]\n",
      "Retrieving ElectronicStructureDoc documents: 100%|█████████████████| 1/1 [00:00<?, ?it/s]\n",
      "Retrieving ElectronicStructureDoc documents: 100%|█████████████████| 1/1 [00:00<?, ?it/s]\n",
      "Retrieving ElectronicStructureDoc documents: 100%|█████████████████| 1/1 [00:00<?, ?it/s]\n"
     ]
    },
    {
     "name": "stdout",
     "output_type": "stream",
     "text": [
      "mp-1227958 80 13\n"
     ]
    },
    {
     "name": "stderr",
     "output_type": "stream",
     "text": [
      "Retrieving ElectronicStructureDoc documents: 100%|█████████████████| 1/1 [00:00<?, ?it/s]\n",
      "Retrieving ElectronicStructureDoc documents: 100%|█████████████████| 1/1 [00:00<?, ?it/s]\n",
      "Retrieving ElectronicStructureDoc documents: 100%|█████████████████| 1/1 [00:00<?, ?it/s]\n",
      "Retrieving ElectronicStructureDoc documents: 100%|█████████████████| 1/1 [00:00<?, ?it/s]\n",
      "Retrieving ElectronicStructureDoc documents: 100%|█████████████████| 1/1 [00:00<?, ?it/s]\n",
      "Retrieving ElectronicStructureDoc documents: 100%|█████████████████| 1/1 [00:00<?, ?it/s]\n",
      "Retrieving ElectronicStructureDoc documents: 100%|█████████████████| 1/1 [00:00<?, ?it/s]\n",
      "Retrieving ElectronicStructureDoc documents: 100%|█████████████████| 1/1 [00:00<?, ?it/s]\n",
      "Retrieving ElectronicStructureDoc documents: 100%|█████████████████| 1/1 [00:00<?, ?it/s]\n",
      "Retrieving ElectronicStructureDoc documents: 100%|█████████████████| 1/1 [00:00<?, ?it/s]\n"
     ]
    },
    {
     "name": "stdout",
     "output_type": "stream",
     "text": [
      "mp-1227995 90 13\n"
     ]
    },
    {
     "name": "stderr",
     "output_type": "stream",
     "text": [
      "Retrieving ElectronicStructureDoc documents: 100%|█████████████████| 1/1 [00:00<?, ?it/s]\n",
      "Retrieving ElectronicStructureDoc documents: 100%|█████████████████| 1/1 [00:00<?, ?it/s]\n",
      "Retrieving ElectronicStructureDoc documents: 100%|█████████████████| 1/1 [00:00<?, ?it/s]\n",
      "Retrieving ElectronicStructureDoc documents: 100%|█████████████████| 1/1 [00:00<?, ?it/s]\n",
      "Retrieving ElectronicStructureDoc documents: 100%|█████████████████| 1/1 [00:00<?, ?it/s]\n",
      "Retrieving ElectronicStructureDoc documents: 100%|█████████████████| 1/1 [00:00<?, ?it/s]\n",
      "Retrieving ElectronicStructureDoc documents: 100%|█████████████████| 1/1 [00:00<?, ?it/s]\n",
      "Retrieving ElectronicStructureDoc documents: 100%|█████████████████| 1/1 [00:00<?, ?it/s]\n",
      "Retrieving ElectronicStructureDoc documents: 100%|█████████████████| 1/1 [00:00<?, ?it/s]\n",
      "Retrieving ElectronicStructureDoc documents: 100%|█████████████████| 1/1 [00:00<?, ?it/s]\n"
     ]
    },
    {
     "name": "stdout",
     "output_type": "stream",
     "text": [
      "mp-1228043 0 14\n"
     ]
    },
    {
     "name": "stderr",
     "output_type": "stream",
     "text": [
      "Retrieving ElectronicStructureDoc documents: 100%|█████████████████| 1/1 [00:00<?, ?it/s]\n",
      "Retrieving ElectronicStructureDoc documents: 100%|█████████████████| 1/1 [00:00<?, ?it/s]\n",
      "Retrieving ElectronicStructureDoc documents: 100%|████████| 1/1 [00:00<00:00, 172.08it/s]\n",
      "Retrieving ElectronicStructureDoc documents: 100%|█████████████████| 1/1 [00:00<?, ?it/s]\n",
      "Retrieving ElectronicStructureDoc documents: 100%|█████████████████| 1/1 [00:00<?, ?it/s]\n",
      "Retrieving ElectronicStructureDoc documents: 100%|█████████████████| 1/1 [00:00<?, ?it/s]\n",
      "Retrieving ElectronicStructureDoc documents: 100%|█████████████████| 1/1 [00:00<?, ?it/s]\n",
      "Retrieving ElectronicStructureDoc documents: 100%|█████████████████| 1/1 [00:00<?, ?it/s]\n",
      "Retrieving ElectronicStructureDoc documents: 100%|█████████████████| 1/1 [00:00<?, ?it/s]\n",
      "Retrieving ElectronicStructureDoc documents: 100%|█████████████████| 1/1 [00:00<?, ?it/s]\n"
     ]
    },
    {
     "name": "stdout",
     "output_type": "stream",
     "text": [
      "mp-1228125 10 14\n"
     ]
    },
    {
     "name": "stderr",
     "output_type": "stream",
     "text": [
      "Retrieving ElectronicStructureDoc documents: 100%|█████████████████| 1/1 [00:00<?, ?it/s]\n",
      "Retrieving ElectronicStructureDoc documents: 100%|█████████████████| 1/1 [00:00<?, ?it/s]\n",
      "Retrieving ElectronicStructureDoc documents: 100%|███████| 1/1 [00:00<00:00, 1581.56it/s]\n",
      "Retrieving ElectronicStructureDoc documents: 100%|█████████████████| 1/1 [00:00<?, ?it/s]\n",
      "Retrieving ElectronicStructureDoc documents: 100%|█████████████████| 1/1 [00:00<?, ?it/s]\n",
      "Retrieving ElectronicStructureDoc documents: 100%|█████████████████| 1/1 [00:00<?, ?it/s]\n",
      "Retrieving ElectronicStructureDoc documents: 100%|█████████████████| 1/1 [00:00<?, ?it/s]\n",
      "Retrieving ElectronicStructureDoc documents: 100%|█████████████████| 1/1 [00:00<?, ?it/s]\n",
      "Retrieving ElectronicStructureDoc documents: 100%|█████████████████| 1/1 [00:00<?, ?it/s]\n",
      "Retrieving ElectronicStructureDoc documents: 100%|█████████████████| 1/1 [00:00<?, ?it/s]\n"
     ]
    },
    {
     "name": "stdout",
     "output_type": "stream",
     "text": [
      "mp-1228339 20 14\n"
     ]
    },
    {
     "name": "stderr",
     "output_type": "stream",
     "text": [
      "Retrieving ElectronicStructureDoc documents: 100%|█████████████████| 1/1 [00:00<?, ?it/s]\n",
      "Retrieving ElectronicStructureDoc documents: 100%|█████████████████| 1/1 [00:00<?, ?it/s]\n",
      "Retrieving ElectronicStructureDoc documents: 100%|█████████████████| 1/1 [00:00<?, ?it/s]\n",
      "Retrieving ElectronicStructureDoc documents: 100%|█████████████████| 1/1 [00:00<?, ?it/s]\n",
      "Retrieving ElectronicStructureDoc documents: 100%|█████████████████| 1/1 [00:00<?, ?it/s]\n",
      "Retrieving ElectronicStructureDoc documents: 100%|█████████████████| 1/1 [00:00<?, ?it/s]\n",
      "Retrieving ElectronicStructureDoc documents: 100%|█████████████████| 1/1 [00:00<?, ?it/s]\n",
      "Retrieving ElectronicStructureDoc documents: 100%|████████| 1/1 [00:00<00:00, 221.98it/s]\n",
      "Retrieving ElectronicStructureDoc documents: 100%|█████████████████| 1/1 [00:00<?, ?it/s]\n",
      "Retrieving ElectronicStructureDoc documents: 100%|█████████████████| 1/1 [00:00<?, ?it/s]\n"
     ]
    },
    {
     "name": "stdout",
     "output_type": "stream",
     "text": [
      "mp-1228392 30 14\n"
     ]
    },
    {
     "name": "stderr",
     "output_type": "stream",
     "text": [
      "Retrieving ElectronicStructureDoc documents: 100%|█████████████████| 1/1 [00:00<?, ?it/s]\n",
      "Retrieving ElectronicStructureDoc documents: 100%|█████████████████| 1/1 [00:00<?, ?it/s]\n",
      "Retrieving ElectronicStructureDoc documents: 100%|█████████████████| 1/1 [00:00<?, ?it/s]\n",
      "Retrieving ElectronicStructureDoc documents: 100%|█████████████████| 1/1 [00:00<?, ?it/s]\n",
      "Retrieving ElectronicStructureDoc documents: 100%|█████████████████| 1/1 [00:00<?, ?it/s]\n",
      "Retrieving ElectronicStructureDoc documents: 100%|████████| 1/1 [00:00<00:00, 167.92it/s]\n",
      "Retrieving ElectronicStructureDoc documents: 100%|█████████████████| 1/1 [00:00<?, ?it/s]\n",
      "Retrieving ElectronicStructureDoc documents: 100%|█████████████████| 1/1 [00:00<?, ?it/s]\n",
      "Retrieving ElectronicStructureDoc documents: 100%|█████████████████| 1/1 [00:00<?, ?it/s]\n",
      "Retrieving ElectronicStructureDoc documents: 100%|█████████████████| 1/1 [00:00<?, ?it/s]\n"
     ]
    },
    {
     "name": "stdout",
     "output_type": "stream",
     "text": [
      "mp-1228436 40 14\n"
     ]
    },
    {
     "name": "stderr",
     "output_type": "stream",
     "text": [
      "Retrieving ElectronicStructureDoc documents: 100%|█████████████████| 1/1 [00:00<?, ?it/s]\n",
      "Retrieving ElectronicStructureDoc documents: 100%|███████| 1/1 [00:00<00:00, 1076.84it/s]\n",
      "Retrieving ElectronicStructureDoc documents: 100%|█████████████████| 1/1 [00:00<?, ?it/s]\n",
      "Retrieving ElectronicStructureDoc documents: 100%|█████████████████| 1/1 [00:00<?, ?it/s]\n",
      "Retrieving ElectronicStructureDoc documents: 100%|█████████████████| 1/1 [00:00<?, ?it/s]\n",
      "Retrieving ElectronicStructureDoc documents: 100%|████████| 1/1 [00:00<00:00, 264.34it/s]\n",
      "Retrieving ElectronicStructureDoc documents: 100%|█████████████████| 1/1 [00:00<?, ?it/s]\n",
      "Retrieving ElectronicStructureDoc documents: 100%|█████████████████| 1/1 [00:00<?, ?it/s]\n",
      "Retrieving ElectronicStructureDoc documents: 100%|█████████████████| 1/1 [00:00<?, ?it/s]\n",
      "Retrieving ElectronicStructureDoc documents: 100%|█████████████████| 1/1 [00:00<?, ?it/s]\n"
     ]
    },
    {
     "name": "stdout",
     "output_type": "stream",
     "text": [
      "mp-1228621 50 14\n"
     ]
    },
    {
     "name": "stderr",
     "output_type": "stream",
     "text": [
      "Retrieving ElectronicStructureDoc documents: 100%|████████| 1/1 [00:00<00:00, 975.87it/s]\n",
      "Retrieving ElectronicStructureDoc documents: 100%|█████████████████| 1/1 [00:00<?, ?it/s]\n",
      "Retrieving ElectronicStructureDoc documents: 100%|█████████████████| 1/1 [00:00<?, ?it/s]\n",
      "Retrieving ElectronicStructureDoc documents: 100%|█████████████████| 1/1 [00:00<?, ?it/s]\n",
      "Retrieving ElectronicStructureDoc documents: 100%|███████| 1/1 [00:00<00:00, 1946.31it/s]\n",
      "Retrieving ElectronicStructureDoc documents: 100%|█████████████████| 1/1 [00:00<?, ?it/s]\n",
      "Retrieving ElectronicStructureDoc documents: 100%|█████████████████| 1/1 [00:00<?, ?it/s]\n",
      "Retrieving ElectronicStructureDoc documents: 100%|█████████████████| 1/1 [00:00<?, ?it/s]\n",
      "Retrieving ElectronicStructureDoc documents: 100%|█████████████████| 1/1 [00:00<?, ?it/s]\n",
      "Retrieving ElectronicStructureDoc documents: 100%|█████████████████| 1/1 [00:00<?, ?it/s]\n"
     ]
    },
    {
     "name": "stdout",
     "output_type": "stream",
     "text": [
      "mp-1228657 60 14\n"
     ]
    },
    {
     "name": "stderr",
     "output_type": "stream",
     "text": [
      "Retrieving ElectronicStructureDoc documents: 100%|█████████████████| 1/1 [00:00<?, ?it/s]\n",
      "Retrieving ElectronicStructureDoc documents: 100%|█████████████████| 1/1 [00:00<?, ?it/s]\n",
      "Retrieving ElectronicStructureDoc documents: 100%|█████████████████| 1/1 [00:00<?, ?it/s]\n",
      "Retrieving ElectronicStructureDoc documents: 100%|█████████████████| 1/1 [00:00<?, ?it/s]\n",
      "Retrieving ElectronicStructureDoc documents: 100%|█████████████████| 1/1 [00:00<?, ?it/s]\n",
      "Retrieving ElectronicStructureDoc documents: 100%|█████████████████| 1/1 [00:00<?, ?it/s]\n",
      "Retrieving ElectronicStructureDoc documents: 100%|█████████████████| 1/1 [00:00<?, ?it/s]\n",
      "Retrieving ElectronicStructureDoc documents: 100%|█████████████████| 1/1 [00:00<?, ?it/s]\n",
      "Retrieving ElectronicStructureDoc documents: 100%|█████████████████| 1/1 [00:00<?, ?it/s]\n",
      "Retrieving ElectronicStructureDoc documents: 100%|█████████████████| 1/1 [00:00<?, ?it/s]\n"
     ]
    },
    {
     "name": "stdout",
     "output_type": "stream",
     "text": [
      "mp-1228793 70 14\n"
     ]
    },
    {
     "name": "stderr",
     "output_type": "stream",
     "text": [
      "Retrieving ElectronicStructureDoc documents: 100%|█████████████████| 1/1 [00:00<?, ?it/s]\n",
      "Retrieving ElectronicStructureDoc documents: 100%|█████████████████| 1/1 [00:00<?, ?it/s]\n",
      "Retrieving ElectronicStructureDoc documents: 100%|█████████████████| 1/1 [00:00<?, ?it/s]\n",
      "Retrieving ElectronicStructureDoc documents: 100%|█████████████████| 1/1 [00:00<?, ?it/s]\n",
      "Retrieving ElectronicStructureDoc documents: 100%|█████████████████| 1/1 [00:00<?, ?it/s]\n",
      "Retrieving ElectronicStructureDoc documents: 100%|█████████████████| 1/1 [00:00<?, ?it/s]\n",
      "Retrieving ElectronicStructureDoc documents: 100%|█████████████████| 1/1 [00:00<?, ?it/s]\n",
      "Retrieving ElectronicStructureDoc documents: 100%|█████████████████| 1/1 [00:00<?, ?it/s]\n",
      "Retrieving ElectronicStructureDoc documents: 100%|█████████████████| 1/1 [00:00<?, ?it/s]\n",
      "Retrieving ElectronicStructureDoc documents: 100%|█████████████████| 1/1 [00:00<?, ?it/s]\n"
     ]
    },
    {
     "name": "stdout",
     "output_type": "stream",
     "text": [
      "mp-1228818 80 14\n"
     ]
    },
    {
     "name": "stderr",
     "output_type": "stream",
     "text": [
      "Retrieving ElectronicStructureDoc documents: 100%|█████████████████| 1/1 [00:00<?, ?it/s]\n",
      "Retrieving ElectronicStructureDoc documents: 100%|█████████████████| 1/1 [00:00<?, ?it/s]\n",
      "Retrieving ElectronicStructureDoc documents: 100%|█████████████████| 1/1 [00:00<?, ?it/s]\n",
      "Retrieving ElectronicStructureDoc documents: 100%|█████████████████| 1/1 [00:00<?, ?it/s]\n",
      "Retrieving ElectronicStructureDoc documents: 100%|█████████████████| 1/1 [00:00<?, ?it/s]\n",
      "Retrieving ElectronicStructureDoc documents: 100%|█████████████████| 1/1 [00:00<?, ?it/s]\n",
      "Retrieving ElectronicStructureDoc documents: 100%|█████████████████| 1/1 [00:00<?, ?it/s]\n",
      "Retrieving ElectronicStructureDoc documents: 100%|█████████████████| 1/1 [00:00<?, ?it/s]\n",
      "Retrieving ElectronicStructureDoc documents: 100%|█████████████████| 1/1 [00:00<?, ?it/s]\n",
      "Retrieving ElectronicStructureDoc documents: 100%|█████████████████| 1/1 [00:00<?, ?it/s]\n"
     ]
    },
    {
     "name": "stdout",
     "output_type": "stream",
     "text": [
      "mp-1228835 90 14\n"
     ]
    },
    {
     "name": "stderr",
     "output_type": "stream",
     "text": [
      "Retrieving ElectronicStructureDoc documents: 100%|█████████████████| 1/1 [00:00<?, ?it/s]\n",
      "Retrieving ElectronicStructureDoc documents: 100%|█████████████████| 1/1 [00:00<?, ?it/s]\n",
      "Retrieving ElectronicStructureDoc documents: 100%|█████████████████| 1/1 [00:00<?, ?it/s]\n",
      "Retrieving ElectronicStructureDoc documents: 100%|█████████████████| 1/1 [00:00<?, ?it/s]\n",
      "Retrieving ElectronicStructureDoc documents: 100%|█████████████████| 1/1 [00:00<?, ?it/s]\n",
      "Retrieving ElectronicStructureDoc documents: 100%|█████████████████| 1/1 [00:00<?, ?it/s]\n",
      "Retrieving ElectronicStructureDoc documents: 100%|█████████████████| 1/1 [00:00<?, ?it/s]\n",
      "Retrieving ElectronicStructureDoc documents: 100%|█████████████████| 1/1 [00:00<?, ?it/s]\n",
      "Retrieving ElectronicStructureDoc documents: 100%|█████████████████| 1/1 [00:00<?, ?it/s]\n",
      "Retrieving ElectronicStructureDoc documents: 100%|█████████████████| 1/1 [00:00<?, ?it/s]\n"
     ]
    },
    {
     "name": "stdout",
     "output_type": "stream",
     "text": [
      "mp-1228861 0 15\n"
     ]
    },
    {
     "name": "stderr",
     "output_type": "stream",
     "text": [
      "Retrieving ElectronicStructureDoc documents: 100%|█████████████████| 1/1 [00:00<?, ?it/s]\n",
      "Retrieving ElectronicStructureDoc documents: 100%|█████████████████| 1/1 [00:00<?, ?it/s]\n",
      "Retrieving ElectronicStructureDoc documents: 100%|█████████████████| 1/1 [00:00<?, ?it/s]\n",
      "Retrieving ElectronicStructureDoc documents: 100%|█████████████████| 1/1 [00:00<?, ?it/s]\n",
      "Retrieving ElectronicStructureDoc documents: 100%|█████████████████| 1/1 [00:00<?, ?it/s]\n",
      "Retrieving ElectronicStructureDoc documents: 100%|█████████████████| 1/1 [00:00<?, ?it/s]\n",
      "Retrieving ElectronicStructureDoc documents: 100%|█████████████████| 1/1 [00:00<?, ?it/s]\n",
      "Retrieving ElectronicStructureDoc documents: 100%|█████████████████| 1/1 [00:00<?, ?it/s]\n",
      "Retrieving ElectronicStructureDoc documents: 100%|█████████████████| 1/1 [00:00<?, ?it/s]\n",
      "Retrieving ElectronicStructureDoc documents: 100%|█████████████████| 1/1 [00:00<?, ?it/s]\n"
     ]
    },
    {
     "name": "stdout",
     "output_type": "stream",
     "text": [
      "mp-1228901 10 15\n"
     ]
    },
    {
     "name": "stderr",
     "output_type": "stream",
     "text": [
      "Retrieving ElectronicStructureDoc documents: 100%|█████████████████| 1/1 [00:00<?, ?it/s]\n",
      "Retrieving ElectronicStructureDoc documents: 100%|█████████████████| 1/1 [00:00<?, ?it/s]\n",
      "Retrieving ElectronicStructureDoc documents: 100%|█████████████████| 1/1 [00:00<?, ?it/s]\n",
      "Retrieving ElectronicStructureDoc documents: 100%|████████| 1/1 [00:00<00:00, 881.16it/s]\n",
      "Retrieving ElectronicStructureDoc documents: 100%|█████████████████| 1/1 [00:00<?, ?it/s]\n",
      "Retrieving ElectronicStructureDoc documents: 100%|█████████████████| 1/1 [00:00<?, ?it/s]\n",
      "Retrieving ElectronicStructureDoc documents: 100%|█████████████████| 1/1 [00:00<?, ?it/s]\n",
      "Retrieving ElectronicStructureDoc documents: 100%|█████████████████| 1/1 [00:00<?, ?it/s]\n",
      "Retrieving ElectronicStructureDoc documents: 100%|█████████████████| 1/1 [00:00<?, ?it/s]\n",
      "Retrieving ElectronicStructureDoc documents: 100%|█████████████████| 1/1 [00:00<?, ?it/s]\n"
     ]
    },
    {
     "name": "stdout",
     "output_type": "stream",
     "text": [
      "mp-1228921 20 15\n"
     ]
    },
    {
     "name": "stderr",
     "output_type": "stream",
     "text": [
      "Retrieving ElectronicStructureDoc documents: 100%|█████████████████| 1/1 [00:00<?, ?it/s]\n",
      "Retrieving ElectronicStructureDoc documents: 100%|█████████████████| 1/1 [00:00<?, ?it/s]\n",
      "Retrieving ElectronicStructureDoc documents: 100%|█████████████████| 1/1 [00:00<?, ?it/s]\n",
      "Retrieving ElectronicStructureDoc documents: 100%|█████████████████| 1/1 [00:00<?, ?it/s]\n",
      "Retrieving ElectronicStructureDoc documents: 100%|█████████████████| 1/1 [00:00<?, ?it/s]\n",
      "Retrieving ElectronicStructureDoc documents: 100%|█████████████████| 1/1 [00:00<?, ?it/s]\n",
      "Retrieving ElectronicStructureDoc documents: 100%|████████| 1/1 [00:00<00:00, 995.09it/s]\n",
      "Retrieving ElectronicStructureDoc documents: 100%|█████████████████| 1/1 [00:00<?, ?it/s]\n",
      "Retrieving ElectronicStructureDoc documents: 100%|█████████████████| 1/1 [00:00<?, ?it/s]\n",
      "Retrieving ElectronicStructureDoc documents: 100%|█████████████████| 1/1 [00:00<?, ?it/s]\n"
     ]
    },
    {
     "name": "stdout",
     "output_type": "stream",
     "text": [
      "mp-1228943 30 15\n"
     ]
    },
    {
     "name": "stderr",
     "output_type": "stream",
     "text": [
      "Retrieving ElectronicStructureDoc documents: 100%|█████████████████| 1/1 [00:00<?, ?it/s]\n",
      "Retrieving ElectronicStructureDoc documents: 100%|█████████████████| 1/1 [00:00<?, ?it/s]\n",
      "Retrieving ElectronicStructureDoc documents: 100%|█████████████████| 1/1 [00:00<?, ?it/s]\n",
      "Retrieving ElectronicStructureDoc documents: 100%|█████████████████| 1/1 [00:00<?, ?it/s]\n",
      "Retrieving ElectronicStructureDoc documents: 100%|█████████████████| 1/1 [00:00<?, ?it/s]\n",
      "Retrieving ElectronicStructureDoc documents: 100%|█████████████████| 1/1 [00:00<?, ?it/s]\n",
      "Retrieving ElectronicStructureDoc documents: 100%|█████████████████| 1/1 [00:00<?, ?it/s]\n",
      "Retrieving ElectronicStructureDoc documents: 100%|█████████████████| 1/1 [00:00<?, ?it/s]\n",
      "Retrieving ElectronicStructureDoc documents: 100%|█████████████████| 1/1 [00:00<?, ?it/s]\n",
      "Retrieving ElectronicStructureDoc documents: 100%|█████████████████| 1/1 [00:00<?, ?it/s]\n"
     ]
    },
    {
     "name": "stdout",
     "output_type": "stream",
     "text": [
      "mp-1228967 40 15\n"
     ]
    },
    {
     "name": "stderr",
     "output_type": "stream",
     "text": [
      "Retrieving ElectronicStructureDoc documents: 100%|███████| 1/1 [00:00<00:00, 1980.31it/s]\n",
      "Retrieving ElectronicStructureDoc documents: 100%|█████████████████| 1/1 [00:00<?, ?it/s]\n",
      "Retrieving ElectronicStructureDoc documents: 100%|████████| 1/1 [00:00<00:00, 994.62it/s]\n",
      "Retrieving ElectronicStructureDoc documents: 100%|█████████████████| 1/1 [00:00<?, ?it/s]\n",
      "Retrieving ElectronicStructureDoc documents: 100%|█████████████████| 1/1 [00:00<?, ?it/s]\n",
      "Retrieving ElectronicStructureDoc documents: 100%|█████████████████| 1/1 [00:00<?, ?it/s]\n",
      "Retrieving ElectronicStructureDoc documents: 100%|█████████████████| 1/1 [00:00<?, ?it/s]\n",
      "Retrieving ElectronicStructureDoc documents: 100%|█████████████████| 1/1 [00:00<?, ?it/s]\n",
      "Retrieving ElectronicStructureDoc documents: 100%|█████████████████| 1/1 [00:00<?, ?it/s]\n",
      "Retrieving ElectronicStructureDoc documents: 100%|█████████████████| 1/1 [00:00<?, ?it/s]\n"
     ]
    },
    {
     "name": "stdout",
     "output_type": "stream",
     "text": [
      "mp-1229006 50 15\n"
     ]
    },
    {
     "name": "stderr",
     "output_type": "stream",
     "text": [
      "Retrieving ElectronicStructureDoc documents: 100%|████████| 1/1 [00:00<00:00, 853.89it/s]\n",
      "Retrieving ElectronicStructureDoc documents: 100%|█████████████████| 1/1 [00:00<?, ?it/s]\n",
      "Retrieving ElectronicStructureDoc documents: 100%|█████████████████| 1/1 [00:00<?, ?it/s]\n",
      "Retrieving ElectronicStructureDoc documents: 100%|█████████████████| 1/1 [00:00<?, ?it/s]\n",
      "Retrieving ElectronicStructureDoc documents: 100%|█████████████████| 1/1 [00:00<?, ?it/s]\n",
      "Retrieving ElectronicStructureDoc documents: 100%|███████| 1/1 [00:00<00:00, 1385.17it/s]\n",
      "Retrieving ElectronicStructureDoc documents: 100%|█████████████████| 1/1 [00:00<?, ?it/s]\n",
      "Retrieving ElectronicStructureDoc documents: 100%|█████████████████| 1/1 [00:00<?, ?it/s]\n",
      "Retrieving ElectronicStructureDoc documents: 100%|█████████████████| 1/1 [00:00<?, ?it/s]\n",
      "Retrieving ElectronicStructureDoc documents: 100%|█████████████████| 1/1 [00:00<?, ?it/s]\n"
     ]
    },
    {
     "name": "stdout",
     "output_type": "stream",
     "text": [
      "mp-1229030 60 15\n"
     ]
    },
    {
     "name": "stderr",
     "output_type": "stream",
     "text": [
      "Retrieving ElectronicStructureDoc documents: 100%|█████████████████| 1/1 [00:00<?, ?it/s]\n",
      "Retrieving ElectronicStructureDoc documents: 100%|█████████████████| 1/1 [00:00<?, ?it/s]\n",
      "Retrieving ElectronicStructureDoc documents: 100%|█████████████████| 1/1 [00:00<?, ?it/s]\n",
      "Retrieving ElectronicStructureDoc documents: 100%|█████████████████| 1/1 [00:00<?, ?it/s]\n",
      "Retrieving ElectronicStructureDoc documents: 100%|█████████████████| 1/1 [00:00<?, ?it/s]\n",
      "Retrieving ElectronicStructureDoc documents: 100%|█████████████████| 1/1 [00:00<?, ?it/s]\n",
      "Retrieving ElectronicStructureDoc documents: 100%|█████████████████| 1/1 [00:00<?, ?it/s]\n",
      "Retrieving ElectronicStructureDoc documents: 100%|█████████████████| 1/1 [00:00<?, ?it/s]\n",
      "Retrieving ElectronicStructureDoc documents: 100%|█████████████████| 1/1 [00:00<?, ?it/s]\n",
      "Retrieving ElectronicStructureDoc documents: 100%|█████████████████| 1/1 [00:00<?, ?it/s]\n"
     ]
    },
    {
     "name": "stdout",
     "output_type": "stream",
     "text": [
      "mp-1229081 70 15\n"
     ]
    },
    {
     "name": "stderr",
     "output_type": "stream",
     "text": [
      "Retrieving ElectronicStructureDoc documents: 100%|█████████████████| 1/1 [00:00<?, ?it/s]\n",
      "Retrieving ElectronicStructureDoc documents: 100%|█████████████████| 1/1 [00:00<?, ?it/s]\n",
      "Retrieving ElectronicStructureDoc documents: 100%|████████| 1/1 [00:00<00:00, 285.15it/s]\n",
      "Retrieving ElectronicStructureDoc documents: 100%|█████████████████| 1/1 [00:00<?, ?it/s]\n",
      "Retrieving ElectronicStructureDoc documents: 100%|█████████████████| 1/1 [00:00<?, ?it/s]\n",
      "Retrieving ElectronicStructureDoc documents: 100%|█████████████████| 1/1 [00:00<?, ?it/s]\n",
      "Retrieving ElectronicStructureDoc documents: 100%|█████████████████| 1/1 [00:00<?, ?it/s]\n",
      "Retrieving ElectronicStructureDoc documents: 100%|█████████████████| 1/1 [00:00<?, ?it/s]\n",
      "Retrieving ElectronicStructureDoc documents: 100%|█████████████████| 1/1 [00:00<?, ?it/s]\n",
      "Retrieving ElectronicStructureDoc documents: 100%|█████████████████| 1/1 [00:00<?, ?it/s]\n"
     ]
    },
    {
     "name": "stdout",
     "output_type": "stream",
     "text": [
      "mp-1229105 80 15\n"
     ]
    },
    {
     "name": "stderr",
     "output_type": "stream",
     "text": [
      "Retrieving ElectronicStructureDoc documents: 100%|████████| 1/1 [00:00<00:00, 496.66it/s]\n",
      "Retrieving ElectronicStructureDoc documents: 100%|█████████████████| 1/1 [00:00<?, ?it/s]\n",
      "Retrieving ElectronicStructureDoc documents: 100%|█████████████████| 1/1 [00:00<?, ?it/s]\n",
      "Retrieving ElectronicStructureDoc documents: 100%|█████████████████| 1/1 [00:00<?, ?it/s]\n",
      "Retrieving ElectronicStructureDoc documents: 100%|█████████████████| 1/1 [00:00<?, ?it/s]\n",
      "Retrieving ElectronicStructureDoc documents: 100%|█████████████████| 1/1 [00:00<?, ?it/s]\n",
      "Retrieving ElectronicStructureDoc documents: 100%|█████████████████| 1/1 [00:00<?, ?it/s]\n",
      "Retrieving ElectronicStructureDoc documents: 100%|█████████████████| 1/1 [00:00<?, ?it/s]\n",
      "Retrieving ElectronicStructureDoc documents: 100%|█████████████████| 1/1 [00:00<?, ?it/s]\n",
      "Retrieving ElectronicStructureDoc documents: 100%|█████████████████| 1/1 [00:00<?, ?it/s]\n"
     ]
    },
    {
     "name": "stdout",
     "output_type": "stream",
     "text": [
      "mp-1229125 90 15\n"
     ]
    },
    {
     "name": "stderr",
     "output_type": "stream",
     "text": [
      "Retrieving ElectronicStructureDoc documents: 100%|█████████████████| 1/1 [00:00<?, ?it/s]\n",
      "Retrieving ElectronicStructureDoc documents: 100%|█████████████████| 1/1 [00:00<?, ?it/s]\n",
      "Retrieving ElectronicStructureDoc documents: 100%|█████████████████| 1/1 [00:00<?, ?it/s]\n",
      "Retrieving ElectronicStructureDoc documents: 100%|█████████████████| 1/1 [00:00<?, ?it/s]\n",
      "Retrieving ElectronicStructureDoc documents: 100%|████████| 1/1 [00:00<00:00, 690.65it/s]\n",
      "Retrieving ElectronicStructureDoc documents: 100%|█████████████████| 1/1 [00:00<?, ?it/s]\n",
      "Retrieving ElectronicStructureDoc documents: 100%|█████████████████| 1/1 [00:00<?, ?it/s]\n",
      "Retrieving ElectronicStructureDoc documents: 100%|█████████████████| 1/1 [00:00<?, ?it/s]\n",
      "Retrieving ElectronicStructureDoc documents: 100%|█████████████████| 1/1 [00:00<?, ?it/s]\n",
      "Retrieving ElectronicStructureDoc documents: 100%|█████████████████| 1/1 [00:00<?, ?it/s]\n"
     ]
    },
    {
     "name": "stdout",
     "output_type": "stream",
     "text": [
      "mp-1232214 0 16\n"
     ]
    },
    {
     "name": "stderr",
     "output_type": "stream",
     "text": [
      "Retrieving ElectronicStructureDoc documents: 100%|█████████████████| 1/1 [00:00<?, ?it/s]\n",
      "Retrieving ElectronicStructureDoc documents: 100%|█████████████████| 1/1 [00:00<?, ?it/s]\n",
      "Retrieving ElectronicStructureDoc documents: 100%|█████████████████| 1/1 [00:00<?, ?it/s]\n",
      "Retrieving ElectronicStructureDoc documents: 100%|█████████████████| 1/1 [00:00<?, ?it/s]\n",
      "Retrieving ElectronicStructureDoc documents: 100%|█████████████████| 1/1 [00:00<?, ?it/s]\n",
      "Retrieving ElectronicStructureDoc documents: 100%|████████| 1/1 [00:00<00:00, 196.21it/s]\n",
      "Retrieving ElectronicStructureDoc documents: 100%|█████████████████| 1/1 [00:00<?, ?it/s]\n",
      "Retrieving ElectronicStructureDoc documents: 100%|█████████████████| 1/1 [00:00<?, ?it/s]\n",
      "Retrieving ElectronicStructureDoc documents: 100%|████████| 1/1 [00:00<00:00, 995.56it/s]\n",
      "Retrieving ElectronicStructureDoc documents: 100%|█████████████████| 1/1 [00:00<?, ?it/s]\n"
     ]
    },
    {
     "name": "stdout",
     "output_type": "stream",
     "text": [
      "mp-1232271 10 16\n"
     ]
    },
    {
     "name": "stderr",
     "output_type": "stream",
     "text": [
      "Retrieving ElectronicStructureDoc documents: 100%|█████████████████| 1/1 [00:00<?, ?it/s]\n",
      "Retrieving ElectronicStructureDoc documents: 100%|█████████████████| 1/1 [00:00<?, ?it/s]\n",
      "Retrieving ElectronicStructureDoc documents: 100%|█████████████████| 1/1 [00:00<?, ?it/s]\n",
      "Retrieving ElectronicStructureDoc documents: 100%|█████████████████| 1/1 [00:00<?, ?it/s]\n",
      "Retrieving ElectronicStructureDoc documents: 100%|█████████████████| 1/1 [00:00<?, ?it/s]\n",
      "Retrieving ElectronicStructureDoc documents: 100%|█████████████████| 1/1 [00:00<?, ?it/s]\n",
      "Retrieving ElectronicStructureDoc documents: 100%|█████████████████| 1/1 [00:00<?, ?it/s]\n",
      "Retrieving ElectronicStructureDoc documents: 100%|████████| 1/1 [00:00<00:00, 640.16it/s]\n",
      "Retrieving ElectronicStructureDoc documents: 100%|█████████████████| 1/1 [00:00<?, ?it/s]\n",
      "Retrieving ElectronicStructureDoc documents: 100%|█████████████████| 1/1 [00:00<?, ?it/s]\n"
     ]
    },
    {
     "name": "stdout",
     "output_type": "stream",
     "text": [
      "mp-1232316 20 16\n"
     ]
    },
    {
     "name": "stderr",
     "output_type": "stream",
     "text": [
      "Retrieving ElectronicStructureDoc documents: 100%|█████████████████| 1/1 [00:00<?, ?it/s]\n",
      "Retrieving ElectronicStructureDoc documents: 100%|███████| 1/1 [00:00<00:00, 1102.60it/s]\n",
      "Retrieving ElectronicStructureDoc documents: 100%|█████████████████| 1/1 [00:00<?, ?it/s]\n",
      "Retrieving ElectronicStructureDoc documents: 100%|███████| 1/1 [00:00<00:00, 1979.38it/s]\n",
      "Retrieving ElectronicStructureDoc documents: 100%|█████████████████| 1/1 [00:00<?, ?it/s]\n",
      "Retrieving ElectronicStructureDoc documents: 100%|███████| 1/1 [00:00<00:00, 1909.97it/s]\n",
      "Retrieving ElectronicStructureDoc documents: 100%|█████████████████| 1/1 [00:00<?, ?it/s]\n",
      "Retrieving ElectronicStructureDoc documents: 100%|█████████████████| 1/1 [00:00<?, ?it/s]\n",
      "Retrieving ElectronicStructureDoc documents: 100%|█████████████████| 1/1 [00:00<?, ?it/s]\n",
      "Retrieving ElectronicStructureDoc documents: 100%|█████████████████| 1/1 [00:00<?, ?it/s]\n"
     ]
    },
    {
     "name": "stdout",
     "output_type": "stream",
     "text": [
      "mp-1232372 30 16\n"
     ]
    },
    {
     "name": "stderr",
     "output_type": "stream",
     "text": [
      "Retrieving ElectronicStructureDoc documents: 100%|█████████████████| 1/1 [00:00<?, ?it/s]\n",
      "Retrieving ElectronicStructureDoc documents: 100%|█████████████████| 1/1 [00:00<?, ?it/s]\n",
      "Retrieving ElectronicStructureDoc documents: 100%|█████████████████| 1/1 [00:00<?, ?it/s]\n",
      "Retrieving ElectronicStructureDoc documents: 100%|█████████████████| 1/1 [00:00<?, ?it/s]\n",
      "Retrieving ElectronicStructureDoc documents: 100%|█████████████████| 1/1 [00:00<?, ?it/s]\n",
      "Retrieving ElectronicStructureDoc documents: 100%|█████████████████| 1/1 [00:00<?, ?it/s]\n",
      "Retrieving ElectronicStructureDoc documents: 100%|█████████████████| 1/1 [00:00<?, ?it/s]\n",
      "Retrieving ElectronicStructureDoc documents: 100%|████████| 1/1 [00:00<00:00, 794.23it/s]\n",
      "Retrieving ElectronicStructureDoc documents: 100%|████████| 1/1 [00:00<00:00, 273.64it/s]\n",
      "Retrieving ElectronicStructureDoc documents: 100%|█████████████████| 1/1 [00:00<?, ?it/s]\n"
     ]
    },
    {
     "name": "stdout",
     "output_type": "stream",
     "text": [
      "mp-1236914 40 16\n"
     ]
    },
    {
     "name": "stderr",
     "output_type": "stream",
     "text": [
      "Retrieving ElectronicStructureDoc documents: 100%|█████████████████| 1/1 [00:00<?, ?it/s]\n",
      "Retrieving ElectronicStructureDoc documents: 100%|█████████████████| 1/1 [00:00<?, ?it/s]\n",
      "Retrieving ElectronicStructureDoc documents: 100%|███████| 1/1 [00:00<00:00, 1009.70it/s]\n",
      "Retrieving ElectronicStructureDoc documents: 100%|█████████████████| 1/1 [00:00<?, ?it/s]\n",
      "Retrieving ElectronicStructureDoc documents: 100%|█████████████████| 1/1 [00:00<?, ?it/s]\n",
      "Retrieving ElectronicStructureDoc documents: 100%|█████████████████| 1/1 [00:00<?, ?it/s]\n",
      "Retrieving ElectronicStructureDoc documents: 100%|█████████████████| 1/1 [00:00<?, ?it/s]\n",
      "Retrieving ElectronicStructureDoc documents: 100%|█████████████████| 1/1 [00:00<?, ?it/s]\n",
      "Retrieving ElectronicStructureDoc documents: 100%|█████████████████| 1/1 [00:00<?, ?it/s]\n",
      "Retrieving ElectronicStructureDoc documents: 100%|█████████████████| 1/1 [00:00<?, ?it/s]\n"
     ]
    },
    {
     "name": "stdout",
     "output_type": "stream",
     "text": [
      "mp-1237804 50 16\n"
     ]
    },
    {
     "name": "stderr",
     "output_type": "stream",
     "text": [
      "Retrieving ElectronicStructureDoc documents: 100%|█████████████████| 1/1 [00:00<?, ?it/s]\n",
      "Retrieving ElectronicStructureDoc documents: 100%|█████████████████| 1/1 [00:00<?, ?it/s]\n",
      "Retrieving ElectronicStructureDoc documents: 100%|█████████████████| 1/1 [00:00<?, ?it/s]\n",
      "Retrieving ElectronicStructureDoc documents: 100%|████████| 1/1 [00:00<00:00, 663.76it/s]\n",
      "Retrieving ElectronicStructureDoc documents: 100%|█████████████████| 1/1 [00:00<?, ?it/s]\n",
      "Retrieving ElectronicStructureDoc documents: 100%|█████████████████| 1/1 [00:00<?, ?it/s]\n",
      "Retrieving ElectronicStructureDoc documents: 100%|█████████████████| 1/1 [00:00<?, ?it/s]\n",
      "Retrieving ElectronicStructureDoc documents: 100%|█████████████████| 1/1 [00:00<?, ?it/s]\n",
      "Retrieving ElectronicStructureDoc documents: 100%|█████████████████| 1/1 [00:00<?, ?it/s]\n",
      "Retrieving ElectronicStructureDoc documents: 100%|█████████████████| 1/1 [00:00<?, ?it/s]\n"
     ]
    },
    {
     "name": "stdout",
     "output_type": "stream",
     "text": [
      "mp-1238777 60 16\n"
     ]
    },
    {
     "name": "stderr",
     "output_type": "stream",
     "text": [
      "Retrieving ElectronicStructureDoc documents: 100%|█████████████████| 1/1 [00:00<?, ?it/s]\n",
      "Retrieving ElectronicStructureDoc documents: 100%|█████████████████| 1/1 [00:00<?, ?it/s]\n",
      "Retrieving ElectronicStructureDoc documents: 100%|█████████████████| 1/1 [00:00<?, ?it/s]\n",
      "Retrieving ElectronicStructureDoc documents: 100%|████████| 1/1 [00:00<00:00, 545.57it/s]\n",
      "Retrieving ElectronicStructureDoc documents: 100%|█████████████████| 1/1 [00:00<?, ?it/s]\n",
      "Retrieving ElectronicStructureDoc documents: 100%|█████████████████| 1/1 [00:00<?, ?it/s]\n",
      "Retrieving ElectronicStructureDoc documents: 100%|████████| 1/1 [00:00<00:00, 969.11it/s]\n",
      "Retrieving ElectronicStructureDoc documents: 100%|█████████████████| 1/1 [00:00<?, ?it/s]\n",
      "Retrieving ElectronicStructureDoc documents: 100%|█████████████████| 1/1 [00:00<?, ?it/s]\n",
      "Retrieving ElectronicStructureDoc documents: 100%|█████████████████| 1/1 [00:00<?, ?it/s]\n"
     ]
    },
    {
     "name": "stdout",
     "output_type": "stream",
     "text": [
      "mp-1238832 70 16\n"
     ]
    },
    {
     "name": "stderr",
     "output_type": "stream",
     "text": [
      "Retrieving ElectronicStructureDoc documents: 100%|█████████████████| 1/1 [00:00<?, ?it/s]\n",
      "Retrieving ElectronicStructureDoc documents: 100%|█████████████████| 1/1 [00:00<?, ?it/s]\n",
      "Retrieving ElectronicStructureDoc documents: 100%|███████| 1/1 [00:00<00:00, 2008.77it/s]\n",
      "Retrieving ElectronicStructureDoc documents: 100%|█████████████████| 1/1 [00:00<?, ?it/s]\n",
      "Retrieving ElectronicStructureDoc documents: 100%|█████████████████| 1/1 [00:00<?, ?it/s]\n",
      "Retrieving ElectronicStructureDoc documents: 100%|█████████████████| 1/1 [00:00<?, ?it/s]\n",
      "Retrieving ElectronicStructureDoc documents: 100%|█████████████████| 1/1 [00:00<?, ?it/s]\n",
      "Retrieving ElectronicStructureDoc documents: 100%|█████████████████| 1/1 [00:00<?, ?it/s]\n",
      "Retrieving ElectronicStructureDoc documents: 100%|████████| 1/1 [00:00<00:00, 963.76it/s]\n",
      "Retrieving ElectronicStructureDoc documents: 100%|█████████████████| 1/1 [00:00<?, ?it/s]\n"
     ]
    },
    {
     "name": "stdout",
     "output_type": "stream",
     "text": [
      "mp-1239087 80 16\n"
     ]
    },
    {
     "name": "stderr",
     "output_type": "stream",
     "text": [
      "Retrieving ElectronicStructureDoc documents: 100%|█████████████████| 1/1 [00:00<?, ?it/s]\n",
      "Retrieving ElectronicStructureDoc documents: 100%|█████████████████| 1/1 [00:00<?, ?it/s]\n",
      "Retrieving ElectronicStructureDoc documents: 100%|█████████████████| 1/1 [00:00<?, ?it/s]\n",
      "Retrieving ElectronicStructureDoc documents: 100%|████████| 1/1 [00:00<00:00, 989.22it/s]\n",
      "Retrieving ElectronicStructureDoc documents: 100%|█████████████████| 1/1 [00:00<?, ?it/s]\n",
      "Retrieving ElectronicStructureDoc documents: 100%|█████████████████| 1/1 [00:00<?, ?it/s]\n",
      "Retrieving ElectronicStructureDoc documents: 100%|█████████████████| 1/1 [00:00<?, ?it/s]\n",
      "Retrieving ElectronicStructureDoc documents: 100%|███████| 1/1 [00:00<00:00, 1150.07it/s]\n",
      "Retrieving ElectronicStructureDoc documents: 100%|█████████████████| 1/1 [00:00<?, ?it/s]\n",
      "Retrieving ElectronicStructureDoc documents: 100%|████████| 1/1 [00:00<00:00, 260.37it/s]\n"
     ]
    },
    {
     "name": "stdout",
     "output_type": "stream",
     "text": [
      "mp-1245010 90 16\n"
     ]
    },
    {
     "name": "stderr",
     "output_type": "stream",
     "text": [
      "Retrieving ElectronicStructureDoc documents: 100%|█████████████████| 1/1 [00:00<?, ?it/s]\n",
      "Retrieving ElectronicStructureDoc documents: 100%|█████████████████| 1/1 [00:00<?, ?it/s]\n",
      "Retrieving ElectronicStructureDoc documents: 100%|█████████████████| 1/1 [00:00<?, ?it/s]\n",
      "Retrieving ElectronicStructureDoc documents: 100%|█████████████████| 1/1 [00:00<?, ?it/s]\n",
      "Retrieving ElectronicStructureDoc documents: 100%|███████| 1/1 [00:00<00:00, 1000.31it/s]\n",
      "Retrieving ElectronicStructureDoc documents: 100%|█████████████████| 1/1 [00:00<?, ?it/s]\n",
      "Retrieving ElectronicStructureDoc documents: 100%|█████████████████| 1/1 [00:00<?, ?it/s]\n",
      "Retrieving ElectronicStructureDoc documents: 100%|█████████████████| 1/1 [00:00<?, ?it/s]\n",
      "Retrieving ElectronicStructureDoc documents: 100%|█████████████████| 1/1 [00:00<?, ?it/s]\n",
      "Retrieving ElectronicStructureDoc documents: 100%|█████████████████| 1/1 [00:00<?, ?it/s]\n"
     ]
    },
    {
     "name": "stdout",
     "output_type": "stream",
     "text": [
      "mp-1263325 0 17\n"
     ]
    },
    {
     "name": "stderr",
     "output_type": "stream",
     "text": [
      "Retrieving ElectronicStructureDoc documents: 100%|█████████████████| 1/1 [00:00<?, ?it/s]\n",
      "Retrieving ElectronicStructureDoc documents: 100%|█████████████████| 1/1 [00:00<?, ?it/s]\n",
      "Retrieving ElectronicStructureDoc documents: 100%|█████████████████| 1/1 [00:00<?, ?it/s]\n",
      "Retrieving ElectronicStructureDoc documents: 100%|█████████████████| 1/1 [00:00<?, ?it/s]\n",
      "Retrieving ElectronicStructureDoc documents: 100%|█████████████████| 1/1 [00:00<?, ?it/s]\n",
      "Retrieving ElectronicStructureDoc documents: 100%|████████| 1/1 [00:00<00:00, 998.88it/s]\n",
      "Retrieving ElectronicStructureDoc documents: 100%|████████| 1/1 [00:00<00:00, 999.60it/s]\n",
      "Retrieving ElectronicStructureDoc documents: 100%|█████████████████| 1/1 [00:00<?, ?it/s]\n",
      "Retrieving ElectronicStructureDoc documents: 100%|█████████████████| 1/1 [00:00<?, ?it/s]\n",
      "Retrieving ElectronicStructureDoc documents: 100%|█████████████████| 1/1 [00:00<?, ?it/s]\n"
     ]
    },
    {
     "name": "stdout",
     "output_type": "stream",
     "text": [
      "mp-1294264 10 17\n"
     ]
    },
    {
     "name": "stderr",
     "output_type": "stream",
     "text": [
      "Retrieving ElectronicStructureDoc documents: 100%|█████████████████| 1/1 [00:00<?, ?it/s]\n",
      "Retrieving ElectronicStructureDoc documents: 100%|█████████████████| 1/1 [00:00<?, ?it/s]\n",
      "Retrieving ElectronicStructureDoc documents: 100%|█████████████████| 1/1 [00:00<?, ?it/s]\n",
      "Retrieving ElectronicStructureDoc documents: 100%|█████████████████| 1/1 [00:00<?, ?it/s]\n",
      "Retrieving ElectronicStructureDoc documents: 100%|█████████████████| 1/1 [00:00<?, ?it/s]\n",
      "Retrieving ElectronicStructureDoc documents: 100%|█████████████████| 1/1 [00:00<?, ?it/s]\n",
      "Retrieving ElectronicStructureDoc documents: 100%|████████| 1/1 [00:00<00:00, 999.12it/s]\n",
      "Retrieving ElectronicStructureDoc documents: 100%|████████| 1/1 [00:00<00:00, 990.86it/s]\n",
      "Retrieving ElectronicStructureDoc documents: 100%|████████| 1/1 [00:00<00:00, 978.15it/s]\n",
      "Retrieving ElectronicStructureDoc documents: 100%|█████████████████| 1/1 [00:00<?, ?it/s]\n"
     ]
    },
    {
     "name": "stdout",
     "output_type": "stream",
     "text": [
      "mp-1382022 20 17\n"
     ]
    },
    {
     "name": "stderr",
     "output_type": "stream",
     "text": [
      "Retrieving ElectronicStructureDoc documents: 100%|█████████████████| 1/1 [00:00<?, ?it/s]\n",
      "Retrieving ElectronicStructureDoc documents: 100%|█████████████████| 1/1 [00:00<?, ?it/s]\n",
      "Retrieving ElectronicStructureDoc documents: 100%|███████| 1/1 [00:00<00:00, 1001.51it/s]\n",
      "Retrieving ElectronicStructureDoc documents: 100%|█████████████████| 1/1 [00:00<?, ?it/s]\n",
      "Retrieving ElectronicStructureDoc documents: 100%|████████| 1/1 [00:00<00:00, 500.04it/s]\n",
      "Retrieving ElectronicStructureDoc documents: 100%|███████| 1/1 [00:00<00:00, 1001.98it/s]\n",
      "Retrieving ElectronicStructureDoc documents: 100%|█████████████████| 1/1 [00:00<?, ?it/s]\n",
      "Retrieving ElectronicStructureDoc documents: 100%|█████████████████| 1/1 [00:00<?, ?it/s]\n",
      "Retrieving ElectronicStructureDoc documents: 100%|████████| 1/1 [00:00<00:00, 628.17it/s]\n",
      "Retrieving ElectronicStructureDoc documents: 100%|████████| 1/1 [00:00<00:00, 999.60it/s]\n"
     ]
    },
    {
     "name": "stdout",
     "output_type": "stream",
     "text": [
      "mp-1383356 30 17\n"
     ]
    },
    {
     "name": "stderr",
     "output_type": "stream",
     "text": [
      "Retrieving ElectronicStructureDoc documents: 100%|█████████████████| 1/1 [00:00<?, ?it/s]\n",
      "Retrieving ElectronicStructureDoc documents: 100%|█████████████████| 1/1 [00:00<?, ?it/s]\n",
      "Retrieving ElectronicStructureDoc documents: 100%|█████████████████| 1/1 [00:00<?, ?it/s]\n",
      "Retrieving ElectronicStructureDoc documents: 100%|████████| 1/1 [00:00<00:00, 960.89it/s]\n",
      "Retrieving ElectronicStructureDoc documents: 100%|█████████████████| 1/1 [00:00<?, ?it/s]\n",
      "Retrieving ElectronicStructureDoc documents: 100%|████████| 1/1 [00:00<00:00, 659.17it/s]\n",
      "Retrieving ElectronicStructureDoc documents: 100%|█████████████████| 1/1 [00:00<?, ?it/s]\n",
      "Retrieving ElectronicStructureDoc documents: 100%|█████████████████| 1/1 [00:00<?, ?it/s]\n",
      "Retrieving ElectronicStructureDoc documents: 100%|█████████████████| 1/1 [00:00<?, ?it/s]\n",
      "Retrieving ElectronicStructureDoc documents: 100%|█████████████████| 1/1 [00:00<?, ?it/s]\n"
     ]
    },
    {
     "name": "stdout",
     "output_type": "stream",
     "text": [
      "mp-1385211 40 17\n"
     ]
    },
    {
     "name": "stderr",
     "output_type": "stream",
     "text": [
      "Retrieving ElectronicStructureDoc documents: 100%|█████████████████| 1/1 [00:00<?, ?it/s]\n",
      "Retrieving ElectronicStructureDoc documents: 100%|█████████████████| 1/1 [00:00<?, ?it/s]\n",
      "Retrieving ElectronicStructureDoc documents: 100%|█████████████████| 1/1 [00:00<?, ?it/s]\n",
      "Retrieving ElectronicStructureDoc documents: 100%|█████████████████| 1/1 [00:00<?, ?it/s]\n",
      "Retrieving ElectronicStructureDoc documents: 100%|█████████████████| 1/1 [00:00<?, ?it/s]\n",
      "Retrieving ElectronicStructureDoc documents: 100%|████████| 1/1 [00:00<00:00, 998.41it/s]\n",
      "Retrieving ElectronicStructureDoc documents: 100%|█████████████████| 1/1 [00:00<?, ?it/s]\n",
      "Retrieving ElectronicStructureDoc documents: 100%|█████████████████| 1/1 [00:00<?, ?it/s]\n",
      "Retrieving ElectronicStructureDoc documents: 100%|█████████████████| 1/1 [00:00<?, ?it/s]\n",
      "Retrieving ElectronicStructureDoc documents: 100%|█████████████████| 1/1 [00:00<?, ?it/s]\n"
     ]
    },
    {
     "name": "stdout",
     "output_type": "stream",
     "text": [
      "mp-1385937 50 17\n"
     ]
    },
    {
     "name": "stderr",
     "output_type": "stream",
     "text": [
      "Retrieving ElectronicStructureDoc documents: 100%|█████████████████| 1/1 [00:00<?, ?it/s]\n",
      "Retrieving ElectronicStructureDoc documents: 100%|█████████████████| 1/1 [00:00<?, ?it/s]\n",
      "Retrieving ElectronicStructureDoc documents: 100%|█████████████████| 1/1 [00:00<?, ?it/s]\n",
      "Retrieving ElectronicStructureDoc documents: 100%|█████████████████| 1/1 [00:00<?, ?it/s]\n",
      "Retrieving ElectronicStructureDoc documents: 100%|█████████████████| 1/1 [00:00<?, ?it/s]\n",
      "Retrieving ElectronicStructureDoc documents: 100%|█████████████████| 1/1 [00:00<?, ?it/s]\n",
      "Retrieving ElectronicStructureDoc documents: 100%|█████████████████| 1/1 [00:00<?, ?it/s]\n",
      "Retrieving ElectronicStructureDoc documents: 100%|█████████████████| 1/1 [00:00<?, ?it/s]\n",
      "Retrieving ElectronicStructureDoc documents: 100%|█████████████████| 1/1 [00:00<?, ?it/s]\n",
      "Retrieving ElectronicStructureDoc documents: 100%|███████| 1/1 [00:00<00:00, 1119.68it/s]\n"
     ]
    },
    {
     "name": "stdout",
     "output_type": "stream",
     "text": [
      "mp-1386487 60 17\n"
     ]
    },
    {
     "name": "stderr",
     "output_type": "stream",
     "text": [
      "Retrieving ElectronicStructureDoc documents: 100%|█████████████████| 1/1 [00:00<?, ?it/s]\n",
      "Retrieving ElectronicStructureDoc documents: 100%|█████████████████| 1/1 [00:00<?, ?it/s]\n",
      "Retrieving ElectronicStructureDoc documents: 100%|█████████████████| 1/1 [00:00<?, ?it/s]\n",
      "Retrieving ElectronicStructureDoc documents: 100%|█████████████████| 1/1 [00:00<?, ?it/s]\n",
      "Retrieving ElectronicStructureDoc documents: 100%|███████| 1/1 [00:00<00:00, 1139.14it/s]\n",
      "Retrieving ElectronicStructureDoc documents: 100%|█████████████████| 1/1 [00:00<?, ?it/s]\n",
      "Retrieving ElectronicStructureDoc documents: 100%|█████████████████| 1/1 [00:00<?, ?it/s]\n",
      "Retrieving ElectronicStructureDoc documents: 100%|█████████████████| 1/1 [00:00<?, ?it/s]\n",
      "Retrieving ElectronicStructureDoc documents: 100%|████████| 1/1 [00:00<00:00, 994.15it/s]\n",
      "Retrieving ElectronicStructureDoc documents: 100%|█████████████████| 1/1 [00:00<?, ?it/s]\n"
     ]
    },
    {
     "name": "stdout",
     "output_type": "stream",
     "text": [
      "mp-1387328 70 17\n"
     ]
    },
    {
     "name": "stderr",
     "output_type": "stream",
     "text": [
      "Retrieving ElectronicStructureDoc documents: 100%|█████████████████| 1/1 [00:00<?, ?it/s]\n",
      "Retrieving ElectronicStructureDoc documents: 100%|█████████████████| 1/1 [00:00<?, ?it/s]\n",
      "Retrieving ElectronicStructureDoc documents: 100%|█████████████████| 1/1 [00:00<?, ?it/s]\n",
      "Retrieving ElectronicStructureDoc documents: 100%|█████████████████| 1/1 [00:00<?, ?it/s]\n",
      "Retrieving ElectronicStructureDoc documents: 100%|████████| 1/1 [00:00<00:00, 159.81it/s]\n",
      "Retrieving ElectronicStructureDoc documents: 100%|█████████████████| 1/1 [00:00<?, ?it/s]\n",
      "Retrieving ElectronicStructureDoc documents: 100%|█████████████████| 1/1 [00:00<?, ?it/s]\n",
      "Retrieving ElectronicStructureDoc documents: 100%|█████████████████| 1/1 [00:00<?, ?it/s]\n",
      "Retrieving ElectronicStructureDoc documents: 100%|███████| 1/1 [00:00<00:00, 1001.27it/s]\n",
      "Retrieving ElectronicStructureDoc documents: 100%|████████| 1/1 [00:00<00:00, 252.44it/s]\n"
     ]
    },
    {
     "name": "stdout",
     "output_type": "stream",
     "text": [
      "mp-1388058 80 17\n"
     ]
    },
    {
     "name": "stderr",
     "output_type": "stream",
     "text": [
      "Retrieving ElectronicStructureDoc documents: 100%|█████████████████| 1/1 [00:00<?, ?it/s]\n",
      "Retrieving ElectronicStructureDoc documents: 100%|█████████████████| 1/1 [00:00<?, ?it/s]\n",
      "Retrieving ElectronicStructureDoc documents: 100%|█████████████████| 1/1 [00:00<?, ?it/s]\n",
      "Retrieving ElectronicStructureDoc documents: 100%|████████| 1/1 [00:00<00:00, 999.12it/s]\n",
      "Retrieving ElectronicStructureDoc documents: 100%|█████████████████| 1/1 [00:00<?, ?it/s]\n",
      "Retrieving ElectronicStructureDoc documents: 100%|█████████████████| 1/1 [00:00<?, ?it/s]\n",
      "Retrieving ElectronicStructureDoc documents: 100%|█████████████████| 1/1 [00:00<?, ?it/s]\n",
      "Retrieving ElectronicStructureDoc documents: 100%|███████| 1/1 [00:00<00:00, 1088.30it/s]\n",
      "Retrieving ElectronicStructureDoc documents: 100%|█████████████████| 1/1 [00:00<?, ?it/s]\n",
      "Retrieving ElectronicStructureDoc documents: 100%|█████████████████| 1/1 [00:00<?, ?it/s]\n"
     ]
    },
    {
     "name": "stdout",
     "output_type": "stream",
     "text": [
      "mp-1390540 90 17\n"
     ]
    },
    {
     "name": "stderr",
     "output_type": "stream",
     "text": [
      "Retrieving ElectronicStructureDoc documents: 100%|█████████████████| 1/1 [00:00<?, ?it/s]\n",
      "Retrieving ElectronicStructureDoc documents: 100%|████████| 1/1 [00:00<00:00, 988.99it/s]\n",
      "Retrieving ElectronicStructureDoc documents: 100%|█████████████████| 1/1 [00:00<?, ?it/s]\n",
      "Retrieving ElectronicStructureDoc documents: 100%|███████| 1/1 [00:00<00:00, 1200.43it/s]\n",
      "Retrieving ElectronicStructureDoc documents: 100%|█████████████████| 1/1 [00:00<?, ?it/s]\n",
      "Retrieving ElectronicStructureDoc documents: 100%|█████████████████| 1/1 [00:00<?, ?it/s]\n",
      "Retrieving ElectronicStructureDoc documents: 100%|████████| 1/1 [00:00<00:00, 993.91it/s]\n",
      "Retrieving ElectronicStructureDoc documents: 100%|█████████████████| 1/1 [00:00<?, ?it/s]\n",
      "Retrieving ElectronicStructureDoc documents: 100%|███████| 1/1 [00:00<00:00, 1130.84it/s]\n",
      "Retrieving ElectronicStructureDoc documents: 100%|████████| 1/1 [00:00<00:00, 998.88it/s]\n"
     ]
    },
    {
     "name": "stdout",
     "output_type": "stream",
     "text": [
      "mp-1391320 0 18\n"
     ]
    },
    {
     "name": "stderr",
     "output_type": "stream",
     "text": [
      "Retrieving ElectronicStructureDoc documents: 100%|█████████████████| 1/1 [00:00<?, ?it/s]\n",
      "Retrieving ElectronicStructureDoc documents: 100%|███████| 1/1 [00:00<00:00, 1066.98it/s]\n",
      "Retrieving ElectronicStructureDoc documents: 100%|█████████████████| 1/1 [00:00<?, ?it/s]\n",
      "Retrieving ElectronicStructureDoc documents: 100%|█████████████████| 1/1 [00:00<?, ?it/s]\n",
      "Retrieving ElectronicStructureDoc documents: 100%|█████████████████| 1/1 [00:00<?, ?it/s]\n",
      "Retrieving ElectronicStructureDoc documents: 100%|████████| 1/1 [00:00<00:00, 974.97it/s]\n",
      "Retrieving ElectronicStructureDoc documents: 100%|███████| 1/1 [00:00<00:00, 1127.20it/s]\n",
      "Retrieving ElectronicStructureDoc documents: 100%|█████████████████| 1/1 [00:00<?, ?it/s]\n",
      "Retrieving ElectronicStructureDoc documents: 100%|█████████████████| 1/1 [00:00<?, ?it/s]\n",
      "Retrieving ElectronicStructureDoc documents: 100%|███████| 1/1 [00:00<00:00, 1109.31it/s]\n"
     ]
    },
    {
     "name": "stdout",
     "output_type": "stream",
     "text": [
      "mp-1392784 10 18\n"
     ]
    },
    {
     "name": "stderr",
     "output_type": "stream",
     "text": [
      "Retrieving ElectronicStructureDoc documents: 100%|█████████████████| 1/1 [00:00<?, ?it/s]\n",
      "Retrieving ElectronicStructureDoc documents: 100%|█████████████████| 1/1 [00:00<?, ?it/s]\n",
      "Retrieving ElectronicStructureDoc documents: 100%|█████████████████| 1/1 [00:00<?, ?it/s]\n",
      "Retrieving ElectronicStructureDoc documents: 100%|████████| 1/1 [00:00<00:00, 941.06it/s]\n",
      "Retrieving ElectronicStructureDoc documents: 100%|███████| 1/1 [00:00<00:00, 1036.40it/s]\n",
      "Retrieving ElectronicStructureDoc documents: 100%|███████| 1/1 [00:00<00:00, 5468.45it/s]\n",
      "Retrieving ElectronicStructureDoc documents: 100%|█████████████████| 1/1 [00:00<?, ?it/s]\n",
      "Retrieving ElectronicStructureDoc documents: 100%|█████████████████| 1/1 [00:00<?, ?it/s]\n",
      "Retrieving ElectronicStructureDoc documents: 100%|█████████████████| 1/1 [00:00<?, ?it/s]\n",
      "Retrieving ElectronicStructureDoc documents: 100%|█████████████████| 1/1 [00:00<?, ?it/s]\n"
     ]
    },
    {
     "name": "stdout",
     "output_type": "stream",
     "text": [
      "mp-1394183 20 18\n"
     ]
    },
    {
     "name": "stderr",
     "output_type": "stream",
     "text": [
      "Retrieving ElectronicStructureDoc documents: 100%|█████████████████| 1/1 [00:00<?, ?it/s]\n",
      "Retrieving ElectronicStructureDoc documents: 100%|███████| 1/1 [00:00<00:00, 1137.28it/s]\n",
      "Retrieving ElectronicStructureDoc documents: 100%|███████| 1/1 [00:00<00:00, 1109.60it/s]\n",
      "Retrieving ElectronicStructureDoc documents: 100%|█████████████████| 1/1 [00:00<?, ?it/s]\n",
      "Retrieving ElectronicStructureDoc documents: 100%|█████████████████| 1/1 [00:00<?, ?it/s]\n",
      "Retrieving ElectronicStructureDoc documents: 100%|███████| 1/1 [00:00<00:00, 1000.55it/s]\n",
      "Retrieving ElectronicStructureDoc documents: 100%|█████████████████| 1/1 [00:00<?, ?it/s]\n",
      "Retrieving ElectronicStructureDoc documents: 100%|█████████████████| 1/1 [00:00<?, ?it/s]\n",
      "Retrieving ElectronicStructureDoc documents: 100%|█████████████████| 1/1 [00:00<?, ?it/s]\n",
      "Retrieving ElectronicStructureDoc documents: 100%|█████████████████| 1/1 [00:00<?, ?it/s]\n"
     ]
    },
    {
     "name": "stdout",
     "output_type": "stream",
     "text": [
      "mp-1395840 30 18\n"
     ]
    },
    {
     "name": "stderr",
     "output_type": "stream",
     "text": [
      "Retrieving ElectronicStructureDoc documents: 100%|█████████████████| 1/1 [00:00<?, ?it/s]\n",
      "Retrieving ElectronicStructureDoc documents: 100%|████████| 1/1 [00:00<00:00, 495.02it/s]\n",
      "Retrieving ElectronicStructureDoc documents: 100%|█████████████████| 1/1 [00:00<?, ?it/s]\n",
      "Retrieving ElectronicStructureDoc documents: 100%|█████████████████| 1/1 [00:00<?, ?it/s]\n",
      "Retrieving ElectronicStructureDoc documents: 100%|█████████████████| 1/1 [00:00<?, ?it/s]\n",
      "Retrieving ElectronicStructureDoc documents: 100%|████████| 1/1 [00:00<00:00, 999.60it/s]\n",
      "Retrieving ElectronicStructureDoc documents: 100%|█████████████████| 1/1 [00:00<?, ?it/s]\n",
      "Retrieving ElectronicStructureDoc documents: 100%|█████████████████| 1/1 [00:00<?, ?it/s]\n",
      "Retrieving ElectronicStructureDoc documents: 100%|████████| 1/1 [00:00<00:00, 991.09it/s]\n",
      "Retrieving ElectronicStructureDoc documents: 100%|█████████████████| 1/1 [00:00<?, ?it/s]\n"
     ]
    },
    {
     "name": "stdout",
     "output_type": "stream",
     "text": [
      "mp-1396980 40 18\n"
     ]
    },
    {
     "name": "stderr",
     "output_type": "stream",
     "text": [
      "Retrieving ElectronicStructureDoc documents: 100%|█████████████████| 1/1 [00:00<?, ?it/s]\n",
      "Retrieving ElectronicStructureDoc documents: 100%|█████████████████| 1/1 [00:00<?, ?it/s]\n",
      "Retrieving ElectronicStructureDoc documents: 100%|█████████████████| 1/1 [00:00<?, ?it/s]\n",
      "Retrieving ElectronicStructureDoc documents: 100%|█████████████████| 1/1 [00:00<?, ?it/s]\n",
      "Retrieving ElectronicStructureDoc documents: 100%|███████| 1/1 [00:00<00:00, 1010.68it/s]\n",
      "Retrieving ElectronicStructureDoc documents: 100%|████████| 1/1 [00:00<00:00, 421.41it/s]\n",
      "Retrieving ElectronicStructureDoc documents: 100%|█████████████████| 1/1 [00:00<?, ?it/s]\n",
      "Retrieving ElectronicStructureDoc documents: 100%|█████████████████| 1/1 [00:00<?, ?it/s]\n",
      "Retrieving ElectronicStructureDoc documents: 100%|█████████████████| 1/1 [00:00<?, ?it/s]\n",
      "Retrieving ElectronicStructureDoc documents: 100%|█████████████████| 1/1 [00:00<?, ?it/s]\n"
     ]
    },
    {
     "name": "stdout",
     "output_type": "stream",
     "text": [
      "mp-1398749 50 18\n"
     ]
    },
    {
     "name": "stderr",
     "output_type": "stream",
     "text": [
      "Retrieving ElectronicStructureDoc documents: 100%|█████████████████| 1/1 [00:00<?, ?it/s]\n",
      "Retrieving ElectronicStructureDoc documents: 100%|█████████████████| 1/1 [00:00<?, ?it/s]\n",
      "Retrieving ElectronicStructureDoc documents: 100%|█████████████████| 1/1 [00:00<?, ?it/s]\n",
      "Retrieving ElectronicStructureDoc documents: 100%|█████████████████| 1/1 [00:00<?, ?it/s]\n",
      "Retrieving ElectronicStructureDoc documents: 100%|█████████████████| 1/1 [00:00<?, ?it/s]\n",
      "Retrieving ElectronicStructureDoc documents: 100%|████████| 1/1 [00:00<00:00, 903.94it/s]\n",
      "Retrieving ElectronicStructureDoc documents: 100%|█████████████████| 1/1 [00:00<?, ?it/s]\n",
      "Retrieving ElectronicStructureDoc documents: 100%|█████████████████| 1/1 [00:00<?, ?it/s]\n",
      "Retrieving ElectronicStructureDoc documents: 100%|███████| 1/1 [00:00<00:00, 1017.54it/s]\n",
      "Retrieving ElectronicStructureDoc documents: 100%|█████████████████| 1/1 [00:00<?, ?it/s]\n"
     ]
    },
    {
     "name": "stdout",
     "output_type": "stream",
     "text": [
      "mp-1399724 60 18\n"
     ]
    },
    {
     "name": "stderr",
     "output_type": "stream",
     "text": [
      "Retrieving ElectronicStructureDoc documents: 100%|█████████████████| 1/1 [00:00<?, ?it/s]\n",
      "Retrieving ElectronicStructureDoc documents: 100%|████████| 1/1 [00:00<00:00, 324.96it/s]\n",
      "Retrieving ElectronicStructureDoc documents: 100%|█████████████████| 1/1 [00:00<?, ?it/s]\n",
      "Retrieving ElectronicStructureDoc documents: 100%|████████| 1/1 [00:00<00:00, 660.83it/s]\n",
      "Retrieving ElectronicStructureDoc documents: 100%|█████████████████| 1/1 [00:00<?, ?it/s]\n",
      "Retrieving ElectronicStructureDoc documents: 100%|█████████████████| 1/1 [00:00<?, ?it/s]\n",
      "Retrieving ElectronicStructureDoc documents: 100%|███████| 1/1 [00:00<00:00, 1491.04it/s]\n",
      "Retrieving ElectronicStructureDoc documents: 100%|███████| 1/1 [00:00<00:00, 1096.55it/s]\n",
      "Retrieving ElectronicStructureDoc documents: 100%|████████| 1/1 [00:00<00:00, 256.28it/s]\n",
      "Retrieving ElectronicStructureDoc documents: 100%|██████| 1/1 [00:00<00:00, 10034.22it/s]\n"
     ]
    },
    {
     "name": "stdout",
     "output_type": "stream",
     "text": [
      "mp-1400762 70 18\n"
     ]
    },
    {
     "name": "stderr",
     "output_type": "stream",
     "text": [
      "Retrieving ElectronicStructureDoc documents: 100%|████████| 1/1 [00:00<00:00, 998.41it/s]\n",
      "Retrieving ElectronicStructureDoc documents: 100%|████████| 1/1 [00:00<00:00, 998.41it/s]\n",
      "Retrieving ElectronicStructureDoc documents: 100%|█████████████████| 1/1 [00:00<?, ?it/s]\n",
      "Retrieving ElectronicStructureDoc documents: 100%|█████████████████| 1/1 [00:00<?, ?it/s]\n",
      "Retrieving ElectronicStructureDoc documents: 100%|█████████████████| 1/1 [00:00<?, ?it/s]\n",
      "Retrieving ElectronicStructureDoc documents: 100%|█████████████████| 1/1 [00:00<?, ?it/s]\n",
      "Retrieving ElectronicStructureDoc documents: 100%|█████████████████| 1/1 [00:00<?, ?it/s]\n",
      "Retrieving ElectronicStructureDoc documents: 100%|████████| 1/1 [00:00<00:00, 948.08it/s]\n",
      "Retrieving ElectronicStructureDoc documents: 100%|█████████████████| 1/1 [00:00<?, ?it/s]\n",
      "Retrieving ElectronicStructureDoc documents: 100%|█████████████████| 1/1 [00:00<?, ?it/s]\n"
     ]
    },
    {
     "name": "stdout",
     "output_type": "stream",
     "text": [
      "mp-1402363 80 18\n"
     ]
    },
    {
     "name": "stderr",
     "output_type": "stream",
     "text": [
      "Retrieving ElectronicStructureDoc documents: 100%|█████████████████| 1/1 [00:00<?, ?it/s]\n",
      "Retrieving ElectronicStructureDoc documents: 100%|██████| 1/1 [00:00<00:00, 10727.12it/s]\n",
      "Retrieving ElectronicStructureDoc documents: 100%|███████| 1/1 [00:00<00:00, 1019.27it/s]\n",
      "Retrieving ElectronicStructureDoc documents: 100%|█████████████████| 1/1 [00:00<?, ?it/s]\n",
      "Retrieving ElectronicStructureDoc documents: 100%|█████████████████| 1/1 [00:00<?, ?it/s]\n",
      "Retrieving ElectronicStructureDoc documents: 100%|█████████████████| 1/1 [00:00<?, ?it/s]\n",
      "Retrieving ElectronicStructureDoc documents: 100%|█████████████████| 1/1 [00:00<?, ?it/s]\n",
      "Retrieving ElectronicStructureDoc documents: 100%|█████████████████| 1/1 [00:00<?, ?it/s]\n",
      "Retrieving ElectronicStructureDoc documents: 100%|███████| 1/1 [00:00<00:00, 1038.71it/s]\n",
      "Retrieving ElectronicStructureDoc documents: 100%|█████████████████| 1/1 [00:00<?, ?it/s]\n"
     ]
    },
    {
     "name": "stdout",
     "output_type": "stream",
     "text": [
      "mp-1403373 90 18\n"
     ]
    },
    {
     "name": "stderr",
     "output_type": "stream",
     "text": [
      "Retrieving ElectronicStructureDoc documents: 100%|███████| 1/1 [00:00<00:00, 1149.12it/s]\n",
      "Retrieving ElectronicStructureDoc documents: 100%|█████████████████| 1/1 [00:00<?, ?it/s]\n",
      "Retrieving ElectronicStructureDoc documents: 100%|█████████████████| 1/1 [00:00<?, ?it/s]\n",
      "Retrieving ElectronicStructureDoc documents: 100%|█████████████████| 1/1 [00:00<?, ?it/s]\n",
      "Retrieving ElectronicStructureDoc documents: 100%|█████████████████| 1/1 [00:00<?, ?it/s]\n",
      "Retrieving ElectronicStructureDoc documents: 100%|█████████████████| 1/1 [00:00<?, ?it/s]\n",
      "Retrieving ElectronicStructureDoc documents: 100%|████████| 1/1 [00:00<00:00, 891.08it/s]\n",
      "Retrieving ElectronicStructureDoc documents: 100%|█████████████████| 1/1 [00:00<?, ?it/s]\n",
      "Retrieving ElectronicStructureDoc documents: 100%|████████| 1/1 [00:00<00:00, 898.33it/s]\n",
      "Retrieving ElectronicStructureDoc documents: 100%|█████████████████| 1/1 [00:00<?, ?it/s]\n"
     ]
    },
    {
     "name": "stdout",
     "output_type": "stream",
     "text": [
      "mp-1404877 0 19\n"
     ]
    },
    {
     "name": "stderr",
     "output_type": "stream",
     "text": [
      "Retrieving ElectronicStructureDoc documents: 100%|█████████████████| 1/1 [00:00<?, ?it/s]\n",
      "Retrieving ElectronicStructureDoc documents: 100%|███████| 1/1 [00:00<00:00, 4702.13it/s]\n",
      "Retrieving ElectronicStructureDoc documents: 100%|█████████████████| 1/1 [00:00<?, ?it/s]\n",
      "Retrieving ElectronicStructureDoc documents: 100%|████████| 1/1 [00:00<00:00, 933.52it/s]\n",
      "Retrieving ElectronicStructureDoc documents: 100%|█████████████████| 1/1 [00:00<?, ?it/s]\n",
      "Retrieving ElectronicStructureDoc documents: 100%|█████████████████| 1/1 [00:00<?, ?it/s]\n",
      "Retrieving ElectronicStructureDoc documents: 100%|█████████████████| 1/1 [00:00<?, ?it/s]\n",
      "Retrieving ElectronicStructureDoc documents: 100%|█████████████████| 1/1 [00:00<?, ?it/s]\n",
      "Retrieving ElectronicStructureDoc documents: 100%|█████████████████| 1/1 [00:00<?, ?it/s]\n",
      "Retrieving ElectronicStructureDoc documents: 100%|█████████████████| 1/1 [00:00<?, ?it/s]\n"
     ]
    },
    {
     "name": "stdout",
     "output_type": "stream",
     "text": [
      "mp-1406123 10 19\n"
     ]
    },
    {
     "name": "stderr",
     "output_type": "stream",
     "text": [
      "Retrieving ElectronicStructureDoc documents: 100%|█████████████████| 1/1 [00:00<?, ?it/s]\n",
      "Retrieving ElectronicStructureDoc documents: 100%|█████████████████| 1/1 [00:00<?, ?it/s]\n",
      "Retrieving ElectronicStructureDoc documents: 100%|█████████████████| 1/1 [00:00<?, ?it/s]\n",
      "Retrieving ElectronicStructureDoc documents: 100%|█████████████████| 1/1 [00:00<?, ?it/s]\n",
      "Retrieving ElectronicStructureDoc documents: 100%|███████| 1/1 [00:00<00:00, 1001.03it/s]\n",
      "Retrieving ElectronicStructureDoc documents: 100%|█████████████████| 1/1 [00:00<?, ?it/s]\n",
      "Retrieving ElectronicStructureDoc documents: 100%|█████████████████| 1/1 [00:00<?, ?it/s]\n",
      "Retrieving ElectronicStructureDoc documents: 100%|█████████████████| 1/1 [00:00<?, ?it/s]\n",
      "Retrieving ElectronicStructureDoc documents: 100%|█████████████████| 1/1 [00:00<?, ?it/s]\n",
      "Retrieving ElectronicStructureDoc documents: 100%|███████| 1/1 [00:00<00:00, 1082.12it/s]\n"
     ]
    },
    {
     "name": "stdout",
     "output_type": "stream",
     "text": [
      "mp-1407385 20 19\n"
     ]
    },
    {
     "name": "stderr",
     "output_type": "stream",
     "text": [
      "Retrieving ElectronicStructureDoc documents: 100%|████████| 1/1 [00:00<00:00, 995.80it/s]\n",
      "Retrieving ElectronicStructureDoc documents: 100%|████████| 1/1 [00:00<00:00, 997.46it/s]\n",
      "Retrieving ElectronicStructureDoc documents: 100%|█████████████████| 1/1 [00:00<?, ?it/s]\n",
      "Retrieving ElectronicStructureDoc documents: 100%|█████████████████| 1/1 [00:00<?, ?it/s]\n",
      "Retrieving ElectronicStructureDoc documents: 100%|█████████████████| 1/1 [00:00<?, ?it/s]\n",
      "Retrieving ElectronicStructureDoc documents: 100%|█████████████████| 1/1 [00:00<?, ?it/s]\n",
      "Retrieving ElectronicStructureDoc documents: 100%|█████████████████| 1/1 [00:00<?, ?it/s]\n",
      "Retrieving ElectronicStructureDoc documents: 100%|█████████████████| 1/1 [00:00<?, ?it/s]\n",
      "Retrieving ElectronicStructureDoc documents: 100%|█████████████████| 1/1 [00:00<?, ?it/s]\n",
      "Retrieving ElectronicStructureDoc documents: 100%|█████████████████| 1/1 [00:00<?, ?it/s]\n"
     ]
    },
    {
     "name": "stdout",
     "output_type": "stream",
     "text": [
      "mp-1408926 30 19\n"
     ]
    },
    {
     "name": "stderr",
     "output_type": "stream",
     "text": [
      "Retrieving ElectronicStructureDoc documents: 100%|█████████████████| 1/1 [00:00<?, ?it/s]\n",
      "Retrieving ElectronicStructureDoc documents: 100%|███████| 1/1 [00:00<00:00, 1052.26it/s]\n",
      "Retrieving ElectronicStructureDoc documents: 100%|█████████████████| 1/1 [00:00<?, ?it/s]\n",
      "Retrieving ElectronicStructureDoc documents: 100%|█████████████████| 1/1 [00:00<?, ?it/s]\n",
      "Retrieving ElectronicStructureDoc documents: 100%|████████| 1/1 [00:00<00:00, 989.46it/s]\n",
      "Retrieving ElectronicStructureDoc documents: 100%|████████| 1/1 [00:00<00:00, 999.36it/s]\n",
      "Retrieving ElectronicStructureDoc documents: 100%|█████████████████| 1/1 [00:00<?, ?it/s]\n",
      "Retrieving ElectronicStructureDoc documents: 100%|████████| 1/1 [00:00<00:00, 169.31it/s]\n",
      "Retrieving ElectronicStructureDoc documents: 100%|█████████████████| 1/1 [00:00<?, ?it/s]\n",
      "Retrieving ElectronicStructureDoc documents: 100%|█████████████████| 1/1 [00:00<?, ?it/s]\n"
     ]
    },
    {
     "name": "stdout",
     "output_type": "stream",
     "text": [
      "mp-1412175 40 19\n"
     ]
    },
    {
     "name": "stderr",
     "output_type": "stream",
     "text": [
      "Retrieving ElectronicStructureDoc documents: 100%|█████████████████| 1/1 [00:00<?, ?it/s]\n",
      "Retrieving ElectronicStructureDoc documents: 100%|█████████████████| 1/1 [00:00<?, ?it/s]\n",
      "Retrieving ElectronicStructureDoc documents: 100%|█████████████████| 1/1 [00:00<?, ?it/s]\n",
      "Retrieving ElectronicStructureDoc documents: 100%|█████████████████| 1/1 [00:00<?, ?it/s]\n",
      "Retrieving ElectronicStructureDoc documents: 100%|█████████████████| 1/1 [00:00<?, ?it/s]\n",
      "Retrieving ElectronicStructureDoc documents: 100%|█████████████████| 1/1 [00:00<?, ?it/s]\n",
      "Retrieving ElectronicStructureDoc documents: 100%|█████████████████| 1/1 [00:00<?, ?it/s]\n",
      "Retrieving ElectronicStructureDoc documents: 100%|████████| 1/1 [00:00<00:00, 993.91it/s]\n",
      "Retrieving ElectronicStructureDoc documents: 100%|███████| 1/1 [00:00<00:00, 1807.11it/s]\n",
      "Retrieving ElectronicStructureDoc documents: 100%|█████████████████| 1/1 [00:00<?, ?it/s]\n"
     ]
    },
    {
     "name": "stdout",
     "output_type": "stream",
     "text": [
      "mp-1414055 50 19\n"
     ]
    },
    {
     "name": "stderr",
     "output_type": "stream",
     "text": [
      "Retrieving ElectronicStructureDoc documents: 100%|█████████████████| 1/1 [00:00<?, ?it/s]\n",
      "Retrieving ElectronicStructureDoc documents: 100%|█████████████████| 1/1 [00:00<?, ?it/s]\n",
      "Retrieving ElectronicStructureDoc documents: 100%|█████████████████| 1/1 [00:00<?, ?it/s]\n",
      "Retrieving ElectronicStructureDoc documents: 100%|█████████████████| 1/1 [00:00<?, ?it/s]\n",
      "Retrieving ElectronicStructureDoc documents: 100%|█████████████████| 1/1 [00:00<?, ?it/s]\n",
      "Retrieving ElectronicStructureDoc documents: 100%|█████████████████| 1/1 [00:00<?, ?it/s]\n",
      "Retrieving ElectronicStructureDoc documents: 100%|█████████████████| 1/1 [00:00<?, ?it/s]\n",
      "Retrieving ElectronicStructureDoc documents: 100%|█████████████████| 1/1 [00:00<?, ?it/s]\n",
      "Retrieving ElectronicStructureDoc documents: 100%|█████████████████| 1/1 [00:00<?, ?it/s]\n",
      "Retrieving ElectronicStructureDoc documents: 100%|███████| 1/1 [00:00<00:00, 1661.11it/s]\n"
     ]
    },
    {
     "name": "stdout",
     "output_type": "stream",
     "text": [
      "mp-1418444 60 19\n"
     ]
    },
    {
     "name": "stderr",
     "output_type": "stream",
     "text": [
      "Retrieving ElectronicStructureDoc documents: 100%|█████████████████| 1/1 [00:00<?, ?it/s]\n",
      "Retrieving ElectronicStructureDoc documents: 100%|█████████████████| 1/1 [00:00<?, ?it/s]\n",
      "Retrieving ElectronicStructureDoc documents: 100%|████████| 1/1 [00:00<00:00, 291.82it/s]\n",
      "Retrieving ElectronicStructureDoc documents: 100%|█████████████████| 1/1 [00:00<?, ?it/s]\n",
      "Retrieving ElectronicStructureDoc documents: 100%|█████████████████| 1/1 [00:00<?, ?it/s]\n",
      "Retrieving ElectronicStructureDoc documents: 100%|█████████████████| 1/1 [00:00<?, ?it/s]\n",
      "Retrieving ElectronicStructureDoc documents: 100%|█████████████████| 1/1 [00:00<?, ?it/s]\n",
      "Retrieving ElectronicStructureDoc documents: 100%|███████| 1/1 [00:00<00:00, 1137.28it/s]\n",
      "Retrieving ElectronicStructureDoc documents: 100%|█████████████████| 1/1 [00:00<?, ?it/s]\n",
      "Retrieving ElectronicStructureDoc documents: 100%|█████████████████| 1/1 [00:00<?, ?it/s]\n"
     ]
    },
    {
     "name": "stdout",
     "output_type": "stream",
     "text": [
      "mp-1420266 70 19\n"
     ]
    },
    {
     "name": "stderr",
     "output_type": "stream",
     "text": [
      "Retrieving ElectronicStructureDoc documents: 100%|█████████████████| 1/1 [00:00<?, ?it/s]\n",
      "Retrieving ElectronicStructureDoc documents: 100%|█████████████████| 1/1 [00:00<?, ?it/s]\n",
      "Retrieving ElectronicStructureDoc documents: 100%|█████████████████| 1/1 [00:00<?, ?it/s]\n",
      "Retrieving ElectronicStructureDoc documents: 100%|█████████████████| 1/1 [00:00<?, ?it/s]\n",
      "Retrieving ElectronicStructureDoc documents: 100%|█████████████████| 1/1 [00:00<?, ?it/s]\n",
      "Retrieving ElectronicStructureDoc documents: 100%|█████████████████| 1/1 [00:00<?, ?it/s]\n",
      "Retrieving ElectronicStructureDoc documents: 100%|█████████████████| 1/1 [00:00<?, ?it/s]\n",
      "Retrieving ElectronicStructureDoc documents: 100%|█████████████████| 1/1 [00:00<?, ?it/s]\n",
      "Retrieving ElectronicStructureDoc documents: 100%|█████████████████| 1/1 [00:00<?, ?it/s]\n",
      "Retrieving ElectronicStructureDoc documents: 100%|███████| 1/1 [00:00<00:00, 1110.49it/s]\n"
     ]
    },
    {
     "name": "stdout",
     "output_type": "stream",
     "text": [
      "mp-1422029 80 19\n"
     ]
    },
    {
     "name": "stderr",
     "output_type": "stream",
     "text": [
      "Retrieving ElectronicStructureDoc documents: 100%|█████████████████| 1/1 [00:00<?, ?it/s]\n",
      "Retrieving ElectronicStructureDoc documents: 100%|█████████████████| 1/1 [00:00<?, ?it/s]\n",
      "Retrieving ElectronicStructureDoc documents: 100%|█████████████████| 1/1 [00:00<?, ?it/s]\n",
      "Retrieving ElectronicStructureDoc documents: 100%|███████| 1/1 [00:00<00:00, 1114.91it/s]\n",
      "Retrieving ElectronicStructureDoc documents: 100%|█████████████████| 1/1 [00:00<?, ?it/s]\n",
      "Retrieving ElectronicStructureDoc documents: 100%|█████████████████| 1/1 [00:00<?, ?it/s]\n",
      "Retrieving ElectronicStructureDoc documents: 100%|█████████████████| 1/1 [00:00<?, ?it/s]\n",
      "Retrieving ElectronicStructureDoc documents: 100%|█████████████████| 1/1 [00:00<?, ?it/s]\n",
      "Retrieving ElectronicStructureDoc documents: 100%|█████████████████| 1/1 [00:00<?, ?it/s]\n",
      "Retrieving ElectronicStructureDoc documents: 100%|█████████████████| 1/1 [00:00<?, ?it/s]\n"
     ]
    },
    {
     "name": "stdout",
     "output_type": "stream",
     "text": [
      "mp-1425089 90 19\n"
     ]
    },
    {
     "name": "stderr",
     "output_type": "stream",
     "text": [
      "Retrieving ElectronicStructureDoc documents: 100%|█████████████████| 1/1 [00:00<?, ?it/s]\n",
      "Retrieving ElectronicStructureDoc documents: 100%|█████████████████| 1/1 [00:00<?, ?it/s]\n",
      "Retrieving ElectronicStructureDoc documents: 100%|█████████████████| 1/1 [00:00<?, ?it/s]\n",
      "Retrieving ElectronicStructureDoc documents: 100%|█████████████████| 1/1 [00:00<?, ?it/s]\n",
      "Retrieving ElectronicStructureDoc documents: 100%|████████| 1/1 [00:00<00:00, 987.36it/s]\n",
      "Retrieving ElectronicStructureDoc documents: 100%|█████████████████| 1/1 [00:00<?, ?it/s]\n",
      "Retrieving ElectronicStructureDoc documents: 100%|████████| 1/1 [00:00<00:00, 994.85it/s]\n",
      "Retrieving ElectronicStructureDoc documents: 100%|█████████████████| 1/1 [00:00<?, ?it/s]\n",
      "Retrieving ElectronicStructureDoc documents: 100%|████████| 1/1 [00:00<00:00, 996.04it/s]\n",
      "Retrieving ElectronicStructureDoc documents: 100%|█████████████████| 1/1 [00:00<?, ?it/s]\n"
     ]
    },
    {
     "name": "stdout",
     "output_type": "stream",
     "text": [
      "mp-1428312 0 20\n"
     ]
    },
    {
     "name": "stderr",
     "output_type": "stream",
     "text": [
      "Retrieving ElectronicStructureDoc documents: 100%|█████████████████| 1/1 [00:00<?, ?it/s]\n",
      "Retrieving ElectronicStructureDoc documents: 100%|█████████████████| 1/1 [00:00<?, ?it/s]\n",
      "Retrieving ElectronicStructureDoc documents: 100%|███████| 1/1 [00:00<00:00, 1007.76it/s]\n",
      "Retrieving ElectronicStructureDoc documents: 100%|█████████████████| 1/1 [00:00<?, ?it/s]\n",
      "Retrieving ElectronicStructureDoc documents: 100%|███████| 1/1 [00:00<00:00, 2478.90it/s]\n",
      "Retrieving ElectronicStructureDoc documents: 100%|████████| 1/1 [00:00<00:00, 999.60it/s]\n",
      "Retrieving ElectronicStructureDoc documents: 100%|████████| 1/1 [00:00<00:00, 992.73it/s]\n",
      "Retrieving ElectronicStructureDoc documents: 100%|█████████████████| 1/1 [00:00<?, ?it/s]\n",
      "Retrieving ElectronicStructureDoc documents: 100%|█████████████████| 1/1 [00:00<?, ?it/s]\n",
      "Retrieving ElectronicStructureDoc documents: 100%|███████| 1/1 [00:00<00:00, 1001.27it/s]\n"
     ]
    },
    {
     "name": "stdout",
     "output_type": "stream",
     "text": [
      "mp-1430957 10 20\n"
     ]
    },
    {
     "name": "stderr",
     "output_type": "stream",
     "text": [
      "Retrieving ElectronicStructureDoc documents: 100%|███████| 1/1 [00:00<00:00, 1001.03it/s]\n",
      "Retrieving ElectronicStructureDoc documents: 100%|█████████████████| 1/1 [00:00<?, ?it/s]\n",
      "Retrieving ElectronicStructureDoc documents: 100%|█████████████████| 1/1 [00:00<?, ?it/s]\n",
      "Retrieving ElectronicStructureDoc documents: 100%|█████████████████| 1/1 [00:00<?, ?it/s]\n",
      "Retrieving ElectronicStructureDoc documents: 100%|█████████████████| 1/1 [00:00<?, ?it/s]\n",
      "Retrieving ElectronicStructureDoc documents: 100%|█████████████████| 1/1 [00:00<?, ?it/s]\n",
      "Retrieving ElectronicStructureDoc documents: 100%|█████████████████| 1/1 [00:00<?, ?it/s]\n",
      "Retrieving ElectronicStructureDoc documents: 100%|█████████████████| 1/1 [00:00<?, ?it/s]\n",
      "Retrieving ElectronicStructureDoc documents: 100%|███████| 1/1 [00:00<00:00, 1042.06it/s]\n",
      "Retrieving ElectronicStructureDoc documents: 100%|█████████████████| 1/1 [00:00<?, ?it/s]\n"
     ]
    },
    {
     "name": "stdout",
     "output_type": "stream",
     "text": [
      "mp-1435683 20 20\n"
     ]
    },
    {
     "name": "stderr",
     "output_type": "stream",
     "text": [
      "Retrieving ElectronicStructureDoc documents: 100%|█████████████████| 1/1 [00:00<?, ?it/s]\n",
      "Retrieving ElectronicStructureDoc documents: 100%|█████████████████| 1/1 [00:00<?, ?it/s]\n",
      "Retrieving ElectronicStructureDoc documents: 100%|█████████████████| 1/1 [00:00<?, ?it/s]\n",
      "Retrieving ElectronicStructureDoc documents: 100%|█████████████████| 1/1 [00:00<?, ?it/s]\n",
      "Retrieving ElectronicStructureDoc documents: 100%|█████████████████| 1/1 [00:00<?, ?it/s]\n",
      "Retrieving ElectronicStructureDoc documents: 100%|█████████████████| 1/1 [00:00<?, ?it/s]\n",
      "Retrieving ElectronicStructureDoc documents: 100%|███████| 1/1 [00:00<00:00, 1130.24it/s]\n",
      "Retrieving ElectronicStructureDoc documents: 100%|████████| 1/1 [00:00<00:00, 998.88it/s]\n",
      "Retrieving ElectronicStructureDoc documents: 100%|████████| 1/1 [00:00<00:00, 828.10it/s]\n",
      "Retrieving ElectronicStructureDoc documents: 100%|█████████████████| 1/1 [00:00<?, ?it/s]\n"
     ]
    },
    {
     "name": "stdout",
     "output_type": "stream",
     "text": [
      "mp-1443279 30 20\n"
     ]
    },
    {
     "name": "stderr",
     "output_type": "stream",
     "text": [
      "Retrieving ElectronicStructureDoc documents: 100%|█████████████████| 1/1 [00:00<?, ?it/s]\n",
      "Retrieving ElectronicStructureDoc documents: 100%|█████████████████| 1/1 [00:00<?, ?it/s]\n",
      "Retrieving ElectronicStructureDoc documents: 100%|█████████████████| 1/1 [00:00<?, ?it/s]\n",
      "Retrieving ElectronicStructureDoc documents: 100%|████████| 1/1 [00:00<00:00, 933.94it/s]\n",
      "Retrieving ElectronicStructureDoc documents: 100%|█████████████████| 1/1 [00:00<?, ?it/s]\n",
      "Retrieving ElectronicStructureDoc documents: 100%|█████████████████| 1/1 [00:00<?, ?it/s]\n",
      "Retrieving ElectronicStructureDoc documents: 100%|█████████████████| 1/1 [00:00<?, ?it/s]\n",
      "Retrieving ElectronicStructureDoc documents: 100%|████████| 1/1 [00:00<00:00, 990.16it/s]\n",
      "Retrieving ElectronicStructureDoc documents: 100%|█████████████████| 1/1 [00:00<?, ?it/s]\n",
      "Retrieving ElectronicStructureDoc documents: 100%|█████████████████| 1/1 [00:00<?, ?it/s]\n"
     ]
    },
    {
     "name": "stdout",
     "output_type": "stream",
     "text": [
      "mp-1445035 40 20\n"
     ]
    },
    {
     "name": "stderr",
     "output_type": "stream",
     "text": [
      "Retrieving ElectronicStructureDoc documents: 100%|█████████████████| 1/1 [00:00<?, ?it/s]\n",
      "Retrieving ElectronicStructureDoc documents: 100%|████████| 1/1 [00:00<00:00, 660.10it/s]\n",
      "Retrieving ElectronicStructureDoc documents: 100%|█████████████████| 1/1 [00:00<?, ?it/s]\n",
      "Retrieving ElectronicStructureDoc documents: 100%|█████████████████| 1/1 [00:00<?, ?it/s]\n",
      "Retrieving ElectronicStructureDoc documents: 100%|█████████████████| 1/1 [00:00<?, ?it/s]\n",
      "Retrieving ElectronicStructureDoc documents: 100%|█████████████████| 1/1 [00:00<?, ?it/s]\n",
      "Retrieving ElectronicStructureDoc documents: 100%|█████████████████| 1/1 [00:00<?, ?it/s]\n",
      "Retrieving ElectronicStructureDoc documents: 100%|████████| 1/1 [00:00<00:00, 905.12it/s]\n",
      "Retrieving ElectronicStructureDoc documents: 100%|█████████████████| 1/1 [00:00<?, ?it/s]\n",
      "Retrieving ElectronicStructureDoc documents: 100%|████████| 1/1 [00:00<00:00, 911.81it/s]\n"
     ]
    },
    {
     "name": "stdout",
     "output_type": "stream",
     "text": [
      "mp-1445885 50 20\n"
     ]
    },
    {
     "name": "stderr",
     "output_type": "stream",
     "text": [
      "Retrieving ElectronicStructureDoc documents: 100%|█████████████████| 1/1 [00:00<?, ?it/s]\n",
      "Retrieving ElectronicStructureDoc documents: 100%|█████████████████| 1/1 [00:00<?, ?it/s]\n",
      "Retrieving ElectronicStructureDoc documents: 100%|███████| 1/1 [00:00<00:00, 1152.60it/s]\n",
      "Retrieving ElectronicStructureDoc documents: 100%|█████████████████| 1/1 [00:00<?, ?it/s]\n",
      "Retrieving ElectronicStructureDoc documents: 100%|█████████████████| 1/1 [00:00<?, ?it/s]\n",
      "Retrieving ElectronicStructureDoc documents: 100%|█████████████████| 1/1 [00:00<?, ?it/s]\n",
      "Retrieving ElectronicStructureDoc documents: 100%|███████| 1/1 [00:00<00:00, 1119.97it/s]\n",
      "Retrieving ElectronicStructureDoc documents: 100%|█████████████████| 1/1 [00:00<?, ?it/s]\n",
      "Retrieving ElectronicStructureDoc documents: 100%|█████████████████| 1/1 [00:00<?, ?it/s]\n",
      "Retrieving ElectronicStructureDoc documents: 100%|█████████████████| 1/1 [00:00<?, ?it/s]\n"
     ]
    },
    {
     "name": "stdout",
     "output_type": "stream",
     "text": [
      "mp-1475733 60 20\n"
     ]
    },
    {
     "name": "stderr",
     "output_type": "stream",
     "text": [
      "Retrieving ElectronicStructureDoc documents: 100%|███████| 1/1 [00:00<00:00, 1000.31it/s]\n",
      "Retrieving ElectronicStructureDoc documents: 100%|█████████████████| 1/1 [00:00<?, ?it/s]\n",
      "Retrieving ElectronicStructureDoc documents: 100%|█████████████████| 1/1 [00:00<?, ?it/s]\n",
      "Retrieving ElectronicStructureDoc documents: 100%|█████████████████| 1/1 [00:00<?, ?it/s]\n",
      "Retrieving ElectronicStructureDoc documents: 100%|█████████████████| 1/1 [00:00<?, ?it/s]\n"
     ]
    },
    {
     "ename": "IndexError",
     "evalue": "list index out of range",
     "output_type": "error",
     "traceback": [
      "\u001b[1;31m---------------------------------------------------------------------------\u001b[0m",
      "\u001b[1;31mIndexError\u001b[0m                                Traceback (most recent call last)",
      "Cell \u001b[1;32mIn[4], line 21\u001b[0m\n\u001b[0;32m     19\u001b[0m     \u001b[38;5;28;01mexcept\u001b[39;00m:\n\u001b[0;32m     20\u001b[0m         \u001b[38;5;28mprint\u001b[39m(\u001b[38;5;124m'\u001b[39m\u001b[38;5;124mno DOS for \u001b[39m\u001b[38;5;124m'\u001b[39m\u001b[38;5;241m+\u001b[39m item)\n\u001b[1;32m---> 21\u001b[0m \u001b[38;5;28;01mwith\u001b[39;00m \u001b[38;5;28mopen\u001b[39m(path\u001b[38;5;241m+\u001b[39m\u001b[38;5;124m'\u001b[39m\u001b[38;5;124mDOS_MP_\u001b[39m\u001b[38;5;124m'\u001b[39m\u001b[38;5;241m+\u001b[39m\u001b[43mlistmat\u001b[49m\u001b[43m[\u001b[49m\u001b[38;5;241;43m0\u001b[39;49m\u001b[43m]\u001b[49m\u001b[38;5;241m.\u001b[39msplit(\u001b[38;5;124m'\u001b[39m\u001b[38;5;124m-\u001b[39m\u001b[38;5;124m'\u001b[39m)[\u001b[38;5;241m1\u001b[39m]\u001b[38;5;241m+\u001b[39m\u001b[38;5;124m'\u001b[39m\u001b[38;5;124m_\u001b[39m\u001b[38;5;124m'\u001b[39m\u001b[38;5;241m+\u001b[39mlistmat[\u001b[38;5;241m-\u001b[39m\u001b[38;5;241m1\u001b[39m]\u001b[38;5;241m.\u001b[39msplit(\u001b[38;5;124m'\u001b[39m\u001b[38;5;124m-\u001b[39m\u001b[38;5;124m'\u001b[39m)[\u001b[38;5;241m1\u001b[39m],\u001b[38;5;124m'\u001b[39m\u001b[38;5;124mwb\u001b[39m\u001b[38;5;124m'\u001b[39m) \u001b[38;5;28;01mas\u001b[39;00m fp:\n\u001b[0;32m     22\u001b[0m     pickle\u001b[38;5;241m.\u001b[39mdump([DOS,DIDs],fp)\n",
      "\u001b[1;31mIndexError\u001b[0m: list index out of range"
     ]
    }
   ],
   "source": [
    "chunk_size=100\n",
    "for itr in range(0,23):\n",
    "    listmat=matid[startid_index+itr*chunk_size:startid_index+(itr+1)*chunk_size]\n",
    "    DOS=[]\n",
    "    DIDs=[]\n",
    "    gc.collect()\n",
    "    with MPRester(MP_API_KEY) as m:\n",
    "        for item in listmat:\n",
    "            try:\n",
    "                xx=m.get_dos_by_material_id(item)\n",
    "                #if hasattr(xx,'projections'):\n",
    "                #    del xx.projections\n",
    "                #else:\n",
    "                #    pass\n",
    "                DOS.append(xx)\n",
    "                DIDs.append(item)\n",
    "                if listmat.index(item)%10==0:\n",
    "                    print(item,listmat.index(item), itr) \n",
    "            except:\n",
    "                print('no DOS for '+ item)\n",
    "        with open(path+'DOS_MP_'+listmat[0].split('-')[1]+'_'+listmat[-1].split('-')[1],'wb') as fp:\n",
    "            pickle.dump([DOS,DIDs],fp)"
   ]
  },
  {
   "cell_type": "code",
   "execution_count": 7,
   "id": "af23b02d-fdab-4717-a21d-11630a68bc9c",
   "metadata": {},
   "outputs": [
    {
     "name": "stdout",
     "output_type": "stream",
     "text": [
      "5\n",
      "['mp-30', 'mp-32', 'mp-33', 'mp-34', 'mp-35']\n"
     ]
    }
   ],
   "source": [
    "startid=29\n",
    "endid=35\n",
    "with open('D:/MatProj/electronic_str/'+'BS_MP_'+str(startid)+'_'+str(endid),'rb') as op:\n",
    "    [bs,ids]= pickle.load(op)\n",
    "print(len(bs))\n",
    "print(ids)"
   ]
  },
  {
   "cell_type": "raw",
   "id": "b2ff7b2c-1ee7-4d70-b4a7-14732c4bfe0c",
   "metadata": {},
   "source": [
    "Download carge density"
   ]
  },
  {
   "cell_type": "code",
   "execution_count": 7,
   "id": "d6f1922e-220f-4250-b131-ba6b52508ff8",
   "metadata": {},
   "outputs": [
    {
     "name": "stderr",
     "output_type": "stream",
     "text": [
      "Retrieving MaterialsDoc documents: 100%|█████████████████████████████████████████████████████████| 1/1 [00:00<?, ?it/s]\n",
      "Retrieving TaskDoc documents: 100%|████████████████████████████████████████████████████| 5/5 [00:00<00:00, 4865.78it/s]\n",
      "Retrieving MaterialsDoc documents: 100%|█████████████████████████████████████████████████████████| 1/1 [00:00<?, ?it/s]\n",
      "Retrieving TaskDoc documents: 100%|██████████████████████████████████████████████████████████████| 6/6 [00:00<?, ?it/s]\n",
      "Retrieving MaterialsDoc documents: 100%|█████████████████████████████████████████████████████████| 1/1 [00:00<?, ?it/s]\n",
      "Retrieving TaskDoc documents: 100%|██████████████████████████████████████████████████████████████| 4/4 [00:00<?, ?it/s]\n",
      "Retrieving MaterialsDoc documents: 100%|█████████████████████████████████████████████████████████| 1/1 [00:00<?, ?it/s]\n",
      "Retrieving TaskDoc documents: 100%|██████████████████████████████████████████████████████████████| 4/4 [00:00<?, ?it/s]\n",
      "Retrieving MaterialsDoc documents: 0it [00:00, ?it/s]\n"
     ]
    },
    {
     "name": "stdout",
     "output_type": "stream",
     "text": [
      "no charge density for mp-5\n"
     ]
    },
    {
     "name": "stderr",
     "output_type": "stream",
     "text": [
      "Retrieving MaterialsDoc documents: 0it [00:00, ?it/s]\n"
     ]
    },
    {
     "name": "stdout",
     "output_type": "stream",
     "text": [
      "no charge density for mp-6\n"
     ]
    },
    {
     "name": "stderr",
     "output_type": "stream",
     "text": [
      "Retrieving MaterialsDoc documents: 100%|█████████████████████████████████████████████████████████| 1/1 [00:00<?, ?it/s]\n",
      "Retrieving TaskDoc documents: 100%|██████████████████████████████████████████████████████████████| 4/4 [00:00<?, ?it/s]\n",
      "Retrieving MaterialsDoc documents: 100%|█████████████████████████████████████████████████████████| 1/1 [00:00<?, ?it/s]\n",
      "Retrieving TaskDoc documents: 100%|██████████████████████████████████████████████████████████████| 6/6 [00:00<?, ?it/s]\n",
      "Retrieving MaterialsDoc documents: 100%|█████████████████████████████████████████████████████████| 1/1 [00:00<?, ?it/s]\n",
      "Retrieving TaskDoc documents: 100%|██████████████████████████████████████████████████████████████| 4/4 [00:00<?, ?it/s]\n"
     ]
    }
   ],
   "source": [
    "startid=1\n",
    "endid=10\n",
    "CHG=[]\n",
    "IDs=[]\n",
    "with MPRester(MP_API_KEY) as m:\n",
    "    for id in range(startid,endid):\n",
    "        mid='mp-'+str(id)\n",
    "        try:\n",
    "            xx=m.get_charge_density_from_material_id(mid)\n",
    "            CHG.append(xx)\n",
    "            IDs.append(mid)\n",
    "        except:\n",
    "            print('no charge density for '+ mid)"
   ]
  },
  {
   "cell_type": "code",
   "execution_count": 8,
   "id": "bc569781-0420-4d4a-8651-c859cda10a80",
   "metadata": {},
   "outputs": [],
   "source": [
    "with open('CHG_MP_'+str(startid)+'_'+str(endid),'wb') as fp:\n",
    "    pickle.dump([CHG,IDs],fp)"
   ]
  },
  {
   "cell_type": "code",
   "execution_count": 3,
   "id": "95cceaa3-4cc3-41b5-987c-dcadc93e0c18",
   "metadata": {},
   "outputs": [
    {
     "name": "stdout",
     "output_type": "stream",
     "text": [
      "['builder_meta', 'nsites', 'elements', 'nelements', 'composition', 'composition_reduced', 'formula_pretty', 'formula_anonymous', 'chemsys', 'volume', 'density', 'density_atomic', 'symmetry', 'material_id', 'structure', 'deprecated', 'deprecation_reasons', 'initial_structures', 'task_ids', 'deprecated_tasks', 'calc_types', 'last_updated', 'created_at', 'origins', 'warnings', 'task_types', 'run_types', 'entries']\n"
     ]
    }
   ],
   "source": [
    "with MPRester(MP_API_KEY) as m:\n",
    "    print(m.materials.available_fields)"
   ]
  }
 ],
 "metadata": {
  "kernelspec": {
   "display_name": "Python 3 (ipykernel)",
   "language": "python",
   "name": "python3"
  },
  "language_info": {
   "codemirror_mode": {
    "name": "ipython",
    "version": 3
   },
   "file_extension": ".py",
   "mimetype": "text/x-python",
   "name": "python",
   "nbconvert_exporter": "python",
   "pygments_lexer": "ipython3",
   "version": "3.10.13"
  }
 },
 "nbformat": 4,
 "nbformat_minor": 5
}
