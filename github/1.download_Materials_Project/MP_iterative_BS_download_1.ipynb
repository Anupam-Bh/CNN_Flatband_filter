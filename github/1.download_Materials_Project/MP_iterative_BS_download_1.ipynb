{
 "cells": [
  {
   "cell_type": "code",
   "execution_count": 2,
   "id": "bf2d27e1-329d-4bc3-b95a-68e48ee6a2cb",
   "metadata": {},
   "outputs": [],
   "source": [
    "MP_API_KEY=\"ZvKikSZ2FD5MYpklS0TDlmCiHPhO7Qm6\""
   ]
  },
  {
   "cell_type": "code",
   "execution_count": 1,
   "id": "e7e002fb-d63d-40c6-93e3-c728b9249f55",
   "metadata": {},
   "outputs": [
    {
     "name": "stderr",
     "output_type": "stream",
     "text": [
      "C:\\Users\\Anupam\\anaconda3\\envs\\MP_flatband_win\\lib\\site-packages\\tqdm\\auto.py:21: TqdmWarning: IProgress not found. Please update jupyter and ipywidgets. See https://ipywidgets.readthedocs.io/en/stable/user_install.html\n",
      "  from .autonotebook import tqdm as notebook_tqdm\n"
     ]
    }
   ],
   "source": [
    "from mp_api.client import MPRester\n",
    "import pickle\n",
    "import json\n",
    "import gc\n",
    "from emmet.core.summary import HasProps\n",
    "path='D:/MatProj/electronic_str/'"
   ]
  },
  {
   "cell_type": "raw",
   "id": "dbe444da-f9e0-4e9e-9e5d-04fd6c6e5b90",
   "metadata": {},
   "source": [
    "Downloading the listof materials with bandstructure and DOS\n",
    "\n",
    "******No Need to run this part everytime"
   ]
  },
  {
   "cell_type": "code",
   "execution_count": 15,
   "id": "05116e19-46dd-49fe-920a-d9ce578a062a",
   "metadata": {},
   "outputs": [
    {
     "name": "stderr",
     "output_type": "stream",
     "text": [
      "Retrieving SummaryDoc documents: 100%|████████████| 70451/70451 [01:25<00:00, 819.55it/s]"
     ]
    },
    {
     "name": "stdout",
     "output_type": "stream",
     "text": [
      "Done\n"
     ]
    },
    {
     "name": "stderr",
     "output_type": "stream",
     "text": [
      "\n"
     ]
    }
   ],
   "source": [
    "with MPRester(MP_API_KEY) as mpr:\n",
    "    docs = mpr.materials.summary.search(has_props=[HasProps.bandstructure,HasProps.dos], fields=[\"material_id\"])\n",
    "mid=[]\n",
    "matid=[]\n",
    "for item in docs:\n",
    "    mid.append(int(item.material_id.split('-')[1]))\n",
    "mid.sort()\n",
    "for item in mid:\n",
    "    matid.append('mp-'+ str(item))\n",
    "with open('list_of_materials_with_BS_DOS','wb') as ff:\n",
    "    pickle.dump(matid,ff)\n",
    "with open(r'list_of_materials_with_BS_DOS_readable','w') as fp:\n",
    "    for item in matid:\n",
    "        fp.write(\"%s\\n\" % item)\n",
    "    print('Done')"
   ]
  },
  {
   "cell_type": "raw",
   "id": "f5d45e30-5f17-4507-85b2-6e4e56afead8",
   "metadata": {},
   "source": [
    "****\n",
    "Code for large download: from list of material ids"
   ]
  },
  {
   "cell_type": "code",
   "execution_count": 3,
   "id": "0e23b498-ea5e-48ab-ba1b-119ed38b09b4",
   "metadata": {},
   "outputs": [
    {
     "name": "stdout",
     "output_type": "stream",
     "text": [
      "starting index in file: 69385 \n",
      " starting id: mp- 1226550\n"
     ]
    }
   ],
   "source": [
    "with open('list_of_materials_with_BS_DOS','rb') as ff:\n",
    "    matid= pickle.load(ff)\n",
    "id=1226547  #starting id for query\n",
    "while True:\n",
    "    try:\n",
    "        startid_index = matid.index('mp-'+str(id))\n",
    "        break\n",
    "    except:\n",
    "        id=id+1   \n",
    "print('starting index in file:', startid_index, '\\n starting id: mp-', id)"
   ]
  },
  {
   "cell_type": "code",
   "execution_count": 4,
   "id": "ba0f3c38-e242-4e80-96cb-8c1c9283c95b",
   "metadata": {},
   "outputs": [
    {
     "name": "stderr",
     "output_type": "stream",
     "text": [
      "Retrieving ElectronicStructureDoc documents: 100%|█████████████████| 1/1 [00:00<?, ?it/s]\n"
     ]
    },
    {
     "name": "stdout",
     "output_type": "stream",
     "text": [
      "mp-1226550 0 0\n"
     ]
    },
    {
     "name": "stderr",
     "output_type": "stream",
     "text": [
      "Retrieving ElectronicStructureDoc documents: 100%|█████████████████| 1/1 [00:00<?, ?it/s]\n",
      "Retrieving ElectronicStructureDoc documents: 100%|█████████████████| 1/1 [00:00<?, ?it/s]\n",
      "Retrieving ElectronicStructureDoc documents: 100%|█████████████████| 1/1 [00:00<?, ?it/s]\n",
      "Retrieving ElectronicStructureDoc documents: 100%|█████████████████| 1/1 [00:00<?, ?it/s]\n",
      "Retrieving ElectronicStructureDoc documents: 100%|█████████████████| 1/1 [00:00<?, ?it/s]\n",
      "Retrieving ElectronicStructureDoc documents: 100%|█████████████████| 1/1 [00:00<?, ?it/s]\n",
      "Retrieving ElectronicStructureDoc documents: 100%|█████████████████| 1/1 [00:00<?, ?it/s]\n",
      "Retrieving ElectronicStructureDoc documents: 100%|█████████████████| 1/1 [00:00<?, ?it/s]\n",
      "Retrieving ElectronicStructureDoc documents: 100%|█████████████████| 1/1 [00:00<?, ?it/s]\n",
      "Retrieving ElectronicStructureDoc documents: 100%|█████████████████| 1/1 [00:00<?, ?it/s]\n"
     ]
    },
    {
     "name": "stdout",
     "output_type": "stream",
     "text": [
      "mp-1226564 10 0\n"
     ]
    },
    {
     "name": "stderr",
     "output_type": "stream",
     "text": [
      "Retrieving ElectronicStructureDoc documents: 100%|█████████████████| 1/1 [00:00<?, ?it/s]\n",
      "Retrieving ElectronicStructureDoc documents: 100%|█████████████████| 1/1 [00:00<?, ?it/s]\n",
      "Retrieving ElectronicStructureDoc documents: 100%|█████████████████| 1/1 [00:00<?, ?it/s]\n",
      "Retrieving ElectronicStructureDoc documents: 100%|█████████████████| 1/1 [00:00<?, ?it/s]\n",
      "Retrieving ElectronicStructureDoc documents: 100%|█████████████████| 1/1 [00:00<?, ?it/s]\n",
      "Retrieving ElectronicStructureDoc documents: 100%|█████████████████| 1/1 [00:00<?, ?it/s]\n",
      "Retrieving ElectronicStructureDoc documents: 100%|█████████████████| 1/1 [00:00<?, ?it/s]\n",
      "Retrieving ElectronicStructureDoc documents: 100%|█████████████████| 1/1 [00:00<?, ?it/s]\n",
      "Retrieving ElectronicStructureDoc documents: 100%|█████████████████| 1/1 [00:00<?, ?it/s]\n",
      "Retrieving ElectronicStructureDoc documents: 100%|█████████████████| 1/1 [00:00<?, ?it/s]\n"
     ]
    },
    {
     "name": "stdout",
     "output_type": "stream",
     "text": [
      "mp-1226602 20 0\n"
     ]
    },
    {
     "name": "stderr",
     "output_type": "stream",
     "text": [
      "Retrieving ElectronicStructureDoc documents: 100%|█████████████████| 1/1 [00:00<?, ?it/s]\n",
      "Retrieving ElectronicStructureDoc documents: 100%|█████████████████| 1/1 [00:00<?, ?it/s]\n",
      "Retrieving ElectronicStructureDoc documents: 100%|█████████████████| 1/1 [00:00<?, ?it/s]\n",
      "Retrieving ElectronicStructureDoc documents: 100%|█████████████████| 1/1 [00:00<?, ?it/s]\n",
      "Retrieving ElectronicStructureDoc documents: 100%|█████████████████| 1/1 [00:00<?, ?it/s]\n",
      "Retrieving ElectronicStructureDoc documents: 100%|█████████████████| 1/1 [00:00<?, ?it/s]\n",
      "Retrieving ElectronicStructureDoc documents: 100%|█████████████████| 1/1 [00:00<?, ?it/s]\n",
      "Retrieving ElectronicStructureDoc documents: 100%|█████████████████| 1/1 [00:00<?, ?it/s]\n",
      "Retrieving ElectronicStructureDoc documents: 100%|█████████████████| 1/1 [00:00<?, ?it/s]\n",
      "Retrieving ElectronicStructureDoc documents: 100%|█████████████████| 1/1 [00:00<?, ?it/s]\n"
     ]
    },
    {
     "name": "stdout",
     "output_type": "stream",
     "text": [
      "mp-1226622 30 0\n"
     ]
    },
    {
     "name": "stderr",
     "output_type": "stream",
     "text": [
      "Retrieving ElectronicStructureDoc documents: 100%|█████████████████| 1/1 [00:00<?, ?it/s]\n",
      "Retrieving ElectronicStructureDoc documents: 100%|█████████████████| 1/1 [00:00<?, ?it/s]\n",
      "Retrieving ElectronicStructureDoc documents: 100%|█████████████████| 1/1 [00:00<?, ?it/s]\n",
      "Retrieving ElectronicStructureDoc documents: 100%|█████████████████| 1/1 [00:00<?, ?it/s]\n",
      "Retrieving ElectronicStructureDoc documents: 100%|█████████████████| 1/1 [00:00<?, ?it/s]\n",
      "Retrieving ElectronicStructureDoc documents: 100%|█████████████████| 1/1 [00:00<?, ?it/s]\n",
      "Retrieving ElectronicStructureDoc documents: 100%|█████████████████| 1/1 [00:00<?, ?it/s]\n",
      "Retrieving ElectronicStructureDoc documents: 100%|█████████████████| 1/1 [00:00<?, ?it/s]\n",
      "Retrieving ElectronicStructureDoc documents: 100%|█████████████████| 1/1 [00:00<?, ?it/s]\n",
      "Retrieving ElectronicStructureDoc documents: 100%|█████████████████| 1/1 [00:00<?, ?it/s]\n"
     ]
    },
    {
     "name": "stdout",
     "output_type": "stream",
     "text": [
      "mp-1226639 40 0\n"
     ]
    },
    {
     "name": "stderr",
     "output_type": "stream",
     "text": [
      "Retrieving ElectronicStructureDoc documents: 100%|█████████████████| 1/1 [00:00<?, ?it/s]\n",
      "Retrieving ElectronicStructureDoc documents: 100%|█████████████████| 1/1 [00:00<?, ?it/s]\n",
      "Retrieving ElectronicStructureDoc documents: 100%|█████████████████| 1/1 [00:00<?, ?it/s]\n",
      "Retrieving ElectronicStructureDoc documents: 100%|█████████████████| 1/1 [00:00<?, ?it/s]\n",
      "Retrieving ElectronicStructureDoc documents: 100%|█████████████████| 1/1 [00:00<?, ?it/s]\n",
      "Retrieving ElectronicStructureDoc documents: 100%|█████████████████| 1/1 [00:00<?, ?it/s]\n",
      "Retrieving ElectronicStructureDoc documents: 100%|█████████████████| 1/1 [00:00<?, ?it/s]\n",
      "Retrieving ElectronicStructureDoc documents: 100%|█████████████████| 1/1 [00:00<?, ?it/s]\n",
      "Retrieving ElectronicStructureDoc documents: 100%|█████████████████| 1/1 [00:00<?, ?it/s]\n",
      "Retrieving ElectronicStructureDoc documents: 100%|█████████████████| 1/1 [00:00<?, ?it/s]\n"
     ]
    },
    {
     "name": "stdout",
     "output_type": "stream",
     "text": [
      "mp-1226659 50 0\n"
     ]
    },
    {
     "name": "stderr",
     "output_type": "stream",
     "text": [
      "Retrieving ElectronicStructureDoc documents: 100%|█████████████████| 1/1 [00:00<?, ?it/s]\n",
      "Retrieving ElectronicStructureDoc documents: 100%|█████████████████| 1/1 [00:00<?, ?it/s]\n",
      "Retrieving ElectronicStructureDoc documents: 100%|█████████████████| 1/1 [00:00<?, ?it/s]\n",
      "Retrieving ElectronicStructureDoc documents: 100%|█████████████████| 1/1 [00:00<?, ?it/s]\n",
      "Retrieving ElectronicStructureDoc documents: 100%|█████████████████| 1/1 [00:00<?, ?it/s]\n",
      "Retrieving ElectronicStructureDoc documents: 100%|█████████████████| 1/1 [00:00<?, ?it/s]\n",
      "Retrieving ElectronicStructureDoc documents: 100%|█████████████████| 1/1 [00:00<?, ?it/s]\n",
      "Retrieving ElectronicStructureDoc documents: 100%|█████████████████| 1/1 [00:00<?, ?it/s]\n",
      "Retrieving ElectronicStructureDoc documents: 100%|█████████████████| 1/1 [00:00<?, ?it/s]\n",
      "Retrieving ElectronicStructureDoc documents: 100%|█████████████████| 1/1 [00:00<?, ?it/s]\n"
     ]
    },
    {
     "name": "stdout",
     "output_type": "stream",
     "text": [
      "mp-1226673 60 0\n"
     ]
    },
    {
     "name": "stderr",
     "output_type": "stream",
     "text": [
      "Retrieving ElectronicStructureDoc documents: 100%|█████████████████| 1/1 [00:00<?, ?it/s]\n",
      "Retrieving ElectronicStructureDoc documents: 100%|█████████████████| 1/1 [00:00<?, ?it/s]\n",
      "Retrieving ElectronicStructureDoc documents: 100%|█████████████████| 1/1 [00:00<?, ?it/s]\n",
      "Retrieving ElectronicStructureDoc documents: 100%|█████████████████| 1/1 [00:00<?, ?it/s]\n",
      "Retrieving ElectronicStructureDoc documents: 100%|████████| 1/1 [00:00<00:00, 140.38it/s]\n",
      "Retrieving ElectronicStructureDoc documents: 100%|█████████████████| 1/1 [00:00<?, ?it/s]\n",
      "Retrieving ElectronicStructureDoc documents: 100%|█████████████████| 1/1 [00:00<?, ?it/s]\n",
      "Retrieving ElectronicStructureDoc documents: 100%|█████████████████| 1/1 [00:00<?, ?it/s]\n",
      "Retrieving ElectronicStructureDoc documents: 100%|████████| 1/1 [00:00<00:00, 397.53it/s]\n",
      "Retrieving ElectronicStructureDoc documents: 100%|████████| 1/1 [00:00<00:00, 101.27it/s]\n"
     ]
    },
    {
     "name": "stdout",
     "output_type": "stream",
     "text": [
      "mp-1226706 70 0\n"
     ]
    },
    {
     "name": "stderr",
     "output_type": "stream",
     "text": [
      "Retrieving ElectronicStructureDoc documents: 100%|█████████████████| 1/1 [00:00<?, ?it/s]\n",
      "Retrieving ElectronicStructureDoc documents: 100%|█████████████████| 1/1 [00:00<?, ?it/s]\n",
      "Retrieving ElectronicStructureDoc documents: 100%|█████████████████| 1/1 [00:00<?, ?it/s]\n",
      "Retrieving ElectronicStructureDoc documents: 100%|█████████████████| 1/1 [00:00<?, ?it/s]\n",
      "Retrieving ElectronicStructureDoc documents: 100%|█████████████████| 1/1 [00:00<?, ?it/s]\n",
      "Retrieving ElectronicStructureDoc documents: 100%|█████████████████| 1/1 [00:00<?, ?it/s]\n",
      "Retrieving ElectronicStructureDoc documents: 100%|█████████████████| 1/1 [00:00<?, ?it/s]\n",
      "Retrieving ElectronicStructureDoc documents: 100%|█████████████████| 1/1 [00:00<?, ?it/s]\n",
      "Retrieving ElectronicStructureDoc documents: 100%|█████████████████| 1/1 [00:00<?, ?it/s]\n",
      "Retrieving ElectronicStructureDoc documents: 100%|█████████████████| 1/1 [00:00<?, ?it/s]\n"
     ]
    },
    {
     "name": "stdout",
     "output_type": "stream",
     "text": [
      "mp-1226724 80 0\n"
     ]
    },
    {
     "name": "stderr",
     "output_type": "stream",
     "text": [
      "Retrieving ElectronicStructureDoc documents: 100%|█████████████████| 1/1 [00:00<?, ?it/s]\n",
      "Retrieving ElectronicStructureDoc documents: 100%|█████████████████| 1/1 [00:00<?, ?it/s]\n",
      "Retrieving ElectronicStructureDoc documents: 100%|█████████████████| 1/1 [00:00<?, ?it/s]\n",
      "Retrieving ElectronicStructureDoc documents: 100%|█████████████████| 1/1 [00:00<?, ?it/s]\n",
      "Retrieving ElectronicStructureDoc documents: 100%|█████████████████| 1/1 [00:00<?, ?it/s]\n",
      "Retrieving ElectronicStructureDoc documents: 100%|████████| 1/1 [00:00<00:00, 280.56it/s]\n",
      "Retrieving ElectronicStructureDoc documents: 100%|█████████████████| 1/1 [00:00<?, ?it/s]\n",
      "Retrieving ElectronicStructureDoc documents: 100%|█████████████████| 1/1 [00:00<?, ?it/s]\n",
      "Retrieving ElectronicStructureDoc documents: 100%|█████████████████| 1/1 [00:00<?, ?it/s]\n",
      "Retrieving ElectronicStructureDoc documents: 100%|█████████████████| 1/1 [00:00<?, ?it/s]\n"
     ]
    },
    {
     "name": "stdout",
     "output_type": "stream",
     "text": [
      "mp-1226737 90 0\n"
     ]
    },
    {
     "name": "stderr",
     "output_type": "stream",
     "text": [
      "Retrieving ElectronicStructureDoc documents: 100%|█████████████████| 1/1 [00:00<?, ?it/s]\n",
      "Retrieving ElectronicStructureDoc documents: 100%|█████████████████| 1/1 [00:00<?, ?it/s]\n",
      "Retrieving ElectronicStructureDoc documents: 100%|█████████████████| 1/1 [00:00<?, ?it/s]\n",
      "Retrieving ElectronicStructureDoc documents: 100%|█████████████████| 1/1 [00:00<?, ?it/s]\n",
      "Retrieving ElectronicStructureDoc documents: 100%|█████████████████| 1/1 [00:00<?, ?it/s]\n",
      "Retrieving ElectronicStructureDoc documents: 100%|█████████████████| 1/1 [00:00<?, ?it/s]\n",
      "Retrieving ElectronicStructureDoc documents: 100%|█████████████████| 1/1 [00:00<?, ?it/s]\n",
      "Retrieving ElectronicStructureDoc documents: 100%|█████████████████| 1/1 [00:00<?, ?it/s]\n",
      "Retrieving ElectronicStructureDoc documents: 100%|█████████████████| 1/1 [00:00<?, ?it/s]\n",
      "Retrieving ElectronicStructureDoc documents: 100%|█████████████████| 1/1 [00:00<?, ?it/s]\n"
     ]
    },
    {
     "name": "stdout",
     "output_type": "stream",
     "text": [
      "mp-1226753 0 1\n"
     ]
    },
    {
     "name": "stderr",
     "output_type": "stream",
     "text": [
      "Retrieving ElectronicStructureDoc documents: 100%|███████| 1/1 [00:00<00:00, 1413.65it/s]\n",
      "Retrieving ElectronicStructureDoc documents: 100%|█████████████████| 1/1 [00:00<?, ?it/s]\n",
      "Retrieving ElectronicStructureDoc documents: 100%|█████████████████| 1/1 [00:00<?, ?it/s]\n",
      "Retrieving ElectronicStructureDoc documents: 100%|█████████████████| 1/1 [00:00<?, ?it/s]\n",
      "Retrieving ElectronicStructureDoc documents: 100%|█████████████████| 1/1 [00:00<?, ?it/s]\n",
      "Retrieving ElectronicStructureDoc documents: 100%|█████████████████| 1/1 [00:00<?, ?it/s]\n",
      "Retrieving ElectronicStructureDoc documents: 100%|█████████████████| 1/1 [00:00<?, ?it/s]\n",
      "Retrieving ElectronicStructureDoc documents: 100%|█████████████████| 1/1 [00:00<?, ?it/s]\n",
      "Retrieving ElectronicStructureDoc documents: 100%|█████████████████| 1/1 [00:00<?, ?it/s]\n",
      "Retrieving ElectronicStructureDoc documents: 100%|█████████████████| 1/1 [00:00<?, ?it/s]\n"
     ]
    },
    {
     "name": "stdout",
     "output_type": "stream",
     "text": [
      "mp-1226772 10 1\n"
     ]
    },
    {
     "name": "stderr",
     "output_type": "stream",
     "text": [
      "Retrieving ElectronicStructureDoc documents: 100%|█████████████████| 1/1 [00:00<?, ?it/s]\n",
      "Retrieving ElectronicStructureDoc documents: 100%|█████████████████| 1/1 [00:00<?, ?it/s]\n",
      "Retrieving ElectronicStructureDoc documents: 100%|█████████████████| 1/1 [00:00<?, ?it/s]\n",
      "Retrieving ElectronicStructureDoc documents: 100%|█████████████████| 1/1 [00:00<?, ?it/s]\n",
      "Retrieving ElectronicStructureDoc documents: 100%|█████████████████| 1/1 [00:00<?, ?it/s]\n",
      "Retrieving ElectronicStructureDoc documents: 100%|█████████████████| 1/1 [00:00<?, ?it/s]\n",
      "Retrieving ElectronicStructureDoc documents: 100%|█████████████████| 1/1 [00:00<?, ?it/s]\n",
      "Retrieving ElectronicStructureDoc documents: 100%|█████████████████| 1/1 [00:00<?, ?it/s]\n",
      "Retrieving ElectronicStructureDoc documents: 100%|█████████████████| 1/1 [00:00<?, ?it/s]\n",
      "Retrieving ElectronicStructureDoc documents: 100%|█████████████████| 1/1 [00:00<?, ?it/s]\n"
     ]
    },
    {
     "name": "stdout",
     "output_type": "stream",
     "text": [
      "mp-1226790 20 1\n"
     ]
    },
    {
     "name": "stderr",
     "output_type": "stream",
     "text": [
      "Retrieving ElectronicStructureDoc documents: 100%|█████████████████| 1/1 [00:00<?, ?it/s]\n",
      "Retrieving ElectronicStructureDoc documents: 100%|█████████████████| 1/1 [00:00<?, ?it/s]\n",
      "Retrieving ElectronicStructureDoc documents: 100%|█████████████████| 1/1 [00:00<?, ?it/s]\n",
      "Retrieving ElectronicStructureDoc documents: 100%|█████████████████| 1/1 [00:00<?, ?it/s]\n",
      "Retrieving ElectronicStructureDoc documents: 100%|█████████████████| 1/1 [00:00<?, ?it/s]\n",
      "Retrieving ElectronicStructureDoc documents: 100%|█████████████████| 1/1 [00:00<?, ?it/s]\n",
      "Retrieving ElectronicStructureDoc documents: 100%|█████████████████| 1/1 [00:00<?, ?it/s]\n",
      "Retrieving ElectronicStructureDoc documents: 100%|█████████████████| 1/1 [00:00<?, ?it/s]\n",
      "Retrieving ElectronicStructureDoc documents: 100%|█████████████████| 1/1 [00:00<?, ?it/s]\n",
      "Retrieving ElectronicStructureDoc documents: 100%|█████████████████| 1/1 [00:00<?, ?it/s]\n"
     ]
    },
    {
     "name": "stdout",
     "output_type": "stream",
     "text": [
      "mp-1226814 30 1\n"
     ]
    },
    {
     "name": "stderr",
     "output_type": "stream",
     "text": [
      "Retrieving ElectronicStructureDoc documents: 100%|█████████████████| 1/1 [00:00<?, ?it/s]\n",
      "Retrieving ElectronicStructureDoc documents: 100%|█████████████████| 1/1 [00:00<?, ?it/s]\n",
      "Retrieving ElectronicStructureDoc documents: 100%|█████████████████| 1/1 [00:00<?, ?it/s]\n",
      "Retrieving ElectronicStructureDoc documents: 100%|█████████████████| 1/1 [00:00<?, ?it/s]\n",
      "Retrieving ElectronicStructureDoc documents: 100%|█████████████████| 1/1 [00:00<?, ?it/s]\n",
      "Retrieving ElectronicStructureDoc documents: 100%|█████████████████| 1/1 [00:00<?, ?it/s]\n",
      "Retrieving ElectronicStructureDoc documents: 100%|█████████████████| 1/1 [00:00<?, ?it/s]\n",
      "Retrieving ElectronicStructureDoc documents: 100%|█████████████████| 1/1 [00:00<?, ?it/s]\n",
      "Retrieving ElectronicStructureDoc documents: 100%|█████████████████| 1/1 [00:00<?, ?it/s]\n",
      "Retrieving ElectronicStructureDoc documents: 100%|█████████████████| 1/1 [00:00<?, ?it/s]\n"
     ]
    },
    {
     "name": "stdout",
     "output_type": "stream",
     "text": [
      "mp-1226857 40 1\n"
     ]
    },
    {
     "name": "stderr",
     "output_type": "stream",
     "text": [
      "Retrieving ElectronicStructureDoc documents: 100%|█████████████████| 1/1 [00:00<?, ?it/s]\n",
      "Retrieving ElectronicStructureDoc documents: 100%|█████████████████| 1/1 [00:00<?, ?it/s]\n",
      "Retrieving ElectronicStructureDoc documents: 100%|█████████████████| 1/1 [00:00<?, ?it/s]\n",
      "Retrieving ElectronicStructureDoc documents: 100%|█████████████████| 1/1 [00:00<?, ?it/s]\n",
      "Retrieving ElectronicStructureDoc documents: 100%|█████████████████| 1/1 [00:00<?, ?it/s]\n",
      "Retrieving ElectronicStructureDoc documents: 100%|█████████████████| 1/1 [00:00<?, ?it/s]\n",
      "Retrieving ElectronicStructureDoc documents: 100%|█████████████████| 1/1 [00:00<?, ?it/s]\n",
      "Retrieving ElectronicStructureDoc documents: 100%|█████████████████| 1/1 [00:00<?, ?it/s]\n",
      "Retrieving ElectronicStructureDoc documents: 100%|█████████████████| 1/1 [00:00<?, ?it/s]\n",
      "Retrieving ElectronicStructureDoc documents: 100%|█████████████████| 1/1 [00:00<?, ?it/s]\n"
     ]
    },
    {
     "name": "stdout",
     "output_type": "stream",
     "text": [
      "mp-1226888 50 1\n"
     ]
    },
    {
     "name": "stderr",
     "output_type": "stream",
     "text": [
      "Retrieving ElectronicStructureDoc documents: 100%|█████████████████| 1/1 [00:00<?, ?it/s]\n",
      "Retrieving ElectronicStructureDoc documents: 100%|█████████████████| 1/1 [00:00<?, ?it/s]\n",
      "Retrieving ElectronicStructureDoc documents: 100%|█████████████████| 1/1 [00:00<?, ?it/s]\n",
      "Retrieving ElectronicStructureDoc documents: 100%|█████████████████| 1/1 [00:00<?, ?it/s]\n",
      "Retrieving ElectronicStructureDoc documents: 100%|█████████████████| 1/1 [00:00<?, ?it/s]\n",
      "Retrieving ElectronicStructureDoc documents: 100%|█████████████████| 1/1 [00:00<?, ?it/s]\n",
      "Retrieving ElectronicStructureDoc documents: 100%|█████████████████| 1/1 [00:00<?, ?it/s]\n",
      "Retrieving ElectronicStructureDoc documents: 100%|█████████████████| 1/1 [00:00<?, ?it/s]\n",
      "Retrieving ElectronicStructureDoc documents: 100%|█████████████████| 1/1 [00:00<?, ?it/s]\n",
      "Retrieving ElectronicStructureDoc documents: 100%|█████████████████| 1/1 [00:00<?, ?it/s]\n"
     ]
    },
    {
     "name": "stdout",
     "output_type": "stream",
     "text": [
      "mp-1226922 60 1\n"
     ]
    },
    {
     "name": "stderr",
     "output_type": "stream",
     "text": [
      "Retrieving ElectronicStructureDoc documents: 100%|█████████████████| 1/1 [00:00<?, ?it/s]\n",
      "Retrieving ElectronicStructureDoc documents: 100%|█████████████████| 1/1 [00:00<?, ?it/s]\n",
      "Retrieving ElectronicStructureDoc documents: 100%|█████████████████| 1/1 [00:00<?, ?it/s]\n",
      "Retrieving ElectronicStructureDoc documents: 100%|█████████████████| 1/1 [00:00<?, ?it/s]\n",
      "Retrieving ElectronicStructureDoc documents: 100%|█████████████████| 1/1 [00:00<?, ?it/s]\n",
      "Retrieving ElectronicStructureDoc documents: 100%|█████████████████| 1/1 [00:00<?, ?it/s]\n",
      "Retrieving ElectronicStructureDoc documents: 100%|█████████████████| 1/1 [00:00<?, ?it/s]\n",
      "Retrieving ElectronicStructureDoc documents: 100%|█████████████████| 1/1 [00:00<?, ?it/s]\n",
      "Retrieving ElectronicStructureDoc documents: 100%|█████████████████| 1/1 [00:00<?, ?it/s]\n",
      "Retrieving ElectronicStructureDoc documents: 100%|█████████████████| 1/1 [00:00<?, ?it/s]\n"
     ]
    },
    {
     "name": "stdout",
     "output_type": "stream",
     "text": [
      "mp-1226962 70 1\n"
     ]
    },
    {
     "name": "stderr",
     "output_type": "stream",
     "text": [
      "Retrieving ElectronicStructureDoc documents: 100%|█████████████████| 1/1 [00:00<?, ?it/s]\n",
      "Retrieving ElectronicStructureDoc documents: 100%|█████████████████| 1/1 [00:00<?, ?it/s]\n",
      "Retrieving ElectronicStructureDoc documents: 100%|█████████████████| 1/1 [00:00<?, ?it/s]\n",
      "Retrieving ElectronicStructureDoc documents: 100%|█████████████████| 1/1 [00:00<?, ?it/s]\n",
      "Retrieving ElectronicStructureDoc documents: 100%|█████████████████| 1/1 [00:00<?, ?it/s]\n",
      "Retrieving ElectronicStructureDoc documents: 100%|█████████████████| 1/1 [00:00<?, ?it/s]\n",
      "Retrieving ElectronicStructureDoc documents: 100%|█████████████████| 1/1 [00:00<?, ?it/s]\n",
      "Retrieving ElectronicStructureDoc documents: 100%|█████████████████| 1/1 [00:00<?, ?it/s]\n",
      "Retrieving ElectronicStructureDoc documents: 100%|█████████████████| 1/1 [00:00<?, ?it/s]\n",
      "Retrieving ElectronicStructureDoc documents: 100%|█████████████████| 1/1 [00:00<?, ?it/s]\n"
     ]
    },
    {
     "name": "stdout",
     "output_type": "stream",
     "text": [
      "mp-1227020 80 1\n"
     ]
    },
    {
     "name": "stderr",
     "output_type": "stream",
     "text": [
      "Retrieving ElectronicStructureDoc documents: 100%|█████████████████| 1/1 [00:00<?, ?it/s]\n",
      "Retrieving ElectronicStructureDoc documents: 100%|█████████████████| 1/1 [00:00<?, ?it/s]\n",
      "Retrieving ElectronicStructureDoc documents: 100%|███████| 1/1 [00:00<00:00, 2908.67it/s]\n",
      "Retrieving ElectronicStructureDoc documents: 100%|█████████████████| 1/1 [00:00<?, ?it/s]\n",
      "Retrieving ElectronicStructureDoc documents: 100%|█████████████████| 1/1 [00:00<?, ?it/s]\n",
      "Retrieving ElectronicStructureDoc documents: 100%|█████████████████| 1/1 [00:00<?, ?it/s]\n",
      "Retrieving ElectronicStructureDoc documents: 100%|█████████████████| 1/1 [00:00<?, ?it/s]\n",
      "Retrieving ElectronicStructureDoc documents: 100%|█████████████████| 1/1 [00:00<?, ?it/s]\n",
      "Retrieving ElectronicStructureDoc documents: 100%|█████████████████| 1/1 [00:00<?, ?it/s]\n",
      "Retrieving ElectronicStructureDoc documents: 100%|█████████████████| 1/1 [00:00<?, ?it/s]\n"
     ]
    },
    {
     "name": "stdout",
     "output_type": "stream",
     "text": [
      "mp-1227044 90 1\n"
     ]
    },
    {
     "name": "stderr",
     "output_type": "stream",
     "text": [
      "Retrieving ElectronicStructureDoc documents: 100%|█████████████████| 1/1 [00:00<?, ?it/s]\n",
      "Retrieving ElectronicStructureDoc documents: 100%|█████████████████| 1/1 [00:00<?, ?it/s]\n",
      "Retrieving ElectronicStructureDoc documents: 100%|█████████████████| 1/1 [00:00<?, ?it/s]\n",
      "Retrieving ElectronicStructureDoc documents: 100%|█████████████████| 1/1 [00:00<?, ?it/s]\n",
      "Retrieving ElectronicStructureDoc documents: 100%|█████████████████| 1/1 [00:00<?, ?it/s]\n",
      "Retrieving ElectronicStructureDoc documents: 100%|█████████████████| 1/1 [00:00<?, ?it/s]\n",
      "Retrieving ElectronicStructureDoc documents: 100%|█████████████████| 1/1 [00:00<?, ?it/s]\n",
      "Retrieving ElectronicStructureDoc documents: 100%|█████████████████| 1/1 [00:00<?, ?it/s]\n",
      "Retrieving ElectronicStructureDoc documents: 100%|█████████████████| 1/1 [00:00<?, ?it/s]\n",
      "Retrieving ElectronicStructureDoc documents: 100%|█████████████████| 1/1 [00:00<?, ?it/s]\n"
     ]
    },
    {
     "name": "stdout",
     "output_type": "stream",
     "text": [
      "mp-1227061 0 2\n"
     ]
    },
    {
     "name": "stderr",
     "output_type": "stream",
     "text": [
      "Retrieving ElectronicStructureDoc documents: 100%|█████████████████| 1/1 [00:00<?, ?it/s]\n",
      "Retrieving ElectronicStructureDoc documents: 100%|█████████████████| 1/1 [00:00<?, ?it/s]\n",
      "Retrieving ElectronicStructureDoc documents: 100%|█████████████████| 1/1 [00:00<?, ?it/s]\n",
      "Retrieving ElectronicStructureDoc documents: 100%|█████████████████| 1/1 [00:00<?, ?it/s]\n",
      "Retrieving ElectronicStructureDoc documents: 100%|█████████████████| 1/1 [00:00<?, ?it/s]\n",
      "Retrieving ElectronicStructureDoc documents: 100%|█████████████████| 1/1 [00:00<?, ?it/s]\n",
      "Retrieving ElectronicStructureDoc documents: 100%|█████████████████| 1/1 [00:00<?, ?it/s]\n",
      "Retrieving ElectronicStructureDoc documents: 100%|█████████████████| 1/1 [00:00<?, ?it/s]\n",
      "Retrieving ElectronicStructureDoc documents: 100%|█████████████████| 1/1 [00:00<?, ?it/s]\n",
      "Retrieving ElectronicStructureDoc documents: 100%|█████████████████| 1/1 [00:00<?, ?it/s]\n"
     ]
    },
    {
     "name": "stdout",
     "output_type": "stream",
     "text": [
      "mp-1227082 10 2\n"
     ]
    },
    {
     "name": "stderr",
     "output_type": "stream",
     "text": [
      "Retrieving ElectronicStructureDoc documents: 100%|█████████████████| 1/1 [00:00<?, ?it/s]\n",
      "Retrieving ElectronicStructureDoc documents: 100%|█████████████████| 1/1 [00:00<?, ?it/s]\n",
      "Retrieving ElectronicStructureDoc documents: 100%|█████████| 1/1 [00:00<00:00, 64.37it/s]\n",
      "Retrieving ElectronicStructureDoc documents: 100%|█████████████████| 1/1 [00:00<?, ?it/s]\n",
      "Retrieving ElectronicStructureDoc documents: 100%|█████████████████| 1/1 [00:00<?, ?it/s]\n",
      "Retrieving ElectronicStructureDoc documents: 100%|█████████████████| 1/1 [00:00<?, ?it/s]\n",
      "Retrieving ElectronicStructureDoc documents: 100%|█████████████████| 1/1 [00:00<?, ?it/s]\n",
      "Retrieving ElectronicStructureDoc documents: 100%|█████████████████| 1/1 [00:00<?, ?it/s]\n",
      "Retrieving ElectronicStructureDoc documents: 100%|█████████████████| 1/1 [00:00<?, ?it/s]\n",
      "Retrieving ElectronicStructureDoc documents: 100%|█████████████████| 1/1 [00:00<?, ?it/s]\n"
     ]
    },
    {
     "name": "stdout",
     "output_type": "stream",
     "text": [
      "mp-1227179 20 2\n"
     ]
    },
    {
     "name": "stderr",
     "output_type": "stream",
     "text": [
      "Retrieving ElectronicStructureDoc documents: 100%|█████████████████| 1/1 [00:00<?, ?it/s]\n",
      "Retrieving ElectronicStructureDoc documents: 100%|█████████████████| 1/1 [00:00<?, ?it/s]\n",
      "Retrieving ElectronicStructureDoc documents: 100%|█████████████████| 1/1 [00:00<?, ?it/s]\n",
      "Retrieving ElectronicStructureDoc documents: 100%|█████████████████| 1/1 [00:00<?, ?it/s]\n",
      "Retrieving ElectronicStructureDoc documents: 100%|█████████████████| 1/1 [00:00<?, ?it/s]\n",
      "Retrieving ElectronicStructureDoc documents: 100%|█████████████████| 1/1 [00:00<?, ?it/s]\n",
      "Retrieving ElectronicStructureDoc documents: 100%|█████████████████| 1/1 [00:00<?, ?it/s]\n",
      "Retrieving ElectronicStructureDoc documents: 100%|█████████████████| 1/1 [00:00<?, ?it/s]\n",
      "Retrieving ElectronicStructureDoc documents: 100%|████████| 1/1 [00:00<00:00, 262.16it/s]\n",
      "Retrieving ElectronicStructureDoc documents: 100%|█████████████████| 1/1 [00:00<?, ?it/s]\n"
     ]
    },
    {
     "name": "stdout",
     "output_type": "stream",
     "text": [
      "mp-1227236 30 2\n"
     ]
    },
    {
     "name": "stderr",
     "output_type": "stream",
     "text": [
      "Retrieving ElectronicStructureDoc documents: 100%|█████████████████| 1/1 [00:00<?, ?it/s]\n",
      "Retrieving ElectronicStructureDoc documents: 100%|█████████████████| 1/1 [00:00<?, ?it/s]\n",
      "Retrieving ElectronicStructureDoc documents: 100%|█████████████████| 1/1 [00:00<?, ?it/s]\n",
      "Retrieving ElectronicStructureDoc documents: 100%|█████████████████| 1/1 [00:00<?, ?it/s]\n",
      "Retrieving ElectronicStructureDoc documents: 100%|█████████| 1/1 [00:00<00:00, 63.99it/s]\n",
      "Retrieving ElectronicStructureDoc documents: 100%|█████████████████| 1/1 [00:00<?, ?it/s]\n",
      "Retrieving ElectronicStructureDoc documents: 100%|█████████████████| 1/1 [00:00<?, ?it/s]\n",
      "Retrieving ElectronicStructureDoc documents: 100%|█████████████████| 1/1 [00:00<?, ?it/s]\n",
      "Retrieving ElectronicStructureDoc documents: 100%|█████████████████| 1/1 [00:00<?, ?it/s]\n",
      "Retrieving ElectronicStructureDoc documents: 100%|█████████████████| 1/1 [00:00<?, ?it/s]\n"
     ]
    },
    {
     "name": "stdout",
     "output_type": "stream",
     "text": [
      "mp-1227277 40 2\n"
     ]
    },
    {
     "name": "stderr",
     "output_type": "stream",
     "text": [
      "Retrieving ElectronicStructureDoc documents: 100%|█████████████████| 1/1 [00:00<?, ?it/s]\n",
      "Retrieving ElectronicStructureDoc documents: 100%|█████████████████| 1/1 [00:00<?, ?it/s]\n",
      "Retrieving ElectronicStructureDoc documents: 100%|█████████████████| 1/1 [00:00<?, ?it/s]\n",
      "Retrieving ElectronicStructureDoc documents: 100%|█████████████████| 1/1 [00:00<?, ?it/s]\n",
      "Retrieving ElectronicStructureDoc documents: 100%|█████████████████| 1/1 [00:00<?, ?it/s]\n",
      "Retrieving ElectronicStructureDoc documents: 100%|█████████████████| 1/1 [00:00<?, ?it/s]\n",
      "Retrieving ElectronicStructureDoc documents: 100%|█████████████████| 1/1 [00:00<?, ?it/s]\n",
      "Retrieving ElectronicStructureDoc documents: 100%|█████████████████| 1/1 [00:00<?, ?it/s]\n",
      "Retrieving ElectronicStructureDoc documents: 100%|█████████████████| 1/1 [00:00<?, ?it/s]\n",
      "Retrieving ElectronicStructureDoc documents: 100%|█████████████████| 1/1 [00:00<?, ?it/s]\n"
     ]
    },
    {
     "name": "stdout",
     "output_type": "stream",
     "text": [
      "mp-1227295 50 2\n"
     ]
    },
    {
     "name": "stderr",
     "output_type": "stream",
     "text": [
      "Retrieving ElectronicStructureDoc documents: 100%|█████████████████| 1/1 [00:00<?, ?it/s]\n",
      "Retrieving ElectronicStructureDoc documents: 100%|█████████████████| 1/1 [00:00<?, ?it/s]\n",
      "Retrieving ElectronicStructureDoc documents: 100%|█████████████████| 1/1 [00:00<?, ?it/s]\n",
      "Retrieving ElectronicStructureDoc documents: 100%|█████████████████| 1/1 [00:00<?, ?it/s]\n",
      "Retrieving ElectronicStructureDoc documents: 100%|█████████████████| 1/1 [00:00<?, ?it/s]\n",
      "Retrieving ElectronicStructureDoc documents: 100%|█████████████████| 1/1 [00:00<?, ?it/s]\n",
      "Retrieving ElectronicStructureDoc documents: 100%|█████████████████| 1/1 [00:00<?, ?it/s]\n",
      "Retrieving ElectronicStructureDoc documents: 100%|████████| 1/1 [00:00<00:00, 683.00it/s]\n",
      "Retrieving ElectronicStructureDoc documents: 100%|█████████████████| 1/1 [00:00<?, ?it/s]\n",
      "Retrieving ElectronicStructureDoc documents: 100%|█████████████████| 1/1 [00:00<?, ?it/s]\n"
     ]
    },
    {
     "name": "stdout",
     "output_type": "stream",
     "text": [
      "mp-1227309 60 2\n"
     ]
    },
    {
     "name": "stderr",
     "output_type": "stream",
     "text": [
      "Retrieving ElectronicStructureDoc documents: 100%|█████████████████| 1/1 [00:00<?, ?it/s]\n",
      "Retrieving ElectronicStructureDoc documents: 100%|█████████████████| 1/1 [00:00<?, ?it/s]\n",
      "Retrieving ElectronicStructureDoc documents: 100%|█████████| 1/1 [00:00<00:00, 64.00it/s]\n",
      "Retrieving ElectronicStructureDoc documents: 100%|█████████████████| 1/1 [00:00<?, ?it/s]\n",
      "Retrieving ElectronicStructureDoc documents: 100%|█████████████████| 1/1 [00:00<?, ?it/s]\n",
      "Retrieving ElectronicStructureDoc documents: 100%|█████████████████| 1/1 [00:00<?, ?it/s]\n",
      "Retrieving ElectronicStructureDoc documents: 100%|█████████████████| 1/1 [00:00<?, ?it/s]\n",
      "Retrieving ElectronicStructureDoc documents: 100%|█████████████████| 1/1 [00:00<?, ?it/s]\n",
      "Retrieving ElectronicStructureDoc documents: 100%|█████████████████| 1/1 [00:00<?, ?it/s]\n",
      "Retrieving ElectronicStructureDoc documents: 100%|█████████████████| 1/1 [00:00<?, ?it/s]\n"
     ]
    },
    {
     "name": "stdout",
     "output_type": "stream",
     "text": [
      "mp-1227324 70 2\n"
     ]
    },
    {
     "name": "stderr",
     "output_type": "stream",
     "text": [
      "Retrieving ElectronicStructureDoc documents: 100%|█████████████████| 1/1 [00:00<?, ?it/s]\n",
      "Retrieving ElectronicStructureDoc documents: 100%|█████████████████| 1/1 [00:00<?, ?it/s]\n",
      "Retrieving ElectronicStructureDoc documents: 100%|█████████████████| 1/1 [00:00<?, ?it/s]\n",
      "Retrieving ElectronicStructureDoc documents: 100%|█████████████████| 1/1 [00:00<?, ?it/s]\n",
      "Retrieving ElectronicStructureDoc documents: 100%|█████████████████| 1/1 [00:00<?, ?it/s]\n",
      "Retrieving ElectronicStructureDoc documents: 100%|█████████████████| 1/1 [00:00<?, ?it/s]\n",
      "Retrieving ElectronicStructureDoc documents: 100%|█████████████████| 1/1 [00:00<?, ?it/s]\n",
      "Retrieving ElectronicStructureDoc documents: 100%|█████████████████| 1/1 [00:00<?, ?it/s]\n",
      "Retrieving ElectronicStructureDoc documents: 100%|█████████████████| 1/1 [00:00<?, ?it/s]\n",
      "Retrieving ElectronicStructureDoc documents: 100%|█████████████████| 1/1 [00:00<?, ?it/s]\n"
     ]
    },
    {
     "name": "stdout",
     "output_type": "stream",
     "text": [
      "mp-1227339 80 2\n"
     ]
    },
    {
     "name": "stderr",
     "output_type": "stream",
     "text": [
      "Retrieving ElectronicStructureDoc documents: 100%|█████████| 1/1 [00:00<00:00, 85.50it/s]\n",
      "Retrieving ElectronicStructureDoc documents: 100%|█████████████████| 1/1 [00:00<?, ?it/s]\n",
      "Retrieving ElectronicStructureDoc documents: 100%|█████████████████| 1/1 [00:00<?, ?it/s]\n",
      "Retrieving ElectronicStructureDoc documents: 100%|█████████████████| 1/1 [00:00<?, ?it/s]\n",
      "Retrieving ElectronicStructureDoc documents: 100%|█████████████████| 1/1 [00:00<?, ?it/s]\n",
      "Retrieving ElectronicStructureDoc documents: 100%|█████████████████| 1/1 [00:00<?, ?it/s]\n",
      "Retrieving ElectronicStructureDoc documents: 100%|█████████████████| 1/1 [00:00<?, ?it/s]\n",
      "Retrieving ElectronicStructureDoc documents: 100%|█████████████████| 1/1 [00:00<?, ?it/s]\n",
      "Retrieving ElectronicStructureDoc documents: 100%|█████████████████| 1/1 [00:00<?, ?it/s]\n",
      "Retrieving ElectronicStructureDoc documents: 100%|█████████████████| 1/1 [00:00<?, ?it/s]\n"
     ]
    },
    {
     "name": "stdout",
     "output_type": "stream",
     "text": [
      "mp-1227358 90 2\n"
     ]
    },
    {
     "name": "stderr",
     "output_type": "stream",
     "text": [
      "Retrieving ElectronicStructureDoc documents: 100%|█████████████████| 1/1 [00:00<?, ?it/s]\n",
      "Retrieving ElectronicStructureDoc documents: 100%|█████████████████| 1/1 [00:00<?, ?it/s]\n",
      "Retrieving ElectronicStructureDoc documents: 100%|█████████████████| 1/1 [00:00<?, ?it/s]\n",
      "Retrieving ElectronicStructureDoc documents: 100%|█████████████████| 1/1 [00:00<?, ?it/s]\n",
      "Retrieving ElectronicStructureDoc documents: 100%|█████████████████| 1/1 [00:00<?, ?it/s]\n"
     ]
    },
    {
     "name": "stdout",
     "output_type": "stream",
     "text": [
      "no bandstructure for mp-1227378\n"
     ]
    },
    {
     "name": "stderr",
     "output_type": "stream",
     "text": [
      "Retrieving ElectronicStructureDoc documents: 100%|█████████████████| 1/1 [00:00<?, ?it/s]\n",
      "Retrieving ElectronicStructureDoc documents: 100%|█████████████████| 1/1 [00:00<?, ?it/s]\n",
      "Retrieving ElectronicStructureDoc documents: 100%|█████████████████| 1/1 [00:00<?, ?it/s]\n",
      "Retrieving ElectronicStructureDoc documents: 100%|█████████████████| 1/1 [00:00<?, ?it/s]\n",
      "Retrieving ElectronicStructureDoc documents: 100%|█████████████████| 1/1 [00:00<?, ?it/s]\n"
     ]
    },
    {
     "name": "stdout",
     "output_type": "stream",
     "text": [
      "mp-1227388 0 3\n"
     ]
    },
    {
     "name": "stderr",
     "output_type": "stream",
     "text": [
      "Retrieving ElectronicStructureDoc documents: 100%|█████████████████| 1/1 [00:00<?, ?it/s]\n",
      "Retrieving ElectronicStructureDoc documents: 100%|█████████████████| 1/1 [00:00<?, ?it/s]\n"
     ]
    },
    {
     "name": "stdout",
     "output_type": "stream",
     "text": [
      "no bandstructure for mp-1227395\n"
     ]
    },
    {
     "name": "stderr",
     "output_type": "stream",
     "text": [
      "Retrieving ElectronicStructureDoc documents: 100%|█████████████████| 1/1 [00:00<?, ?it/s]\n",
      "Retrieving ElectronicStructureDoc documents: 100%|█████████████████| 1/1 [00:00<?, ?it/s]\n",
      "Retrieving ElectronicStructureDoc documents: 100%|█████████████████| 1/1 [00:00<?, ?it/s]\n",
      "Retrieving ElectronicStructureDoc documents: 100%|█████████████████| 1/1 [00:00<?, ?it/s]\n",
      "Retrieving ElectronicStructureDoc documents: 100%|█████████████████| 1/1 [00:00<?, ?it/s]\n",
      "Retrieving ElectronicStructureDoc documents: 100%|█████████████████| 1/1 [00:00<?, ?it/s]\n",
      "Retrieving ElectronicStructureDoc documents: 100%|█████████████████| 1/1 [00:00<?, ?it/s]\n",
      "Retrieving ElectronicStructureDoc documents: 100%|█████████████████| 1/1 [00:00<?, ?it/s]\n"
     ]
    },
    {
     "name": "stdout",
     "output_type": "stream",
     "text": [
      "mp-1227412 10 3\n"
     ]
    },
    {
     "name": "stderr",
     "output_type": "stream",
     "text": [
      "Retrieving ElectronicStructureDoc documents: 100%|█████████████████| 1/1 [00:00<?, ?it/s]\n",
      "Retrieving ElectronicStructureDoc documents: 100%|█████████████████| 1/1 [00:00<?, ?it/s]\n",
      "Retrieving ElectronicStructureDoc documents: 100%|█████████████████| 1/1 [00:00<?, ?it/s]\n",
      "Retrieving ElectronicStructureDoc documents: 100%|█████████████████| 1/1 [00:00<?, ?it/s]\n",
      "Retrieving ElectronicStructureDoc documents: 100%|█████████████████| 1/1 [00:00<?, ?it/s]\n"
     ]
    },
    {
     "name": "stdout",
     "output_type": "stream",
     "text": [
      "no bandstructure for mp-1227436\n"
     ]
    },
    {
     "name": "stderr",
     "output_type": "stream",
     "text": [
      "Retrieving ElectronicStructureDoc documents: 100%|█████████████████| 1/1 [00:00<?, ?it/s]\n",
      "Retrieving ElectronicStructureDoc documents: 100%|█████████████████| 1/1 [00:00<?, ?it/s]\n",
      "Retrieving ElectronicStructureDoc documents: 100%|█████████████████| 1/1 [00:00<?, ?it/s]\n",
      "Retrieving ElectronicStructureDoc documents: 100%|█████████████████| 1/1 [00:00<?, ?it/s]\n",
      "Retrieving ElectronicStructureDoc documents: 100%|█████████████████| 1/1 [00:00<?, ?it/s]\n"
     ]
    },
    {
     "name": "stdout",
     "output_type": "stream",
     "text": [
      "mp-1227457 20 3\n"
     ]
    },
    {
     "name": "stderr",
     "output_type": "stream",
     "text": [
      "Retrieving ElectronicStructureDoc documents: 100%|█████████████████| 1/1 [00:00<?, ?it/s]\n",
      "Retrieving ElectronicStructureDoc documents: 100%|█████████████████| 1/1 [00:00<?, ?it/s]\n",
      "Retrieving ElectronicStructureDoc documents: 100%|█████████████████| 1/1 [00:00<?, ?it/s]\n",
      "Retrieving ElectronicStructureDoc documents: 100%|█████████████████| 1/1 [00:00<?, ?it/s]\n",
      "Retrieving ElectronicStructureDoc documents: 100%|█████████████████| 1/1 [00:00<?, ?it/s]\n",
      "Retrieving ElectronicStructureDoc documents: 100%|█████████████████| 1/1 [00:00<?, ?it/s]\n",
      "Retrieving ElectronicStructureDoc documents: 100%|█████████████████| 1/1 [00:00<?, ?it/s]\n",
      "Retrieving ElectronicStructureDoc documents: 100%|█████████████████| 1/1 [00:00<?, ?it/s]\n",
      "Retrieving ElectronicStructureDoc documents: 100%|█████████████████| 1/1 [00:00<?, ?it/s]\n",
      "Retrieving ElectronicStructureDoc documents: 100%|█████████████████| 1/1 [00:00<?, ?it/s]\n"
     ]
    },
    {
     "name": "stdout",
     "output_type": "stream",
     "text": [
      "mp-1227642 30 3\n"
     ]
    },
    {
     "name": "stderr",
     "output_type": "stream",
     "text": [
      "Retrieving ElectronicStructureDoc documents: 100%|█████████████████| 1/1 [00:00<?, ?it/s]\n",
      "Retrieving ElectronicStructureDoc documents: 100%|█████████████████| 1/1 [00:00<?, ?it/s]\n",
      "Retrieving ElectronicStructureDoc documents: 100%|█████████████████| 1/1 [00:00<?, ?it/s]\n",
      "Retrieving ElectronicStructureDoc documents: 100%|█████████████████| 1/1 [00:00<?, ?it/s]\n",
      "Retrieving ElectronicStructureDoc documents: 100%|█████████████████| 1/1 [00:00<?, ?it/s]\n",
      "Retrieving ElectronicStructureDoc documents: 100%|█████████████████| 1/1 [00:00<?, ?it/s]\n",
      "Retrieving ElectronicStructureDoc documents: 100%|█████████████████| 1/1 [00:00<?, ?it/s]\n",
      "Retrieving ElectronicStructureDoc documents: 100%|████████| 1/1 [00:00<00:00, 997.22it/s]\n",
      "Retrieving ElectronicStructureDoc documents: 100%|█████████████████| 1/1 [00:00<?, ?it/s]\n",
      "Retrieving ElectronicStructureDoc documents: 100%|█████████████████| 1/1 [00:00<?, ?it/s]\n"
     ]
    },
    {
     "name": "stdout",
     "output_type": "stream",
     "text": [
      "mp-1227698 40 3\n"
     ]
    },
    {
     "name": "stderr",
     "output_type": "stream",
     "text": [
      "Retrieving ElectronicStructureDoc documents: 100%|█████████████████| 1/1 [00:00<?, ?it/s]\n",
      "Retrieving ElectronicStructureDoc documents: 100%|█████████████████| 1/1 [00:00<?, ?it/s]\n",
      "Retrieving ElectronicStructureDoc documents: 100%|█████████████████| 1/1 [00:00<?, ?it/s]\n",
      "Retrieving ElectronicStructureDoc documents: 100%|█████████████████| 1/1 [00:00<?, ?it/s]\n",
      "Retrieving ElectronicStructureDoc documents: 100%|█████████████████| 1/1 [00:00<?, ?it/s]\n",
      "Retrieving ElectronicStructureDoc documents: 100%|█████████████████| 1/1 [00:00<?, ?it/s]\n",
      "Retrieving ElectronicStructureDoc documents: 100%|█████████████████| 1/1 [00:00<?, ?it/s]\n",
      "Retrieving ElectronicStructureDoc documents: 100%|█████████████████| 1/1 [00:00<?, ?it/s]\n",
      "Retrieving ElectronicStructureDoc documents: 100%|█████████████████| 1/1 [00:00<?, ?it/s]\n",
      "Retrieving ElectronicStructureDoc documents: 100%|█████████████████| 1/1 [00:00<?, ?it/s]\n"
     ]
    },
    {
     "name": "stdout",
     "output_type": "stream",
     "text": [
      "mp-1227810 50 3\n"
     ]
    },
    {
     "name": "stderr",
     "output_type": "stream",
     "text": [
      "Retrieving ElectronicStructureDoc documents: 100%|█████████████████| 1/1 [00:00<?, ?it/s]\n",
      "Retrieving ElectronicStructureDoc documents: 100%|█████████████████| 1/1 [00:00<?, ?it/s]\n",
      "Retrieving ElectronicStructureDoc documents: 100%|█████████████████| 1/1 [00:00<?, ?it/s]\n",
      "Retrieving ElectronicStructureDoc documents: 100%|█████████████████| 1/1 [00:00<?, ?it/s]\n",
      "Retrieving ElectronicStructureDoc documents: 100%|█████████████████| 1/1 [00:00<?, ?it/s]\n",
      "Retrieving ElectronicStructureDoc documents: 100%|█████████████████| 1/1 [00:00<?, ?it/s]\n",
      "Retrieving ElectronicStructureDoc documents: 100%|█████████████████| 1/1 [00:00<?, ?it/s]\n",
      "Retrieving ElectronicStructureDoc documents: 100%|█████████████████| 1/1 [00:00<?, ?it/s]\n",
      "Retrieving ElectronicStructureDoc documents: 100%|█████████████████| 1/1 [00:00<?, ?it/s]\n",
      "Retrieving ElectronicStructureDoc documents: 100%|█████████████████| 1/1 [00:00<?, ?it/s]\n"
     ]
    },
    {
     "name": "stdout",
     "output_type": "stream",
     "text": [
      "mp-1227851 60 3\n"
     ]
    },
    {
     "name": "stderr",
     "output_type": "stream",
     "text": [
      "Retrieving ElectronicStructureDoc documents: 100%|█████████████████| 1/1 [00:00<?, ?it/s]\n",
      "Retrieving ElectronicStructureDoc documents: 100%|█████████████████| 1/1 [00:00<?, ?it/s]\n",
      "Retrieving ElectronicStructureDoc documents: 100%|█████████████████| 1/1 [00:00<?, ?it/s]\n",
      "Retrieving ElectronicStructureDoc documents: 100%|█████████████████| 1/1 [00:00<?, ?it/s]\n",
      "Retrieving ElectronicStructureDoc documents: 100%|█████████████████| 1/1 [00:00<?, ?it/s]\n",
      "Retrieving ElectronicStructureDoc documents: 100%|█████████████████| 1/1 [00:00<?, ?it/s]\n",
      "Retrieving ElectronicStructureDoc documents: 100%|█████████████████| 1/1 [00:00<?, ?it/s]\n",
      "Retrieving ElectronicStructureDoc documents: 100%|█████████████████| 1/1 [00:00<?, ?it/s]\n"
     ]
    },
    {
     "name": "stdout",
     "output_type": "stream",
     "text": [
      "no bandstructure for mp-1227910\n"
     ]
    },
    {
     "name": "stderr",
     "output_type": "stream",
     "text": [
      "Retrieving ElectronicStructureDoc documents: 100%|█████████████████| 1/1 [00:00<?, ?it/s]\n",
      "Retrieving ElectronicStructureDoc documents: 100%|█████████████████| 1/1 [00:00<?, ?it/s]\n"
     ]
    },
    {
     "name": "stdout",
     "output_type": "stream",
     "text": [
      "mp-1227938 70 3\n"
     ]
    },
    {
     "name": "stderr",
     "output_type": "stream",
     "text": [
      "Retrieving ElectronicStructureDoc documents: 100%|█████████████████| 1/1 [00:00<?, ?it/s]\n",
      "Retrieving ElectronicStructureDoc documents: 100%|█████████████████| 1/1 [00:00<?, ?it/s]\n",
      "Retrieving ElectronicStructureDoc documents: 100%|█████████████████| 1/1 [00:00<?, ?it/s]\n",
      "Retrieving ElectronicStructureDoc documents: 100%|█████████████████| 1/1 [00:00<?, ?it/s]\n",
      "Retrieving ElectronicStructureDoc documents: 100%|█████████████████| 1/1 [00:00<?, ?it/s]\n",
      "Retrieving ElectronicStructureDoc documents: 100%|█████████████████| 1/1 [00:00<?, ?it/s]\n",
      "Retrieving ElectronicStructureDoc documents: 100%|█████████████████| 1/1 [00:00<?, ?it/s]\n",
      "Retrieving ElectronicStructureDoc documents: 100%|█████████████████| 1/1 [00:00<?, ?it/s]\n",
      "Retrieving ElectronicStructureDoc documents: 100%|█████████████████| 1/1 [00:00<?, ?it/s]\n",
      "Retrieving ElectronicStructureDoc documents: 100%|█████████████████| 1/1 [00:00<?, ?it/s]\n"
     ]
    },
    {
     "name": "stdout",
     "output_type": "stream",
     "text": [
      "mp-1227958 80 3\n"
     ]
    },
    {
     "name": "stderr",
     "output_type": "stream",
     "text": [
      "Retrieving ElectronicStructureDoc documents: 100%|█████████████████| 1/1 [00:00<?, ?it/s]\n",
      "Retrieving ElectronicStructureDoc documents: 100%|█████████████████| 1/1 [00:00<?, ?it/s]\n",
      "Retrieving ElectronicStructureDoc documents: 100%|███████| 1/1 [00:00<00:00, 1000.31it/s]\n",
      "Retrieving ElectronicStructureDoc documents: 100%|█████████████████| 1/1 [00:00<?, ?it/s]\n",
      "Retrieving ElectronicStructureDoc documents: 100%|█████████████████| 1/1 [00:00<?, ?it/s]\n",
      "Retrieving ElectronicStructureDoc documents: 100%|█████████████████| 1/1 [00:00<?, ?it/s]\n",
      "Retrieving ElectronicStructureDoc documents: 100%|█████████████████| 1/1 [00:00<?, ?it/s]\n",
      "Retrieving ElectronicStructureDoc documents: 100%|█████████████████| 1/1 [00:00<?, ?it/s]\n",
      "Retrieving ElectronicStructureDoc documents: 100%|█████████████████| 1/1 [00:00<?, ?it/s]\n",
      "Retrieving ElectronicStructureDoc documents: 100%|███████| 1/1 [00:00<00:00, 1005.35it/s]\n"
     ]
    },
    {
     "name": "stdout",
     "output_type": "stream",
     "text": [
      "mp-1227995 90 3\n"
     ]
    },
    {
     "name": "stderr",
     "output_type": "stream",
     "text": [
      "Retrieving ElectronicStructureDoc documents: 100%|█████████████████| 1/1 [00:00<?, ?it/s]\n",
      "Retrieving ElectronicStructureDoc documents: 100%|█████████████████| 1/1 [00:00<?, ?it/s]\n",
      "Retrieving ElectronicStructureDoc documents: 100%|█████████████████| 1/1 [00:00<?, ?it/s]\n",
      "Retrieving ElectronicStructureDoc documents: 100%|█████████████████| 1/1 [00:00<?, ?it/s]\n",
      "Retrieving ElectronicStructureDoc documents: 100%|█████████████████| 1/1 [00:00<?, ?it/s]\n",
      "Retrieving ElectronicStructureDoc documents: 100%|████████| 1/1 [00:00<00:00, 457.00it/s]\n",
      "Retrieving ElectronicStructureDoc documents: 100%|█████████████████| 1/1 [00:00<?, ?it/s]\n",
      "Retrieving ElectronicStructureDoc documents: 100%|█████████████████| 1/1 [00:00<?, ?it/s]\n",
      "Retrieving ElectronicStructureDoc documents: 100%|█████████████████| 1/1 [00:00<?, ?it/s]\n",
      "Retrieving ElectronicStructureDoc documents: 100%|█████████████████| 1/1 [00:00<?, ?it/s]\n"
     ]
    },
    {
     "name": "stdout",
     "output_type": "stream",
     "text": [
      "mp-1228043 0 4\n"
     ]
    },
    {
     "name": "stderr",
     "output_type": "stream",
     "text": [
      "Retrieving ElectronicStructureDoc documents: 100%|█████████████████| 1/1 [00:00<?, ?it/s]\n",
      "Retrieving ElectronicStructureDoc documents: 100%|█████████████████| 1/1 [00:00<?, ?it/s]\n",
      "Retrieving ElectronicStructureDoc documents: 100%|█████████████████| 1/1 [00:00<?, ?it/s]\n",
      "Retrieving ElectronicStructureDoc documents: 100%|█████████████████| 1/1 [00:00<?, ?it/s]\n",
      "Retrieving ElectronicStructureDoc documents: 100%|█████████████████| 1/1 [00:00<?, ?it/s]\n",
      "Retrieving ElectronicStructureDoc documents: 100%|█████████████████| 1/1 [00:00<?, ?it/s]\n",
      "Retrieving ElectronicStructureDoc documents: 100%|█████████████████| 1/1 [00:00<?, ?it/s]\n",
      "Retrieving ElectronicStructureDoc documents: 100%|█████████████████| 1/1 [00:00<?, ?it/s]\n",
      "Retrieving ElectronicStructureDoc documents: 100%|█████████████████| 1/1 [00:00<?, ?it/s]\n",
      "Retrieving ElectronicStructureDoc documents: 100%|█████████████████| 1/1 [00:00<?, ?it/s]\n"
     ]
    },
    {
     "name": "stdout",
     "output_type": "stream",
     "text": [
      "mp-1228125 10 4\n"
     ]
    },
    {
     "name": "stderr",
     "output_type": "stream",
     "text": [
      "Retrieving ElectronicStructureDoc documents: 100%|█████████████████| 1/1 [00:00<?, ?it/s]\n",
      "Retrieving ElectronicStructureDoc documents: 100%|█████████████████| 1/1 [00:00<?, ?it/s]\n",
      "Retrieving ElectronicStructureDoc documents: 100%|█████████████████| 1/1 [00:00<?, ?it/s]\n",
      "Retrieving ElectronicStructureDoc documents: 100%|█████████████████| 1/1 [00:00<?, ?it/s]\n",
      "Retrieving ElectronicStructureDoc documents: 100%|█████████████████| 1/1 [00:00<?, ?it/s]\n",
      "Retrieving ElectronicStructureDoc documents: 100%|█████████████████| 1/1 [00:00<?, ?it/s]\n",
      "Retrieving ElectronicStructureDoc documents: 100%|█████████████████| 1/1 [00:00<?, ?it/s]\n",
      "Retrieving ElectronicStructureDoc documents: 100%|█████████| 1/1 [00:00<00:00, 64.14it/s]\n",
      "Retrieving ElectronicStructureDoc documents: 100%|█████████████████| 1/1 [00:00<?, ?it/s]\n",
      "Retrieving ElectronicStructureDoc documents: 100%|█████████████████| 1/1 [00:00<?, ?it/s]\n"
     ]
    },
    {
     "name": "stdout",
     "output_type": "stream",
     "text": [
      "mp-1228339 20 4\n"
     ]
    },
    {
     "name": "stderr",
     "output_type": "stream",
     "text": [
      "Retrieving ElectronicStructureDoc documents: 100%|█████████████████| 1/1 [00:00<?, ?it/s]\n",
      "Retrieving ElectronicStructureDoc documents: 100%|█████████████████| 1/1 [00:00<?, ?it/s]\n",
      "Retrieving ElectronicStructureDoc documents: 100%|█████████████████| 1/1 [00:00<?, ?it/s]\n",
      "Retrieving ElectronicStructureDoc documents: 100%|█████████████████| 1/1 [00:00<?, ?it/s]\n",
      "Retrieving ElectronicStructureDoc documents: 100%|█████████████████| 1/1 [00:00<?, ?it/s]\n",
      "Retrieving ElectronicStructureDoc documents: 100%|█████████████████| 1/1 [00:00<?, ?it/s]\n",
      "Retrieving ElectronicStructureDoc documents: 100%|█████████████████| 1/1 [00:00<?, ?it/s]\n",
      "Retrieving ElectronicStructureDoc documents: 100%|█████████████████| 1/1 [00:00<?, ?it/s]\n",
      "Retrieving ElectronicStructureDoc documents: 100%|█████████████████| 1/1 [00:00<?, ?it/s]\n",
      "Retrieving ElectronicStructureDoc documents: 100%|█████████████████| 1/1 [00:00<?, ?it/s]\n"
     ]
    },
    {
     "name": "stdout",
     "output_type": "stream",
     "text": [
      "mp-1228392 30 4\n"
     ]
    },
    {
     "name": "stderr",
     "output_type": "stream",
     "text": [
      "Retrieving ElectronicStructureDoc documents: 100%|█████████████████| 1/1 [00:00<?, ?it/s]\n",
      "Retrieving ElectronicStructureDoc documents: 100%|█████████████████| 1/1 [00:00<?, ?it/s]\n",
      "Retrieving ElectronicStructureDoc documents: 100%|█████████████████| 1/1 [00:00<?, ?it/s]\n",
      "Retrieving ElectronicStructureDoc documents: 100%|█████████████████| 1/1 [00:00<?, ?it/s]\n",
      "Retrieving ElectronicStructureDoc documents: 100%|█████████████████| 1/1 [00:00<?, ?it/s]\n",
      "Retrieving ElectronicStructureDoc documents: 100%|█████████████████| 1/1 [00:00<?, ?it/s]\n",
      "Retrieving ElectronicStructureDoc documents: 100%|█████████████████| 1/1 [00:00<?, ?it/s]\n",
      "Retrieving ElectronicStructureDoc documents: 100%|█████████████████| 1/1 [00:00<?, ?it/s]\n",
      "Retrieving ElectronicStructureDoc documents: 100%|█████████████████| 1/1 [00:00<?, ?it/s]\n",
      "Retrieving ElectronicStructureDoc documents: 100%|█████████| 1/1 [00:00<00:00, 86.79it/s]\n"
     ]
    },
    {
     "name": "stdout",
     "output_type": "stream",
     "text": [
      "mp-1228436 40 4\n"
     ]
    },
    {
     "name": "stderr",
     "output_type": "stream",
     "text": [
      "Retrieving ElectronicStructureDoc documents: 100%|█████████████████| 1/1 [00:00<?, ?it/s]\n",
      "Retrieving ElectronicStructureDoc documents: 100%|█████████████████| 1/1 [00:00<?, ?it/s]\n",
      "Retrieving ElectronicStructureDoc documents: 100%|█████████████████| 1/1 [00:00<?, ?it/s]\n",
      "Retrieving ElectronicStructureDoc documents: 100%|█████████████████| 1/1 [00:00<?, ?it/s]\n",
      "Retrieving ElectronicStructureDoc documents: 100%|█████████████████| 1/1 [00:00<?, ?it/s]\n",
      "Retrieving ElectronicStructureDoc documents: 100%|█████████████████| 1/1 [00:00<?, ?it/s]\n",
      "Retrieving ElectronicStructureDoc documents: 100%|█████████████████| 1/1 [00:00<?, ?it/s]\n",
      "Retrieving ElectronicStructureDoc documents: 100%|█████████████████| 1/1 [00:00<?, ?it/s]\n",
      "Retrieving ElectronicStructureDoc documents: 100%|█████████████████| 1/1 [00:00<?, ?it/s]\n",
      "Retrieving ElectronicStructureDoc documents: 100%|█████████████████| 1/1 [00:00<?, ?it/s]\n"
     ]
    },
    {
     "name": "stdout",
     "output_type": "stream",
     "text": [
      "mp-1228621 50 4\n"
     ]
    },
    {
     "name": "stderr",
     "output_type": "stream",
     "text": [
      "Retrieving ElectronicStructureDoc documents: 100%|█████████████████| 1/1 [00:00<?, ?it/s]\n",
      "Retrieving ElectronicStructureDoc documents: 100%|█████████████████| 1/1 [00:00<?, ?it/s]\n",
      "Retrieving ElectronicStructureDoc documents: 100%|█████████████████| 1/1 [00:00<?, ?it/s]\n",
      "Retrieving ElectronicStructureDoc documents: 100%|█████████████████| 1/1 [00:00<?, ?it/s]\n",
      "Retrieving ElectronicStructureDoc documents: 100%|█████████████████| 1/1 [00:00<?, ?it/s]\n",
      "Retrieving ElectronicStructureDoc documents: 100%|█████████████████| 1/1 [00:00<?, ?it/s]\n",
      "Retrieving ElectronicStructureDoc documents: 100%|█████████████████| 1/1 [00:00<?, ?it/s]\n",
      "Retrieving ElectronicStructureDoc documents: 100%|████████| 1/1 [00:00<00:00, 661.35it/s]\n",
      "Retrieving ElectronicStructureDoc documents: 100%|█████████████████| 1/1 [00:00<?, ?it/s]\n",
      "Retrieving ElectronicStructureDoc documents: 100%|█████████████████| 1/1 [00:00<?, ?it/s]\n"
     ]
    },
    {
     "name": "stdout",
     "output_type": "stream",
     "text": [
      "mp-1228657 60 4\n"
     ]
    },
    {
     "name": "stderr",
     "output_type": "stream",
     "text": [
      "Retrieving ElectronicStructureDoc documents: 100%|█████████████████| 1/1 [00:00<?, ?it/s]\n",
      "Retrieving ElectronicStructureDoc documents: 100%|█████████████████| 1/1 [00:00<?, ?it/s]\n",
      "Retrieving ElectronicStructureDoc documents: 100%|█████████████████| 1/1 [00:00<?, ?it/s]\n",
      "Retrieving ElectronicStructureDoc documents: 100%|█████████████████| 1/1 [00:00<?, ?it/s]\n",
      "Retrieving ElectronicStructureDoc documents: 100%|█████████████████| 1/1 [00:00<?, ?it/s]\n",
      "Retrieving ElectronicStructureDoc documents: 100%|█████████████████| 1/1 [00:00<?, ?it/s]\n",
      "Retrieving ElectronicStructureDoc documents: 100%|█████████████████| 1/1 [00:00<?, ?it/s]\n",
      "Retrieving ElectronicStructureDoc documents: 100%|█████████████████| 1/1 [00:00<?, ?it/s]\n",
      "Retrieving ElectronicStructureDoc documents: 100%|█████████████████| 1/1 [00:00<?, ?it/s]\n",
      "Retrieving ElectronicStructureDoc documents: 100%|█████████████████| 1/1 [00:00<?, ?it/s]\n"
     ]
    },
    {
     "name": "stdout",
     "output_type": "stream",
     "text": [
      "mp-1228793 70 4\n"
     ]
    },
    {
     "name": "stderr",
     "output_type": "stream",
     "text": [
      "Retrieving ElectronicStructureDoc documents: 100%|█████████████████| 1/1 [00:00<?, ?it/s]\n",
      "Retrieving ElectronicStructureDoc documents: 100%|█████████████████| 1/1 [00:00<?, ?it/s]\n",
      "Retrieving ElectronicStructureDoc documents: 100%|█████████████████| 1/1 [00:00<?, ?it/s]\n",
      "Retrieving ElectronicStructureDoc documents: 100%|█████████████████| 1/1 [00:00<?, ?it/s]\n",
      "Retrieving ElectronicStructureDoc documents: 100%|█████████████████| 1/1 [00:00<?, ?it/s]\n",
      "Retrieving ElectronicStructureDoc documents: 100%|█████████████████| 1/1 [00:00<?, ?it/s]\n",
      "Retrieving ElectronicStructureDoc documents: 100%|█████████████████| 1/1 [00:00<?, ?it/s]\n",
      "Retrieving ElectronicStructureDoc documents: 100%|█████████████████| 1/1 [00:00<?, ?it/s]\n",
      "Retrieving ElectronicStructureDoc documents: 100%|█████████████████| 1/1 [00:00<?, ?it/s]\n",
      "Retrieving ElectronicStructureDoc documents: 100%|█████████████████| 1/1 [00:00<?, ?it/s]\n"
     ]
    },
    {
     "name": "stdout",
     "output_type": "stream",
     "text": [
      "mp-1228818 80 4\n"
     ]
    },
    {
     "name": "stderr",
     "output_type": "stream",
     "text": [
      "Retrieving ElectronicStructureDoc documents: 100%|█████████████████| 1/1 [00:00<?, ?it/s]\n",
      "Retrieving ElectronicStructureDoc documents: 100%|█████████████████| 1/1 [00:00<?, ?it/s]\n",
      "Retrieving ElectronicStructureDoc documents: 100%|█████████████████| 1/1 [00:00<?, ?it/s]\n",
      "Retrieving ElectronicStructureDoc documents: 100%|█████████████████| 1/1 [00:00<?, ?it/s]\n",
      "Retrieving ElectronicStructureDoc documents: 100%|█████████████████| 1/1 [00:00<?, ?it/s]\n",
      "Retrieving ElectronicStructureDoc documents: 100%|█████████████████| 1/1 [00:00<?, ?it/s]\n",
      "Retrieving ElectronicStructureDoc documents: 100%|█████████████████| 1/1 [00:00<?, ?it/s]\n",
      "Retrieving ElectronicStructureDoc documents: 100%|█████████████████| 1/1 [00:00<?, ?it/s]\n",
      "Retrieving ElectronicStructureDoc documents: 100%|█████████████████| 1/1 [00:00<?, ?it/s]\n",
      "Retrieving ElectronicStructureDoc documents: 100%|█████████████████| 1/1 [00:00<?, ?it/s]\n"
     ]
    },
    {
     "name": "stdout",
     "output_type": "stream",
     "text": [
      "mp-1228835 90 4\n"
     ]
    },
    {
     "name": "stderr",
     "output_type": "stream",
     "text": [
      "Retrieving ElectronicStructureDoc documents: 100%|█████████████████| 1/1 [00:00<?, ?it/s]\n",
      "Retrieving ElectronicStructureDoc documents: 100%|█████████| 1/1 [00:00<00:00, 63.92it/s]\n",
      "Retrieving ElectronicStructureDoc documents: 100%|████████| 1/1 [00:00<00:00, 332.22it/s]\n",
      "Retrieving ElectronicStructureDoc documents: 100%|█████████████████| 1/1 [00:00<?, ?it/s]\n",
      "Retrieving ElectronicStructureDoc documents: 100%|█████████████████| 1/1 [00:00<?, ?it/s]\n",
      "Retrieving ElectronicStructureDoc documents: 100%|█████████████████| 1/1 [00:00<?, ?it/s]\n",
      "Retrieving ElectronicStructureDoc documents: 100%|█████████████████| 1/1 [00:00<?, ?it/s]\n",
      "Retrieving ElectronicStructureDoc documents: 100%|█████████████████| 1/1 [00:00<?, ?it/s]\n",
      "Retrieving ElectronicStructureDoc documents: 100%|█████████████████| 1/1 [00:00<?, ?it/s]\n",
      "Retrieving ElectronicStructureDoc documents: 100%|█████████████████| 1/1 [00:00<?, ?it/s]\n"
     ]
    },
    {
     "name": "stdout",
     "output_type": "stream",
     "text": [
      "mp-1228861 0 5\n"
     ]
    },
    {
     "name": "stderr",
     "output_type": "stream",
     "text": [
      "Retrieving ElectronicStructureDoc documents: 100%|█████████████████| 1/1 [00:00<?, ?it/s]\n",
      "Retrieving ElectronicStructureDoc documents: 100%|███████| 1/1 [00:00<00:00, 4946.11it/s]\n",
      "Retrieving ElectronicStructureDoc documents: 100%|█████████████████| 1/1 [00:00<?, ?it/s]\n",
      "Retrieving ElectronicStructureDoc documents: 100%|█████████████████| 1/1 [00:00<?, ?it/s]\n",
      "Retrieving ElectronicStructureDoc documents: 100%|█████████████████| 1/1 [00:00<?, ?it/s]\n",
      "Retrieving ElectronicStructureDoc documents: 100%|█████████████████| 1/1 [00:00<?, ?it/s]\n",
      "Retrieving ElectronicStructureDoc documents: 100%|█████████████████| 1/1 [00:00<?, ?it/s]\n",
      "Retrieving ElectronicStructureDoc documents: 100%|█████████████████| 1/1 [00:00<?, ?it/s]\n",
      "Retrieving ElectronicStructureDoc documents: 100%|█████████████████| 1/1 [00:00<?, ?it/s]\n",
      "Retrieving ElectronicStructureDoc documents: 100%|█████████████████| 1/1 [00:00<?, ?it/s]\n"
     ]
    },
    {
     "name": "stdout",
     "output_type": "stream",
     "text": [
      "mp-1228901 10 5\n"
     ]
    },
    {
     "name": "stderr",
     "output_type": "stream",
     "text": [
      "Retrieving ElectronicStructureDoc documents: 100%|█████████████████| 1/1 [00:00<?, ?it/s]\n",
      "Retrieving ElectronicStructureDoc documents: 100%|█████████████████| 1/1 [00:00<?, ?it/s]\n",
      "Retrieving ElectronicStructureDoc documents: 100%|█████████████████| 1/1 [00:00<?, ?it/s]\n",
      "Retrieving ElectronicStructureDoc documents: 100%|█████████████████| 1/1 [00:00<?, ?it/s]\n",
      "Retrieving ElectronicStructureDoc documents: 100%|█████████████████| 1/1 [00:00<?, ?it/s]\n",
      "Retrieving ElectronicStructureDoc documents: 100%|███████| 1/1 [00:00<00:00, 1001.74it/s]\n",
      "Retrieving ElectronicStructureDoc documents: 100%|█████████████████| 1/1 [00:00<?, ?it/s]\n",
      "Retrieving ElectronicStructureDoc documents: 100%|████████| 1/1 [00:00<00:00, 880.79it/s]\n",
      "Retrieving ElectronicStructureDoc documents: 100%|█████████████████| 1/1 [00:00<?, ?it/s]\n",
      "Retrieving ElectronicStructureDoc documents: 100%|█████████████████| 1/1 [00:00<?, ?it/s]\n"
     ]
    },
    {
     "name": "stdout",
     "output_type": "stream",
     "text": [
      "mp-1228921 20 5\n"
     ]
    },
    {
     "name": "stderr",
     "output_type": "stream",
     "text": [
      "Retrieving ElectronicStructureDoc documents: 100%|█████████████████| 1/1 [00:00<?, ?it/s]\n",
      "Retrieving ElectronicStructureDoc documents: 100%|█████████████████| 1/1 [00:00<?, ?it/s]\n",
      "Retrieving ElectronicStructureDoc documents: 100%|█████████████████| 1/1 [00:00<?, ?it/s]\n",
      "Retrieving ElectronicStructureDoc documents: 100%|█████████████████| 1/1 [00:00<?, ?it/s]\n",
      "Retrieving ElectronicStructureDoc documents: 100%|█████████████████| 1/1 [00:00<?, ?it/s]\n",
      "Retrieving ElectronicStructureDoc documents: 100%|█████████████████| 1/1 [00:00<?, ?it/s]\n",
      "Retrieving ElectronicStructureDoc documents: 100%|█████████████████| 1/1 [00:00<?, ?it/s]\n",
      "Retrieving ElectronicStructureDoc documents: 100%|█████████████████| 1/1 [00:00<?, ?it/s]\n",
      "Retrieving ElectronicStructureDoc documents: 100%|█████████████████| 1/1 [00:00<?, ?it/s]\n",
      "Retrieving ElectronicStructureDoc documents: 100%|█████████████████| 1/1 [00:00<?, ?it/s]\n"
     ]
    },
    {
     "name": "stdout",
     "output_type": "stream",
     "text": [
      "mp-1228943 30 5\n"
     ]
    },
    {
     "name": "stderr",
     "output_type": "stream",
     "text": [
      "Retrieving ElectronicStructureDoc documents: 100%|█████████████████| 1/1 [00:00<?, ?it/s]\n",
      "Retrieving ElectronicStructureDoc documents: 100%|█████████████████| 1/1 [00:00<?, ?it/s]\n",
      "Retrieving ElectronicStructureDoc documents: 100%|█████████████████| 1/1 [00:00<?, ?it/s]\n",
      "Retrieving ElectronicStructureDoc documents: 100%|█████████████████| 1/1 [00:00<?, ?it/s]\n",
      "Retrieving ElectronicStructureDoc documents: 100%|█████████████████| 1/1 [00:00<?, ?it/s]\n",
      "Retrieving ElectronicStructureDoc documents: 100%|█████████████████| 1/1 [00:00<?, ?it/s]\n",
      "Retrieving ElectronicStructureDoc documents: 100%|█████████████████| 1/1 [00:00<?, ?it/s]\n",
      "Retrieving ElectronicStructureDoc documents: 100%|█████████████████| 1/1 [00:00<?, ?it/s]\n",
      "Retrieving ElectronicStructureDoc documents: 100%|█████████████████| 1/1 [00:00<?, ?it/s]\n",
      "Retrieving ElectronicStructureDoc documents: 100%|█████████████████| 1/1 [00:00<?, ?it/s]\n"
     ]
    },
    {
     "name": "stdout",
     "output_type": "stream",
     "text": [
      "mp-1228967 40 5\n"
     ]
    },
    {
     "name": "stderr",
     "output_type": "stream",
     "text": [
      "Retrieving ElectronicStructureDoc documents: 100%|█████████████████| 1/1 [00:00<?, ?it/s]\n",
      "Retrieving ElectronicStructureDoc documents: 100%|█████████████████| 1/1 [00:00<?, ?it/s]\n",
      "Retrieving ElectronicStructureDoc documents: 100%|█████████████████| 1/1 [00:00<?, ?it/s]\n",
      "Retrieving ElectronicStructureDoc documents: 100%|█████████████████| 1/1 [00:00<?, ?it/s]\n",
      "Retrieving ElectronicStructureDoc documents: 100%|█████████████████| 1/1 [00:00<?, ?it/s]\n",
      "Retrieving ElectronicStructureDoc documents: 100%|█████████████████| 1/1 [00:00<?, ?it/s]\n",
      "Retrieving ElectronicStructureDoc documents: 100%|█████████████████| 1/1 [00:00<?, ?it/s]\n",
      "Retrieving ElectronicStructureDoc documents: 100%|███████| 1/1 [00:00<00:00, 1255.03it/s]\n",
      "Retrieving ElectronicStructureDoc documents: 100%|█████████████████| 1/1 [00:00<?, ?it/s]\n",
      "Retrieving ElectronicStructureDoc documents: 100%|█████████████████| 1/1 [00:00<?, ?it/s]\n"
     ]
    },
    {
     "name": "stdout",
     "output_type": "stream",
     "text": [
      "mp-1229006 50 5\n"
     ]
    },
    {
     "name": "stderr",
     "output_type": "stream",
     "text": [
      "Retrieving ElectronicStructureDoc documents: 100%|█████████████████| 1/1 [00:00<?, ?it/s]\n",
      "Retrieving ElectronicStructureDoc documents: 100%|█████████████████| 1/1 [00:00<?, ?it/s]\n",
      "Retrieving ElectronicStructureDoc documents: 100%|█████████████████| 1/1 [00:00<?, ?it/s]\n",
      "Retrieving ElectronicStructureDoc documents: 100%|█████████████████| 1/1 [00:00<?, ?it/s]\n",
      "Retrieving ElectronicStructureDoc documents: 100%|█████████████████| 1/1 [00:00<?, ?it/s]\n",
      "Retrieving ElectronicStructureDoc documents: 100%|█████████████████| 1/1 [00:00<?, ?it/s]\n",
      "Retrieving ElectronicStructureDoc documents: 100%|█████████████████| 1/1 [00:00<?, ?it/s]\n",
      "Retrieving ElectronicStructureDoc documents: 100%|█████████████████| 1/1 [00:00<?, ?it/s]\n",
      "Retrieving ElectronicStructureDoc documents: 100%|█████████████████| 1/1 [00:00<?, ?it/s]\n",
      "Retrieving ElectronicStructureDoc documents: 100%|█████████████████| 1/1 [00:00<?, ?it/s]\n"
     ]
    },
    {
     "name": "stdout",
     "output_type": "stream",
     "text": [
      "mp-1229030 60 5\n"
     ]
    },
    {
     "name": "stderr",
     "output_type": "stream",
     "text": [
      "Retrieving ElectronicStructureDoc documents: 100%|█████████████████| 1/1 [00:00<?, ?it/s]\n",
      "Retrieving ElectronicStructureDoc documents: 100%|█████████████████| 1/1 [00:00<?, ?it/s]\n",
      "Retrieving ElectronicStructureDoc documents: 100%|█████████████████| 1/1 [00:00<?, ?it/s]\n",
      "Retrieving ElectronicStructureDoc documents: 100%|█████████████████| 1/1 [00:00<?, ?it/s]\n",
      "Retrieving ElectronicStructureDoc documents: 100%|█████████████████| 1/1 [00:00<?, ?it/s]\n",
      "Retrieving ElectronicStructureDoc documents: 100%|█████████████████| 1/1 [00:00<?, ?it/s]\n",
      "Retrieving ElectronicStructureDoc documents: 100%|█████████████████| 1/1 [00:00<?, ?it/s]\n",
      "Retrieving ElectronicStructureDoc documents: 100%|█████████████████| 1/1 [00:00<?, ?it/s]\n",
      "Retrieving ElectronicStructureDoc documents: 100%|█████████████████| 1/1 [00:00<?, ?it/s]\n",
      "Retrieving ElectronicStructureDoc documents: 100%|████████| 1/1 [00:00<00:00, 959.79it/s]\n"
     ]
    },
    {
     "name": "stdout",
     "output_type": "stream",
     "text": [
      "mp-1229081 70 5\n"
     ]
    },
    {
     "name": "stderr",
     "output_type": "stream",
     "text": [
      "Retrieving ElectronicStructureDoc documents: 100%|█████████████████| 1/1 [00:00<?, ?it/s]\n",
      "Retrieving ElectronicStructureDoc documents: 100%|█████████████████| 1/1 [00:00<?, ?it/s]\n",
      "Retrieving ElectronicStructureDoc documents: 100%|█████████████████| 1/1 [00:00<?, ?it/s]\n",
      "Retrieving ElectronicStructureDoc documents: 100%|█████████████████| 1/1 [00:00<?, ?it/s]\n",
      "Retrieving ElectronicStructureDoc documents: 100%|█████████████████| 1/1 [00:00<?, ?it/s]\n",
      "Retrieving ElectronicStructureDoc documents: 100%|█████████████████| 1/1 [00:00<?, ?it/s]\n",
      "Retrieving ElectronicStructureDoc documents: 100%|█████████████████| 1/1 [00:00<?, ?it/s]\n",
      "Retrieving ElectronicStructureDoc documents: 100%|█████████████████| 1/1 [00:00<?, ?it/s]\n",
      "Retrieving ElectronicStructureDoc documents: 100%|█████████████████| 1/1 [00:00<?, ?it/s]\n",
      "Retrieving ElectronicStructureDoc documents: 100%|█████████████████| 1/1 [00:00<?, ?it/s]\n"
     ]
    },
    {
     "name": "stdout",
     "output_type": "stream",
     "text": [
      "mp-1229105 80 5\n"
     ]
    },
    {
     "name": "stderr",
     "output_type": "stream",
     "text": [
      "Retrieving ElectronicStructureDoc documents: 100%|█████████████████| 1/1 [00:00<?, ?it/s]\n",
      "Retrieving ElectronicStructureDoc documents: 100%|████████| 1/1 [00:00<00:00, 239.85it/s]\n",
      "Retrieving ElectronicStructureDoc documents: 100%|█████████████████| 1/1 [00:00<?, ?it/s]\n",
      "Retrieving ElectronicStructureDoc documents: 100%|█████████████████| 1/1 [00:00<?, ?it/s]\n",
      "Retrieving ElectronicStructureDoc documents: 100%|█████████████████| 1/1 [00:00<?, ?it/s]\n",
      "Retrieving ElectronicStructureDoc documents: 100%|█████████████████| 1/1 [00:00<?, ?it/s]\n",
      "Retrieving ElectronicStructureDoc documents: 100%|█████████████████| 1/1 [00:00<?, ?it/s]\n",
      "Retrieving ElectronicStructureDoc documents: 100%|█████████████████| 1/1 [00:00<?, ?it/s]\n",
      "Retrieving ElectronicStructureDoc documents: 100%|█████████████████| 1/1 [00:00<?, ?it/s]\n",
      "Retrieving ElectronicStructureDoc documents: 100%|█████████████████| 1/1 [00:00<?, ?it/s]\n"
     ]
    },
    {
     "name": "stdout",
     "output_type": "stream",
     "text": [
      "mp-1229125 90 5\n"
     ]
    },
    {
     "name": "stderr",
     "output_type": "stream",
     "text": [
      "Retrieving ElectronicStructureDoc documents: 100%|█████████████████| 1/1 [00:00<?, ?it/s]\n",
      "Retrieving ElectronicStructureDoc documents: 100%|█████████████████| 1/1 [00:00<?, ?it/s]\n",
      "Retrieving ElectronicStructureDoc documents: 100%|█████████████████| 1/1 [00:00<?, ?it/s]\n",
      "Retrieving ElectronicStructureDoc documents: 100%|█████████████████| 1/1 [00:00<?, ?it/s]\n",
      "Retrieving ElectronicStructureDoc documents: 100%|█████████████████| 1/1 [00:00<?, ?it/s]\n",
      "Retrieving ElectronicStructureDoc documents: 100%|█████████████████| 1/1 [00:00<?, ?it/s]\n",
      "Retrieving ElectronicStructureDoc documents: 100%|█████████████████| 1/1 [00:00<?, ?it/s]\n",
      "Retrieving ElectronicStructureDoc documents: 100%|█████████████████| 1/1 [00:00<?, ?it/s]\n",
      "Retrieving ElectronicStructureDoc documents: 100%|█████████████████| 1/1 [00:00<?, ?it/s]\n",
      "Retrieving ElectronicStructureDoc documents: 100%|█████████████████| 1/1 [00:00<?, ?it/s]\n"
     ]
    },
    {
     "name": "stdout",
     "output_type": "stream",
     "text": [
      "mp-1232214 0 6\n"
     ]
    },
    {
     "name": "stderr",
     "output_type": "stream",
     "text": [
      "Retrieving ElectronicStructureDoc documents: 100%|█████████████████| 1/1 [00:00<?, ?it/s]\n",
      "Retrieving ElectronicStructureDoc documents: 100%|█████████████████| 1/1 [00:00<?, ?it/s]\n",
      "Retrieving ElectronicStructureDoc documents: 100%|█████████████████| 1/1 [00:00<?, ?it/s]\n",
      "Retrieving ElectronicStructureDoc documents: 100%|█████████████████| 1/1 [00:00<?, ?it/s]\n",
      "Retrieving ElectronicStructureDoc documents: 100%|█████████████████| 1/1 [00:00<?, ?it/s]\n",
      "Retrieving ElectronicStructureDoc documents: 100%|█████████████████| 1/1 [00:00<?, ?it/s]\n",
      "Retrieving ElectronicStructureDoc documents: 100%|█████████████████| 1/1 [00:00<?, ?it/s]\n",
      "Retrieving ElectronicStructureDoc documents: 100%|█████████████████| 1/1 [00:00<?, ?it/s]\n",
      "Retrieving ElectronicStructureDoc documents: 100%|█████████████████| 1/1 [00:00<?, ?it/s]\n",
      "Retrieving ElectronicStructureDoc documents: 100%|█████████████████| 1/1 [00:00<?, ?it/s]\n"
     ]
    },
    {
     "name": "stdout",
     "output_type": "stream",
     "text": [
      "mp-1232271 10 6\n"
     ]
    },
    {
     "name": "stderr",
     "output_type": "stream",
     "text": [
      "Retrieving ElectronicStructureDoc documents: 100%|█████████████████| 1/1 [00:00<?, ?it/s]\n",
      "Retrieving ElectronicStructureDoc documents: 100%|█████████████████| 1/1 [00:00<?, ?it/s]\n",
      "Retrieving ElectronicStructureDoc documents: 100%|███████| 1/1 [00:00<00:00, 9177.91it/s]\n",
      "Retrieving ElectronicStructureDoc documents: 100%|█████████████████| 1/1 [00:00<?, ?it/s]\n",
      "Retrieving ElectronicStructureDoc documents: 100%|█████████████████| 1/1 [00:00<?, ?it/s]\n",
      "Retrieving ElectronicStructureDoc documents: 100%|█████████████████| 1/1 [00:00<?, ?it/s]\n",
      "Retrieving ElectronicStructureDoc documents: 100%|█████████████████| 1/1 [00:00<?, ?it/s]\n",
      "Retrieving ElectronicStructureDoc documents: 100%|█████████████████| 1/1 [00:00<?, ?it/s]\n",
      "Retrieving ElectronicStructureDoc documents: 100%|█████████████████| 1/1 [00:00<?, ?it/s]\n",
      "Retrieving ElectronicStructureDoc documents: 100%|█████████████████| 1/1 [00:00<?, ?it/s]\n"
     ]
    },
    {
     "name": "stdout",
     "output_type": "stream",
     "text": [
      "mp-1232316 20 6\n"
     ]
    },
    {
     "name": "stderr",
     "output_type": "stream",
     "text": [
      "Retrieving ElectronicStructureDoc documents: 100%|█████████████████| 1/1 [00:00<?, ?it/s]\n",
      "Retrieving ElectronicStructureDoc documents: 100%|█████████████████| 1/1 [00:00<?, ?it/s]\n",
      "Retrieving ElectronicStructureDoc documents: 100%|█████████████████| 1/1 [00:00<?, ?it/s]\n",
      "Retrieving ElectronicStructureDoc documents: 100%|█████████████████| 1/1 [00:00<?, ?it/s]\n",
      "Retrieving ElectronicStructureDoc documents: 100%|█████████████████| 1/1 [00:00<?, ?it/s]\n",
      "Retrieving ElectronicStructureDoc documents: 100%|█████████████████| 1/1 [00:00<?, ?it/s]\n",
      "Retrieving ElectronicStructureDoc documents: 100%|█████████████████| 1/1 [00:00<?, ?it/s]\n",
      "Retrieving ElectronicStructureDoc documents: 100%|█████████████████| 1/1 [00:00<?, ?it/s]\n",
      "Retrieving ElectronicStructureDoc documents: 100%|█████████████████| 1/1 [00:00<?, ?it/s]\n",
      "Retrieving ElectronicStructureDoc documents: 100%|█████████████████| 1/1 [00:00<?, ?it/s]\n"
     ]
    },
    {
     "name": "stdout",
     "output_type": "stream",
     "text": [
      "mp-1232372 30 6\n"
     ]
    },
    {
     "name": "stderr",
     "output_type": "stream",
     "text": [
      "Retrieving ElectronicStructureDoc documents: 100%|█████████████████| 1/1 [00:00<?, ?it/s]\n",
      "Retrieving ElectronicStructureDoc documents: 100%|█████████████████| 1/1 [00:00<?, ?it/s]\n",
      "Retrieving ElectronicStructureDoc documents: 100%|█████████████████| 1/1 [00:00<?, ?it/s]\n",
      "Retrieving ElectronicStructureDoc documents: 100%|█████████████████| 1/1 [00:00<?, ?it/s]\n",
      "Retrieving ElectronicStructureDoc documents: 100%|█████████████████| 1/1 [00:00<?, ?it/s]\n",
      "Retrieving ElectronicStructureDoc documents: 100%|█████████████████| 1/1 [00:00<?, ?it/s]\n",
      "Retrieving ElectronicStructureDoc documents: 100%|█████████████████| 1/1 [00:00<?, ?it/s]\n",
      "Retrieving ElectronicStructureDoc documents: 100%|█████████████████| 1/1 [00:00<?, ?it/s]\n",
      "Retrieving ElectronicStructureDoc documents: 100%|█████████████████| 1/1 [00:00<?, ?it/s]\n",
      "Retrieving ElectronicStructureDoc documents: 100%|█████████████████| 1/1 [00:00<?, ?it/s]\n"
     ]
    },
    {
     "name": "stdout",
     "output_type": "stream",
     "text": [
      "mp-1236914 40 6\n"
     ]
    },
    {
     "name": "stderr",
     "output_type": "stream",
     "text": [
      "Retrieving ElectronicStructureDoc documents: 100%|█████████████████| 1/1 [00:00<?, ?it/s]\n",
      "Retrieving ElectronicStructureDoc documents: 100%|█████████████████| 1/1 [00:00<?, ?it/s]\n",
      "Retrieving ElectronicStructureDoc documents: 100%|█████████████████| 1/1 [00:00<?, ?it/s]\n",
      "Retrieving ElectronicStructureDoc documents: 100%|█████████████████| 1/1 [00:00<?, ?it/s]\n",
      "Retrieving ElectronicStructureDoc documents: 100%|█████████████████| 1/1 [00:00<?, ?it/s]\n",
      "Retrieving ElectronicStructureDoc documents: 100%|█████████████████| 1/1 [00:00<?, ?it/s]\n",
      "Retrieving ElectronicStructureDoc documents: 100%|█████████████████| 1/1 [00:00<?, ?it/s]\n",
      "Retrieving ElectronicStructureDoc documents: 100%|█████████████████| 1/1 [00:00<?, ?it/s]\n",
      "Retrieving ElectronicStructureDoc documents: 100%|█████████████████| 1/1 [00:00<?, ?it/s]\n",
      "Retrieving ElectronicStructureDoc documents: 100%|█████████████████| 1/1 [00:00<?, ?it/s]\n"
     ]
    },
    {
     "name": "stdout",
     "output_type": "stream",
     "text": [
      "mp-1237804 50 6\n"
     ]
    },
    {
     "name": "stderr",
     "output_type": "stream",
     "text": [
      "Retrieving ElectronicStructureDoc documents: 100%|█████████████████| 1/1 [00:00<?, ?it/s]\n",
      "Retrieving ElectronicStructureDoc documents: 100%|█████████████████| 1/1 [00:00<?, ?it/s]\n"
     ]
    },
    {
     "name": "stdout",
     "output_type": "stream",
     "text": [
      "no bandstructure for mp-1237814\n"
     ]
    },
    {
     "name": "stderr",
     "output_type": "stream",
     "text": [
      "Retrieving ElectronicStructureDoc documents: 100%|█████████████████| 1/1 [00:00<?, ?it/s]\n",
      "Retrieving ElectronicStructureDoc documents: 100%|█████████████████| 1/1 [00:00<?, ?it/s]\n",
      "Retrieving ElectronicStructureDoc documents: 100%|█████████████████| 1/1 [00:00<?, ?it/s]\n",
      "Retrieving ElectronicStructureDoc documents: 100%|█████████████████| 1/1 [00:00<?, ?it/s]\n",
      "Retrieving ElectronicStructureDoc documents: 100%|█████████████████| 1/1 [00:00<?, ?it/s]\n",
      "Retrieving ElectronicStructureDoc documents: 100%|█████████████████| 1/1 [00:00<?, ?it/s]\n",
      "Retrieving ElectronicStructureDoc documents: 100%|█████████████████| 1/1 [00:00<?, ?it/s]\n",
      "Retrieving ElectronicStructureDoc documents: 100%|█████████████████| 1/1 [00:00<?, ?it/s]\n"
     ]
    },
    {
     "name": "stdout",
     "output_type": "stream",
     "text": [
      "mp-1238777 60 6\n"
     ]
    },
    {
     "name": "stderr",
     "output_type": "stream",
     "text": [
      "Retrieving ElectronicStructureDoc documents: 100%|█████████████████| 1/1 [00:00<?, ?it/s]\n",
      "Retrieving ElectronicStructureDoc documents: 100%|█████████████████| 1/1 [00:00<?, ?it/s]\n",
      "Retrieving ElectronicStructureDoc documents: 100%|█████████████████| 1/1 [00:00<?, ?it/s]\n",
      "Retrieving ElectronicStructureDoc documents: 100%|█████████████████| 1/1 [00:00<?, ?it/s]\n",
      "Retrieving ElectronicStructureDoc documents: 100%|█████████████████| 1/1 [00:00<?, ?it/s]\n",
      "Retrieving ElectronicStructureDoc documents: 100%|█████████████████| 1/1 [00:00<?, ?it/s]\n",
      "Retrieving ElectronicStructureDoc documents: 100%|█████████████████| 1/1 [00:00<?, ?it/s]\n",
      "Retrieving ElectronicStructureDoc documents: 100%|█████████████████| 1/1 [00:00<?, ?it/s]\n",
      "Retrieving ElectronicStructureDoc documents: 100%|█████████████████| 1/1 [00:00<?, ?it/s]\n",
      "Retrieving ElectronicStructureDoc documents: 100%|█████████████████| 1/1 [00:00<?, ?it/s]\n"
     ]
    },
    {
     "name": "stdout",
     "output_type": "stream",
     "text": [
      "mp-1238832 70 6\n"
     ]
    },
    {
     "name": "stderr",
     "output_type": "stream",
     "text": [
      "Retrieving ElectronicStructureDoc documents: 100%|█████████████████| 1/1 [00:00<?, ?it/s]\n",
      "Retrieving ElectronicStructureDoc documents: 100%|█████████████████| 1/1 [00:00<?, ?it/s]\n",
      "Retrieving ElectronicStructureDoc documents: 100%|█████████████████| 1/1 [00:00<?, ?it/s]\n",
      "Retrieving ElectronicStructureDoc documents: 100%|█████████████████| 1/1 [00:00<?, ?it/s]\n",
      "Retrieving ElectronicStructureDoc documents: 100%|█████████████████| 1/1 [00:00<?, ?it/s]\n",
      "Retrieving ElectronicStructureDoc documents: 100%|█████████████████| 1/1 [00:00<?, ?it/s]\n",
      "Retrieving ElectronicStructureDoc documents: 100%|█████████████████| 1/1 [00:00<?, ?it/s]\n",
      "Retrieving ElectronicStructureDoc documents: 100%|█████████████████| 1/1 [00:00<?, ?it/s]\n",
      "Retrieving ElectronicStructureDoc documents: 100%|█████████████████| 1/1 [00:00<?, ?it/s]\n",
      "Retrieving ElectronicStructureDoc documents: 100%|█████████████████| 1/1 [00:00<?, ?it/s]\n"
     ]
    },
    {
     "name": "stdout",
     "output_type": "stream",
     "text": [
      "mp-1239087 80 6\n"
     ]
    },
    {
     "name": "stderr",
     "output_type": "stream",
     "text": [
      "Retrieving ElectronicStructureDoc documents: 100%|█████████████████| 1/1 [00:00<?, ?it/s]\n",
      "Retrieving ElectronicStructureDoc documents: 100%|█████████████████| 1/1 [00:00<?, ?it/s]\n",
      "Retrieving ElectronicStructureDoc documents: 100%|█████████████████| 1/1 [00:00<?, ?it/s]\n",
      "Retrieving ElectronicStructureDoc documents: 100%|█████████████████| 1/1 [00:00<?, ?it/s]\n",
      "Retrieving ElectronicStructureDoc documents: 100%|█████████████████| 1/1 [00:00<?, ?it/s]\n",
      "Retrieving ElectronicStructureDoc documents: 100%|█████████████████| 1/1 [00:00<?, ?it/s]\n",
      "Retrieving ElectronicStructureDoc documents: 100%|█████████████████| 1/1 [00:00<?, ?it/s]\n",
      "Retrieving ElectronicStructureDoc documents: 100%|█████████████████| 1/1 [00:00<?, ?it/s]\n",
      "Retrieving ElectronicStructureDoc documents: 100%|█████████████████| 1/1 [00:00<?, ?it/s]\n",
      "Retrieving ElectronicStructureDoc documents: 100%|█████████████████| 1/1 [00:00<?, ?it/s]\n"
     ]
    },
    {
     "name": "stdout",
     "output_type": "stream",
     "text": [
      "mp-1245010 90 6\n"
     ]
    },
    {
     "name": "stderr",
     "output_type": "stream",
     "text": [
      "Retrieving ElectronicStructureDoc documents: 100%|█████████████████| 1/1 [00:00<?, ?it/s]\n",
      "Retrieving ElectronicStructureDoc documents: 100%|█████████████████| 1/1 [00:00<?, ?it/s]\n",
      "Retrieving ElectronicStructureDoc documents: 100%|█████████████████| 1/1 [00:00<?, ?it/s]\n",
      "Retrieving ElectronicStructureDoc documents: 100%|█████████████████| 1/1 [00:00<?, ?it/s]\n",
      "Retrieving ElectronicStructureDoc documents: 100%|█████████████████| 1/1 [00:00<?, ?it/s]\n",
      "Retrieving ElectronicStructureDoc documents: 100%|█████████████████| 1/1 [00:00<?, ?it/s]\n",
      "Retrieving ElectronicStructureDoc documents: 100%|█████████████████| 1/1 [00:00<?, ?it/s]\n",
      "Retrieving ElectronicStructureDoc documents: 100%|█████████████████| 1/1 [00:00<?, ?it/s]\n",
      "Retrieving ElectronicStructureDoc documents: 100%|█████████████████| 1/1 [00:00<?, ?it/s]\n",
      "Retrieving ElectronicStructureDoc documents: 100%|█████████████████| 1/1 [00:00<?, ?it/s]\n"
     ]
    },
    {
     "name": "stdout",
     "output_type": "stream",
     "text": [
      "mp-1263325 0 7\n"
     ]
    },
    {
     "name": "stderr",
     "output_type": "stream",
     "text": [
      "Retrieving ElectronicStructureDoc documents: 100%|█████████████████| 1/1 [00:00<?, ?it/s]\n",
      "Retrieving ElectronicStructureDoc documents: 100%|█████████████████| 1/1 [00:00<?, ?it/s]\n",
      "Retrieving ElectronicStructureDoc documents: 100%|█████████████████| 1/1 [00:00<?, ?it/s]\n",
      "Retrieving ElectronicStructureDoc documents: 100%|█████████████████| 1/1 [00:00<?, ?it/s]\n",
      "Retrieving ElectronicStructureDoc documents: 100%|█████████████████| 1/1 [00:00<?, ?it/s]\n",
      "Retrieving ElectronicStructureDoc documents: 100%|█████████████████| 1/1 [00:00<?, ?it/s]\n",
      "Retrieving ElectronicStructureDoc documents: 100%|█████████████████| 1/1 [00:00<?, ?it/s]\n",
      "Retrieving ElectronicStructureDoc documents: 100%|█████████████████| 1/1 [00:00<?, ?it/s]\n",
      "Retrieving ElectronicStructureDoc documents: 100%|█████████████████| 1/1 [00:00<?, ?it/s]\n",
      "Retrieving ElectronicStructureDoc documents: 100%|█████████████████| 1/1 [00:00<?, ?it/s]\n"
     ]
    },
    {
     "name": "stdout",
     "output_type": "stream",
     "text": [
      "mp-1294264 10 7\n"
     ]
    },
    {
     "name": "stderr",
     "output_type": "stream",
     "text": [
      "Retrieving ElectronicStructureDoc documents: 100%|█████████████████| 1/1 [00:00<?, ?it/s]\n",
      "Retrieving ElectronicStructureDoc documents: 100%|█████████████████| 1/1 [00:00<?, ?it/s]\n"
     ]
    },
    {
     "name": "stdout",
     "output_type": "stream",
     "text": [
      "no bandstructure for mp-1300873\n"
     ]
    },
    {
     "name": "stderr",
     "output_type": "stream",
     "text": [
      "Retrieving ElectronicStructureDoc documents: 100%|█████████| 1/1 [00:00<00:00, 74.00it/s]\n",
      "Retrieving ElectronicStructureDoc documents: 100%|█████████████████| 1/1 [00:00<?, ?it/s]\n"
     ]
    },
    {
     "name": "stdout",
     "output_type": "stream",
     "text": [
      "no bandstructure for mp-1342532\n"
     ]
    },
    {
     "name": "stderr",
     "output_type": "stream",
     "text": [
      "Retrieving ElectronicStructureDoc documents: 100%|█████████████████| 1/1 [00:00<?, ?it/s]\n"
     ]
    },
    {
     "name": "stdout",
     "output_type": "stream",
     "text": [
      "no bandstructure for mp-1368020\n"
     ]
    },
    {
     "name": "stderr",
     "output_type": "stream",
     "text": [
      "Retrieving ElectronicStructureDoc documents: 100%|█████████████████| 1/1 [00:00<?, ?it/s]\n",
      "Retrieving ElectronicStructureDoc documents: 100%|█████████████████| 1/1 [00:00<?, ?it/s]\n"
     ]
    },
    {
     "name": "stdout",
     "output_type": "stream",
     "text": [
      "no bandstructure for mp-1381279\n"
     ]
    },
    {
     "name": "stderr",
     "output_type": "stream",
     "text": [
      "Retrieving ElectronicStructureDoc documents: 100%|█████████████████| 1/1 [00:00<?, ?it/s]\n"
     ]
    },
    {
     "name": "stdout",
     "output_type": "stream",
     "text": [
      "no bandstructure for mp-1381342\n"
     ]
    },
    {
     "name": "stderr",
     "output_type": "stream",
     "text": [
      "Retrieving ElectronicStructureDoc documents: 100%|█████████████████| 1/1 [00:00<?, ?it/s]\n"
     ]
    },
    {
     "name": "stdout",
     "output_type": "stream",
     "text": [
      "no bandstructure for mp-1381564\n"
     ]
    },
    {
     "name": "stderr",
     "output_type": "stream",
     "text": [
      "Retrieving ElectronicStructureDoc documents: 100%|█████████████████| 1/1 [00:00<?, ?it/s]\n"
     ]
    },
    {
     "name": "stdout",
     "output_type": "stream",
     "text": [
      "mp-1382022 20 7\n"
     ]
    },
    {
     "name": "stderr",
     "output_type": "stream",
     "text": [
      "Retrieving ElectronicStructureDoc documents: 100%|█████████████████| 1/1 [00:00<?, ?it/s]\n",
      "Retrieving ElectronicStructureDoc documents: 100%|█████████████████| 1/1 [00:00<?, ?it/s]\n",
      "Retrieving ElectronicStructureDoc documents: 100%|█████████████████| 1/1 [00:00<?, ?it/s]\n"
     ]
    },
    {
     "name": "stdout",
     "output_type": "stream",
     "text": [
      "no bandstructure for mp-1382564\n"
     ]
    },
    {
     "name": "stderr",
     "output_type": "stream",
     "text": [
      "Retrieving ElectronicStructureDoc documents: 100%|█████████████████| 1/1 [00:00<?, ?it/s]\n"
     ]
    },
    {
     "name": "stdout",
     "output_type": "stream",
     "text": [
      "no bandstructure for mp-1382589\n"
     ]
    },
    {
     "name": "stderr",
     "output_type": "stream",
     "text": [
      "Retrieving ElectronicStructureDoc documents: 100%|████████| 1/1 [00:00<00:00, 110.16it/s]\n"
     ]
    },
    {
     "name": "stdout",
     "output_type": "stream",
     "text": [
      "no bandstructure for mp-1382591\n"
     ]
    },
    {
     "name": "stderr",
     "output_type": "stream",
     "text": [
      "Retrieving ElectronicStructureDoc documents: 100%|█████████████████| 1/1 [00:00<?, ?it/s]\n",
      "Retrieving ElectronicStructureDoc documents: 100%|█████████████████| 1/1 [00:00<?, ?it/s]\n",
      "Retrieving ElectronicStructureDoc documents: 100%|█████████████████| 1/1 [00:00<?, ?it/s]\n",
      "Retrieving ElectronicStructureDoc documents: 100%|█████████████████| 1/1 [00:00<?, ?it/s]\n"
     ]
    },
    {
     "name": "stdout",
     "output_type": "stream",
     "text": [
      "no bandstructure for mp-1383318\n"
     ]
    },
    {
     "name": "stderr",
     "output_type": "stream",
     "text": [
      "Retrieving ElectronicStructureDoc documents: 100%|█████████████████| 1/1 [00:00<?, ?it/s]\n"
     ]
    },
    {
     "name": "stdout",
     "output_type": "stream",
     "text": [
      "no bandstructure for mp-1383356\n"
     ]
    },
    {
     "name": "stderr",
     "output_type": "stream",
     "text": [
      "Retrieving ElectronicStructureDoc documents: 100%|█████████████████| 1/1 [00:00<?, ?it/s]\n"
     ]
    },
    {
     "name": "stdout",
     "output_type": "stream",
     "text": [
      "no bandstructure for mp-1383505\n"
     ]
    },
    {
     "name": "stderr",
     "output_type": "stream",
     "text": [
      "Retrieving ElectronicStructureDoc documents: 100%|█████████████████| 1/1 [00:00<?, ?it/s]\n",
      "Retrieving ElectronicStructureDoc documents: 100%|█████████████████| 1/1 [00:00<?, ?it/s]\n"
     ]
    },
    {
     "name": "stdout",
     "output_type": "stream",
     "text": [
      "no bandstructure for mp-1383866\n"
     ]
    },
    {
     "name": "stderr",
     "output_type": "stream",
     "text": [
      "Retrieving ElectronicStructureDoc documents: 100%|█████████████████| 1/1 [00:00<?, ?it/s]\n",
      "Retrieving ElectronicStructureDoc documents: 100%|█████████████████| 1/1 [00:00<?, ?it/s]\n",
      "Retrieving ElectronicStructureDoc documents: 100%|█████████████████| 1/1 [00:00<?, ?it/s]\n",
      "Retrieving ElectronicStructureDoc documents: 100%|█████████████████| 1/1 [00:00<?, ?it/s]\n",
      "Retrieving ElectronicStructureDoc documents: 100%|█████████████████| 1/1 [00:00<?, ?it/s]\n",
      "Retrieving ElectronicStructureDoc documents: 100%|█████████████████| 1/1 [00:00<?, ?it/s]\n",
      "Retrieving ElectronicStructureDoc documents: 100%|█████████████████| 1/1 [00:00<?, ?it/s]\n"
     ]
    },
    {
     "name": "stdout",
     "output_type": "stream",
     "text": [
      "mp-1385211 40 7\n"
     ]
    },
    {
     "name": "stderr",
     "output_type": "stream",
     "text": [
      "Retrieving ElectronicStructureDoc documents: 100%|█████████████████| 1/1 [00:00<?, ?it/s]\n",
      "Retrieving ElectronicStructureDoc documents: 100%|█████████████████| 1/1 [00:00<?, ?it/s]\n",
      "Retrieving ElectronicStructureDoc documents: 100%|█████████████████| 1/1 [00:00<?, ?it/s]\n"
     ]
    },
    {
     "name": "stdout",
     "output_type": "stream",
     "text": [
      "no bandstructure for mp-1385392\n"
     ]
    },
    {
     "name": "stderr",
     "output_type": "stream",
     "text": [
      "Retrieving ElectronicStructureDoc documents: 100%|███████| 1/1 [00:00<00:00, 1036.65it/s]\n",
      "Retrieving ElectronicStructureDoc documents: 100%|█████████████████| 1/1 [00:00<?, ?it/s]\n"
     ]
    },
    {
     "name": "stdout",
     "output_type": "stream",
     "text": [
      "no bandstructure for mp-1385732\n"
     ]
    },
    {
     "name": "stderr",
     "output_type": "stream",
     "text": [
      "Retrieving ElectronicStructureDoc documents: 100%|█████████████████| 1/1 [00:00<?, ?it/s]\n",
      "Retrieving ElectronicStructureDoc documents: 100%|█████████████████| 1/1 [00:00<?, ?it/s]\n",
      "Retrieving ElectronicStructureDoc documents: 100%|█████████████████| 1/1 [00:00<?, ?it/s]\n",
      "Retrieving ElectronicStructureDoc documents: 100%|█████████████████| 1/1 [00:00<?, ?it/s]\n",
      "Retrieving ElectronicStructureDoc documents: 100%|█████████████████| 1/1 [00:00<?, ?it/s]\n"
     ]
    },
    {
     "name": "stdout",
     "output_type": "stream",
     "text": [
      "mp-1385937 50 7\n"
     ]
    },
    {
     "name": "stderr",
     "output_type": "stream",
     "text": [
      "Retrieving ElectronicStructureDoc documents: 100%|█████████████████| 1/1 [00:00<?, ?it/s]\n",
      "Retrieving ElectronicStructureDoc documents: 100%|█████████████████| 1/1 [00:00<?, ?it/s]\n",
      "Retrieving ElectronicStructureDoc documents: 100%|█████████████████| 1/1 [00:00<?, ?it/s]\n",
      "Retrieving ElectronicStructureDoc documents: 100%|█████████████████| 1/1 [00:00<?, ?it/s]\n"
     ]
    },
    {
     "name": "stdout",
     "output_type": "stream",
     "text": [
      "no bandstructure for mp-1386257\n"
     ]
    },
    {
     "name": "stderr",
     "output_type": "stream",
     "text": [
      "Retrieving ElectronicStructureDoc documents: 100%|█████████████████| 1/1 [00:00<?, ?it/s]\n",
      "Retrieving ElectronicStructureDoc documents: 100%|█████████████████| 1/1 [00:00<?, ?it/s]\n"
     ]
    },
    {
     "name": "stdout",
     "output_type": "stream",
     "text": [
      "no bandstructure for mp-1386281\n"
     ]
    },
    {
     "name": "stderr",
     "output_type": "stream",
     "text": [
      "Retrieving ElectronicStructureDoc documents: 100%|█████████████████| 1/1 [00:00<?, ?it/s]\n",
      "Retrieving ElectronicStructureDoc documents: 100%|█████████████████| 1/1 [00:00<?, ?it/s]\n",
      "Retrieving ElectronicStructureDoc documents: 100%|█████████████████| 1/1 [00:00<?, ?it/s]\n"
     ]
    },
    {
     "name": "stdout",
     "output_type": "stream",
     "text": [
      "no bandstructure for mp-1386486\n"
     ]
    },
    {
     "name": "stderr",
     "output_type": "stream",
     "text": [
      "Retrieving ElectronicStructureDoc documents: 100%|█████████████████| 1/1 [00:00<?, ?it/s]\n"
     ]
    },
    {
     "name": "stdout",
     "output_type": "stream",
     "text": [
      "mp-1386487 60 7\n"
     ]
    },
    {
     "name": "stderr",
     "output_type": "stream",
     "text": [
      "Retrieving ElectronicStructureDoc documents: 100%|█████████████████| 1/1 [00:00<?, ?it/s]\n",
      "Retrieving ElectronicStructureDoc documents: 100%|█████████████████| 1/1 [00:00<?, ?it/s]\n"
     ]
    },
    {
     "name": "stdout",
     "output_type": "stream",
     "text": [
      "no bandstructure for mp-1386542\n"
     ]
    },
    {
     "name": "stderr",
     "output_type": "stream",
     "text": [
      "Retrieving ElectronicStructureDoc documents: 100%|████████| 1/1 [00:00<00:00, 999.60it/s]\n"
     ]
    },
    {
     "name": "stdout",
     "output_type": "stream",
     "text": [
      "no bandstructure for mp-1386638\n"
     ]
    },
    {
     "name": "stderr",
     "output_type": "stream",
     "text": [
      "Retrieving ElectronicStructureDoc documents: 100%|█████████████████| 1/1 [00:00<?, ?it/s]\n",
      "Retrieving ElectronicStructureDoc documents: 100%|█████████████████| 1/1 [00:00<?, ?it/s]\n",
      "Retrieving ElectronicStructureDoc documents: 100%|█████████████████| 1/1 [00:00<?, ?it/s]\n",
      "Retrieving ElectronicStructureDoc documents: 100%|█████████████████| 1/1 [00:00<?, ?it/s]\n",
      "Retrieving ElectronicStructureDoc documents: 100%|█████████████████| 1/1 [00:00<?, ?it/s]\n",
      "Retrieving ElectronicStructureDoc documents: 100%|█████████████████| 1/1 [00:00<?, ?it/s]\n",
      "Retrieving ElectronicStructureDoc documents: 100%|█████████████████| 1/1 [00:00<?, ?it/s]\n"
     ]
    },
    {
     "name": "stdout",
     "output_type": "stream",
     "text": [
      "mp-1387328 70 7\n"
     ]
    },
    {
     "name": "stderr",
     "output_type": "stream",
     "text": [
      "Retrieving ElectronicStructureDoc documents: 100%|█████████████████| 1/1 [00:00<?, ?it/s]\n",
      "Retrieving ElectronicStructureDoc documents: 100%|█████████████████| 1/1 [00:00<?, ?it/s]\n",
      "Retrieving ElectronicStructureDoc documents: 100%|█████████████████| 1/1 [00:00<?, ?it/s]\n"
     ]
    },
    {
     "name": "stdout",
     "output_type": "stream",
     "text": [
      "no bandstructure for mp-1387639\n"
     ]
    },
    {
     "name": "stderr",
     "output_type": "stream",
     "text": [
      "Retrieving ElectronicStructureDoc documents: 100%|█████████████████| 1/1 [00:00<?, ?it/s]\n",
      "Retrieving ElectronicStructureDoc documents: 100%|█████████████████| 1/1 [00:00<?, ?it/s]\n",
      "Retrieving ElectronicStructureDoc documents: 100%|█████████████████| 1/1 [00:00<?, ?it/s]\n",
      "Retrieving ElectronicStructureDoc documents: 100%|█████████████████| 1/1 [00:00<?, ?it/s]\n",
      "Retrieving ElectronicStructureDoc documents: 100%|█████████████████| 1/1 [00:00<?, ?it/s]\n",
      "Retrieving ElectronicStructureDoc documents: 100%|█████████████████| 1/1 [00:00<?, ?it/s]\n",
      "Retrieving ElectronicStructureDoc documents: 100%|█████████████████| 1/1 [00:00<?, ?it/s]\n"
     ]
    },
    {
     "name": "stdout",
     "output_type": "stream",
     "text": [
      "mp-1388058 80 7\n"
     ]
    },
    {
     "name": "stderr",
     "output_type": "stream",
     "text": [
      "Retrieving ElectronicStructureDoc documents: 100%|█████████████████| 1/1 [00:00<?, ?it/s]\n",
      "Retrieving ElectronicStructureDoc documents: 100%|█████████████████| 1/1 [00:00<?, ?it/s]\n",
      "Retrieving ElectronicStructureDoc documents: 100%|█████████████████| 1/1 [00:00<?, ?it/s]\n",
      "Retrieving ElectronicStructureDoc documents: 100%|█████████████████| 1/1 [00:00<?, ?it/s]\n",
      "Retrieving ElectronicStructureDoc documents: 100%|████████| 1/1 [00:00<00:00, 327.09it/s]\n",
      "Retrieving ElectronicStructureDoc documents: 100%|█████████████████| 1/1 [00:00<?, ?it/s]\n",
      "Retrieving ElectronicStructureDoc documents: 100%|█████████████████| 1/1 [00:00<?, ?it/s]\n",
      "Retrieving ElectronicStructureDoc documents: 100%|█████████████████| 1/1 [00:00<?, ?it/s]\n",
      "Retrieving ElectronicStructureDoc documents: 100%|█████████████████| 1/1 [00:00<?, ?it/s]\n",
      "Retrieving ElectronicStructureDoc documents: 100%|█████████████████| 1/1 [00:00<?, ?it/s]\n"
     ]
    },
    {
     "name": "stdout",
     "output_type": "stream",
     "text": [
      "mp-1390540 90 7\n"
     ]
    },
    {
     "name": "stderr",
     "output_type": "stream",
     "text": [
      "Retrieving ElectronicStructureDoc documents: 100%|█████████████████| 1/1 [00:00<?, ?it/s]\n",
      "Retrieving ElectronicStructureDoc documents: 100%|█████████████████| 1/1 [00:00<?, ?it/s]\n",
      "Retrieving ElectronicStructureDoc documents: 100%|█████████████████| 1/1 [00:00<?, ?it/s]\n",
      "Retrieving ElectronicStructureDoc documents: 100%|█████████████████| 1/1 [00:00<?, ?it/s]\n"
     ]
    },
    {
     "name": "stdout",
     "output_type": "stream",
     "text": [
      "no bandstructure for mp-1390793\n"
     ]
    },
    {
     "name": "stderr",
     "output_type": "stream",
     "text": [
      "Retrieving ElectronicStructureDoc documents: 100%|█████████████████| 1/1 [00:00<?, ?it/s]\n",
      "Retrieving ElectronicStructureDoc documents: 100%|█████████████████| 1/1 [00:00<?, ?it/s]\n",
      "Retrieving ElectronicStructureDoc documents: 100%|█████████████████| 1/1 [00:00<?, ?it/s]\n",
      "Retrieving ElectronicStructureDoc documents: 100%|█████████████████| 1/1 [00:00<?, ?it/s]\n",
      "Retrieving ElectronicStructureDoc documents: 100%|█████████████████| 1/1 [00:00<?, ?it/s]\n",
      "Retrieving ElectronicStructureDoc documents: 100%|█████████████████| 1/1 [00:00<?, ?it/s]\n"
     ]
    },
    {
     "name": "stdout",
     "output_type": "stream",
     "text": [
      "mp-1391320 0 8\n"
     ]
    },
    {
     "name": "stderr",
     "output_type": "stream",
     "text": [
      "Retrieving ElectronicStructureDoc documents: 100%|█████████████████| 1/1 [00:00<?, ?it/s]\n",
      "Retrieving ElectronicStructureDoc documents: 100%|█████████████████| 1/1 [00:00<?, ?it/s]\n",
      "Retrieving ElectronicStructureDoc documents: 100%|█████████████████| 1/1 [00:00<?, ?it/s]\n",
      "Retrieving ElectronicStructureDoc documents: 100%|█████████████████| 1/1 [00:00<?, ?it/s]\n",
      "Retrieving ElectronicStructureDoc documents: 100%|█████████████████| 1/1 [00:00<?, ?it/s]\n",
      "Retrieving ElectronicStructureDoc documents: 100%|█████████████████| 1/1 [00:00<?, ?it/s]\n",
      "Retrieving ElectronicStructureDoc documents: 100%|█████████████████| 1/1 [00:00<?, ?it/s]\n",
      "Retrieving ElectronicStructureDoc documents: 100%|█████████████████| 1/1 [00:00<?, ?it/s]\n"
     ]
    },
    {
     "name": "stdout",
     "output_type": "stream",
     "text": [
      "no bandstructure for mp-1392664\n"
     ]
    },
    {
     "name": "stderr",
     "output_type": "stream",
     "text": [
      "Retrieving ElectronicStructureDoc documents: 100%|█████████████████| 1/1 [00:00<?, ?it/s]\n",
      "Retrieving ElectronicStructureDoc documents: 100%|█████████████████| 1/1 [00:00<?, ?it/s]\n"
     ]
    },
    {
     "name": "stdout",
     "output_type": "stream",
     "text": [
      "mp-1392784 10 8\n"
     ]
    },
    {
     "name": "stderr",
     "output_type": "stream",
     "text": [
      "Retrieving ElectronicStructureDoc documents: 100%|█████████████████| 1/1 [00:00<?, ?it/s]\n",
      "Retrieving ElectronicStructureDoc documents: 100%|█████████████████| 1/1 [00:00<?, ?it/s]\n",
      "Retrieving ElectronicStructureDoc documents: 100%|█████████████████| 1/1 [00:00<?, ?it/s]\n",
      "Retrieving ElectronicStructureDoc documents: 100%|█████████████████| 1/1 [00:00<?, ?it/s]\n",
      "Retrieving ElectronicStructureDoc documents: 100%|█████████████████| 1/1 [00:00<?, ?it/s]\n",
      "Retrieving ElectronicStructureDoc documents: 100%|█████████████████| 1/1 [00:00<?, ?it/s]\n",
      "Retrieving ElectronicStructureDoc documents: 100%|█████████████████| 1/1 [00:00<?, ?it/s]\n",
      "Retrieving ElectronicStructureDoc documents: 100%|█████████████████| 1/1 [00:00<?, ?it/s]\n",
      "Retrieving ElectronicStructureDoc documents: 100%|█████████████████| 1/1 [00:00<?, ?it/s]\n",
      "Retrieving ElectronicStructureDoc documents: 100%|█████████████████| 1/1 [00:00<?, ?it/s]\n"
     ]
    },
    {
     "name": "stdout",
     "output_type": "stream",
     "text": [
      "mp-1394183 20 8\n"
     ]
    },
    {
     "name": "stderr",
     "output_type": "stream",
     "text": [
      "Retrieving ElectronicStructureDoc documents: 100%|█████████████████| 1/1 [00:00<?, ?it/s]\n",
      "Retrieving ElectronicStructureDoc documents: 100%|█████████████████| 1/1 [00:00<?, ?it/s]\n",
      "Retrieving ElectronicStructureDoc documents: 100%|█████████████████| 1/1 [00:00<?, ?it/s]\n",
      "Retrieving ElectronicStructureDoc documents: 100%|█████████████████| 1/1 [00:00<?, ?it/s]\n",
      "Retrieving ElectronicStructureDoc documents: 100%|█████████████████| 1/1 [00:00<?, ?it/s]\n",
      "Retrieving ElectronicStructureDoc documents: 100%|█████████████████| 1/1 [00:00<?, ?it/s]\n"
     ]
    },
    {
     "name": "stdout",
     "output_type": "stream",
     "text": [
      "no bandstructure for mp-1395134\n"
     ]
    },
    {
     "name": "stderr",
     "output_type": "stream",
     "text": [
      "Retrieving ElectronicStructureDoc documents: 100%|█████████████████| 1/1 [00:00<?, ?it/s]\n",
      "Retrieving ElectronicStructureDoc documents: 100%|█████████████████| 1/1 [00:00<?, ?it/s]\n"
     ]
    },
    {
     "name": "stdout",
     "output_type": "stream",
     "text": [
      "no bandstructure for mp-1395579\n"
     ]
    },
    {
     "name": "stderr",
     "output_type": "stream",
     "text": [
      "Retrieving ElectronicStructureDoc documents: 100%|█████████████████| 1/1 [00:00<?, ?it/s]\n",
      "Retrieving ElectronicStructureDoc documents: 100%|█████████████████| 1/1 [00:00<?, ?it/s]\n"
     ]
    },
    {
     "name": "stdout",
     "output_type": "stream",
     "text": [
      "mp-1395840 30 8\n"
     ]
    },
    {
     "name": "stderr",
     "output_type": "stream",
     "text": [
      "Retrieving ElectronicStructureDoc documents: 100%|████████| 1/1 [00:00<00:00, 437.45it/s]\n",
      "Retrieving ElectronicStructureDoc documents: 100%|█████████████████| 1/1 [00:00<?, ?it/s]\n",
      "Retrieving ElectronicStructureDoc documents: 100%|█████████████████| 1/1 [00:00<?, ?it/s]\n",
      "Retrieving ElectronicStructureDoc documents: 100%|█████████████████| 1/1 [00:00<?, ?it/s]\n"
     ]
    },
    {
     "name": "stdout",
     "output_type": "stream",
     "text": [
      "no bandstructure for mp-1396459\n"
     ]
    },
    {
     "name": "stderr",
     "output_type": "stream",
     "text": [
      "Retrieving ElectronicStructureDoc documents: 100%|█████████████████| 1/1 [00:00<?, ?it/s]\n",
      "Retrieving ElectronicStructureDoc documents: 100%|█████████████████| 1/1 [00:00<?, ?it/s]\n",
      "Retrieving ElectronicStructureDoc documents: 100%|█████████████████| 1/1 [00:00<?, ?it/s]\n",
      "Retrieving ElectronicStructureDoc documents: 100%|█████████████████| 1/1 [00:00<?, ?it/s]\n",
      "Retrieving ElectronicStructureDoc documents: 100%|█████████████████| 1/1 [00:00<?, ?it/s]\n",
      "Retrieving ElectronicStructureDoc documents: 100%|█████████████████| 1/1 [00:00<?, ?it/s]\n"
     ]
    },
    {
     "name": "stdout",
     "output_type": "stream",
     "text": [
      "mp-1396980 40 8\n"
     ]
    },
    {
     "name": "stderr",
     "output_type": "stream",
     "text": [
      "Retrieving ElectronicStructureDoc documents: 100%|█████████████████| 1/1 [00:00<?, ?it/s]\n",
      "Retrieving ElectronicStructureDoc documents: 100%|█████████████████| 1/1 [00:00<?, ?it/s]\n",
      "Retrieving ElectronicStructureDoc documents: 100%|█████████████████| 1/1 [00:00<?, ?it/s]\n",
      "Retrieving ElectronicStructureDoc documents: 100%|█████████████████| 1/1 [00:00<?, ?it/s]\n",
      "Retrieving ElectronicStructureDoc documents: 100%|█████████████████| 1/1 [00:00<?, ?it/s]\n",
      "Retrieving ElectronicStructureDoc documents: 100%|█████████████████| 1/1 [00:00<?, ?it/s]\n",
      "Retrieving ElectronicStructureDoc documents: 100%|█████████████████| 1/1 [00:00<?, ?it/s]\n",
      "Retrieving ElectronicStructureDoc documents: 100%|█████████████████| 1/1 [00:00<?, ?it/s]\n",
      "Retrieving ElectronicStructureDoc documents: 100%|█████████████████| 1/1 [00:00<?, ?it/s]\n",
      "Retrieving ElectronicStructureDoc documents: 100%|█████████████████| 1/1 [00:00<?, ?it/s]\n"
     ]
    },
    {
     "name": "stdout",
     "output_type": "stream",
     "text": [
      "mp-1398749 50 8\n"
     ]
    },
    {
     "name": "stderr",
     "output_type": "stream",
     "text": [
      "Retrieving ElectronicStructureDoc documents: 100%|█████████████████| 1/1 [00:00<?, ?it/s]\n"
     ]
    },
    {
     "name": "stdout",
     "output_type": "stream",
     "text": [
      "no bandstructure for mp-1399089\n"
     ]
    },
    {
     "name": "stderr",
     "output_type": "stream",
     "text": [
      "Retrieving ElectronicStructureDoc documents: 100%|█████████████████| 1/1 [00:00<?, ?it/s]\n",
      "Retrieving ElectronicStructureDoc documents: 100%|█████████████████| 1/1 [00:00<?, ?it/s]\n",
      "Retrieving ElectronicStructureDoc documents: 100%|█████████████████| 1/1 [00:00<?, ?it/s]\n",
      "Retrieving ElectronicStructureDoc documents: 100%|█████████████████| 1/1 [00:00<?, ?it/s]\n"
     ]
    },
    {
     "name": "stdout",
     "output_type": "stream",
     "text": [
      "no bandstructure for mp-1399321\n"
     ]
    },
    {
     "name": "stderr",
     "output_type": "stream",
     "text": [
      "Retrieving ElectronicStructureDoc documents: 100%|█████████████████| 1/1 [00:00<?, ?it/s]\n",
      "Retrieving ElectronicStructureDoc documents: 100%|█████████████████| 1/1 [00:00<?, ?it/s]\n",
      "Retrieving ElectronicStructureDoc documents: 100%|█████████| 1/1 [00:00<00:00, 68.74it/s]\n",
      "Retrieving ElectronicStructureDoc documents: 100%|█████████████████| 1/1 [00:00<?, ?it/s]\n",
      "Retrieving ElectronicStructureDoc documents: 100%|█████████████████| 1/1 [00:00<?, ?it/s]\n"
     ]
    },
    {
     "name": "stdout",
     "output_type": "stream",
     "text": [
      "mp-1399724 60 8\n"
     ]
    },
    {
     "name": "stderr",
     "output_type": "stream",
     "text": [
      "Retrieving ElectronicStructureDoc documents: 100%|█████████████████| 1/1 [00:00<?, ?it/s]\n",
      "Retrieving ElectronicStructureDoc documents: 100%|█████████████████| 1/1 [00:00<?, ?it/s]\n",
      "Retrieving ElectronicStructureDoc documents: 100%|█████████████████| 1/1 [00:00<?, ?it/s]\n",
      "Retrieving ElectronicStructureDoc documents: 100%|█████████████████| 1/1 [00:00<?, ?it/s]\n",
      "Retrieving ElectronicStructureDoc documents: 100%|█████████████████| 1/1 [00:00<?, ?it/s]\n",
      "Retrieving ElectronicStructureDoc documents: 100%|█████████████████| 1/1 [00:00<?, ?it/s]\n",
      "Retrieving ElectronicStructureDoc documents: 100%|█████████████████| 1/1 [00:00<?, ?it/s]\n",
      "Retrieving ElectronicStructureDoc documents: 100%|█████████████████| 1/1 [00:00<?, ?it/s]\n",
      "Retrieving ElectronicStructureDoc documents: 100%|█████████████████| 1/1 [00:00<?, ?it/s]\n"
     ]
    },
    {
     "name": "stdout",
     "output_type": "stream",
     "text": [
      "no bandstructure for mp-1400626\n"
     ]
    },
    {
     "name": "stderr",
     "output_type": "stream",
     "text": [
      "Retrieving ElectronicStructureDoc documents: 100%|█████████████████| 1/1 [00:00<?, ?it/s]\n"
     ]
    },
    {
     "name": "stdout",
     "output_type": "stream",
     "text": [
      "mp-1400762 70 8\n"
     ]
    },
    {
     "name": "stderr",
     "output_type": "stream",
     "text": [
      "Retrieving ElectronicStructureDoc documents: 100%|█████████████████| 1/1 [00:00<?, ?it/s]\n"
     ]
    },
    {
     "name": "stdout",
     "output_type": "stream",
     "text": [
      "no bandstructure for mp-1400776\n"
     ]
    },
    {
     "name": "stderr",
     "output_type": "stream",
     "text": [
      "Retrieving ElectronicStructureDoc documents: 100%|█████████████████| 1/1 [00:00<?, ?it/s]\n"
     ]
    },
    {
     "name": "stdout",
     "output_type": "stream",
     "text": [
      "no bandstructure for mp-1400837\n"
     ]
    },
    {
     "name": "stderr",
     "output_type": "stream",
     "text": [
      "Retrieving ElectronicStructureDoc documents: 100%|█████████████████| 1/1 [00:00<?, ?it/s]\n",
      "Retrieving ElectronicStructureDoc documents: 100%|█████████████████| 1/1 [00:00<?, ?it/s]\n",
      "Retrieving ElectronicStructureDoc documents: 100%|█████████████████| 1/1 [00:00<?, ?it/s]\n",
      "Retrieving ElectronicStructureDoc documents: 100%|█████████████████| 1/1 [00:00<?, ?it/s]\n",
      "Retrieving ElectronicStructureDoc documents: 100%|█████████████████| 1/1 [00:00<?, ?it/s]\n",
      "Retrieving ElectronicStructureDoc documents: 100%|█████████████████| 1/1 [00:00<?, ?it/s]\n",
      "Retrieving ElectronicStructureDoc documents: 100%|█████████████████| 1/1 [00:00<?, ?it/s]\n",
      "Retrieving ElectronicStructureDoc documents: 100%|█████████████████| 1/1 [00:00<?, ?it/s]\n"
     ]
    },
    {
     "name": "stdout",
     "output_type": "stream",
     "text": [
      "mp-1402363 80 8\n"
     ]
    },
    {
     "name": "stderr",
     "output_type": "stream",
     "text": [
      "Retrieving ElectronicStructureDoc documents: 100%|█████████████████| 1/1 [00:00<?, ?it/s]\n",
      "Retrieving ElectronicStructureDoc documents: 100%|█████████████████| 1/1 [00:00<?, ?it/s]\n",
      "Retrieving ElectronicStructureDoc documents: 100%|█████████████████| 1/1 [00:00<?, ?it/s]\n",
      "Retrieving ElectronicStructureDoc documents: 100%|█████████| 1/1 [00:00<00:00, 63.99it/s]\n",
      "Retrieving ElectronicStructureDoc documents: 100%|█████████████████| 1/1 [00:00<?, ?it/s]\n",
      "Retrieving ElectronicStructureDoc documents: 100%|█████████████████| 1/1 [00:00<?, ?it/s]\n"
     ]
    },
    {
     "name": "stdout",
     "output_type": "stream",
     "text": [
      "no bandstructure for mp-1403003\n"
     ]
    },
    {
     "name": "stderr",
     "output_type": "stream",
     "text": [
      "Retrieving ElectronicStructureDoc documents: 100%|███████| 1/1 [00:00<00:00, 1001.27it/s]\n",
      "Retrieving ElectronicStructureDoc documents: 100%|█████████████████| 1/1 [00:00<?, ?it/s]\n",
      "Retrieving ElectronicStructureDoc documents: 100%|█████████████████| 1/1 [00:00<?, ?it/s]\n",
      "Retrieving ElectronicStructureDoc documents: 100%|█████████████████| 1/1 [00:00<?, ?it/s]\n"
     ]
    },
    {
     "name": "stdout",
     "output_type": "stream",
     "text": [
      "mp-1403373 90 8\n"
     ]
    },
    {
     "name": "stderr",
     "output_type": "stream",
     "text": [
      "Retrieving ElectronicStructureDoc documents: 100%|█████████████████| 1/1 [00:00<?, ?it/s]\n",
      "Retrieving ElectronicStructureDoc documents: 100%|█████████████████| 1/1 [00:00<?, ?it/s]\n",
      "Retrieving ElectronicStructureDoc documents: 100%|█████████████████| 1/1 [00:00<?, ?it/s]\n"
     ]
    },
    {
     "name": "stdout",
     "output_type": "stream",
     "text": [
      "no bandstructure for mp-1403870\n"
     ]
    },
    {
     "name": "stderr",
     "output_type": "stream",
     "text": [
      "Retrieving ElectronicStructureDoc documents: 100%|█████████████████| 1/1 [00:00<?, ?it/s]\n",
      "Retrieving ElectronicStructureDoc documents: 100%|█████████████████| 1/1 [00:00<?, ?it/s]\n"
     ]
    },
    {
     "name": "stdout",
     "output_type": "stream",
     "text": [
      "no bandstructure for mp-1404675\n"
     ]
    },
    {
     "name": "stderr",
     "output_type": "stream",
     "text": [
      "Retrieving ElectronicStructureDoc documents: 100%|█████████████████| 1/1 [00:00<?, ?it/s]\n",
      "Retrieving ElectronicStructureDoc documents: 100%|█████████████████| 1/1 [00:00<?, ?it/s]\n",
      "Retrieving ElectronicStructureDoc documents: 100%|█████████████████| 1/1 [00:00<?, ?it/s]\n",
      "Retrieving ElectronicStructureDoc documents: 100%|█████████████████| 1/1 [00:00<?, ?it/s]\n",
      "Retrieving ElectronicStructureDoc documents: 100%|█████████████████| 1/1 [00:00<?, ?it/s]\n"
     ]
    },
    {
     "name": "stdout",
     "output_type": "stream",
     "text": [
      "mp-1404877 0 9\n"
     ]
    },
    {
     "name": "stderr",
     "output_type": "stream",
     "text": [
      "Retrieving ElectronicStructureDoc documents: 100%|█████████████████| 1/1 [00:00<?, ?it/s]\n"
     ]
    },
    {
     "name": "stdout",
     "output_type": "stream",
     "text": [
      "no bandstructure for mp-1404938\n"
     ]
    },
    {
     "name": "stderr",
     "output_type": "stream",
     "text": [
      "Retrieving ElectronicStructureDoc documents: 100%|█████████████████| 1/1 [00:00<?, ?it/s]\n",
      "Retrieving ElectronicStructureDoc documents: 100%|█████████████████| 1/1 [00:00<?, ?it/s]\n",
      "Retrieving ElectronicStructureDoc documents: 100%|█████████████████| 1/1 [00:00<?, ?it/s]\n",
      "Retrieving ElectronicStructureDoc documents: 100%|█████████████████| 1/1 [00:00<?, ?it/s]\n",
      "Retrieving ElectronicStructureDoc documents: 100%|█████████████████| 1/1 [00:00<?, ?it/s]\n"
     ]
    },
    {
     "name": "stdout",
     "output_type": "stream",
     "text": [
      "no bandstructure for mp-1405591\n"
     ]
    },
    {
     "name": "stderr",
     "output_type": "stream",
     "text": [
      "Retrieving ElectronicStructureDoc documents: 100%|█████████████████| 1/1 [00:00<?, ?it/s]\n",
      "Retrieving ElectronicStructureDoc documents: 100%|█████████████████| 1/1 [00:00<?, ?it/s]\n",
      "Retrieving ElectronicStructureDoc documents: 100%|█████████████████| 1/1 [00:00<?, ?it/s]\n",
      "Retrieving ElectronicStructureDoc documents: 100%|█████████████████| 1/1 [00:00<?, ?it/s]\n"
     ]
    },
    {
     "name": "stdout",
     "output_type": "stream",
     "text": [
      "mp-1406123 10 9\n"
     ]
    },
    {
     "name": "stderr",
     "output_type": "stream",
     "text": [
      "Retrieving ElectronicStructureDoc documents: 100%|█████████████████| 1/1 [00:00<?, ?it/s]\n",
      "Retrieving ElectronicStructureDoc documents: 100%|█████████████████| 1/1 [00:00<?, ?it/s]\n",
      "Retrieving ElectronicStructureDoc documents: 100%|█████████████████| 1/1 [00:00<?, ?it/s]\n",
      "Retrieving ElectronicStructureDoc documents: 100%|█████████████████| 1/1 [00:00<?, ?it/s]\n",
      "Retrieving ElectronicStructureDoc documents: 100%|█████████████████| 1/1 [00:00<?, ?it/s]\n",
      "Retrieving ElectronicStructureDoc documents: 100%|█████████████████| 1/1 [00:00<?, ?it/s]\n",
      "Retrieving ElectronicStructureDoc documents: 100%|█████████████████| 1/1 [00:00<?, ?it/s]\n",
      "Retrieving ElectronicStructureDoc documents: 100%|█████████████████| 1/1 [00:00<?, ?it/s]\n",
      "Retrieving ElectronicStructureDoc documents: 100%|█████████████████| 1/1 [00:00<?, ?it/s]\n",
      "Retrieving ElectronicStructureDoc documents: 100%|█████████████████| 1/1 [00:00<?, ?it/s]\n"
     ]
    },
    {
     "name": "stdout",
     "output_type": "stream",
     "text": [
      "mp-1407385 20 9\n"
     ]
    },
    {
     "name": "stderr",
     "output_type": "stream",
     "text": [
      "Retrieving ElectronicStructureDoc documents: 100%|█████████████████| 1/1 [00:00<?, ?it/s]\n"
     ]
    },
    {
     "name": "stdout",
     "output_type": "stream",
     "text": [
      "no bandstructure for mp-1407554\n"
     ]
    },
    {
     "name": "stderr",
     "output_type": "stream",
     "text": [
      "Retrieving ElectronicStructureDoc documents: 100%|█████████████████| 1/1 [00:00<?, ?it/s]\n"
     ]
    },
    {
     "name": "stdout",
     "output_type": "stream",
     "text": [
      "no bandstructure for mp-1407746\n"
     ]
    },
    {
     "name": "stderr",
     "output_type": "stream",
     "text": [
      "Retrieving ElectronicStructureDoc documents: 100%|█████████████████| 1/1 [00:00<?, ?it/s]\n",
      "Retrieving ElectronicStructureDoc documents: 100%|█████████████████| 1/1 [00:00<?, ?it/s]\n",
      "Retrieving ElectronicStructureDoc documents: 100%|█████████████████| 1/1 [00:00<?, ?it/s]\n",
      "Retrieving ElectronicStructureDoc documents: 100%|█████████████████| 1/1 [00:00<?, ?it/s]\n",
      "Retrieving ElectronicStructureDoc documents: 100%|█████████████████| 1/1 [00:00<?, ?it/s]\n",
      "Retrieving ElectronicStructureDoc documents: 100%|█████████████████| 1/1 [00:00<?, ?it/s]\n",
      "Retrieving ElectronicStructureDoc documents: 100%|█████████████████| 1/1 [00:00<?, ?it/s]\n",
      "Retrieving ElectronicStructureDoc documents: 100%|█████████████████| 1/1 [00:00<?, ?it/s]\n"
     ]
    },
    {
     "name": "stdout",
     "output_type": "stream",
     "text": [
      "mp-1408926 30 9\n"
     ]
    },
    {
     "name": "stderr",
     "output_type": "stream",
     "text": [
      "Retrieving ElectronicStructureDoc documents: 100%|█████████████████| 1/1 [00:00<?, ?it/s]\n"
     ]
    },
    {
     "name": "stdout",
     "output_type": "stream",
     "text": [
      "no bandstructure for mp-1409171\n"
     ]
    },
    {
     "name": "stderr",
     "output_type": "stream",
     "text": [
      "Retrieving ElectronicStructureDoc documents: 100%|█████████████████| 1/1 [00:00<?, ?it/s]\n"
     ]
    },
    {
     "name": "stdout",
     "output_type": "stream",
     "text": [
      "no bandstructure for mp-1410049\n"
     ]
    },
    {
     "name": "stderr",
     "output_type": "stream",
     "text": [
      "Retrieving ElectronicStructureDoc documents: 100%|███████| 1/1 [00:00<00:00, 9198.04it/s]\n",
      "Retrieving ElectronicStructureDoc documents: 100%|█████████████████| 1/1 [00:00<?, ?it/s]\n",
      "Retrieving ElectronicStructureDoc documents: 100%|█████████████████| 1/1 [00:00<?, ?it/s]\n",
      "Retrieving ElectronicStructureDoc documents: 100%|█████████████████| 1/1 [00:00<?, ?it/s]\n",
      "Retrieving ElectronicStructureDoc documents: 100%|█████████████████| 1/1 [00:00<?, ?it/s]\n",
      "Retrieving ElectronicStructureDoc documents: 100%|█████████████████| 1/1 [00:00<?, ?it/s]\n"
     ]
    },
    {
     "name": "stdout",
     "output_type": "stream",
     "text": [
      "no bandstructure for mp-1411667\n"
     ]
    },
    {
     "name": "stderr",
     "output_type": "stream",
     "text": [
      "Retrieving ElectronicStructureDoc documents: 100%|█████████████████| 1/1 [00:00<?, ?it/s]\n",
      "Retrieving ElectronicStructureDoc documents: 100%|█████████████████| 1/1 [00:00<?, ?it/s]\n"
     ]
    },
    {
     "name": "stdout",
     "output_type": "stream",
     "text": [
      "mp-1412175 40 9\n"
     ]
    },
    {
     "name": "stderr",
     "output_type": "stream",
     "text": [
      "Retrieving ElectronicStructureDoc documents: 100%|█████████████████| 1/1 [00:00<?, ?it/s]\n"
     ]
    },
    {
     "name": "stdout",
     "output_type": "stream",
     "text": [
      "no bandstructure for mp-1412222\n"
     ]
    },
    {
     "name": "stderr",
     "output_type": "stream",
     "text": [
      "Retrieving ElectronicStructureDoc documents: 100%|███████| 1/1 [00:00<00:00, 1000.07it/s]\n"
     ]
    },
    {
     "name": "stdout",
     "output_type": "stream",
     "text": [
      "no bandstructure for mp-1412630\n"
     ]
    },
    {
     "name": "stderr",
     "output_type": "stream",
     "text": [
      "Retrieving ElectronicStructureDoc documents: 100%|█████████████████| 1/1 [00:00<?, ?it/s]\n",
      "Retrieving ElectronicStructureDoc documents: 100%|█████████████████| 1/1 [00:00<?, ?it/s]\n",
      "Retrieving ElectronicStructureDoc documents: 100%|█████████████████| 1/1 [00:00<?, ?it/s]\n",
      "Retrieving ElectronicStructureDoc documents: 100%|█████████████████| 1/1 [00:00<?, ?it/s]\n",
      "Retrieving ElectronicStructureDoc documents: 100%|█████████████████| 1/1 [00:00<?, ?it/s]\n"
     ]
    },
    {
     "name": "stdout",
     "output_type": "stream",
     "text": [
      "no bandstructure for mp-1413617\n"
     ]
    },
    {
     "name": "stderr",
     "output_type": "stream",
     "text": [
      "Retrieving ElectronicStructureDoc documents: 100%|█████████████████| 1/1 [00:00<?, ?it/s]\n",
      "Retrieving ElectronicStructureDoc documents: 100%|█████████████████| 1/1 [00:00<?, ?it/s]\n",
      "Retrieving ElectronicStructureDoc documents: 100%|█████████████████| 1/1 [00:00<?, ?it/s]\n"
     ]
    },
    {
     "name": "stdout",
     "output_type": "stream",
     "text": [
      "mp-1414055 50 9\n"
     ]
    },
    {
     "name": "stderr",
     "output_type": "stream",
     "text": [
      "Retrieving ElectronicStructureDoc documents: 100%|█████████████████| 1/1 [00:00<?, ?it/s]\n",
      "Retrieving ElectronicStructureDoc documents: 100%|█████████████████| 1/1 [00:00<?, ?it/s]\n",
      "Retrieving ElectronicStructureDoc documents: 100%|█████████████████| 1/1 [00:00<?, ?it/s]\n",
      "Retrieving ElectronicStructureDoc documents: 100%|█████████████████| 1/1 [00:00<?, ?it/s]\n",
      "Retrieving ElectronicStructureDoc documents: 100%|█████████████████| 1/1 [00:00<?, ?it/s]\n",
      "Retrieving ElectronicStructureDoc documents: 100%|█████████████████| 1/1 [00:00<?, ?it/s]\n",
      "Retrieving ElectronicStructureDoc documents: 100%|█████████████████| 1/1 [00:00<?, ?it/s]\n",
      "Retrieving ElectronicStructureDoc documents: 100%|█████████████████| 1/1 [00:00<?, ?it/s]\n",
      "Retrieving ElectronicStructureDoc documents: 100%|█████████████████| 1/1 [00:00<?, ?it/s]\n",
      "Retrieving ElectronicStructureDoc documents: 100%|█████████████████| 1/1 [00:00<?, ?it/s]\n"
     ]
    },
    {
     "name": "stdout",
     "output_type": "stream",
     "text": [
      "mp-1418444 60 9\n"
     ]
    },
    {
     "name": "stderr",
     "output_type": "stream",
     "text": [
      "Retrieving ElectronicStructureDoc documents: 100%|█████████████████| 1/1 [00:00<?, ?it/s]\n",
      "Retrieving ElectronicStructureDoc documents: 100%|█████████████████| 1/1 [00:00<?, ?it/s]\n",
      "Retrieving ElectronicStructureDoc documents: 100%|█████████████████| 1/1 [00:00<?, ?it/s]\n",
      "Retrieving ElectronicStructureDoc documents: 100%|█████████████████| 1/1 [00:00<?, ?it/s]\n",
      "Retrieving ElectronicStructureDoc documents: 100%|█████████████████| 1/1 [00:00<?, ?it/s]\n"
     ]
    },
    {
     "name": "stdout",
     "output_type": "stream",
     "text": [
      "no bandstructure for mp-1419188\n"
     ]
    },
    {
     "name": "stderr",
     "output_type": "stream",
     "text": [
      "Retrieving ElectronicStructureDoc documents: 100%|█████████████████| 1/1 [00:00<?, ?it/s]\n"
     ]
    },
    {
     "name": "stdout",
     "output_type": "stream",
     "text": [
      "no bandstructure for mp-1419473\n"
     ]
    },
    {
     "name": "stderr",
     "output_type": "stream",
     "text": [
      "Retrieving ElectronicStructureDoc documents: 100%|█████████████████| 1/1 [00:00<?, ?it/s]\n",
      "Retrieving ElectronicStructureDoc documents: 100%|█████████████████| 1/1 [00:00<?, ?it/s]\n",
      "Retrieving ElectronicStructureDoc documents: 100%|█████████████████| 1/1 [00:00<?, ?it/s]\n",
      "Retrieving ElectronicStructureDoc documents: 100%|█████████████████| 1/1 [00:00<?, ?it/s]\n"
     ]
    },
    {
     "name": "stdout",
     "output_type": "stream",
     "text": [
      "mp-1420266 70 9\n"
     ]
    },
    {
     "name": "stderr",
     "output_type": "stream",
     "text": [
      "Retrieving ElectronicStructureDoc documents: 100%|█████████████████| 1/1 [00:00<?, ?it/s]\n",
      "Retrieving ElectronicStructureDoc documents: 100%|█████████████████| 1/1 [00:00<?, ?it/s]\n",
      "Retrieving ElectronicStructureDoc documents: 100%|█████████████████| 1/1 [00:00<?, ?it/s]\n",
      "Retrieving ElectronicStructureDoc documents: 100%|█████████████████| 1/1 [00:00<?, ?it/s]\n",
      "Retrieving ElectronicStructureDoc documents: 100%|█████████████████| 1/1 [00:00<?, ?it/s]\n",
      "Retrieving ElectronicStructureDoc documents: 100%|█████████████████| 1/1 [00:00<?, ?it/s]\n",
      "Retrieving ElectronicStructureDoc documents: 100%|█████████████████| 1/1 [00:00<?, ?it/s]\n",
      "Retrieving ElectronicStructureDoc documents: 100%|█████████████████| 1/1 [00:00<?, ?it/s]\n",
      "Retrieving ElectronicStructureDoc documents: 100%|█████████████████| 1/1 [00:00<?, ?it/s]\n",
      "Retrieving ElectronicStructureDoc documents: 100%|█████████████████| 1/1 [00:00<?, ?it/s]\n"
     ]
    },
    {
     "name": "stdout",
     "output_type": "stream",
     "text": [
      "mp-1422029 80 9\n"
     ]
    },
    {
     "name": "stderr",
     "output_type": "stream",
     "text": [
      "Retrieving ElectronicStructureDoc documents: 100%|█████████| 1/1 [00:00<00:00, 71.50it/s]\n",
      "Retrieving ElectronicStructureDoc documents: 100%|█████████████████| 1/1 [00:00<?, ?it/s]\n"
     ]
    },
    {
     "name": "stdout",
     "output_type": "stream",
     "text": [
      "no bandstructure for mp-1422819\n"
     ]
    },
    {
     "name": "stderr",
     "output_type": "stream",
     "text": [
      "Retrieving ElectronicStructureDoc documents: 100%|█████████████████| 1/1 [00:00<?, ?it/s]\n",
      "Retrieving ElectronicStructureDoc documents: 100%|█████████████████| 1/1 [00:00<?, ?it/s]\n",
      "Retrieving ElectronicStructureDoc documents: 100%|█████████████████| 1/1 [00:00<?, ?it/s]\n",
      "Retrieving ElectronicStructureDoc documents: 100%|█████████████████| 1/1 [00:00<?, ?it/s]\n",
      "Retrieving ElectronicStructureDoc documents: 100%|█████████████████| 1/1 [00:00<?, ?it/s]\n",
      "Retrieving ElectronicStructureDoc documents: 100%|█████████████████| 1/1 [00:00<?, ?it/s]\n",
      "Retrieving ElectronicStructureDoc documents: 100%|█████████████████| 1/1 [00:00<?, ?it/s]\n",
      "Retrieving ElectronicStructureDoc documents: 100%|█████████████████| 1/1 [00:00<?, ?it/s]\n"
     ]
    },
    {
     "name": "stdout",
     "output_type": "stream",
     "text": [
      "mp-1425089 90 9\n"
     ]
    },
    {
     "name": "stderr",
     "output_type": "stream",
     "text": [
      "Retrieving ElectronicStructureDoc documents: 100%|█████████████████| 1/1 [00:00<?, ?it/s]\n",
      "Retrieving ElectronicStructureDoc documents: 100%|█████████████████| 1/1 [00:00<?, ?it/s]\n",
      "Retrieving ElectronicStructureDoc documents: 100%|█████████████████| 1/1 [00:00<?, ?it/s]\n",
      "Retrieving ElectronicStructureDoc documents: 100%|█████████████████| 1/1 [00:00<?, ?it/s]\n",
      "Retrieving ElectronicStructureDoc documents: 100%|█████████████████| 1/1 [00:00<?, ?it/s]\n",
      "Retrieving ElectronicStructureDoc documents: 100%|█████████████████| 1/1 [00:00<?, ?it/s]\n",
      "Retrieving ElectronicStructureDoc documents: 100%|█████████████████| 1/1 [00:00<?, ?it/s]\n",
      "Retrieving ElectronicStructureDoc documents: 100%|█████████████████| 1/1 [00:00<?, ?it/s]\n",
      "Retrieving ElectronicStructureDoc documents: 100%|█████████████████| 1/1 [00:00<?, ?it/s]\n",
      "Retrieving ElectronicStructureDoc documents: 100%|████████| 1/1 [00:00<00:00, 979.06it/s]\n"
     ]
    },
    {
     "name": "stdout",
     "output_type": "stream",
     "text": [
      "mp-1428312 0 10\n"
     ]
    },
    {
     "name": "stderr",
     "output_type": "stream",
     "text": [
      "Retrieving ElectronicStructureDoc documents: 100%|█████████████████| 1/1 [00:00<?, ?it/s]\n",
      "Retrieving ElectronicStructureDoc documents: 100%|█████████████████| 1/1 [00:00<?, ?it/s]\n",
      "Retrieving ElectronicStructureDoc documents: 100%|█████████████████| 1/1 [00:00<?, ?it/s]\n",
      "Retrieving ElectronicStructureDoc documents: 100%|█████████████████| 1/1 [00:00<?, ?it/s]\n",
      "Retrieving ElectronicStructureDoc documents: 100%|█████████████████| 1/1 [00:00<?, ?it/s]\n",
      "Retrieving ElectronicStructureDoc documents: 100%|█████████████████| 1/1 [00:00<?, ?it/s]\n"
     ]
    },
    {
     "name": "stdout",
     "output_type": "stream",
     "text": [
      "no bandstructure for mp-1429979\n"
     ]
    },
    {
     "name": "stderr",
     "output_type": "stream",
     "text": [
      "Retrieving ElectronicStructureDoc documents: 100%|█████████████████| 1/1 [00:00<?, ?it/s]\n",
      "Retrieving ElectronicStructureDoc documents: 100%|█████████████████| 1/1 [00:00<?, ?it/s]\n",
      "Retrieving ElectronicStructureDoc documents: 100%|████████| 1/1 [00:00<00:00, 961.33it/s]\n",
      "Retrieving ElectronicStructureDoc documents: 100%|█████████████████| 1/1 [00:00<?, ?it/s]\n"
     ]
    },
    {
     "name": "stdout",
     "output_type": "stream",
     "text": [
      "mp-1430957 10 10\n"
     ]
    },
    {
     "name": "stderr",
     "output_type": "stream",
     "text": [
      "Retrieving ElectronicStructureDoc documents: 100%|█████████████████| 1/1 [00:00<?, ?it/s]\n",
      "Retrieving ElectronicStructureDoc documents: 100%|█████████████████| 1/1 [00:00<?, ?it/s]\n",
      "Retrieving ElectronicStructureDoc documents: 100%|█████████████████| 1/1 [00:00<?, ?it/s]\n",
      "Retrieving ElectronicStructureDoc documents: 100%|█████████████████| 1/1 [00:00<?, ?it/s]\n",
      "Retrieving ElectronicStructureDoc documents: 100%|█████████████████| 1/1 [00:00<?, ?it/s]\n",
      "Retrieving ElectronicStructureDoc documents: 100%|█████████████████| 1/1 [00:00<?, ?it/s]\n"
     ]
    },
    {
     "name": "stdout",
     "output_type": "stream",
     "text": [
      "no bandstructure for mp-1433590\n"
     ]
    },
    {
     "name": "stderr",
     "output_type": "stream",
     "text": [
      "Retrieving ElectronicStructureDoc documents: 100%|█████████████████| 1/1 [00:00<?, ?it/s]\n",
      "Retrieving ElectronicStructureDoc documents: 100%|█████████████████| 1/1 [00:00<?, ?it/s]\n",
      "Retrieving ElectronicStructureDoc documents: 100%|█████████████████| 1/1 [00:00<?, ?it/s]\n",
      "Retrieving ElectronicStructureDoc documents: 100%|█████████████████| 1/1 [00:00<?, ?it/s]\n"
     ]
    },
    {
     "name": "stdout",
     "output_type": "stream",
     "text": [
      "mp-1435683 20 10\n"
     ]
    },
    {
     "name": "stderr",
     "output_type": "stream",
     "text": [
      "Retrieving ElectronicStructureDoc documents: 100%|█████████████████| 1/1 [00:00<?, ?it/s]\n",
      "Retrieving ElectronicStructureDoc documents: 100%|█████████████████| 1/1 [00:00<?, ?it/s]\n",
      "Retrieving ElectronicStructureDoc documents: 100%|█████████████████| 1/1 [00:00<?, ?it/s]\n",
      "Retrieving ElectronicStructureDoc documents: 100%|█████████████████| 1/1 [00:00<?, ?it/s]\n",
      "Retrieving ElectronicStructureDoc documents: 100%|█████████████████| 1/1 [00:00<?, ?it/s]\n"
     ]
    },
    {
     "name": "stdout",
     "output_type": "stream",
     "text": [
      "no bandstructure for mp-1436789\n"
     ]
    },
    {
     "name": "stderr",
     "output_type": "stream",
     "text": [
      "Retrieving ElectronicStructureDoc documents: 100%|█████████████████| 1/1 [00:00<?, ?it/s]\n",
      "Retrieving ElectronicStructureDoc documents: 100%|█████████| 1/1 [00:00<00:00, 85.95it/s]\n",
      "Retrieving ElectronicStructureDoc documents: 100%|█████████████████| 1/1 [00:00<?, ?it/s]\n",
      "Retrieving ElectronicStructureDoc documents: 100%|█████████████████| 1/1 [00:00<?, ?it/s]\n",
      "Retrieving ElectronicStructureDoc documents: 100%|█████████████████| 1/1 [00:00<?, ?it/s]\n"
     ]
    },
    {
     "name": "stdout",
     "output_type": "stream",
     "text": [
      "mp-1443279 30 10\n"
     ]
    },
    {
     "name": "stderr",
     "output_type": "stream",
     "text": [
      "Retrieving ElectronicStructureDoc documents: 100%|█████████████████| 1/1 [00:00<?, ?it/s]\n",
      "Retrieving ElectronicStructureDoc documents: 100%|█████████████████| 1/1 [00:00<?, ?it/s]\n",
      "Retrieving ElectronicStructureDoc documents: 100%|█████████████████| 1/1 [00:00<?, ?it/s]\n",
      "Retrieving ElectronicStructureDoc documents: 100%|█████████████████| 1/1 [00:00<?, ?it/s]\n",
      "Retrieving ElectronicStructureDoc documents: 100%|█████████████████| 1/1 [00:00<?, ?it/s]\n",
      "Retrieving ElectronicStructureDoc documents: 100%|█████████████████| 1/1 [00:00<?, ?it/s]\n",
      "Retrieving ElectronicStructureDoc documents: 100%|█████████████████| 1/1 [00:00<?, ?it/s]\n",
      "Retrieving ElectronicStructureDoc documents: 100%|█████████████████| 1/1 [00:00<?, ?it/s]\n"
     ]
    },
    {
     "name": "stdout",
     "output_type": "stream",
     "text": [
      "no bandstructure for mp-1444174\n"
     ]
    },
    {
     "name": "stderr",
     "output_type": "stream",
     "text": [
      "Retrieving ElectronicStructureDoc documents: 100%|█████████████████| 1/1 [00:00<?, ?it/s]\n",
      "Retrieving ElectronicStructureDoc documents: 100%|█████████████████| 1/1 [00:00<?, ?it/s]\n"
     ]
    },
    {
     "name": "stdout",
     "output_type": "stream",
     "text": [
      "mp-1445035 40 10\n"
     ]
    },
    {
     "name": "stderr",
     "output_type": "stream",
     "text": [
      "Retrieving ElectronicStructureDoc documents: 100%|█████████████████| 1/1 [00:00<?, ?it/s]\n",
      "Retrieving ElectronicStructureDoc documents: 100%|█████████████████| 1/1 [00:00<?, ?it/s]\n",
      "Retrieving ElectronicStructureDoc documents: 100%|█████████████████| 1/1 [00:00<?, ?it/s]\n",
      "Retrieving ElectronicStructureDoc documents: 100%|█████████████████| 1/1 [00:00<?, ?it/s]\n",
      "Retrieving ElectronicStructureDoc documents: 100%|█████████████████| 1/1 [00:00<?, ?it/s]\n",
      "Retrieving ElectronicStructureDoc documents: 100%|███████| 1/1 [00:00<00:00, 9425.40it/s]\n",
      "Retrieving ElectronicStructureDoc documents: 100%|█████████████████| 1/1 [00:00<?, ?it/s]\n",
      "Retrieving ElectronicStructureDoc documents: 100%|█████████████████| 1/1 [00:00<?, ?it/s]\n",
      "Retrieving ElectronicStructureDoc documents: 100%|█████████████████| 1/1 [00:00<?, ?it/s]\n",
      "Retrieving ElectronicStructureDoc documents: 100%|█████████████████| 1/1 [00:00<?, ?it/s]\n"
     ]
    },
    {
     "name": "stdout",
     "output_type": "stream",
     "text": [
      "mp-1445885 50 10\n"
     ]
    },
    {
     "name": "stderr",
     "output_type": "stream",
     "text": [
      "Retrieving ElectronicStructureDoc documents: 100%|█████████████████| 1/1 [00:00<?, ?it/s]\n"
     ]
    },
    {
     "name": "stdout",
     "output_type": "stream",
     "text": [
      "no bandstructure for mp-1445941\n"
     ]
    },
    {
     "name": "stderr",
     "output_type": "stream",
     "text": [
      "Retrieving ElectronicStructureDoc documents: 100%|█████████████████| 1/1 [00:00<?, ?it/s]\n",
      "Retrieving ElectronicStructureDoc documents: 100%|█████████████████| 1/1 [00:00<?, ?it/s]\n",
      "Retrieving ElectronicStructureDoc documents: 100%|█████████████████| 1/1 [00:00<?, ?it/s]\n",
      "Retrieving ElectronicStructureDoc documents: 100%|█████████████████| 1/1 [00:00<?, ?it/s]\n",
      "Retrieving ElectronicStructureDoc documents: 100%|█████████████████| 1/1 [00:00<?, ?it/s]\n",
      "Retrieving ElectronicStructureDoc documents: 100%|███████| 1/1 [00:00<00:00, 1010.43it/s]\n",
      "Retrieving ElectronicStructureDoc documents: 100%|█████████████████| 1/1 [00:00<?, ?it/s]\n",
      "Retrieving ElectronicStructureDoc documents: 100%|█████████████████| 1/1 [00:00<?, ?it/s]\n",
      "Retrieving ElectronicStructureDoc documents: 100%|█████████████████| 1/1 [00:00<?, ?it/s]\n"
     ]
    },
    {
     "name": "stdout",
     "output_type": "stream",
     "text": [
      "mp-1475733 60 10\n"
     ]
    },
    {
     "name": "stderr",
     "output_type": "stream",
     "text": [
      "Retrieving ElectronicStructureDoc documents: 100%|█████████████████| 1/1 [00:00<?, ?it/s]\n",
      "Retrieving ElectronicStructureDoc documents: 100%|█████████████████| 1/1 [00:00<?, ?it/s]\n"
     ]
    },
    {
     "name": "stdout",
     "output_type": "stream",
     "text": [
      "no bandstructure for mp-1504268\n"
     ]
    },
    {
     "name": "stderr",
     "output_type": "stream",
     "text": [
      "Retrieving ElectronicStructureDoc documents: 100%|█████████████████| 1/1 [00:00<?, ?it/s]\n",
      "Retrieving ElectronicStructureDoc documents: 100%|█████████████████| 1/1 [00:00<?, ?it/s]\n"
     ]
    },
    {
     "name": "stdout",
     "output_type": "stream",
     "text": [
      "no bandstructure for mp-1504391\n"
     ]
    },
    {
     "name": "stderr",
     "output_type": "stream",
     "text": [
      "Retrieving ElectronicStructureDoc documents: 100%|█████████████████| 1/1 [00:00<?, ?it/s]\n"
     ]
    }
   ],
   "source": [
    "chunk_size=100\n",
    "for itr in range(0,11):\n",
    "    listmat=matid[startid_index+itr*chunk_size:startid_index+(itr+1)*chunk_size]\n",
    "    BS=[]\n",
    "    IDs=[]\n",
    "    gc.collect()\n",
    "    with MPRester(MP_API_KEY) as m:\n",
    "        for item in listmat:\n",
    "            try:\n",
    "                xx=m.get_bandstructure_by_material_id(item)\n",
    "                if hasattr(xx,'projections'):\n",
    "                    del xx.projections\n",
    "                else:\n",
    "                    pass\n",
    "                BS.append(xx)\n",
    "                IDs.append(item)\n",
    "                if listmat.index(item)%10==0:\n",
    "                    print(item,listmat.index(item), itr) \n",
    "            except:\n",
    "                print('no bandstructure for '+ item)\n",
    "        with open(path+'BS_MP_'+listmat[0].split('-')[1]+'_'+listmat[-1].split('-')[1],'wb') as fp:\n",
    "            pickle.dump([BS,IDs],fp)"
   ]
  },
  {
   "cell_type": "raw",
   "id": "0f436e2d-20f0-48e5-b6a0-29a120b1408b",
   "metadata": {},
   "source": [
    "****\n",
    "Code good for a few materials\n",
    "dont use for large number of materials"
   ]
  },
  {
   "cell_type": "code",
   "execution_count": 30,
   "id": "241a21cf-6046-476b-b317-804b726c280a",
   "metadata": {},
   "outputs": [
    {
     "name": "stderr",
     "output_type": "stream",
     "text": [
      "Retrieving ElectronicStructureDoc documents: 100%|█████████████████| 1/1 [00:00<?, ?it/s]\n"
     ]
    }
   ],
   "source": [
    "id =12762\n",
    "for itr in range(0,1):\n",
    "    BS=[]\n",
    "    IDs=[]\n",
    "    gc.collect()\n",
    "    count = 0\n",
    "    startid=id+1\n",
    "    with MPRester(MP_API_KEY) as m:\n",
    "        while True:\n",
    "            id+=1\n",
    "            mid='mp-'+str(id)\n",
    "            try:\n",
    "                xx=m.get_bandstructure_by_material_id(mid)\n",
    "                if hasattr(xx,'projections'):\n",
    "                    del xx.projections\n",
    "                else:\n",
    "                    pass\n",
    "                BS.append(xx)\n",
    "                IDs.append(mid)\n",
    "                count +=1\n",
    "                #if count==1:\n",
    "                #    startid=id\n",
    "            except:\n",
    "                print('no bandstructure for '+ mid)\n",
    "            if count ==1:\n",
    "                endid=id\n",
    "                break\n",
    "    with open(path+'BS_MP_'+str(startid)+'_'+str(endid),'wb') as fp:\n",
    "        pickle.dump([BS,IDs],fp)"
   ]
  },
  {
   "cell_type": "code",
   "execution_count": 32,
   "id": "306ea326-d0f5-4def-8da2-9163eee9ee12",
   "metadata": {},
   "outputs": [
    {
     "data": {
      "text/plain": [
       "96"
      ]
     },
     "execution_count": 32,
     "metadata": {},
     "output_type": "execute_result"
    }
   ],
   "source": [
    "BS[0].nb_bands"
   ]
  },
  {
   "cell_type": "code",
   "execution_count": 7,
   "id": "af23b02d-fdab-4717-a21d-11630a68bc9c",
   "metadata": {},
   "outputs": [
    {
     "name": "stdout",
     "output_type": "stream",
     "text": [
      "5\n",
      "['mp-30', 'mp-32', 'mp-33', 'mp-34', 'mp-35']\n"
     ]
    }
   ],
   "source": [
    "startid=29\n",
    "endid=35\n",
    "with open('D:/MatProj/electronic_str/'+'BS_MP_'+str(startid)+'_'+str(endid),'rb') as op:\n",
    "    [bs,ids]= pickle.load(op)\n",
    "print(len(bs))\n",
    "print(ids)"
   ]
  },
  {
   "cell_type": "raw",
   "id": "b2ff7b2c-1ee7-4d70-b4a7-14732c4bfe0c",
   "metadata": {},
   "source": [
    "Download carge density"
   ]
  },
  {
   "cell_type": "code",
   "execution_count": 7,
   "id": "d6f1922e-220f-4250-b131-ba6b52508ff8",
   "metadata": {},
   "outputs": [
    {
     "name": "stderr",
     "output_type": "stream",
     "text": [
      "Retrieving MaterialsDoc documents: 100%|█████████████████████████████████████████████████████████| 1/1 [00:00<?, ?it/s]\n",
      "Retrieving TaskDoc documents: 100%|████████████████████████████████████████████████████| 5/5 [00:00<00:00, 4865.78it/s]\n",
      "Retrieving MaterialsDoc documents: 100%|█████████████████████████████████████████████████████████| 1/1 [00:00<?, ?it/s]\n",
      "Retrieving TaskDoc documents: 100%|██████████████████████████████████████████████████████████████| 6/6 [00:00<?, ?it/s]\n",
      "Retrieving MaterialsDoc documents: 100%|█████████████████████████████████████████████████████████| 1/1 [00:00<?, ?it/s]\n",
      "Retrieving TaskDoc documents: 100%|██████████████████████████████████████████████████████████████| 4/4 [00:00<?, ?it/s]\n",
      "Retrieving MaterialsDoc documents: 100%|█████████████████████████████████████████████████████████| 1/1 [00:00<?, ?it/s]\n",
      "Retrieving TaskDoc documents: 100%|██████████████████████████████████████████████████████████████| 4/4 [00:00<?, ?it/s]\n",
      "Retrieving MaterialsDoc documents: 0it [00:00, ?it/s]\n"
     ]
    },
    {
     "name": "stdout",
     "output_type": "stream",
     "text": [
      "no charge density for mp-5\n"
     ]
    },
    {
     "name": "stderr",
     "output_type": "stream",
     "text": [
      "Retrieving MaterialsDoc documents: 0it [00:00, ?it/s]\n"
     ]
    },
    {
     "name": "stdout",
     "output_type": "stream",
     "text": [
      "no charge density for mp-6\n"
     ]
    },
    {
     "name": "stderr",
     "output_type": "stream",
     "text": [
      "Retrieving MaterialsDoc documents: 100%|█████████████████████████████████████████████████████████| 1/1 [00:00<?, ?it/s]\n",
      "Retrieving TaskDoc documents: 100%|██████████████████████████████████████████████████████████████| 4/4 [00:00<?, ?it/s]\n",
      "Retrieving MaterialsDoc documents: 100%|█████████████████████████████████████████████████████████| 1/1 [00:00<?, ?it/s]\n",
      "Retrieving TaskDoc documents: 100%|██████████████████████████████████████████████████████████████| 6/6 [00:00<?, ?it/s]\n",
      "Retrieving MaterialsDoc documents: 100%|█████████████████████████████████████████████████████████| 1/1 [00:00<?, ?it/s]\n",
      "Retrieving TaskDoc documents: 100%|██████████████████████████████████████████████████████████████| 4/4 [00:00<?, ?it/s]\n"
     ]
    }
   ],
   "source": [
    "startid=1\n",
    "endid=10\n",
    "CHG=[]\n",
    "IDs=[]\n",
    "with MPRester(MP_API_KEY) as m:\n",
    "    for id in range(startid,endid):\n",
    "        mid='mp-'+str(id)\n",
    "        try:\n",
    "            xx=m.get_charge_density_from_material_id(mid)\n",
    "            CHG.append(xx)\n",
    "            IDs.append(mid)\n",
    "        except:\n",
    "            print('no charge density for '+ mid)"
   ]
  },
  {
   "cell_type": "code",
   "execution_count": 8,
   "id": "bc569781-0420-4d4a-8651-c859cda10a80",
   "metadata": {},
   "outputs": [],
   "source": [
    "with open('CHG_MP_'+str(startid)+'_'+str(endid),'wb') as fp:\n",
    "    pickle.dump([CHG,IDs],fp)"
   ]
  },
  {
   "cell_type": "code",
   "execution_count": 7,
   "id": "95cceaa3-4cc3-41b5-987c-dcadc93e0c18",
   "metadata": {},
   "outputs": [
    {
     "name": "stderr",
     "output_type": "stream",
     "text": [
      "Retrieving ElectronicStructureDoc documents: 100%|█████████████████| 1/1 [00:00<?, ?it/s]\n"
     ]
    }
   ],
   "source": [
    "from emmet.core.electronic_structure import BSPathType\n",
    "with MPRester(MP_API_KEY) as m:\n",
    "    xx=m.get_bandstructure_by_material_id('mp-1' , line_mode=False)"
   ]
  },
  {
   "cell_type": "code",
   "execution_count": 5,
   "id": "1eaffccc-e511-424d-88e5-4848f09c9b31",
   "metadata": {},
   "outputs": [
    {
     "data": {
      "text/plain": [
       "[{'start_index': 0, 'end_index': 103, 'name': '\\\\Gamma-H'},\n",
       " {'start_index': 104, 'end_index': 177, 'name': 'H-N'},\n",
       " {'start_index': 178, 'end_index': 251, 'name': 'N-\\\\Gamma'},\n",
       " {'start_index': 252, 'end_index': 342, 'name': '\\\\Gamma-P'},\n",
       " {'start_index': 343, 'end_index': 433, 'name': 'P-H'},\n",
       " {'start_index': 434, 'end_index': 486, 'name': 'P-N'}]"
      ]
     },
     "execution_count": 5,
     "metadata": {},
     "output_type": "execute_result"
    }
   ],
   "source": []
  },
  {
   "cell_type": "code",
   "execution_count": null,
   "id": "136b221e-902b-4007-b249-6bba49626db2",
   "metadata": {},
   "outputs": [],
   "source": []
  }
 ],
 "metadata": {
  "kernelspec": {
   "display_name": "Python 3 (ipykernel)",
   "language": "python",
   "name": "python3"
  },
  "language_info": {
   "codemirror_mode": {
    "name": "ipython",
    "version": 3
   },
   "file_extension": ".py",
   "mimetype": "text/x-python",
   "name": "python",
   "nbconvert_exporter": "python",
   "pygments_lexer": "ipython3",
   "version": "3.10.13"
  }
 },
 "nbformat": 4,
 "nbformat_minor": 5
}
