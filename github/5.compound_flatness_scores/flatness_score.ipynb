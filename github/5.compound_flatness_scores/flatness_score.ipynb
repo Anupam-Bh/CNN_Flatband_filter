{
 "cells": [
  {
   "cell_type": "code",
   "execution_count": 1,
   "id": "0bfeeffb-63e3-4f59-834c-d1d0dc319ddf",
   "metadata": {},
   "outputs": [
    {
     "name": "stderr",
     "output_type": "stream",
     "text": [
      "C:\\Users\\Anupam\\anaconda3\\envs\\MP_flatband_win\\lib\\site-packages\\tqdm\\auto.py:21: TqdmWarning: IProgress not found. Please update jupyter and ipywidgets. See https://ipywidgets.readthedocs.io/en/stable/user_install.html\n",
      "  from .autonotebook import tqdm as notebook_tqdm\n"
     ]
    }
   ],
   "source": [
    "import json\n",
    "#import sys\n",
    "import os\n",
    "#import pymatgen\n",
    "from pymatgen.core import Structure #, Molecule, Lattice\n",
    "from matminer.featurizers.site import CrystalNNFingerprint\n",
    "from matminer.featurizers.structure import SiteStatsFingerprint\n",
    "import numpy as np\n",
    "import matplotlib.pyplot as plt\n",
    "import pandas as pd\n",
    "#import chemparse\n",
    "import glob\n",
    "import pickle\n",
    "#### Self defined class\n",
    "os.chdir('C:/Users/Anupam/Desktop/MP_flatband/flatness_code/')\n",
    "from flatband_materials_from_MP import flatband_materials_from_MP"
   ]
  },
  {
   "cell_type": "code",
   "execution_count": 11,
   "id": "43aeff76-cb08-454a-b91e-330ba5577ae9",
   "metadata": {},
   "outputs": [],
   "source": [
    "#%%  Read flatness flatness prediction\n",
    "list_prediction_files = glob.glob('4_predict/list_predicted_materials_*')\n",
    "starts=[]\n",
    "ends=[]\n",
    "for items in list_prediction_files:\n",
    "    starts.append(int(items.split('_')[-2]))\n",
    "    ends.append(int(items.split('_')[-1]))\n",
    "starts.sort()\n",
    "ends.sort()\n",
    "\n",
    "flat_score=[]\n",
    "all_ids=[]\n",
    "binary_flat=[]\n",
    "flat_segs=[]\n",
    "for i in range(0,len(starts)):   # from 1 to rest\n",
    "    first_id=starts[i]\n",
    "    last_id= ends[i]\n",
    "    with open('4_predict/list_predicted_materials_'+str(first_id)+'_'+str(last_id),'rb') as op:\n",
    "        Mat_flat= pickle.load(op)\n",
    "        for items in Mat_flat:\n",
    "            all_ids.append(items.material_id)\n",
    "            predicted = items.prediction_vector\n",
    "            binary_flat.append(items.flatness)\n",
    "            flat_segs.append(items.flat_segments)\n",
    "            rblock = items.num_energy_seg\n",
    "            cblock = items.num_kpath_seg\n",
    "            pred_2d=np.reshape(predicted,(rblock,cblock))\n",
    "            FL=np.average(pred_2d,axis=1)\n",
    "            #print(FL)\n",
    "            flat_score.append(max(FL))\n",
    "    #print('Mat_flat reading done')\n",
    "    #get_fingerprint(path, first_id, last_id,Mat_flat)"
   ]
  },
  {
   "cell_type": "code",
   "execution_count": 12,
   "id": "3a92741c-d8b5-4c99-b616-679a76ad8e70",
   "metadata": {},
   "outputs": [
    {
     "data": {
      "image/png": "[encoded data removed]",
      "text/plain": [
       "<Figure size 640x480 with 1 Axes>"
      ]
     },
     "metadata": {},
     "output_type": "display_data"
    }
   ],
   "source": [
    "plt.hist(flat_score, bins=25,color= 'blue', ec = 'black')\n",
    "zipped = list(zip(all_ids,flat_score, binary_flat,flat_segs))\n",
    "df = pd.DataFrame(zipped, columns=['MP-ID', 'Comp Flatness score','Flat/not-flat', 'Flat segments'])\n",
    "df.to_csv('Compound_flatness_score.dat', sep='\\t')"
   ]
  },
  {
   "cell_type": "code",
   "execution_count": null,
   "id": "2c9f0176-d793-42cb-bc78-adaf303f68a3",
   "metadata": {},
   "outputs": [],
   "source": []
  }
 ],
 "metadata": {
  "kernelspec": {
   "display_name": "Python 3 (ipykernel)",
   "language": "python",
   "name": "python3"
  },
  "language_info": {
   "codemirror_mode": {
    "name": "ipython",
    "version": 3
   },
   "file_extension": ".py",
   "mimetype": "text/x-python",
   "name": "python",
   "nbconvert_exporter": "python",
   "pygments_lexer": "ipython3",
   "version": "3.12.4"
  }
 },
 "nbformat": 4,
 "nbformat_minor": 5
}
